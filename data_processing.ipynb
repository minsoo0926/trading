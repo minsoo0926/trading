{
 "metadata": {
  "language_info": {
   "codemirror_mode": {
    "name": "ipython",
    "version": 3
   },
   "file_extension": ".py",
   "mimetype": "text/x-python",
   "name": "python",
   "nbconvert_exporter": "python",
   "pygments_lexer": "ipython3",
   "version": "3.8.3-final"
  },
  "orig_nbformat": 2,
  "kernelspec": {
   "name": "python383jvsc74a57bd009f4dcfb3e964316099ed5c193f7e1b40b926ea02855df65dc4d9b607a760bc3",
   "display_name": "Python 3.8.3 64-bit ('.venv')"
  }
 },
 "nbformat": 4,
 "nbformat_minor": 2,
 "cells": [
  {
   "cell_type": "code",
   "execution_count": null,
   "metadata": {},
   "outputs": [],
   "source": [
    "import pandas as pd\n",
    "import warnings\n",
    "warnings.filterwarnings('ignore')\n",
    "import matplotlib.pyplot as plt\n",
    "from pymongo import MongoClient\n",
    "from pprint import pprint \n",
    "\n",
    "\n",
    "\n",
    "client = MongoClient('localhost', 27017)\n",
    "db = client['crypto']\n",
    "collection = db['btcusdt_price']\n",
    "\n",
    "if (collection.count() != 0):\n",
    "    collection.drop()\n",
    "\n",
    "DATA = './data/BTCUSDT.csv'\n",
    "df = pd.read_csv(DATA)\n",
    "data = df.to_dict(orient='recoreds')\n",
    "\n",
    "# inserting data to collection['btcusdt_price']\n",
    "collection.insert_many(data)\n",
    "\n",
    "# reading data from collection['btcusdt_price'] without id \n",
    "df_from_db = pd.DataFrame(list(collection.find({}, {'_id': 0})))\n",
    "# df_from_db = pd.DataFrame(list(collection.find()))\n",
    "\n"
   ]
  },
  {
   "source": [
    "## Experiments on CryptoQuant Data "
   ],
   "cell_type": "markdown",
   "metadata": {}
  },
  {
   "cell_type": "code",
   "execution_count": 1,
   "metadata": {},
   "outputs": [],
   "source": [
    "import requests\n",
    "from pprint import pprint \n",
    "import configparser\n",
    "from urllib.parse import urljoin \n",
    "from pprint import pprint \n",
    "\n",
    "\n",
    "config = configparser.ConfigParser()\n",
    "config.read('config.ini')\n",
    "\n",
    "API_KEY = config['CRYPTOQUANT']['API_KEY']\n",
    "API_URL = config['CRYPTOQUANT']['API_URL']\n",
    "\n",
    "headers = {'Authorization': 'Bearer ' + API_KEY}"
   ]
  },
  {
   "source": [
    "### Inflow Data Generation"
   ],
   "cell_type": "markdown",
   "metadata": {}
  },
  {
   "cell_type": "code",
   "execution_count": 5,
   "metadata": {},
   "outputs": [
    {
     "output_type": "execute_result",
     "data": {
      "text/plain": [
       "100000"
      ]
     },
     "metadata": {},
     "execution_count": 5
    }
   ],
   "source": [
    "PATH = 'btc/exchange-flows/inflow'\n",
    "URL = urljoin(API_URL, PATH)\n",
    "params = {\n",
    "    'exchange': 'all_exchange',\n",
    "    'window': 'block',\n",
    "    'limit': 100000,\n",
    "    'to': 677958\n",
    "\n",
    "}\n",
    "\n",
    "response = requests.get(URL, headers=headers, params=params).json()\n",
    "# print(response['status'])\n",
    "inflow_all_exchange = response['result']['data']\n",
    "len(inflow_all_exchange)\n",
    "\n",
    "\n",
    "\n",
    "PATH = 'btc/exchange-flows/inflow'\n",
    "URL = urljoin(API_URL, PATH)\n",
    "params = {\n",
    "    'exchange': 'binance',\n",
    "    'window': 'block',\n",
    "    'limit': 300000,\n",
    "    'to': 677958\n",
    "\n",
    "}\n",
    "\n",
    "response = requests.get(URL, headers=headers, params=params).json()\n",
    "# print(response['status'])\n",
    "inflow_binance = response['result']['data']\n",
    "len(inflow_binance)\n",
    "\n",
    "\n",
    "\n",
    "PATH = 'btc/market-data/price-usd'\n",
    "URL = urljoin(API_URL, PATH)\n",
    "params = {\n",
    "    'window': 'block',\n",
    "    'limit': 100000,\n",
    "    'to': 677958\n",
    "}\n",
    "\n",
    "response = requests.get(URL, headers=headers, params=params).json()\n",
    "price = response['result']['data']\n",
    "len(price)"
   ]
  },
  {
   "cell_type": "code",
   "execution_count": 9,
   "metadata": {},
   "outputs": [
    {
     "output_type": "execute_result",
     "data": {
      "text/plain": [
       "       blockheight             datetime  price_usd_open  price_usd_high  \\\n",
       "99998       677957  2021-04-06 02:17:17    58766.046667    58804.258333   \n",
       "99999       677958  2021-04-06 02:18:50    58811.261667    58836.113333   \n",
       "\n",
       "       price_usd_low  price_usd_close  \n",
       "99998   58759.705000     58802.185000  \n",
       "99999   58804.178333     58834.458333  "
      ],
      "text/html": "<div>\n<style scoped>\n    .dataframe tbody tr th:only-of-type {\n        vertical-align: middle;\n    }\n\n    .dataframe tbody tr th {\n        vertical-align: top;\n    }\n\n    .dataframe thead th {\n        text-align: right;\n    }\n</style>\n<table border=\"1\" class=\"dataframe\">\n  <thead>\n    <tr style=\"text-align: right;\">\n      <th></th>\n      <th>blockheight</th>\n      <th>datetime</th>\n      <th>price_usd_open</th>\n      <th>price_usd_high</th>\n      <th>price_usd_low</th>\n      <th>price_usd_close</th>\n    </tr>\n  </thead>\n  <tbody>\n    <tr>\n      <th>99998</th>\n      <td>677957</td>\n      <td>2021-04-06 02:17:17</td>\n      <td>58766.046667</td>\n      <td>58804.258333</td>\n      <td>58759.705000</td>\n      <td>58802.185000</td>\n    </tr>\n    <tr>\n      <th>99999</th>\n      <td>677958</td>\n      <td>2021-04-06 02:18:50</td>\n      <td>58811.261667</td>\n      <td>58836.113333</td>\n      <td>58804.178333</td>\n      <td>58834.458333</td>\n    </tr>\n  </tbody>\n</table>\n</div>"
     },
     "metadata": {},
     "execution_count": 9
    }
   ],
   "source": [
    "import pandas as pd\n",
    "df_price = pd.DataFrame(price).sort_values(by=['blockheight'], ascending=True)\n",
    "df_price = df_price.reset_index(drop=True)\n",
    "\n",
    "# last two elements \n",
    "df_price[-2:] \n",
    "# df_price\n",
    "# print(pd.isnull(df_price).sum())\n"
   ]
  },
  {
   "cell_type": "code",
   "execution_count": 10,
   "metadata": {},
   "outputs": [
    {
     "output_type": "execute_result",
     "data": {
      "text/plain": [
       "       blockheight             datetime  inflow_total  inflow_top10  \\\n",
       "99998       677957  2021-04-06 02:17:17     31.328702     31.287258   \n",
       "99999       677958  2021-04-06 02:18:50     53.329586     51.451445   \n",
       "\n",
       "       inflow_mean  \n",
       "99998     0.204763  \n",
       "99999     0.269341  "
      ],
      "text/html": "<div>\n<style scoped>\n    .dataframe tbody tr th:only-of-type {\n        vertical-align: middle;\n    }\n\n    .dataframe tbody tr th {\n        vertical-align: top;\n    }\n\n    .dataframe thead th {\n        text-align: right;\n    }\n</style>\n<table border=\"1\" class=\"dataframe\">\n  <thead>\n    <tr style=\"text-align: right;\">\n      <th></th>\n      <th>blockheight</th>\n      <th>datetime</th>\n      <th>inflow_total</th>\n      <th>inflow_top10</th>\n      <th>inflow_mean</th>\n    </tr>\n  </thead>\n  <tbody>\n    <tr>\n      <th>99998</th>\n      <td>677957</td>\n      <td>2021-04-06 02:17:17</td>\n      <td>31.328702</td>\n      <td>31.287258</td>\n      <td>0.204763</td>\n    </tr>\n    <tr>\n      <th>99999</th>\n      <td>677958</td>\n      <td>2021-04-06 02:18:50</td>\n      <td>53.329586</td>\n      <td>51.451445</td>\n      <td>0.269341</td>\n    </tr>\n  </tbody>\n</table>\n</div>"
     },
     "metadata": {},
     "execution_count": 10
    }
   ],
   "source": [
    "df_inflow_all_exchange = pd.DataFrame(inflow_all_exchange).sort_values(by=['blockheight'],ascending=True)\n",
    "df_inflow_all_exchange = df_inflow_all_exchange.reset_index(drop=True)\n",
    "df_inflow_all_exchange[-2:]\n",
    "# print(pd.isnull(df_inflow).sum())"
   ]
  },
  {
   "cell_type": "code",
   "execution_count": 12,
   "metadata": {},
   "outputs": [
    {
     "output_type": "execute_result",
     "data": {
      "text/plain": [
       "0        True\n",
       "1        True\n",
       "2        True\n",
       "3        True\n",
       "4        True\n",
       "         ... \n",
       "99995    True\n",
       "99996    True\n",
       "99997    True\n",
       "99998    True\n",
       "99999    True\n",
       "Name: datetime, Length: 100000, dtype: bool"
      ]
     },
     "metadata": {},
     "execution_count": 12
    }
   ],
   "source": [
    "df_price['blockheight'] == df_inflow_all_exchange['blockheight']\n",
    "df_price['datetime'] == df_inflow_all_exchange['datetime']"
   ]
  },
  {
   "source": [
    "### Correlation between price and inflow_total"
   ],
   "cell_type": "markdown",
   "metadata": {}
  },
  {
   "cell_type": "code",
   "execution_count": 14,
   "metadata": {},
   "outputs": [
    {
     "output_type": "stream",
     "name": "stdout",
     "text": [
      "[[1.         0.01144677]\n [0.01144677 1.        ]]\n[[1.         0.03095573]\n [0.03095573 1.        ]]\n"
     ]
    }
   ],
   "source": [
    "import numpy as np \n",
    "\n",
    "price_change = df_price['price_usd_close'].diff().fillna(0)\n",
    "price_change\n",
    "\n",
    "x= price_change\n",
    "y = df_inflow_all_exchange['inflow_total']\n",
    "print(np.corrcoef(x, y))\n",
    "\n",
    "x= df_price['price_usd_close']\n",
    "y = df_inflow_all_exchange['inflow_total']\n",
    "print(np.corrcoef(x, y))"
   ]
  },
  {
   "cell_type": "code",
   "execution_count": 134,
   "metadata": {},
   "outputs": [
    {
     "output_type": "execute_result",
     "data": {
      "text/plain": [
       "       blockheight             datetime  price_usd_open  price_usd_high  \\\n",
       "0           577959  2019-05-27 03:00:36     8731.622500     8745.612500   \n",
       "1           577960  2019-05-27 03:00:34     8731.622500     8745.612500   \n",
       "2           577961  2019-05-27 03:00:40     8731.622500     8745.612500   \n",
       "3           577962  2019-05-27 03:01:54     8742.700000     8754.722500   \n",
       "4           577963  2019-05-27 03:33:15     8744.140000     8746.212500   \n",
       "...            ...                  ...             ...             ...   \n",
       "99995       677954  2021-04-06 02:03:56    58755.023333    58780.925000   \n",
       "99996       677955  2021-04-06 02:06:32    58729.781667    58800.028333   \n",
       "99997       677956  2021-04-06 02:16:47    58748.600000    58754.286667   \n",
       "99998       677957  2021-04-06 02:17:17    58766.046667    58804.258333   \n",
       "99999       677958  2021-04-06 02:18:50    58811.261667    58836.113333   \n",
       "\n",
       "       price_usd_low  price_usd_close  \n",
       "0        8730.677500      8745.612500  \n",
       "1        8730.677500      8745.612500  \n",
       "2        8730.677500      8745.612500  \n",
       "3        8742.042500      8750.815000  \n",
       "4        8737.575000      8738.080000  \n",
       "...              ...              ...  \n",
       "99995   58705.976667     58740.426667  \n",
       "99996   58718.980000     58771.081667  \n",
       "99997   58730.340000     58747.383333  \n",
       "99998   58759.705000     58802.185000  \n",
       "99999   58804.178333     58834.458333  \n",
       "\n",
       "[100000 rows x 6 columns]"
      ],
      "text/html": "<div>\n<style scoped>\n    .dataframe tbody tr th:only-of-type {\n        vertical-align: middle;\n    }\n\n    .dataframe tbody tr th {\n        vertical-align: top;\n    }\n\n    .dataframe thead th {\n        text-align: right;\n    }\n</style>\n<table border=\"1\" class=\"dataframe\">\n  <thead>\n    <tr style=\"text-align: right;\">\n      <th></th>\n      <th>blockheight</th>\n      <th>datetime</th>\n      <th>price_usd_open</th>\n      <th>price_usd_high</th>\n      <th>price_usd_low</th>\n      <th>price_usd_close</th>\n    </tr>\n  </thead>\n  <tbody>\n    <tr>\n      <th>0</th>\n      <td>577959</td>\n      <td>2019-05-27 03:00:36</td>\n      <td>8731.622500</td>\n      <td>8745.612500</td>\n      <td>8730.677500</td>\n      <td>8745.612500</td>\n    </tr>\n    <tr>\n      <th>1</th>\n      <td>577960</td>\n      <td>2019-05-27 03:00:34</td>\n      <td>8731.622500</td>\n      <td>8745.612500</td>\n      <td>8730.677500</td>\n      <td>8745.612500</td>\n    </tr>\n    <tr>\n      <th>2</th>\n      <td>577961</td>\n      <td>2019-05-27 03:00:40</td>\n      <td>8731.622500</td>\n      <td>8745.612500</td>\n      <td>8730.677500</td>\n      <td>8745.612500</td>\n    </tr>\n    <tr>\n      <th>3</th>\n      <td>577962</td>\n      <td>2019-05-27 03:01:54</td>\n      <td>8742.700000</td>\n      <td>8754.722500</td>\n      <td>8742.042500</td>\n      <td>8750.815000</td>\n    </tr>\n    <tr>\n      <th>4</th>\n      <td>577963</td>\n      <td>2019-05-27 03:33:15</td>\n      <td>8744.140000</td>\n      <td>8746.212500</td>\n      <td>8737.575000</td>\n      <td>8738.080000</td>\n    </tr>\n    <tr>\n      <th>...</th>\n      <td>...</td>\n      <td>...</td>\n      <td>...</td>\n      <td>...</td>\n      <td>...</td>\n      <td>...</td>\n    </tr>\n    <tr>\n      <th>99995</th>\n      <td>677954</td>\n      <td>2021-04-06 02:03:56</td>\n      <td>58755.023333</td>\n      <td>58780.925000</td>\n      <td>58705.976667</td>\n      <td>58740.426667</td>\n    </tr>\n    <tr>\n      <th>99996</th>\n      <td>677955</td>\n      <td>2021-04-06 02:06:32</td>\n      <td>58729.781667</td>\n      <td>58800.028333</td>\n      <td>58718.980000</td>\n      <td>58771.081667</td>\n    </tr>\n    <tr>\n      <th>99997</th>\n      <td>677956</td>\n      <td>2021-04-06 02:16:47</td>\n      <td>58748.600000</td>\n      <td>58754.286667</td>\n      <td>58730.340000</td>\n      <td>58747.383333</td>\n    </tr>\n    <tr>\n      <th>99998</th>\n      <td>677957</td>\n      <td>2021-04-06 02:17:17</td>\n      <td>58766.046667</td>\n      <td>58804.258333</td>\n      <td>58759.705000</td>\n      <td>58802.185000</td>\n    </tr>\n    <tr>\n      <th>99999</th>\n      <td>677958</td>\n      <td>2021-04-06 02:18:50</td>\n      <td>58811.261667</td>\n      <td>58836.113333</td>\n      <td>58804.178333</td>\n      <td>58834.458333</td>\n    </tr>\n  </tbody>\n</table>\n<p>100000 rows × 6 columns</p>\n</div>"
     },
     "metadata": {},
     "execution_count": 134
    }
   ],
   "source": [
    "df_price"
   ]
  },
  {
   "cell_type": "code",
   "execution_count": 205,
   "metadata": {},
   "outputs": [
    {
     "output_type": "execute_result",
     "data": {
      "text/plain": [
       "0        0.0\n",
       "1        0.0\n",
       "2        0.0\n",
       "3        0.0\n",
       "4        0.0\n",
       "        ... \n",
       "99995    0.0\n",
       "99996    0.0\n",
       "99997    0.0\n",
       "99998    0.0\n",
       "99999    0.0\n",
       "Length: 100000, dtype: float64"
      ]
     },
     "metadata": {},
     "execution_count": 205
    }
   ],
   "source": [
    "inflow_threshold = 1000\n",
    "# filter indexes with inflow > 1000 \n",
    "inflow_big = df_inflow_all_exchange.index[df_inflow_all_exchange['inflow_total'] >= inflow_threshold]\n",
    "\n",
    "\n",
    "# def subset_sum(item, offset):\n",
    "#     #  print('X item: ', item)\n",
    "#     subsum = test_price['price_usd_close'].iloc[item.name+1: item.name+offset].sum() \n",
    "#     print(subsum)\n",
    "#     print('item: ', item.name)\n",
    "#     if (np.isnan(subsum)):\n",
    "#         print('item: ', item.name)\n",
    "#         print('price: ', item['price_usd_close'])\n",
    "#     return(subsum)\n",
    "\n",
    "def subset_sum(item, offset):\n",
    "     return df_price['price_usd_close'].iloc[item.name+1: item.name+offset].mean() - item['price_usd_close']\n",
    "\n",
    "# def subset_sum(start_index, offset):\n",
    "#      return df_price['price_usd_close'].iloc[start_index+1: start_index+offset].sum()\n",
    "\n",
    "def inflow_to_price_change(df_price, offset, inflow_big_indexes): \n",
    "    return df_price.apply(lambda x: subset_sum(x, offset) if (x.name in inflow_big_indexes) else 0 , axis=1)\n",
    "    \n",
    "# def inflow_to_price_change(df_price, offset, inflow_big_indexes): \n",
    "#    return df_price.apply(lambda x: subset_sum(x.name, offset) if (x.name in inflow_big_indexes) else 0 , axis=1)\n",
    "\n",
    "offset = 10 \n",
    "price_change = inflow_to_price_change(df_price, offset, inflow_big)\n",
    "\n",
    "price_change\n",
    "# price_change.iloc[32]\n",
    "\n"
   ]
  },
  {
   "cell_type": "code",
   "execution_count": 208,
   "metadata": {},
   "outputs": [
    {
     "output_type": "execute_result",
     "data": {
      "text/plain": [
       "       price_change\n",
       "32        -1.265556\n",
       "100      -10.936759\n",
       "176      -42.904537\n",
       "208      -20.747778\n",
       "224       41.128426\n",
       "...             ...\n",
       "99665    196.326852\n",
       "99752   -167.305000\n",
       "99861   -264.288519\n",
       "99868    169.056296\n",
       "99949    113.154630\n",
       "\n",
       "[5692 rows x 1 columns]"
      ],
      "text/html": "<div>\n<style scoped>\n    .dataframe tbody tr th:only-of-type {\n        vertical-align: middle;\n    }\n\n    .dataframe tbody tr th {\n        vertical-align: top;\n    }\n\n    .dataframe thead th {\n        text-align: right;\n    }\n</style>\n<table border=\"1\" class=\"dataframe\">\n  <thead>\n    <tr style=\"text-align: right;\">\n      <th></th>\n      <th>price_change</th>\n    </tr>\n  </thead>\n  <tbody>\n    <tr>\n      <th>32</th>\n      <td>-1.265556</td>\n    </tr>\n    <tr>\n      <th>100</th>\n      <td>-10.936759</td>\n    </tr>\n    <tr>\n      <th>176</th>\n      <td>-42.904537</td>\n    </tr>\n    <tr>\n      <th>208</th>\n      <td>-20.747778</td>\n    </tr>\n    <tr>\n      <th>224</th>\n      <td>41.128426</td>\n    </tr>\n    <tr>\n      <th>...</th>\n      <td>...</td>\n    </tr>\n    <tr>\n      <th>99665</th>\n      <td>196.326852</td>\n    </tr>\n    <tr>\n      <th>99752</th>\n      <td>-167.305000</td>\n    </tr>\n    <tr>\n      <th>99861</th>\n      <td>-264.288519</td>\n    </tr>\n    <tr>\n      <th>99868</th>\n      <td>169.056296</td>\n    </tr>\n    <tr>\n      <th>99949</th>\n      <td>113.154630</td>\n    </tr>\n  </tbody>\n</table>\n<p>5692 rows × 1 columns</p>\n</div>"
     },
     "metadata": {},
     "execution_count": 208
    }
   ],
   "source": [
    "price_change\n",
    "type(inflow_big)\n",
    "\n",
    "df_price_change = pd.DataFrame(price_change.iloc[inflow_big], columns=['price_change']) \n",
    "df_price_change"
   ]
  },
  {
   "cell_type": "code",
   "execution_count": 236,
   "metadata": {},
   "outputs": [
    {
     "output_type": "execute_result",
     "data": {
      "text/plain": [
       "       price_change\n",
       "32        -1.265556\n",
       "100      -10.936759\n",
       "176      -42.904537\n",
       "208      -20.747778\n",
       "224       41.128426\n",
       "...             ...\n",
       "99665    196.326852\n",
       "99752   -167.305000\n",
       "99861   -264.288519\n",
       "99868    169.056296\n",
       "99949    113.154630\n",
       "\n",
       "[5692 rows x 1 columns]"
      ],
      "text/html": "<div>\n<style scoped>\n    .dataframe tbody tr th:only-of-type {\n        vertical-align: middle;\n    }\n\n    .dataframe tbody tr th {\n        vertical-align: top;\n    }\n\n    .dataframe thead th {\n        text-align: right;\n    }\n</style>\n<table border=\"1\" class=\"dataframe\">\n  <thead>\n    <tr style=\"text-align: right;\">\n      <th></th>\n      <th>price_change</th>\n    </tr>\n  </thead>\n  <tbody>\n    <tr>\n      <th>32</th>\n      <td>-1.265556</td>\n    </tr>\n    <tr>\n      <th>100</th>\n      <td>-10.936759</td>\n    </tr>\n    <tr>\n      <th>176</th>\n      <td>-42.904537</td>\n    </tr>\n    <tr>\n      <th>208</th>\n      <td>-20.747778</td>\n    </tr>\n    <tr>\n      <th>224</th>\n      <td>41.128426</td>\n    </tr>\n    <tr>\n      <th>...</th>\n      <td>...</td>\n    </tr>\n    <tr>\n      <th>99665</th>\n      <td>196.326852</td>\n    </tr>\n    <tr>\n      <th>99752</th>\n      <td>-167.305000</td>\n    </tr>\n    <tr>\n      <th>99861</th>\n      <td>-264.288519</td>\n    </tr>\n    <tr>\n      <th>99868</th>\n      <td>169.056296</td>\n    </tr>\n    <tr>\n      <th>99949</th>\n      <td>113.154630</td>\n    </tr>\n  </tbody>\n</table>\n<p>5692 rows × 1 columns</p>\n</div>"
     },
     "metadata": {},
     "execution_count": 236
    }
   ],
   "source": [
    "df_inflow_big = df_inflow_all_exchange[df_inflow_all_exchange['inflow_total'] >= inflow_threshold]\n",
    "df_inflow_big\n",
    "\n",
    "df_price_change = pd.DataFrame(price_change.iloc[inflow_big], columns=['price_change']) \n",
    "df_price_change"
   ]
  },
  {
   "cell_type": "code",
   "execution_count": 237,
   "metadata": {},
   "outputs": [],
   "source": [
    "df_inflow_big = df_inflow_big[:30]\n",
    "df_price_change = df_price_change[:30]"
   ]
  },
  {
   "cell_type": "code",
   "execution_count": 238,
   "metadata": {},
   "outputs": [
    {
     "output_type": "display_data",
     "data": {
      "application/vnd.plotly.v1+json": {
       "config": {
        "plotlyServerURL": "https://plot.ly"
       },
       "data": [
        {
         "name": "price",
         "type": "bar",
         "x": [
          "2019-05-27 08:03:24",
          "2019-05-27 17:27:37",
          "2019-05-28 04:45:54",
          "2019-05-28 09:18:00",
          "2019-05-28 10:47:07",
          "2019-05-28 11:21:29",
          "2019-05-28 14:29:58",
          "2019-05-28 19:02:11",
          "2019-05-29 08:30:53",
          "2019-05-29 08:53:32",
          "2019-05-29 14:53:35",
          "2019-05-30 02:09:27",
          "2019-05-30 05:23:53",
          "2019-05-30 06:55:06",
          "2019-05-30 16:22:30",
          "2019-05-30 18:02:10",
          "2019-05-30 20:11:48",
          "2019-05-30 20:59:19",
          "2019-05-30 21:43:12",
          "2019-05-30 22:43:04",
          "2019-05-31 00:10:28",
          "2019-05-31 02:02:59",
          "2019-05-31 04:19:21",
          "2019-05-31 04:44:22",
          "2019-05-31 08:49:43",
          "2019-05-31 09:46:09",
          "2019-05-31 09:56:30",
          "2019-05-31 10:19:07",
          "2019-05-31 13:05:26",
          "2019-05-31 13:24:19"
         ],
         "xaxis": "x",
         "y": [
          -1.265555555555693,
          -10.936759255557263,
          -42.90453703333151,
          -20.747777777778538,
          41.12842592555535,
          8.330092592223082,
          -9.685277777776719,
          -46.376481481109295,
          31.42805555222185,
          -28.809166666665988,
          9.474537037778646,
          -19.246296296667424,
          6.07722222222219,
          -5.662129626667593,
          -55.650462963334576,
          55.34944444444591,
          -218.49055555555788,
          -229.7638888888887,
          -24.00388888888847,
          -9.156851852221735,
          -6.4416666666656965,
          -33.8735185177793,
          -18.961203703333013,
          40.530462963333775,
          24.632037036668407,
          -10.50296296333363,
          -2.0479629633337026,
          -41.60824074111406,
          32.03277777777839,
          -7.77444444444518
         ],
         "yaxis": "y"
        },
        {
         "name": "inflow",
         "type": "bar",
         "x": [
          "2019-05-27 08:03:24",
          "2019-05-27 17:27:37",
          "2019-05-28 04:45:54",
          "2019-05-28 09:18:00",
          "2019-05-28 10:47:07",
          "2019-05-28 11:21:29",
          "2019-05-28 14:29:58",
          "2019-05-28 19:02:11",
          "2019-05-29 08:30:53",
          "2019-05-29 08:53:32",
          "2019-05-29 14:53:35",
          "2019-05-30 02:09:27",
          "2019-05-30 05:23:53",
          "2019-05-30 06:55:06",
          "2019-05-30 16:22:30",
          "2019-05-30 18:02:10",
          "2019-05-30 20:11:48",
          "2019-05-30 20:59:19",
          "2019-05-30 21:43:12",
          "2019-05-30 22:43:04",
          "2019-05-31 00:10:28",
          "2019-05-31 02:02:59",
          "2019-05-31 04:19:21",
          "2019-05-31 04:44:22",
          "2019-05-31 08:49:43",
          "2019-05-31 09:46:09",
          "2019-05-31 09:56:30",
          "2019-05-31 10:19:07",
          "2019-05-31 13:05:26",
          "2019-05-31 13:24:19"
         ],
         "xaxis": "x",
         "y": [
          1249.4165512,
          1541.08700598,
          1398.08161419,
          1832.64704317,
          1296.98893154,
          2723.53440541,
          1172.30285054,
          1190.79412778,
          1477.47126944,
          1312.36640977,
          1141.19723057,
          1129.72420865,
          1125.04348941,
          2742.29530331,
          1290.52045399,
          1351.76872677,
          1080.92727515,
          1446.55103567,
          1113.39817059,
          1331.18139057,
          1692.48385099,
          1282.26773334,
          1584.33760576,
          1040.03661933,
          1176.43629721,
          4600.82612367,
          1016.84053786,
          1082.37960181,
          1065.62504089,
          1203.24640778
         ],
         "yaxis": "y2"
        }
       ],
       "layout": {
        "height": 1000,
        "template": {
         "data": {
          "bar": [
           {
            "error_x": {
             "color": "#2a3f5f"
            },
            "error_y": {
             "color": "#2a3f5f"
            },
            "marker": {
             "line": {
              "color": "#E5ECF6",
              "width": 0.5
             }
            },
            "type": "bar"
           }
          ],
          "barpolar": [
           {
            "marker": {
             "line": {
              "color": "#E5ECF6",
              "width": 0.5
             }
            },
            "type": "barpolar"
           }
          ],
          "carpet": [
           {
            "aaxis": {
             "endlinecolor": "#2a3f5f",
             "gridcolor": "white",
             "linecolor": "white",
             "minorgridcolor": "white",
             "startlinecolor": "#2a3f5f"
            },
            "baxis": {
             "endlinecolor": "#2a3f5f",
             "gridcolor": "white",
             "linecolor": "white",
             "minorgridcolor": "white",
             "startlinecolor": "#2a3f5f"
            },
            "type": "carpet"
           }
          ],
          "choropleth": [
           {
            "colorbar": {
             "outlinewidth": 0,
             "ticks": ""
            },
            "type": "choropleth"
           }
          ],
          "contour": [
           {
            "colorbar": {
             "outlinewidth": 0,
             "ticks": ""
            },
            "colorscale": [
             [
              0,
              "#0d0887"
             ],
             [
              0.1111111111111111,
              "#46039f"
             ],
             [
              0.2222222222222222,
              "#7201a8"
             ],
             [
              0.3333333333333333,
              "#9c179e"
             ],
             [
              0.4444444444444444,
              "#bd3786"
             ],
             [
              0.5555555555555556,
              "#d8576b"
             ],
             [
              0.6666666666666666,
              "#ed7953"
             ],
             [
              0.7777777777777778,
              "#fb9f3a"
             ],
             [
              0.8888888888888888,
              "#fdca26"
             ],
             [
              1,
              "#f0f921"
             ]
            ],
            "type": "contour"
           }
          ],
          "contourcarpet": [
           {
            "colorbar": {
             "outlinewidth": 0,
             "ticks": ""
            },
            "type": "contourcarpet"
           }
          ],
          "heatmap": [
           {
            "colorbar": {
             "outlinewidth": 0,
             "ticks": ""
            },
            "colorscale": [
             [
              0,
              "#0d0887"
             ],
             [
              0.1111111111111111,
              "#46039f"
             ],
             [
              0.2222222222222222,
              "#7201a8"
             ],
             [
              0.3333333333333333,
              "#9c179e"
             ],
             [
              0.4444444444444444,
              "#bd3786"
             ],
             [
              0.5555555555555556,
              "#d8576b"
             ],
             [
              0.6666666666666666,
              "#ed7953"
             ],
             [
              0.7777777777777778,
              "#fb9f3a"
             ],
             [
              0.8888888888888888,
              "#fdca26"
             ],
             [
              1,
              "#f0f921"
             ]
            ],
            "type": "heatmap"
           }
          ],
          "heatmapgl": [
           {
            "colorbar": {
             "outlinewidth": 0,
             "ticks": ""
            },
            "colorscale": [
             [
              0,
              "#0d0887"
             ],
             [
              0.1111111111111111,
              "#46039f"
             ],
             [
              0.2222222222222222,
              "#7201a8"
             ],
             [
              0.3333333333333333,
              "#9c179e"
             ],
             [
              0.4444444444444444,
              "#bd3786"
             ],
             [
              0.5555555555555556,
              "#d8576b"
             ],
             [
              0.6666666666666666,
              "#ed7953"
             ],
             [
              0.7777777777777778,
              "#fb9f3a"
             ],
             [
              0.8888888888888888,
              "#fdca26"
             ],
             [
              1,
              "#f0f921"
             ]
            ],
            "type": "heatmapgl"
           }
          ],
          "histogram": [
           {
            "marker": {
             "colorbar": {
              "outlinewidth": 0,
              "ticks": ""
             }
            },
            "type": "histogram"
           }
          ],
          "histogram2d": [
           {
            "colorbar": {
             "outlinewidth": 0,
             "ticks": ""
            },
            "colorscale": [
             [
              0,
              "#0d0887"
             ],
             [
              0.1111111111111111,
              "#46039f"
             ],
             [
              0.2222222222222222,
              "#7201a8"
             ],
             [
              0.3333333333333333,
              "#9c179e"
             ],
             [
              0.4444444444444444,
              "#bd3786"
             ],
             [
              0.5555555555555556,
              "#d8576b"
             ],
             [
              0.6666666666666666,
              "#ed7953"
             ],
             [
              0.7777777777777778,
              "#fb9f3a"
             ],
             [
              0.8888888888888888,
              "#fdca26"
             ],
             [
              1,
              "#f0f921"
             ]
            ],
            "type": "histogram2d"
           }
          ],
          "histogram2dcontour": [
           {
            "colorbar": {
             "outlinewidth": 0,
             "ticks": ""
            },
            "colorscale": [
             [
              0,
              "#0d0887"
             ],
             [
              0.1111111111111111,
              "#46039f"
             ],
             [
              0.2222222222222222,
              "#7201a8"
             ],
             [
              0.3333333333333333,
              "#9c179e"
             ],
             [
              0.4444444444444444,
              "#bd3786"
             ],
             [
              0.5555555555555556,
              "#d8576b"
             ],
             [
              0.6666666666666666,
              "#ed7953"
             ],
             [
              0.7777777777777778,
              "#fb9f3a"
             ],
             [
              0.8888888888888888,
              "#fdca26"
             ],
             [
              1,
              "#f0f921"
             ]
            ],
            "type": "histogram2dcontour"
           }
          ],
          "mesh3d": [
           {
            "colorbar": {
             "outlinewidth": 0,
             "ticks": ""
            },
            "type": "mesh3d"
           }
          ],
          "parcoords": [
           {
            "line": {
             "colorbar": {
              "outlinewidth": 0,
              "ticks": ""
             }
            },
            "type": "parcoords"
           }
          ],
          "pie": [
           {
            "automargin": true,
            "type": "pie"
           }
          ],
          "scatter": [
           {
            "marker": {
             "colorbar": {
              "outlinewidth": 0,
              "ticks": ""
             }
            },
            "type": "scatter"
           }
          ],
          "scatter3d": [
           {
            "line": {
             "colorbar": {
              "outlinewidth": 0,
              "ticks": ""
             }
            },
            "marker": {
             "colorbar": {
              "outlinewidth": 0,
              "ticks": ""
             }
            },
            "type": "scatter3d"
           }
          ],
          "scattercarpet": [
           {
            "marker": {
             "colorbar": {
              "outlinewidth": 0,
              "ticks": ""
             }
            },
            "type": "scattercarpet"
           }
          ],
          "scattergeo": [
           {
            "marker": {
             "colorbar": {
              "outlinewidth": 0,
              "ticks": ""
             }
            },
            "type": "scattergeo"
           }
          ],
          "scattergl": [
           {
            "marker": {
             "colorbar": {
              "outlinewidth": 0,
              "ticks": ""
             }
            },
            "type": "scattergl"
           }
          ],
          "scattermapbox": [
           {
            "marker": {
             "colorbar": {
              "outlinewidth": 0,
              "ticks": ""
             }
            },
            "type": "scattermapbox"
           }
          ],
          "scatterpolar": [
           {
            "marker": {
             "colorbar": {
              "outlinewidth": 0,
              "ticks": ""
             }
            },
            "type": "scatterpolar"
           }
          ],
          "scatterpolargl": [
           {
            "marker": {
             "colorbar": {
              "outlinewidth": 0,
              "ticks": ""
             }
            },
            "type": "scatterpolargl"
           }
          ],
          "scatterternary": [
           {
            "marker": {
             "colorbar": {
              "outlinewidth": 0,
              "ticks": ""
             }
            },
            "type": "scatterternary"
           }
          ],
          "surface": [
           {
            "colorbar": {
             "outlinewidth": 0,
             "ticks": ""
            },
            "colorscale": [
             [
              0,
              "#0d0887"
             ],
             [
              0.1111111111111111,
              "#46039f"
             ],
             [
              0.2222222222222222,
              "#7201a8"
             ],
             [
              0.3333333333333333,
              "#9c179e"
             ],
             [
              0.4444444444444444,
              "#bd3786"
             ],
             [
              0.5555555555555556,
              "#d8576b"
             ],
             [
              0.6666666666666666,
              "#ed7953"
             ],
             [
              0.7777777777777778,
              "#fb9f3a"
             ],
             [
              0.8888888888888888,
              "#fdca26"
             ],
             [
              1,
              "#f0f921"
             ]
            ],
            "type": "surface"
           }
          ],
          "table": [
           {
            "cells": {
             "fill": {
              "color": "#EBF0F8"
             },
             "line": {
              "color": "white"
             }
            },
            "header": {
             "fill": {
              "color": "#C8D4E3"
             },
             "line": {
              "color": "white"
             }
            },
            "type": "table"
           }
          ]
         },
         "layout": {
          "annotationdefaults": {
           "arrowcolor": "#2a3f5f",
           "arrowhead": 0,
           "arrowwidth": 1
          },
          "autotypenumbers": "strict",
          "coloraxis": {
           "colorbar": {
            "outlinewidth": 0,
            "ticks": ""
           }
          },
          "colorscale": {
           "diverging": [
            [
             0,
             "#8e0152"
            ],
            [
             0.1,
             "#c51b7d"
            ],
            [
             0.2,
             "#de77ae"
            ],
            [
             0.3,
             "#f1b6da"
            ],
            [
             0.4,
             "#fde0ef"
            ],
            [
             0.5,
             "#f7f7f7"
            ],
            [
             0.6,
             "#e6f5d0"
            ],
            [
             0.7,
             "#b8e186"
            ],
            [
             0.8,
             "#7fbc41"
            ],
            [
             0.9,
             "#4d9221"
            ],
            [
             1,
             "#276419"
            ]
           ],
           "sequential": [
            [
             0,
             "#0d0887"
            ],
            [
             0.1111111111111111,
             "#46039f"
            ],
            [
             0.2222222222222222,
             "#7201a8"
            ],
            [
             0.3333333333333333,
             "#9c179e"
            ],
            [
             0.4444444444444444,
             "#bd3786"
            ],
            [
             0.5555555555555556,
             "#d8576b"
            ],
            [
             0.6666666666666666,
             "#ed7953"
            ],
            [
             0.7777777777777778,
             "#fb9f3a"
            ],
            [
             0.8888888888888888,
             "#fdca26"
            ],
            [
             1,
             "#f0f921"
            ]
           ],
           "sequentialminus": [
            [
             0,
             "#0d0887"
            ],
            [
             0.1111111111111111,
             "#46039f"
            ],
            [
             0.2222222222222222,
             "#7201a8"
            ],
            [
             0.3333333333333333,
             "#9c179e"
            ],
            [
             0.4444444444444444,
             "#bd3786"
            ],
            [
             0.5555555555555556,
             "#d8576b"
            ],
            [
             0.6666666666666666,
             "#ed7953"
            ],
            [
             0.7777777777777778,
             "#fb9f3a"
            ],
            [
             0.8888888888888888,
             "#fdca26"
            ],
            [
             1,
             "#f0f921"
            ]
           ]
          },
          "colorway": [
           "#636efa",
           "#EF553B",
           "#00cc96",
           "#ab63fa",
           "#FFA15A",
           "#19d3f3",
           "#FF6692",
           "#B6E880",
           "#FF97FF",
           "#FECB52"
          ],
          "font": {
           "color": "#2a3f5f"
          },
          "geo": {
           "bgcolor": "white",
           "lakecolor": "white",
           "landcolor": "#E5ECF6",
           "showlakes": true,
           "showland": true,
           "subunitcolor": "white"
          },
          "hoverlabel": {
           "align": "left"
          },
          "hovermode": "closest",
          "mapbox": {
           "style": "light"
          },
          "paper_bgcolor": "white",
          "plot_bgcolor": "#E5ECF6",
          "polar": {
           "angularaxis": {
            "gridcolor": "white",
            "linecolor": "white",
            "ticks": ""
           },
           "bgcolor": "#E5ECF6",
           "radialaxis": {
            "gridcolor": "white",
            "linecolor": "white",
            "ticks": ""
           }
          },
          "scene": {
           "xaxis": {
            "backgroundcolor": "#E5ECF6",
            "gridcolor": "white",
            "gridwidth": 2,
            "linecolor": "white",
            "showbackground": true,
            "ticks": "",
            "zerolinecolor": "white"
           },
           "yaxis": {
            "backgroundcolor": "#E5ECF6",
            "gridcolor": "white",
            "gridwidth": 2,
            "linecolor": "white",
            "showbackground": true,
            "ticks": "",
            "zerolinecolor": "white"
           },
           "zaxis": {
            "backgroundcolor": "#E5ECF6",
            "gridcolor": "white",
            "gridwidth": 2,
            "linecolor": "white",
            "showbackground": true,
            "ticks": "",
            "zerolinecolor": "white"
           }
          },
          "shapedefaults": {
           "line": {
            "color": "#2a3f5f"
           }
          },
          "ternary": {
           "aaxis": {
            "gridcolor": "white",
            "linecolor": "white",
            "ticks": ""
           },
           "baxis": {
            "gridcolor": "white",
            "linecolor": "white",
            "ticks": ""
           },
           "bgcolor": "#E5ECF6",
           "caxis": {
            "gridcolor": "white",
            "linecolor": "white",
            "ticks": ""
           }
          },
          "title": {
           "x": 0.05
          },
          "xaxis": {
           "automargin": true,
           "gridcolor": "white",
           "linecolor": "white",
           "ticks": "",
           "title": {
            "standoff": 15
           },
           "zerolinecolor": "white",
           "zerolinewidth": 2
          },
          "yaxis": {
           "automargin": true,
           "gridcolor": "white",
           "linecolor": "white",
           "ticks": "",
           "title": {
            "standoff": 15
           },
           "zerolinecolor": "white",
           "zerolinewidth": 2
          }
         }
        },
        "width": 1500,
        "xaxis": {
         "anchor": "y",
         "domain": [
          0,
          0.94
         ]
        },
        "yaxis": {
         "anchor": "x",
         "domain": [
          0,
          1
         ]
        },
        "yaxis2": {
         "anchor": "x",
         "overlaying": "y",
         "side": "right"
        }
       }
      },
      "text/html": "<div>                            <div id=\"f16980cd-cd3a-43d8-be46-86ac60c9953d\" class=\"plotly-graph-div\" style=\"height:1000px; width:1500px;\"></div>            <script type=\"text/javascript\">                require([\"plotly\"], function(Plotly) {                    window.PLOTLYENV=window.PLOTLYENV || {};                                    if (document.getElementById(\"f16980cd-cd3a-43d8-be46-86ac60c9953d\")) {                    Plotly.newPlot(                        \"f16980cd-cd3a-43d8-be46-86ac60c9953d\",                        [{\"name\": \"price\", \"type\": \"bar\", \"x\": [\"2019-05-27 08:03:24\", \"2019-05-27 17:27:37\", \"2019-05-28 04:45:54\", \"2019-05-28 09:18:00\", \"2019-05-28 10:47:07\", \"2019-05-28 11:21:29\", \"2019-05-28 14:29:58\", \"2019-05-28 19:02:11\", \"2019-05-29 08:30:53\", \"2019-05-29 08:53:32\", \"2019-05-29 14:53:35\", \"2019-05-30 02:09:27\", \"2019-05-30 05:23:53\", \"2019-05-30 06:55:06\", \"2019-05-30 16:22:30\", \"2019-05-30 18:02:10\", \"2019-05-30 20:11:48\", \"2019-05-30 20:59:19\", \"2019-05-30 21:43:12\", \"2019-05-30 22:43:04\", \"2019-05-31 00:10:28\", \"2019-05-31 02:02:59\", \"2019-05-31 04:19:21\", \"2019-05-31 04:44:22\", \"2019-05-31 08:49:43\", \"2019-05-31 09:46:09\", \"2019-05-31 09:56:30\", \"2019-05-31 10:19:07\", \"2019-05-31 13:05:26\", \"2019-05-31 13:24:19\"], \"xaxis\": \"x\", \"y\": [-1.265555555555693, -10.936759255557263, -42.90453703333151, -20.747777777778538, 41.12842592555535, 8.330092592223082, -9.685277777776719, -46.376481481109295, 31.42805555222185, -28.809166666665988, 9.474537037778646, -19.246296296667424, 6.07722222222219, -5.662129626667593, -55.650462963334576, 55.34944444444591, -218.49055555555788, -229.7638888888887, -24.00388888888847, -9.156851852221735, -6.4416666666656965, -33.8735185177793, -18.961203703333013, 40.530462963333775, 24.632037036668407, -10.50296296333363, -2.0479629633337026, -41.60824074111406, 32.03277777777839, -7.77444444444518], \"yaxis\": \"y\"}, {\"name\": \"inflow\", \"type\": \"bar\", \"x\": [\"2019-05-27 08:03:24\", \"2019-05-27 17:27:37\", \"2019-05-28 04:45:54\", \"2019-05-28 09:18:00\", \"2019-05-28 10:47:07\", \"2019-05-28 11:21:29\", \"2019-05-28 14:29:58\", \"2019-05-28 19:02:11\", \"2019-05-29 08:30:53\", \"2019-05-29 08:53:32\", \"2019-05-29 14:53:35\", \"2019-05-30 02:09:27\", \"2019-05-30 05:23:53\", \"2019-05-30 06:55:06\", \"2019-05-30 16:22:30\", \"2019-05-30 18:02:10\", \"2019-05-30 20:11:48\", \"2019-05-30 20:59:19\", \"2019-05-30 21:43:12\", \"2019-05-30 22:43:04\", \"2019-05-31 00:10:28\", \"2019-05-31 02:02:59\", \"2019-05-31 04:19:21\", \"2019-05-31 04:44:22\", \"2019-05-31 08:49:43\", \"2019-05-31 09:46:09\", \"2019-05-31 09:56:30\", \"2019-05-31 10:19:07\", \"2019-05-31 13:05:26\", \"2019-05-31 13:24:19\"], \"xaxis\": \"x\", \"y\": [1249.4165512, 1541.08700598, 1398.08161419, 1832.64704317, 1296.98893154, 2723.53440541, 1172.30285054, 1190.79412778, 1477.47126944, 1312.36640977, 1141.19723057, 1129.72420865, 1125.04348941, 2742.29530331, 1290.52045399, 1351.76872677, 1080.92727515, 1446.55103567, 1113.39817059, 1331.18139057, 1692.48385099, 1282.26773334, 1584.33760576, 1040.03661933, 1176.43629721, 4600.82612367, 1016.84053786, 1082.37960181, 1065.62504089, 1203.24640778], \"yaxis\": \"y2\"}],                        {\"height\": 1000, \"template\": {\"data\": {\"bar\": [{\"error_x\": {\"color\": \"#2a3f5f\"}, \"error_y\": {\"color\": \"#2a3f5f\"}, \"marker\": {\"line\": {\"color\": \"#E5ECF6\", \"width\": 0.5}}, \"type\": \"bar\"}], \"barpolar\": [{\"marker\": {\"line\": {\"color\": \"#E5ECF6\", \"width\": 0.5}}, \"type\": \"barpolar\"}], \"carpet\": [{\"aaxis\": {\"endlinecolor\": \"#2a3f5f\", \"gridcolor\": \"white\", \"linecolor\": \"white\", \"minorgridcolor\": \"white\", \"startlinecolor\": \"#2a3f5f\"}, \"baxis\": {\"endlinecolor\": \"#2a3f5f\", \"gridcolor\": \"white\", \"linecolor\": \"white\", \"minorgridcolor\": \"white\", \"startlinecolor\": \"#2a3f5f\"}, \"type\": \"carpet\"}], \"choropleth\": [{\"colorbar\": {\"outlinewidth\": 0, \"ticks\": \"\"}, \"type\": \"choropleth\"}], \"contour\": [{\"colorbar\": {\"outlinewidth\": 0, \"ticks\": \"\"}, \"colorscale\": [[0.0, \"#0d0887\"], [0.1111111111111111, \"#46039f\"], [0.2222222222222222, \"#7201a8\"], [0.3333333333333333, \"#9c179e\"], [0.4444444444444444, \"#bd3786\"], [0.5555555555555556, \"#d8576b\"], [0.6666666666666666, \"#ed7953\"], [0.7777777777777778, \"#fb9f3a\"], [0.8888888888888888, \"#fdca26\"], [1.0, \"#f0f921\"]], \"type\": \"contour\"}], \"contourcarpet\": [{\"colorbar\": {\"outlinewidth\": 0, \"ticks\": \"\"}, \"type\": \"contourcarpet\"}], \"heatmap\": [{\"colorbar\": {\"outlinewidth\": 0, \"ticks\": \"\"}, \"colorscale\": [[0.0, \"#0d0887\"], [0.1111111111111111, \"#46039f\"], [0.2222222222222222, \"#7201a8\"], [0.3333333333333333, \"#9c179e\"], [0.4444444444444444, \"#bd3786\"], [0.5555555555555556, \"#d8576b\"], [0.6666666666666666, \"#ed7953\"], [0.7777777777777778, \"#fb9f3a\"], [0.8888888888888888, \"#fdca26\"], [1.0, \"#f0f921\"]], \"type\": \"heatmap\"}], \"heatmapgl\": [{\"colorbar\": {\"outlinewidth\": 0, \"ticks\": \"\"}, \"colorscale\": [[0.0, \"#0d0887\"], [0.1111111111111111, \"#46039f\"], [0.2222222222222222, \"#7201a8\"], [0.3333333333333333, \"#9c179e\"], [0.4444444444444444, \"#bd3786\"], [0.5555555555555556, \"#d8576b\"], [0.6666666666666666, \"#ed7953\"], [0.7777777777777778, \"#fb9f3a\"], [0.8888888888888888, \"#fdca26\"], [1.0, \"#f0f921\"]], \"type\": \"heatmapgl\"}], \"histogram\": [{\"marker\": {\"colorbar\": {\"outlinewidth\": 0, \"ticks\": \"\"}}, \"type\": \"histogram\"}], \"histogram2d\": [{\"colorbar\": {\"outlinewidth\": 0, \"ticks\": \"\"}, \"colorscale\": [[0.0, \"#0d0887\"], [0.1111111111111111, \"#46039f\"], [0.2222222222222222, \"#7201a8\"], [0.3333333333333333, \"#9c179e\"], [0.4444444444444444, \"#bd3786\"], [0.5555555555555556, \"#d8576b\"], [0.6666666666666666, \"#ed7953\"], [0.7777777777777778, \"#fb9f3a\"], [0.8888888888888888, \"#fdca26\"], [1.0, \"#f0f921\"]], \"type\": \"histogram2d\"}], \"histogram2dcontour\": [{\"colorbar\": {\"outlinewidth\": 0, \"ticks\": \"\"}, \"colorscale\": [[0.0, \"#0d0887\"], [0.1111111111111111, \"#46039f\"], [0.2222222222222222, \"#7201a8\"], [0.3333333333333333, \"#9c179e\"], [0.4444444444444444, \"#bd3786\"], [0.5555555555555556, \"#d8576b\"], [0.6666666666666666, \"#ed7953\"], [0.7777777777777778, \"#fb9f3a\"], [0.8888888888888888, \"#fdca26\"], [1.0, \"#f0f921\"]], \"type\": \"histogram2dcontour\"}], \"mesh3d\": [{\"colorbar\": {\"outlinewidth\": 0, \"ticks\": \"\"}, \"type\": \"mesh3d\"}], \"parcoords\": [{\"line\": {\"colorbar\": {\"outlinewidth\": 0, \"ticks\": \"\"}}, \"type\": \"parcoords\"}], \"pie\": [{\"automargin\": true, \"type\": \"pie\"}], \"scatter\": [{\"marker\": {\"colorbar\": {\"outlinewidth\": 0, \"ticks\": \"\"}}, \"type\": \"scatter\"}], \"scatter3d\": [{\"line\": {\"colorbar\": {\"outlinewidth\": 0, \"ticks\": \"\"}}, \"marker\": {\"colorbar\": {\"outlinewidth\": 0, \"ticks\": \"\"}}, \"type\": \"scatter3d\"}], \"scattercarpet\": [{\"marker\": {\"colorbar\": {\"outlinewidth\": 0, \"ticks\": \"\"}}, \"type\": \"scattercarpet\"}], \"scattergeo\": [{\"marker\": {\"colorbar\": {\"outlinewidth\": 0, \"ticks\": \"\"}}, \"type\": \"scattergeo\"}], \"scattergl\": [{\"marker\": {\"colorbar\": {\"outlinewidth\": 0, \"ticks\": \"\"}}, \"type\": \"scattergl\"}], \"scattermapbox\": [{\"marker\": {\"colorbar\": {\"outlinewidth\": 0, \"ticks\": \"\"}}, \"type\": \"scattermapbox\"}], \"scatterpolar\": [{\"marker\": {\"colorbar\": {\"outlinewidth\": 0, \"ticks\": \"\"}}, \"type\": \"scatterpolar\"}], \"scatterpolargl\": [{\"marker\": {\"colorbar\": {\"outlinewidth\": 0, \"ticks\": \"\"}}, \"type\": \"scatterpolargl\"}], \"scatterternary\": [{\"marker\": {\"colorbar\": {\"outlinewidth\": 0, \"ticks\": \"\"}}, \"type\": \"scatterternary\"}], \"surface\": [{\"colorbar\": {\"outlinewidth\": 0, \"ticks\": \"\"}, \"colorscale\": [[0.0, \"#0d0887\"], [0.1111111111111111, \"#46039f\"], [0.2222222222222222, \"#7201a8\"], [0.3333333333333333, \"#9c179e\"], [0.4444444444444444, \"#bd3786\"], [0.5555555555555556, \"#d8576b\"], [0.6666666666666666, \"#ed7953\"], [0.7777777777777778, \"#fb9f3a\"], [0.8888888888888888, \"#fdca26\"], [1.0, \"#f0f921\"]], \"type\": \"surface\"}], \"table\": [{\"cells\": {\"fill\": {\"color\": \"#EBF0F8\"}, \"line\": {\"color\": \"white\"}}, \"header\": {\"fill\": {\"color\": \"#C8D4E3\"}, \"line\": {\"color\": \"white\"}}, \"type\": \"table\"}]}, \"layout\": {\"annotationdefaults\": {\"arrowcolor\": \"#2a3f5f\", \"arrowhead\": 0, \"arrowwidth\": 1}, \"autotypenumbers\": \"strict\", \"coloraxis\": {\"colorbar\": {\"outlinewidth\": 0, \"ticks\": \"\"}}, \"colorscale\": {\"diverging\": [[0, \"#8e0152\"], [0.1, \"#c51b7d\"], [0.2, \"#de77ae\"], [0.3, \"#f1b6da\"], [0.4, \"#fde0ef\"], [0.5, \"#f7f7f7\"], [0.6, \"#e6f5d0\"], [0.7, \"#b8e186\"], [0.8, \"#7fbc41\"], [0.9, \"#4d9221\"], [1, \"#276419\"]], \"sequential\": [[0.0, \"#0d0887\"], [0.1111111111111111, \"#46039f\"], [0.2222222222222222, \"#7201a8\"], [0.3333333333333333, \"#9c179e\"], [0.4444444444444444, \"#bd3786\"], [0.5555555555555556, \"#d8576b\"], [0.6666666666666666, \"#ed7953\"], [0.7777777777777778, \"#fb9f3a\"], [0.8888888888888888, \"#fdca26\"], [1.0, \"#f0f921\"]], \"sequentialminus\": [[0.0, \"#0d0887\"], [0.1111111111111111, \"#46039f\"], [0.2222222222222222, \"#7201a8\"], [0.3333333333333333, \"#9c179e\"], [0.4444444444444444, \"#bd3786\"], [0.5555555555555556, \"#d8576b\"], [0.6666666666666666, \"#ed7953\"], [0.7777777777777778, \"#fb9f3a\"], [0.8888888888888888, \"#fdca26\"], [1.0, \"#f0f921\"]]}, \"colorway\": [\"#636efa\", \"#EF553B\", \"#00cc96\", \"#ab63fa\", \"#FFA15A\", \"#19d3f3\", \"#FF6692\", \"#B6E880\", \"#FF97FF\", \"#FECB52\"], \"font\": {\"color\": \"#2a3f5f\"}, \"geo\": {\"bgcolor\": \"white\", \"lakecolor\": \"white\", \"landcolor\": \"#E5ECF6\", \"showlakes\": true, \"showland\": true, \"subunitcolor\": \"white\"}, \"hoverlabel\": {\"align\": \"left\"}, \"hovermode\": \"closest\", \"mapbox\": {\"style\": \"light\"}, \"paper_bgcolor\": \"white\", \"plot_bgcolor\": \"#E5ECF6\", \"polar\": {\"angularaxis\": {\"gridcolor\": \"white\", \"linecolor\": \"white\", \"ticks\": \"\"}, \"bgcolor\": \"#E5ECF6\", \"radialaxis\": {\"gridcolor\": \"white\", \"linecolor\": \"white\", \"ticks\": \"\"}}, \"scene\": {\"xaxis\": {\"backgroundcolor\": \"#E5ECF6\", \"gridcolor\": \"white\", \"gridwidth\": 2, \"linecolor\": \"white\", \"showbackground\": true, \"ticks\": \"\", \"zerolinecolor\": \"white\"}, \"yaxis\": {\"backgroundcolor\": \"#E5ECF6\", \"gridcolor\": \"white\", \"gridwidth\": 2, \"linecolor\": \"white\", \"showbackground\": true, \"ticks\": \"\", \"zerolinecolor\": \"white\"}, \"zaxis\": {\"backgroundcolor\": \"#E5ECF6\", \"gridcolor\": \"white\", \"gridwidth\": 2, \"linecolor\": \"white\", \"showbackground\": true, \"ticks\": \"\", \"zerolinecolor\": \"white\"}}, \"shapedefaults\": {\"line\": {\"color\": \"#2a3f5f\"}}, \"ternary\": {\"aaxis\": {\"gridcolor\": \"white\", \"linecolor\": \"white\", \"ticks\": \"\"}, \"baxis\": {\"gridcolor\": \"white\", \"linecolor\": \"white\", \"ticks\": \"\"}, \"bgcolor\": \"#E5ECF6\", \"caxis\": {\"gridcolor\": \"white\", \"linecolor\": \"white\", \"ticks\": \"\"}}, \"title\": {\"x\": 0.05}, \"xaxis\": {\"automargin\": true, \"gridcolor\": \"white\", \"linecolor\": \"white\", \"ticks\": \"\", \"title\": {\"standoff\": 15}, \"zerolinecolor\": \"white\", \"zerolinewidth\": 2}, \"yaxis\": {\"automargin\": true, \"gridcolor\": \"white\", \"linecolor\": \"white\", \"ticks\": \"\", \"title\": {\"standoff\": 15}, \"zerolinecolor\": \"white\", \"zerolinewidth\": 2}}}, \"width\": 1500, \"xaxis\": {\"anchor\": \"y\", \"domain\": [0.0, 0.94]}, \"yaxis\": {\"anchor\": \"x\", \"domain\": [0.0, 1.0]}, \"yaxis2\": {\"anchor\": \"x\", \"overlaying\": \"y\", \"side\": \"right\"}},                        {\"responsive\": true}                    ).then(function(){\n                            \nvar gd = document.getElementById('f16980cd-cd3a-43d8-be46-86ac60c9953d');\nvar x = new MutationObserver(function (mutations, observer) {{\n        var display = window.getComputedStyle(gd).display;\n        if (!display || display === 'none') {{\n            console.log([gd, 'removed!']);\n            Plotly.purge(gd);\n            observer.disconnect();\n        }}\n}});\n\n// Listen for the removal of the full notebook cells\nvar notebookContainer = gd.closest('#notebook-container');\nif (notebookContainer) {{\n    x.observe(notebookContainer, {childList: true});\n}}\n\n// Listen for the clearing of the current output cell\nvar outputEl = gd.closest('.output');\nif (outputEl) {{\n    x.observe(outputEl, {childList: true});\n}}\n\n                        })                };                });            </script>        </div>"
     },
     "metadata": {}
    }
   ],
   "source": [
    "import plotly.express as px\n",
    "import plotly.graph_objects as go \n",
    "from plotly.subplots import make_subplots\n",
    "\n",
    "fig = make_subplots(specs=[[{\"secondary_y\": True}]])\n",
    "# fig.add_trace(go.Scatter(x=df_inflow_big.datetime, y=df_price_change.price_change, mode='markers', name='price'), secondary_y=False)\n",
    "# fig.add_trace(go.Scatter(x=df_inflow_big.datetime, y=df_inflow_big.inflow_total, mode='markers', name='inflow'), secondary_y=True)\n",
    "fig.add_trace(go.Bar(x=df_inflow_big.datetime, y=df_price_change.price_change,  name='price'), secondary_y=False)\n",
    "fig.add_trace(go.Bar(x=df_inflow_big.datetime, y=df_inflow_big.inflow_total, name='inflow'), secondary_y=True)\n",
    "fig.update_layout(height=1000, width=1500)\n",
    "fig.show()\n",
    "# e2 = go.Scatter(x=df_price_and_inflow.datetime_x, y=df_price_and_inflow.inflow_total, mode='lines')\n",
    "# |ip# lot(go.Figure([trace1, trace2]))\n"
   ]
  },
  {
   "cell_type": "code",
   "execution_count": 171,
   "metadata": {},
   "outputs": [
    {
     "output_type": "execute_result",
     "data": {
      "text/plain": [
       "       blockheight             datetime  price_usd_open  price_usd_high  \\\n",
       "0           577959  2019-05-27 03:00:36     8731.622500     8745.612500   \n",
       "1           577960  2019-05-27 03:00:34     8731.622500     8745.612500   \n",
       "2           577961  2019-05-27 03:00:40     8731.622500     8745.612500   \n",
       "3           577962  2019-05-27 03:01:54     8742.700000     8754.722500   \n",
       "4           577963  2019-05-27 03:33:15     8744.140000     8746.212500   \n",
       "...            ...                  ...             ...             ...   \n",
       "99995       677954  2021-04-06 02:03:56    58755.023333    58780.925000   \n",
       "99996       677955  2021-04-06 02:06:32    58729.781667    58800.028333   \n",
       "99997       677956  2021-04-06 02:16:47    58748.600000    58754.286667   \n",
       "99998       677957  2021-04-06 02:17:17    58766.046667    58804.258333   \n",
       "99999       677958  2021-04-06 02:18:50    58811.261667    58836.113333   \n",
       "\n",
       "       price_usd_low  price_usd_close  price_change  \n",
       "0        8730.677500      8745.612500           0.0  \n",
       "1        8730.677500      8745.612500           0.0  \n",
       "2        8730.677500      8745.612500           0.0  \n",
       "3        8742.042500      8750.815000           0.0  \n",
       "4        8737.575000      8738.080000           0.0  \n",
       "...              ...              ...           ...  \n",
       "99995   58705.976667     58740.426667           0.0  \n",
       "99996   58718.980000     58771.081667           0.0  \n",
       "99997   58730.340000     58747.383333           0.0  \n",
       "99998   58759.705000     58802.185000           0.0  \n",
       "99999   58804.178333     58834.458333           0.0  \n",
       "\n",
       "[100000 rows x 7 columns]"
      ],
      "text/html": "<div>\n<style scoped>\n    .dataframe tbody tr th:only-of-type {\n        vertical-align: middle;\n    }\n\n    .dataframe tbody tr th {\n        vertical-align: top;\n    }\n\n    .dataframe thead th {\n        text-align: right;\n    }\n</style>\n<table border=\"1\" class=\"dataframe\">\n  <thead>\n    <tr style=\"text-align: right;\">\n      <th></th>\n      <th>blockheight</th>\n      <th>datetime</th>\n      <th>price_usd_open</th>\n      <th>price_usd_high</th>\n      <th>price_usd_low</th>\n      <th>price_usd_close</th>\n      <th>price_change</th>\n    </tr>\n  </thead>\n  <tbody>\n    <tr>\n      <th>0</th>\n      <td>577959</td>\n      <td>2019-05-27 03:00:36</td>\n      <td>8731.622500</td>\n      <td>8745.612500</td>\n      <td>8730.677500</td>\n      <td>8745.612500</td>\n      <td>0.0</td>\n    </tr>\n    <tr>\n      <th>1</th>\n      <td>577960</td>\n      <td>2019-05-27 03:00:34</td>\n      <td>8731.622500</td>\n      <td>8745.612500</td>\n      <td>8730.677500</td>\n      <td>8745.612500</td>\n      <td>0.0</td>\n    </tr>\n    <tr>\n      <th>2</th>\n      <td>577961</td>\n      <td>2019-05-27 03:00:40</td>\n      <td>8731.622500</td>\n      <td>8745.612500</td>\n      <td>8730.677500</td>\n      <td>8745.612500</td>\n      <td>0.0</td>\n    </tr>\n    <tr>\n      <th>3</th>\n      <td>577962</td>\n      <td>2019-05-27 03:01:54</td>\n      <td>8742.700000</td>\n      <td>8754.722500</td>\n      <td>8742.042500</td>\n      <td>8750.815000</td>\n      <td>0.0</td>\n    </tr>\n    <tr>\n      <th>4</th>\n      <td>577963</td>\n      <td>2019-05-27 03:33:15</td>\n      <td>8744.140000</td>\n      <td>8746.212500</td>\n      <td>8737.575000</td>\n      <td>8738.080000</td>\n      <td>0.0</td>\n    </tr>\n    <tr>\n      <th>...</th>\n      <td>...</td>\n      <td>...</td>\n      <td>...</td>\n      <td>...</td>\n      <td>...</td>\n      <td>...</td>\n      <td>...</td>\n    </tr>\n    <tr>\n      <th>99995</th>\n      <td>677954</td>\n      <td>2021-04-06 02:03:56</td>\n      <td>58755.023333</td>\n      <td>58780.925000</td>\n      <td>58705.976667</td>\n      <td>58740.426667</td>\n      <td>0.0</td>\n    </tr>\n    <tr>\n      <th>99996</th>\n      <td>677955</td>\n      <td>2021-04-06 02:06:32</td>\n      <td>58729.781667</td>\n      <td>58800.028333</td>\n      <td>58718.980000</td>\n      <td>58771.081667</td>\n      <td>0.0</td>\n    </tr>\n    <tr>\n      <th>99997</th>\n      <td>677956</td>\n      <td>2021-04-06 02:16:47</td>\n      <td>58748.600000</td>\n      <td>58754.286667</td>\n      <td>58730.340000</td>\n      <td>58747.383333</td>\n      <td>0.0</td>\n    </tr>\n    <tr>\n      <th>99998</th>\n      <td>677957</td>\n      <td>2021-04-06 02:17:17</td>\n      <td>58766.046667</td>\n      <td>58804.258333</td>\n      <td>58759.705000</td>\n      <td>58802.185000</td>\n      <td>0.0</td>\n    </tr>\n    <tr>\n      <th>99999</th>\n      <td>677958</td>\n      <td>2021-04-06 02:18:50</td>\n      <td>58811.261667</td>\n      <td>58836.113333</td>\n      <td>58804.178333</td>\n      <td>58834.458333</td>\n      <td>0.0</td>\n    </tr>\n  </tbody>\n</table>\n<p>100000 rows × 7 columns</p>\n</div>"
     },
     "metadata": {},
     "execution_count": 171
    }
   ],
   "source": [
    "df = df_price.copy()\n",
    "\n",
    "df['price_change'] = pd.DataFrame(price_change)\n",
    "df\n",
    "# df[['price_change', 'infflow_total']]  = pd.DataFrame(price_change), df_inflow_all_exchange['inflow_total']\n",
    "\n",
    "# df1 = df_inflow_all_exchange['inflow_total']"
   ]
  },
  {
   "cell_type": "code",
   "execution_count": 161,
   "metadata": {},
   "outputs": [
    {
     "output_type": "execute_result",
     "data": {
      "text/plain": [
       "0         73.098934\n",
       "1          0.727107\n",
       "2          8.491730\n",
       "3         82.828306\n",
       "4        535.006831\n",
       "            ...    \n",
       "99995    338.229814\n",
       "99996    519.873703\n",
       "99997    625.737379\n",
       "99998     31.328702\n",
       "99999     53.329586\n",
       "Name: inflow_total, Length: 100000, dtype: float64"
      ]
     },
     "metadata": {},
     "execution_count": 161
    }
   ],
   "source": [
    "df_inflow_all_exchange['inflow_total']"
   ]
  },
  {
   "cell_type": "code",
   "execution_count": 157,
   "metadata": {},
   "outputs": [
    {
     "output_type": "execute_result",
     "data": {
      "text/plain": [
       "78562.03"
      ]
     },
     "metadata": {},
     "execution_count": 157
    }
   ],
   "source": [
    "df_price['price_change'].iloc[32]"
   ]
  },
  {
   "cell_type": "code",
   "execution_count": 120,
   "metadata": {},
   "outputs": [
    {
     "output_type": "execute_result",
     "data": {
      "text/plain": [
       "                datetime_x  price_usd_close  inflow_total\n",
       "0      2019-05-27 03:00:36      8745.612500     73.098934\n",
       "1      2019-05-27 03:00:34      8745.612500      0.727107\n",
       "2      2019-05-27 03:00:40      8745.612500      8.491730\n",
       "3      2019-05-27 03:01:54      8750.815000     82.828306\n",
       "4      2019-05-27 03:33:15      8738.080000    535.006831\n",
       "...                    ...              ...           ...\n",
       "99995  2021-04-06 02:03:56     58740.426667    338.229814\n",
       "99996  2021-04-06 02:06:32     58771.081667    519.873703\n",
       "99997  2021-04-06 02:16:47     58747.383333    625.737379\n",
       "99998  2021-04-06 02:17:17     58802.185000     31.328702\n",
       "99999  2021-04-06 02:18:50     58834.458333     53.329586\n",
       "\n",
       "[100000 rows x 3 columns]"
      ],
      "text/html": "<div>\n<style scoped>\n    .dataframe tbody tr th:only-of-type {\n        vertical-align: middle;\n    }\n\n    .dataframe tbody tr th {\n        vertical-align: top;\n    }\n\n    .dataframe thead th {\n        text-align: right;\n    }\n</style>\n<table border=\"1\" class=\"dataframe\">\n  <thead>\n    <tr style=\"text-align: right;\">\n      <th></th>\n      <th>datetime_x</th>\n      <th>price_usd_close</th>\n      <th>inflow_total</th>\n    </tr>\n  </thead>\n  <tbody>\n    <tr>\n      <th>0</th>\n      <td>2019-05-27 03:00:36</td>\n      <td>8745.612500</td>\n      <td>73.098934</td>\n    </tr>\n    <tr>\n      <th>1</th>\n      <td>2019-05-27 03:00:34</td>\n      <td>8745.612500</td>\n      <td>0.727107</td>\n    </tr>\n    <tr>\n      <th>2</th>\n      <td>2019-05-27 03:00:40</td>\n      <td>8745.612500</td>\n      <td>8.491730</td>\n    </tr>\n    <tr>\n      <th>3</th>\n      <td>2019-05-27 03:01:54</td>\n      <td>8750.815000</td>\n      <td>82.828306</td>\n    </tr>\n    <tr>\n      <th>4</th>\n      <td>2019-05-27 03:33:15</td>\n      <td>8738.080000</td>\n      <td>535.006831</td>\n    </tr>\n    <tr>\n      <th>...</th>\n      <td>...</td>\n      <td>...</td>\n      <td>...</td>\n    </tr>\n    <tr>\n      <th>99995</th>\n      <td>2021-04-06 02:03:56</td>\n      <td>58740.426667</td>\n      <td>338.229814</td>\n    </tr>\n    <tr>\n      <th>99996</th>\n      <td>2021-04-06 02:06:32</td>\n      <td>58771.081667</td>\n      <td>519.873703</td>\n    </tr>\n    <tr>\n      <th>99997</th>\n      <td>2021-04-06 02:16:47</td>\n      <td>58747.383333</td>\n      <td>625.737379</td>\n    </tr>\n    <tr>\n      <th>99998</th>\n      <td>2021-04-06 02:17:17</td>\n      <td>58802.185000</td>\n      <td>31.328702</td>\n    </tr>\n    <tr>\n      <th>99999</th>\n      <td>2021-04-06 02:18:50</td>\n      <td>58834.458333</td>\n      <td>53.329586</td>\n    </tr>\n  </tbody>\n</table>\n<p>100000 rows × 3 columns</p>\n</div>"
     },
     "metadata": {},
     "execution_count": 120
    }
   ],
   "source": [
    "df_price_and_inflow_all_exchange = pd.merge(df_price, df_inflow_all_exchange, on='blockheight')\n",
    "# df_price_and_inflow\n",
    "df_price_and_inflow_all_exchange[['datetime_x', 'price_usd_close', 'inflow_total']]\n",
    "\n",
    "\n"
   ]
  },
  {
   "cell_type": "code",
   "execution_count": 127,
   "metadata": {},
   "outputs": [
    {
     "output_type": "execute_result",
     "data": {
      "text/plain": [
       "       blockheight           datetime_x  price_usd_open  price_usd_high  \\\n",
       "99500       677459  2021-04-02 14:35:51    59094.423333    59127.626667   \n",
       "99501       677460  2021-04-02 14:36:10    59104.351667    59110.121667   \n",
       "99502       677461  2021-04-02 14:37:43    59096.986667    59136.686667   \n",
       "99503       677462  2021-04-02 14:37:56    59096.986667    59136.686667   \n",
       "99504       677463  2021-04-02 14:45:02    59300.853333    59320.946667   \n",
       "...            ...                  ...             ...             ...   \n",
       "99995       677954  2021-04-06 02:03:56    58755.023333    58780.925000   \n",
       "99996       677955  2021-04-06 02:06:32    58729.781667    58800.028333   \n",
       "99997       677956  2021-04-06 02:16:47    58748.600000    58754.286667   \n",
       "99998       677957  2021-04-06 02:17:17    58766.046667    58804.258333   \n",
       "99999       677958  2021-04-06 02:18:50    58811.261667    58836.113333   \n",
       "\n",
       "       price_usd_low  price_usd_close           datetime_y  inflow_total  \\\n",
       "99500   59087.711667     59108.346667  2021-04-02 14:35:51     55.270356   \n",
       "99501   59074.571667     59087.520000  2021-04-02 14:36:10     89.843575   \n",
       "99502   59088.166667     59120.836667  2021-04-02 14:37:43     27.712902   \n",
       "99503   59088.166667     59120.836667  2021-04-02 14:37:56     16.462023   \n",
       "99504   59279.458333     59289.063333  2021-04-02 14:45:02    129.751237   \n",
       "...              ...              ...                  ...           ...   \n",
       "99995   58705.976667     58740.426667  2021-04-06 02:03:56    338.229814   \n",
       "99996   58718.980000     58771.081667  2021-04-06 02:06:32    519.873703   \n",
       "99997   58730.340000     58747.383333  2021-04-06 02:16:47    625.737379   \n",
       "99998   58759.705000     58802.185000  2021-04-06 02:17:17     31.328702   \n",
       "99999   58804.178333     58834.458333  2021-04-06 02:18:50     53.329586   \n",
       "\n",
       "       inflow_top10  inflow_mean  \n",
       "99500     54.696041     0.327044  \n",
       "99501     89.439502     0.485641  \n",
       "99502     27.042992     0.148994  \n",
       "99503     16.298038     0.126631  \n",
       "99504    127.377511     0.690166  \n",
       "...             ...          ...  \n",
       "99995    336.425901     1.363830  \n",
       "99996    479.883041     2.487434  \n",
       "99997    450.932535     1.835007  \n",
       "99998     31.287258     0.204763  \n",
       "99999     51.451445     0.269341  \n",
       "\n",
       "[500 rows x 10 columns]"
      ],
      "text/html": "<div>\n<style scoped>\n    .dataframe tbody tr th:only-of-type {\n        vertical-align: middle;\n    }\n\n    .dataframe tbody tr th {\n        vertical-align: top;\n    }\n\n    .dataframe thead th {\n        text-align: right;\n    }\n</style>\n<table border=\"1\" class=\"dataframe\">\n  <thead>\n    <tr style=\"text-align: right;\">\n      <th></th>\n      <th>blockheight</th>\n      <th>datetime_x</th>\n      <th>price_usd_open</th>\n      <th>price_usd_high</th>\n      <th>price_usd_low</th>\n      <th>price_usd_close</th>\n      <th>datetime_y</th>\n      <th>inflow_total</th>\n      <th>inflow_top10</th>\n      <th>inflow_mean</th>\n    </tr>\n  </thead>\n  <tbody>\n    <tr>\n      <th>99500</th>\n      <td>677459</td>\n      <td>2021-04-02 14:35:51</td>\n      <td>59094.423333</td>\n      <td>59127.626667</td>\n      <td>59087.711667</td>\n      <td>59108.346667</td>\n      <td>2021-04-02 14:35:51</td>\n      <td>55.270356</td>\n      <td>54.696041</td>\n      <td>0.327044</td>\n    </tr>\n    <tr>\n      <th>99501</th>\n      <td>677460</td>\n      <td>2021-04-02 14:36:10</td>\n      <td>59104.351667</td>\n      <td>59110.121667</td>\n      <td>59074.571667</td>\n      <td>59087.520000</td>\n      <td>2021-04-02 14:36:10</td>\n      <td>89.843575</td>\n      <td>89.439502</td>\n      <td>0.485641</td>\n    </tr>\n    <tr>\n      <th>99502</th>\n      <td>677461</td>\n      <td>2021-04-02 14:37:43</td>\n      <td>59096.986667</td>\n      <td>59136.686667</td>\n      <td>59088.166667</td>\n      <td>59120.836667</td>\n      <td>2021-04-02 14:37:43</td>\n      <td>27.712902</td>\n      <td>27.042992</td>\n      <td>0.148994</td>\n    </tr>\n    <tr>\n      <th>99503</th>\n      <td>677462</td>\n      <td>2021-04-02 14:37:56</td>\n      <td>59096.986667</td>\n      <td>59136.686667</td>\n      <td>59088.166667</td>\n      <td>59120.836667</td>\n      <td>2021-04-02 14:37:56</td>\n      <td>16.462023</td>\n      <td>16.298038</td>\n      <td>0.126631</td>\n    </tr>\n    <tr>\n      <th>99504</th>\n      <td>677463</td>\n      <td>2021-04-02 14:45:02</td>\n      <td>59300.853333</td>\n      <td>59320.946667</td>\n      <td>59279.458333</td>\n      <td>59289.063333</td>\n      <td>2021-04-02 14:45:02</td>\n      <td>129.751237</td>\n      <td>127.377511</td>\n      <td>0.690166</td>\n    </tr>\n    <tr>\n      <th>...</th>\n      <td>...</td>\n      <td>...</td>\n      <td>...</td>\n      <td>...</td>\n      <td>...</td>\n      <td>...</td>\n      <td>...</td>\n      <td>...</td>\n      <td>...</td>\n      <td>...</td>\n    </tr>\n    <tr>\n      <th>99995</th>\n      <td>677954</td>\n      <td>2021-04-06 02:03:56</td>\n      <td>58755.023333</td>\n      <td>58780.925000</td>\n      <td>58705.976667</td>\n      <td>58740.426667</td>\n      <td>2021-04-06 02:03:56</td>\n      <td>338.229814</td>\n      <td>336.425901</td>\n      <td>1.363830</td>\n    </tr>\n    <tr>\n      <th>99996</th>\n      <td>677955</td>\n      <td>2021-04-06 02:06:32</td>\n      <td>58729.781667</td>\n      <td>58800.028333</td>\n      <td>58718.980000</td>\n      <td>58771.081667</td>\n      <td>2021-04-06 02:06:32</td>\n      <td>519.873703</td>\n      <td>479.883041</td>\n      <td>2.487434</td>\n    </tr>\n    <tr>\n      <th>99997</th>\n      <td>677956</td>\n      <td>2021-04-06 02:16:47</td>\n      <td>58748.600000</td>\n      <td>58754.286667</td>\n      <td>58730.340000</td>\n      <td>58747.383333</td>\n      <td>2021-04-06 02:16:47</td>\n      <td>625.737379</td>\n      <td>450.932535</td>\n      <td>1.835007</td>\n    </tr>\n    <tr>\n      <th>99998</th>\n      <td>677957</td>\n      <td>2021-04-06 02:17:17</td>\n      <td>58766.046667</td>\n      <td>58804.258333</td>\n      <td>58759.705000</td>\n      <td>58802.185000</td>\n      <td>2021-04-06 02:17:17</td>\n      <td>31.328702</td>\n      <td>31.287258</td>\n      <td>0.204763</td>\n    </tr>\n    <tr>\n      <th>99999</th>\n      <td>677958</td>\n      <td>2021-04-06 02:18:50</td>\n      <td>58811.261667</td>\n      <td>58836.113333</td>\n      <td>58804.178333</td>\n      <td>58834.458333</td>\n      <td>2021-04-06 02:18:50</td>\n      <td>53.329586</td>\n      <td>51.451445</td>\n      <td>0.269341</td>\n    </tr>\n  </tbody>\n</table>\n<p>500 rows × 10 columns</p>\n</div>"
     },
     "metadata": {},
     "execution_count": 127
    }
   ],
   "source": [
    "df_data = df_price_and_inflow_all_exchange[-500:]\n",
    "df_data"
   ]
  },
  {
   "cell_type": "code",
   "execution_count": 105,
   "metadata": {},
   "outputs": [
    {
     "output_type": "stream",
     "name": "stderr",
     "text": [
      "<ipython-input-105-89d0313a3526>:3: SettingWithCopyWarning:\n\n\nA value is trying to be set on a copy of a slice from a DataFrame.\nTry using .loc[row_indexer,col_indexer] = value instead\n\nSee the caveats in the documentation: https://pandas.pydata.org/pandas-docs/stable/user_guide/indexing.html#returning-a-view-versus-a-copy\n\n/home/hjchoi/dev/crypto/.venv/lib/python3.8/site-packages/pandas/core/indexing.py:1738: SettingWithCopyWarning:\n\n\nA value is trying to be set on a copy of a slice from a DataFrame.\nTry using .loc[row_indexer,col_indexer] = value instead\n\nSee the caveats in the documentation: https://pandas.pydata.org/pandas-docs/stable/user_guide/indexing.html#returning-a-view-versus-a-copy\n\n<ipython-input-105-89d0313a3526>:4: SettingWithCopyWarning:\n\n\nA value is trying to be set on a copy of a slice from a DataFrame.\nTry using .loc[row_indexer,col_indexer] = value instead\n\nSee the caveats in the documentation: https://pandas.pydata.org/pandas-docs/stable/user_guide/indexing.html#returning-a-view-versus-a-copy\n\n"
     ]
    }
   ],
   "source": [
    "from sklearn.preprocessing import StandardScaler\n",
    "\n",
    "df_data[['norm_inflow']] = StandardScaler().fit_transform(df_data[['inflow_total']])\n",
    "df_data['norm_price'] = df_data['price_usd_close']/10000\n",
    "# df_data[['norm_price', 'norm_inflow']] = StandardScaler().fit_transform(df_data[['price_usd_close', 'inflow_total']])\n"
   ]
  },
  {
   "cell_type": "code",
   "execution_count": 128,
   "metadata": {},
   "outputs": [
    {
     "output_type": "execute_result",
     "data": {
      "text/plain": [
       "       blockheight           datetime_x  price_usd_open  price_usd_high  \\\n",
       "99500       677459  2021-04-02 14:35:51    59094.423333    59127.626667   \n",
       "99501       677460  2021-04-02 14:36:10    59104.351667    59110.121667   \n",
       "99502       677461  2021-04-02 14:37:43    59096.986667    59136.686667   \n",
       "99503       677462  2021-04-02 14:37:56    59096.986667    59136.686667   \n",
       "99504       677463  2021-04-02 14:45:02    59300.853333    59320.946667   \n",
       "...            ...                  ...             ...             ...   \n",
       "99995       677954  2021-04-06 02:03:56    58755.023333    58780.925000   \n",
       "99996       677955  2021-04-06 02:06:32    58729.781667    58800.028333   \n",
       "99997       677956  2021-04-06 02:16:47    58748.600000    58754.286667   \n",
       "99998       677957  2021-04-06 02:17:17    58766.046667    58804.258333   \n",
       "99999       677958  2021-04-06 02:18:50    58811.261667    58836.113333   \n",
       "\n",
       "       price_usd_low  price_usd_close           datetime_y  inflow_total  \\\n",
       "99500   59087.711667     59108.346667  2021-04-02 14:35:51     55.270356   \n",
       "99501   59074.571667     59087.520000  2021-04-02 14:36:10     89.843575   \n",
       "99502   59088.166667     59120.836667  2021-04-02 14:37:43     27.712902   \n",
       "99503   59088.166667     59120.836667  2021-04-02 14:37:56     16.462023   \n",
       "99504   59279.458333     59289.063333  2021-04-02 14:45:02    129.751237   \n",
       "...              ...              ...                  ...           ...   \n",
       "99995   58705.976667     58740.426667  2021-04-06 02:03:56    338.229814   \n",
       "99996   58718.980000     58771.081667  2021-04-06 02:06:32    519.873703   \n",
       "99997   58730.340000     58747.383333  2021-04-06 02:16:47    625.737379   \n",
       "99998   58759.705000     58802.185000  2021-04-06 02:17:17     31.328702   \n",
       "99999   58804.178333     58834.458333  2021-04-06 02:18:50     53.329586   \n",
       "\n",
       "       inflow_top10  inflow_mean  \n",
       "99500     54.696041     0.327044  \n",
       "99501     89.439502     0.485641  \n",
       "99502     27.042992     0.148994  \n",
       "99503     16.298038     0.126631  \n",
       "99504    127.377511     0.690166  \n",
       "...             ...          ...  \n",
       "99995    336.425901     1.363830  \n",
       "99996    479.883041     2.487434  \n",
       "99997    450.932535     1.835007  \n",
       "99998     31.287258     0.204763  \n",
       "99999     51.451445     0.269341  \n",
       "\n",
       "[500 rows x 10 columns]"
      ],
      "text/html": "<div>\n<style scoped>\n    .dataframe tbody tr th:only-of-type {\n        vertical-align: middle;\n    }\n\n    .dataframe tbody tr th {\n        vertical-align: top;\n    }\n\n    .dataframe thead th {\n        text-align: right;\n    }\n</style>\n<table border=\"1\" class=\"dataframe\">\n  <thead>\n    <tr style=\"text-align: right;\">\n      <th></th>\n      <th>blockheight</th>\n      <th>datetime_x</th>\n      <th>price_usd_open</th>\n      <th>price_usd_high</th>\n      <th>price_usd_low</th>\n      <th>price_usd_close</th>\n      <th>datetime_y</th>\n      <th>inflow_total</th>\n      <th>inflow_top10</th>\n      <th>inflow_mean</th>\n    </tr>\n  </thead>\n  <tbody>\n    <tr>\n      <th>99500</th>\n      <td>677459</td>\n      <td>2021-04-02 14:35:51</td>\n      <td>59094.423333</td>\n      <td>59127.626667</td>\n      <td>59087.711667</td>\n      <td>59108.346667</td>\n      <td>2021-04-02 14:35:51</td>\n      <td>55.270356</td>\n      <td>54.696041</td>\n      <td>0.327044</td>\n    </tr>\n    <tr>\n      <th>99501</th>\n      <td>677460</td>\n      <td>2021-04-02 14:36:10</td>\n      <td>59104.351667</td>\n      <td>59110.121667</td>\n      <td>59074.571667</td>\n      <td>59087.520000</td>\n      <td>2021-04-02 14:36:10</td>\n      <td>89.843575</td>\n      <td>89.439502</td>\n      <td>0.485641</td>\n    </tr>\n    <tr>\n      <th>99502</th>\n      <td>677461</td>\n      <td>2021-04-02 14:37:43</td>\n      <td>59096.986667</td>\n      <td>59136.686667</td>\n      <td>59088.166667</td>\n      <td>59120.836667</td>\n      <td>2021-04-02 14:37:43</td>\n      <td>27.712902</td>\n      <td>27.042992</td>\n      <td>0.148994</td>\n    </tr>\n    <tr>\n      <th>99503</th>\n      <td>677462</td>\n      <td>2021-04-02 14:37:56</td>\n      <td>59096.986667</td>\n      <td>59136.686667</td>\n      <td>59088.166667</td>\n      <td>59120.836667</td>\n      <td>2021-04-02 14:37:56</td>\n      <td>16.462023</td>\n      <td>16.298038</td>\n      <td>0.126631</td>\n    </tr>\n    <tr>\n      <th>99504</th>\n      <td>677463</td>\n      <td>2021-04-02 14:45:02</td>\n      <td>59300.853333</td>\n      <td>59320.946667</td>\n      <td>59279.458333</td>\n      <td>59289.063333</td>\n      <td>2021-04-02 14:45:02</td>\n      <td>129.751237</td>\n      <td>127.377511</td>\n      <td>0.690166</td>\n    </tr>\n    <tr>\n      <th>...</th>\n      <td>...</td>\n      <td>...</td>\n      <td>...</td>\n      <td>...</td>\n      <td>...</td>\n      <td>...</td>\n      <td>...</td>\n      <td>...</td>\n      <td>...</td>\n      <td>...</td>\n    </tr>\n    <tr>\n      <th>99995</th>\n      <td>677954</td>\n      <td>2021-04-06 02:03:56</td>\n      <td>58755.023333</td>\n      <td>58780.925000</td>\n      <td>58705.976667</td>\n      <td>58740.426667</td>\n      <td>2021-04-06 02:03:56</td>\n      <td>338.229814</td>\n      <td>336.425901</td>\n      <td>1.363830</td>\n    </tr>\n    <tr>\n      <th>99996</th>\n      <td>677955</td>\n      <td>2021-04-06 02:06:32</td>\n      <td>58729.781667</td>\n      <td>58800.028333</td>\n      <td>58718.980000</td>\n      <td>58771.081667</td>\n      <td>2021-04-06 02:06:32</td>\n      <td>519.873703</td>\n      <td>479.883041</td>\n      <td>2.487434</td>\n    </tr>\n    <tr>\n      <th>99997</th>\n      <td>677956</td>\n      <td>2021-04-06 02:16:47</td>\n      <td>58748.600000</td>\n      <td>58754.286667</td>\n      <td>58730.340000</td>\n      <td>58747.383333</td>\n      <td>2021-04-06 02:16:47</td>\n      <td>625.737379</td>\n      <td>450.932535</td>\n      <td>1.835007</td>\n    </tr>\n    <tr>\n      <th>99998</th>\n      <td>677957</td>\n      <td>2021-04-06 02:17:17</td>\n      <td>58766.046667</td>\n      <td>58804.258333</td>\n      <td>58759.705000</td>\n      <td>58802.185000</td>\n      <td>2021-04-06 02:17:17</td>\n      <td>31.328702</td>\n      <td>31.287258</td>\n      <td>0.204763</td>\n    </tr>\n    <tr>\n      <th>99999</th>\n      <td>677958</td>\n      <td>2021-04-06 02:18:50</td>\n      <td>58811.261667</td>\n      <td>58836.113333</td>\n      <td>58804.178333</td>\n      <td>58834.458333</td>\n      <td>2021-04-06 02:18:50</td>\n      <td>53.329586</td>\n      <td>51.451445</td>\n      <td>0.269341</td>\n    </tr>\n  </tbody>\n</table>\n<p>500 rows × 10 columns</p>\n</div>"
     },
     "metadata": {},
     "execution_count": 128
    }
   ],
   "source": [
    "df_data"
   ]
  },
  {
   "cell_type": "code",
   "execution_count": 133,
   "metadata": {},
   "outputs": [
    {
     "output_type": "execute_result",
     "data": {
      "text/plain": [
       "99500      0.000000\n",
       "99501    -20.826667\n",
       "99502     33.316667\n",
       "99503      0.000000\n",
       "99504    168.226667\n",
       "            ...    \n",
       "99995   -341.051667\n",
       "99996     30.655000\n",
       "99997    -23.698333\n",
       "99998     54.801667\n",
       "99999     32.273333\n",
       "Name: price_usd_close, Length: 500, dtype: float64"
      ]
     },
     "metadata": {},
     "execution_count": 133
    }
   ],
   "source": [
    "price_change = df_data['price_usd_close'].diff().fillna(0)\n",
    "price_change\n"
   ]
  },
  {
   "cell_type": "code",
   "execution_count": 131,
   "metadata": {},
   "outputs": [
    {
     "output_type": "execute_result",
     "data": {
      "text/plain": [
       "       blockheight           datetime_x  price_usd_open  price_usd_high  \\\n",
       "99500       677459  2021-04-02 14:35:51    59094.423333    59127.626667   \n",
       "99501       677460  2021-04-02 14:36:10    59104.351667    59110.121667   \n",
       "99502       677461  2021-04-02 14:37:43    59096.986667    59136.686667   \n",
       "99503       677462  2021-04-02 14:37:56    59096.986667    59136.686667   \n",
       "99504       677463  2021-04-02 14:45:02    59300.853333    59320.946667   \n",
       "...            ...                  ...             ...             ...   \n",
       "99995       677954  2021-04-06 02:03:56    58755.023333    58780.925000   \n",
       "99996       677955  2021-04-06 02:06:32    58729.781667    58800.028333   \n",
       "99997       677956  2021-04-06 02:16:47    58748.600000    58754.286667   \n",
       "99998       677957  2021-04-06 02:17:17    58766.046667    58804.258333   \n",
       "99999       677958  2021-04-06 02:18:50    58811.261667    58836.113333   \n",
       "\n",
       "       price_usd_low  price_usd_close           datetime_y  inflow_total  \\\n",
       "99500   59087.711667     59108.346667  2021-04-02 14:35:51     55.270356   \n",
       "99501   59074.571667     59087.520000  2021-04-02 14:36:10     89.843575   \n",
       "99502   59088.166667     59120.836667  2021-04-02 14:37:43     27.712902   \n",
       "99503   59088.166667     59120.836667  2021-04-02 14:37:56     16.462023   \n",
       "99504   59279.458333     59289.063333  2021-04-02 14:45:02    129.751237   \n",
       "...              ...              ...                  ...           ...   \n",
       "99995   58705.976667     58740.426667  2021-04-06 02:03:56    338.229814   \n",
       "99996   58718.980000     58771.081667  2021-04-06 02:06:32    519.873703   \n",
       "99997   58730.340000     58747.383333  2021-04-06 02:16:47    625.737379   \n",
       "99998   58759.705000     58802.185000  2021-04-06 02:17:17     31.328702   \n",
       "99999   58804.178333     58834.458333  2021-04-06 02:18:50     53.329586   \n",
       "\n",
       "       inflow_top10  inflow_mean  \n",
       "99500     54.696041     0.327044  \n",
       "99501     89.439502     0.485641  \n",
       "99502     27.042992     0.148994  \n",
       "99503     16.298038     0.126631  \n",
       "99504    127.377511     0.690166  \n",
       "...             ...          ...  \n",
       "99995    336.425901     1.363830  \n",
       "99996    479.883041     2.487434  \n",
       "99997    450.932535     1.835007  \n",
       "99998     31.287258     0.204763  \n",
       "99999     51.451445     0.269341  \n",
       "\n",
       "[500 rows x 10 columns]"
      ],
      "text/html": "<div>\n<style scoped>\n    .dataframe tbody tr th:only-of-type {\n        vertical-align: middle;\n    }\n\n    .dataframe tbody tr th {\n        vertical-align: top;\n    }\n\n    .dataframe thead th {\n        text-align: right;\n    }\n</style>\n<table border=\"1\" class=\"dataframe\">\n  <thead>\n    <tr style=\"text-align: right;\">\n      <th></th>\n      <th>blockheight</th>\n      <th>datetime_x</th>\n      <th>price_usd_open</th>\n      <th>price_usd_high</th>\n      <th>price_usd_low</th>\n      <th>price_usd_close</th>\n      <th>datetime_y</th>\n      <th>inflow_total</th>\n      <th>inflow_top10</th>\n      <th>inflow_mean</th>\n    </tr>\n  </thead>\n  <tbody>\n    <tr>\n      <th>99500</th>\n      <td>677459</td>\n      <td>2021-04-02 14:35:51</td>\n      <td>59094.423333</td>\n      <td>59127.626667</td>\n      <td>59087.711667</td>\n      <td>59108.346667</td>\n      <td>2021-04-02 14:35:51</td>\n      <td>55.270356</td>\n      <td>54.696041</td>\n      <td>0.327044</td>\n    </tr>\n    <tr>\n      <th>99501</th>\n      <td>677460</td>\n      <td>2021-04-02 14:36:10</td>\n      <td>59104.351667</td>\n      <td>59110.121667</td>\n      <td>59074.571667</td>\n      <td>59087.520000</td>\n      <td>2021-04-02 14:36:10</td>\n      <td>89.843575</td>\n      <td>89.439502</td>\n      <td>0.485641</td>\n    </tr>\n    <tr>\n      <th>99502</th>\n      <td>677461</td>\n      <td>2021-04-02 14:37:43</td>\n      <td>59096.986667</td>\n      <td>59136.686667</td>\n      <td>59088.166667</td>\n      <td>59120.836667</td>\n      <td>2021-04-02 14:37:43</td>\n      <td>27.712902</td>\n      <td>27.042992</td>\n      <td>0.148994</td>\n    </tr>\n    <tr>\n      <th>99503</th>\n      <td>677462</td>\n      <td>2021-04-02 14:37:56</td>\n      <td>59096.986667</td>\n      <td>59136.686667</td>\n      <td>59088.166667</td>\n      <td>59120.836667</td>\n      <td>2021-04-02 14:37:56</td>\n      <td>16.462023</td>\n      <td>16.298038</td>\n      <td>0.126631</td>\n    </tr>\n    <tr>\n      <th>99504</th>\n      <td>677463</td>\n      <td>2021-04-02 14:45:02</td>\n      <td>59300.853333</td>\n      <td>59320.946667</td>\n      <td>59279.458333</td>\n      <td>59289.063333</td>\n      <td>2021-04-02 14:45:02</td>\n      <td>129.751237</td>\n      <td>127.377511</td>\n      <td>0.690166</td>\n    </tr>\n    <tr>\n      <th>...</th>\n      <td>...</td>\n      <td>...</td>\n      <td>...</td>\n      <td>...</td>\n      <td>...</td>\n      <td>...</td>\n      <td>...</td>\n      <td>...</td>\n      <td>...</td>\n      <td>...</td>\n    </tr>\n    <tr>\n      <th>99995</th>\n      <td>677954</td>\n      <td>2021-04-06 02:03:56</td>\n      <td>58755.023333</td>\n      <td>58780.925000</td>\n      <td>58705.976667</td>\n      <td>58740.426667</td>\n      <td>2021-04-06 02:03:56</td>\n      <td>338.229814</td>\n      <td>336.425901</td>\n      <td>1.363830</td>\n    </tr>\n    <tr>\n      <th>99996</th>\n      <td>677955</td>\n      <td>2021-04-06 02:06:32</td>\n      <td>58729.781667</td>\n      <td>58800.028333</td>\n      <td>58718.980000</td>\n      <td>58771.081667</td>\n      <td>2021-04-06 02:06:32</td>\n      <td>519.873703</td>\n      <td>479.883041</td>\n      <td>2.487434</td>\n    </tr>\n    <tr>\n      <th>99997</th>\n      <td>677956</td>\n      <td>2021-04-06 02:16:47</td>\n      <td>58748.600000</td>\n      <td>58754.286667</td>\n      <td>58730.340000</td>\n      <td>58747.383333</td>\n      <td>2021-04-06 02:16:47</td>\n      <td>625.737379</td>\n      <td>450.932535</td>\n      <td>1.835007</td>\n    </tr>\n    <tr>\n      <th>99998</th>\n      <td>677957</td>\n      <td>2021-04-06 02:17:17</td>\n      <td>58766.046667</td>\n      <td>58804.258333</td>\n      <td>58759.705000</td>\n      <td>58802.185000</td>\n      <td>2021-04-06 02:17:17</td>\n      <td>31.328702</td>\n      <td>31.287258</td>\n      <td>0.204763</td>\n    </tr>\n    <tr>\n      <th>99999</th>\n      <td>677958</td>\n      <td>2021-04-06 02:18:50</td>\n      <td>58811.261667</td>\n      <td>58836.113333</td>\n      <td>58804.178333</td>\n      <td>58834.458333</td>\n      <td>2021-04-06 02:18:50</td>\n      <td>53.329586</td>\n      <td>51.451445</td>\n      <td>0.269341</td>\n    </tr>\n  </tbody>\n</table>\n<p>500 rows × 10 columns</p>\n</div>"
     },
     "metadata": {},
     "execution_count": 131
    }
   ],
   "source": [
    "df_data"
   ]
  },
  {
   "source": [
    "## Test: Inflow changes Price?"
   ],
   "cell_type": "markdown",
   "metadata": {}
  },
  {
   "cell_type": "code",
   "execution_count": 134,
   "metadata": {},
   "outputs": [
    {
     "output_type": "display_data",
     "data": {
      "application/vnd.plotly.v1+json": {
       "config": {
        "plotlyServerURL": "https://plot.ly"
       },
       "data": [
        {
         "name": "price",
         "type": "scatter",
         "x": [
          "2021-04-02 14:35:51",
          "2021-04-02 14:36:10",
          "2021-04-02 14:37:43",
          "2021-04-02 14:37:56",
          "2021-04-02 14:45:02",
          "2021-04-02 15:18:20",
          "2021-04-02 15:34:30",
          "2021-04-02 15:38:30",
          "2021-04-02 15:56:41",
          "2021-04-02 16:03:43",
          "2021-04-02 16:04:07",
          "2021-04-02 16:11:41",
          "2021-04-02 16:17:25",
          "2021-04-02 16:21:49",
          "2021-04-02 16:27:24",
          "2021-04-02 17:02:28",
          "2021-04-02 17:34:11",
          "2021-04-02 17:56:49",
          "2021-04-02 18:13:05",
          "2021-04-02 18:35:23",
          "2021-04-02 18:51:28",
          "2021-04-02 19:17:52",
          "2021-04-02 19:51:25",
          "2021-04-02 19:57:17",
          "2021-04-02 20:18:43",
          "2021-04-02 20:25:21",
          "2021-04-02 20:25:24",
          "2021-04-02 20:30:43",
          "2021-04-02 21:01:29",
          "2021-04-02 21:17:19",
          "2021-04-02 21:21:09",
          "2021-04-02 21:31:29",
          "2021-04-02 21:35:11",
          "2021-04-02 22:01:10",
          "2021-04-02 22:36:06",
          "2021-04-02 22:37:58",
          "2021-04-02 22:43:09",
          "2021-04-02 22:47:50",
          "2021-04-02 23:02:12",
          "2021-04-02 23:08:30",
          "2021-04-02 23:08:37",
          "2021-04-02 23:11:22",
          "2021-04-02 23:15:11",
          "2021-04-02 23:20:44",
          "2021-04-02 23:26:24",
          "2021-04-02 23:32:12",
          "2021-04-02 23:34:59",
          "2021-04-02 23:40:58",
          "2021-04-02 23:50:22",
          "2021-04-03 00:05:13",
          "2021-04-03 00:11:36",
          "2021-04-03 00:43:58",
          "2021-04-03 00:54:24",
          "2021-04-03 00:59:18",
          "2021-04-03 01:02:45",
          "2021-04-03 01:20:51",
          "2021-04-03 01:21:10",
          "2021-04-03 01:22:15",
          "2021-04-03 01:26:36",
          "2021-04-03 01:56:08",
          "2021-04-03 02:22:18",
          "2021-04-03 02:24:25",
          "2021-04-03 02:33:43",
          "2021-04-03 02:36:27",
          "2021-04-03 02:41:18",
          "2021-04-03 03:13:09",
          "2021-04-03 03:15:10",
          "2021-04-03 03:35:26",
          "2021-04-03 03:49:06",
          "2021-04-03 03:53:17",
          "2021-04-03 04:06:29",
          "2021-04-03 04:13:26",
          "2021-04-03 04:17:14",
          "2021-04-03 04:22:18",
          "2021-04-03 04:31:22",
          "2021-04-03 04:47:57",
          "2021-04-03 05:10:10",
          "2021-04-03 05:12:53",
          "2021-04-03 05:39:13",
          "2021-04-03 05:44:36",
          "2021-04-03 06:06:32",
          "2021-04-03 06:16:19",
          "2021-04-03 06:30:27",
          "2021-04-03 06:31:24",
          "2021-04-03 06:32:06",
          "2021-04-03 06:48:21",
          "2021-04-03 06:51:12",
          "2021-04-03 06:52:13",
          "2021-04-03 06:53:34",
          "2021-04-03 06:53:38",
          "2021-04-03 06:53:48",
          "2021-04-03 06:57:06",
          "2021-04-03 07:04:10",
          "2021-04-03 07:10:55",
          "2021-04-03 07:19:44",
          "2021-04-03 07:26:40",
          "2021-04-03 07:29:54",
          "2021-04-03 08:03:29",
          "2021-04-03 08:08:51",
          "2021-04-03 08:18:22",
          "2021-04-03 08:20:05",
          "2021-04-03 08:39:30",
          "2021-04-03 09:19:42",
          "2021-04-03 09:26:55",
          "2021-04-03 09:28:22",
          "2021-04-03 09:51:51",
          "2021-04-03 10:00:38",
          "2021-04-03 10:05:10",
          "2021-04-03 10:08:34",
          "2021-04-03 10:18:50",
          "2021-04-03 10:26:25",
          "2021-04-03 10:30:48",
          "2021-04-03 10:32:13",
          "2021-04-03 10:36:55",
          "2021-04-03 11:14:31",
          "2021-04-03 11:15:03",
          "2021-04-03 11:18:41",
          "2021-04-03 11:26:20",
          "2021-04-03 11:29:57",
          "2021-04-03 11:38:28",
          "2021-04-03 11:50:33",
          "2021-04-03 12:03:14",
          "2021-04-03 12:20:26",
          "2021-04-03 12:35:00",
          "2021-04-03 12:43:10",
          "2021-04-03 12:46:50",
          "2021-04-03 13:01:18",
          "2021-04-03 13:08:30",
          "2021-04-03 13:09:43",
          "2021-04-03 13:59:44",
          "2021-04-03 14:20:37",
          "2021-04-03 14:57:23",
          "2021-04-03 15:23:57",
          "2021-04-03 15:56:09",
          "2021-04-03 15:56:08",
          "2021-04-03 16:16:59",
          "2021-04-03 16:54:25",
          "2021-04-03 16:56:48",
          "2021-04-03 17:19:21",
          "2021-04-03 17:21:17",
          "2021-04-03 17:39:08",
          "2021-04-03 18:09:30",
          "2021-04-03 18:21:09",
          "2021-04-03 18:26:33",
          "2021-04-03 18:28:35",
          "2021-04-03 18:37:42",
          "2021-04-03 18:41:16",
          "2021-04-03 18:43:40",
          "2021-04-03 18:48:28",
          "2021-04-03 18:50:21",
          "2021-04-03 19:35:02",
          "2021-04-03 20:00:14",
          "2021-04-03 20:19:21",
          "2021-04-03 20:24:54",
          "2021-04-03 20:59:13",
          "2021-04-03 21:14:47",
          "2021-04-03 21:16:09",
          "2021-04-03 21:22:27",
          "2021-04-03 21:25:04",
          "2021-04-03 21:30:45",
          "2021-04-03 21:36:46",
          "2021-04-03 21:41:43",
          "2021-04-03 21:41:54",
          "2021-04-03 21:46:20",
          "2021-04-03 22:02:38",
          "2021-04-03 22:09:13",
          "2021-04-03 22:12:41",
          "2021-04-03 22:14:36",
          "2021-04-03 22:15:49",
          "2021-04-03 22:19:24",
          "2021-04-03 22:22:18",
          "2021-04-03 22:30:26",
          "2021-04-03 22:43:44",
          "2021-04-03 22:55:17",
          "2021-04-03 23:10:25",
          "2021-04-03 23:20:22",
          "2021-04-03 23:26:09",
          "2021-04-03 23:37:09",
          "2021-04-03 23:40:57",
          "2021-04-03 23:44:57",
          "2021-04-04 00:09:27",
          "2021-04-04 00:10:55",
          "2021-04-04 00:24:09",
          "2021-04-04 00:25:57",
          "2021-04-04 00:26:29",
          "2021-04-04 00:36:06",
          "2021-04-04 00:43:55",
          "2021-04-04 00:45:28",
          "2021-04-04 00:49:53",
          "2021-04-04 00:55:35",
          "2021-04-04 01:04:59",
          "2021-04-04 01:07:53",
          "2021-04-04 01:08:36",
          "2021-04-04 01:13:15",
          "2021-04-04 01:32:19",
          "2021-04-04 01:32:58",
          "2021-04-04 01:48:17",
          "2021-04-04 01:51:51",
          "2021-04-04 01:56:12",
          "2021-04-04 01:58:05",
          "2021-04-04 02:16:45",
          "2021-04-04 02:30:02",
          "2021-04-04 02:45:49",
          "2021-04-04 02:47:17",
          "2021-04-04 02:48:54",
          "2021-04-04 02:56:54",
          "2021-04-04 03:11:22",
          "2021-04-04 03:15:03",
          "2021-04-04 03:18:06",
          "2021-04-04 03:22:37",
          "2021-04-04 03:30:55",
          "2021-04-04 03:32:54",
          "2021-04-04 03:42:02",
          "2021-04-04 04:20:04",
          "2021-04-04 04:27:29",
          "2021-04-04 04:33:04",
          "2021-04-04 04:42:54",
          "2021-04-04 04:46:25",
          "2021-04-04 04:50:59",
          "2021-04-04 04:58:18",
          "2021-04-04 04:59:55",
          "2021-04-04 05:12:01",
          "2021-04-04 05:14:37",
          "2021-04-04 05:20:35",
          "2021-04-04 05:24:59",
          "2021-04-04 06:00:56",
          "2021-04-04 06:03:32",
          "2021-04-04 06:19:25",
          "2021-04-04 06:20:47",
          "2021-04-04 06:24:25",
          "2021-04-04 06:49:33",
          "2021-04-04 06:57:11",
          "2021-04-04 07:02:28",
          "2021-04-04 07:04:23",
          "2021-04-04 07:05:17",
          "2021-04-04 07:11:00",
          "2021-04-04 07:21:07",
          "2021-04-04 07:39:08",
          "2021-04-04 07:50:24",
          "2021-04-04 07:58:09",
          "2021-04-04 07:58:51",
          "2021-04-04 08:29:59",
          "2021-04-04 08:36:52",
          "2021-04-04 09:35:05",
          "2021-04-04 09:42:24",
          "2021-04-04 09:56:38",
          "2021-04-04 10:05:51",
          "2021-04-04 10:23:30",
          "2021-04-04 10:36:50",
          "2021-04-04 10:44:32",
          "2021-04-04 10:48:36",
          "2021-04-04 10:50:29",
          "2021-04-04 10:58:59",
          "2021-04-04 11:01:27",
          "2021-04-04 11:03:40",
          "2021-04-04 11:22:12",
          "2021-04-04 11:35:08",
          "2021-04-04 11:43:31",
          "2021-04-04 11:47:06",
          "2021-04-04 12:03:03",
          "2021-04-04 12:03:31",
          "2021-04-04 12:13:16",
          "2021-04-04 12:24:53",
          "2021-04-04 12:28:11",
          "2021-04-04 12:45:12",
          "2021-04-04 12:49:05",
          "2021-04-04 13:18:16",
          "2021-04-04 13:22:17",
          "2021-04-04 13:34:55",
          "2021-04-04 13:41:36",
          "2021-04-04 13:46:31",
          "2021-04-04 13:58:10",
          "2021-04-04 14:03:41",
          "2021-04-04 14:06:03",
          "2021-04-04 14:14:53",
          "2021-04-04 14:25:21",
          "2021-04-04 14:26:00",
          "2021-04-04 14:27:57",
          "2021-04-04 14:29:31",
          "2021-04-04 14:37:57",
          "2021-04-04 14:48:45",
          "2021-04-04 15:09:44",
          "2021-04-04 15:22:53",
          "2021-04-04 15:25:06",
          "2021-04-04 15:35:29",
          "2021-04-04 15:40:16",
          "2021-04-04 15:50:29",
          "2021-04-04 16:06:11",
          "2021-04-04 16:39:21",
          "2021-04-04 16:43:52",
          "2021-04-04 16:52:51",
          "2021-04-04 17:01:21",
          "2021-04-04 17:11:07",
          "2021-04-04 17:14:13",
          "2021-04-04 17:16:14",
          "2021-04-04 17:48:06",
          "2021-04-04 18:45:11",
          "2021-04-04 18:50:18",
          "2021-04-04 18:53:11",
          "2021-04-04 19:05:37",
          "2021-04-04 19:09:47",
          "2021-04-04 19:10:20",
          "2021-04-04 19:23:15",
          "2021-04-04 19:23:35",
          "2021-04-04 19:37:12",
          "2021-04-04 19:46:37",
          "2021-04-04 19:46:56",
          "2021-04-04 21:05:24",
          "2021-04-04 21:12:06",
          "2021-04-04 21:16:12",
          "2021-04-04 21:19:16",
          "2021-04-04 21:45:06",
          "2021-04-04 21:46:37",
          "2021-04-04 21:57:37",
          "2021-04-04 22:31:08",
          "2021-04-04 22:32:05",
          "2021-04-04 22:40:21",
          "2021-04-04 22:43:58",
          "2021-04-04 22:47:27",
          "2021-04-04 22:52:38",
          "2021-04-04 22:56:08",
          "2021-04-04 22:57:50",
          "2021-04-04 23:10:58",
          "2021-04-04 23:21:09",
          "2021-04-04 23:28:07",
          "2021-04-04 23:50:42",
          "2021-04-05 00:01:32",
          "2021-04-05 00:05:42",
          "2021-04-05 00:11:35",
          "2021-04-05 00:18:27",
          "2021-04-05 00:28:23",
          "2021-04-05 00:29:48",
          "2021-04-05 00:35:11",
          "2021-04-05 00:37:25",
          "2021-04-05 00:38:45",
          "2021-04-05 00:39:44",
          "2021-04-05 00:42:01",
          "2021-04-05 00:51:35",
          "2021-04-05 00:59:00",
          "2021-04-05 01:01:47",
          "2021-04-05 01:04:23",
          "2021-04-05 01:13:28",
          "2021-04-05 01:23:15",
          "2021-04-05 01:43:43",
          "2021-04-05 01:48:24",
          "2021-04-05 01:56:37",
          "2021-04-05 02:05:12",
          "2021-04-05 02:15:01",
          "2021-04-05 02:29:06",
          "2021-04-05 02:43:39",
          "2021-04-05 02:47:07",
          "2021-04-05 02:52:58",
          "2021-04-05 03:05:05",
          "2021-04-05 03:07:22",
          "2021-04-05 03:12:43",
          "2021-04-05 03:27:13",
          "2021-04-05 03:28:07",
          "2021-04-05 03:40:49",
          "2021-04-05 03:53:54",
          "2021-04-05 04:44:01",
          "2021-04-05 04:46:34",
          "2021-04-05 04:58:22",
          "2021-04-05 05:15:55",
          "2021-04-05 05:25:57",
          "2021-04-05 05:42:26",
          "2021-04-05 05:46:37",
          "2021-04-05 05:52:16",
          "2021-04-05 06:07:41",
          "2021-04-05 06:16:42",
          "2021-04-05 06:21:40",
          "2021-04-05 06:26:08",
          "2021-04-05 06:33:46",
          "2021-04-05 06:36:30",
          "2021-04-05 06:37:04",
          "2021-04-05 06:54:26",
          "2021-04-05 06:57:08",
          "2021-04-05 07:05:38",
          "2021-04-05 07:30:48",
          "2021-04-05 07:32:31",
          "2021-04-05 07:36:16",
          "2021-04-05 07:47:27",
          "2021-04-05 07:53:04",
          "2021-04-05 07:55:20",
          "2021-04-05 08:11:33",
          "2021-04-05 08:29:32",
          "2021-04-05 08:34:10",
          "2021-04-05 08:55:40",
          "2021-04-05 09:05:52",
          "2021-04-05 09:06:43",
          "2021-04-05 09:09:30",
          "2021-04-05 09:19:22",
          "2021-04-05 09:23:24",
          "2021-04-05 09:26:15",
          "2021-04-05 09:35:22",
          "2021-04-05 09:41:55",
          "2021-04-05 10:05:37",
          "2021-04-05 10:23:29",
          "2021-04-05 10:30:54",
          "2021-04-05 10:34:21",
          "2021-04-05 10:44:42",
          "2021-04-05 10:44:43",
          "2021-04-05 11:06:11",
          "2021-04-05 11:08:49",
          "2021-04-05 11:24:54",
          "2021-04-05 11:27:29",
          "2021-04-05 11:42:25",
          "2021-04-05 11:43:16",
          "2021-04-05 11:54:35",
          "2021-04-05 12:03:16",
          "2021-04-05 12:13:55",
          "2021-04-05 12:14:28",
          "2021-04-05 13:05:56",
          "2021-04-05 13:09:34",
          "2021-04-05 13:20:00",
          "2021-04-05 13:25:01",
          "2021-04-05 13:40:33",
          "2021-04-05 13:49:25",
          "2021-04-05 13:55:14",
          "2021-04-05 14:06:28",
          "2021-04-05 14:12:55",
          "2021-04-05 14:14:10",
          "2021-04-05 14:15:49",
          "2021-04-05 14:20:50",
          "2021-04-05 14:30:43",
          "2021-04-05 14:31:57",
          "2021-04-05 14:53:06",
          "2021-04-05 14:59:58",
          "2021-04-05 15:11:41",
          "2021-04-05 15:34:21",
          "2021-04-05 15:36:39",
          "2021-04-05 15:40:36",
          "2021-04-05 15:45:00",
          "2021-04-05 15:59:40",
          "2021-04-05 16:07:00",
          "2021-04-05 16:30:51",
          "2021-04-05 16:32:42",
          "2021-04-05 16:42:24",
          "2021-04-05 16:50:47",
          "2021-04-05 16:57:35",
          "2021-04-05 17:26:01",
          "2021-04-05 17:30:03",
          "2021-04-05 17:34:27",
          "2021-04-05 17:35:51",
          "2021-04-05 17:41:35",
          "2021-04-05 17:47:43",
          "2021-04-05 17:57:16",
          "2021-04-05 17:57:57",
          "2021-04-05 18:07:32",
          "2021-04-05 18:09:32",
          "2021-04-05 18:32:42",
          "2021-04-05 18:35:05",
          "2021-04-05 18:36:51",
          "2021-04-05 19:10:16",
          "2021-04-05 19:16:21",
          "2021-04-05 19:18:44",
          "2021-04-05 19:41:28",
          "2021-04-05 19:44:31",
          "2021-04-05 20:22:24",
          "2021-04-05 20:27:58",
          "2021-04-05 20:33:50",
          "2021-04-05 20:38:19",
          "2021-04-05 20:50:27",
          "2021-04-05 20:54:18",
          "2021-04-05 20:56:26",
          "2021-04-05 21:07:06",
          "2021-04-05 21:17:20",
          "2021-04-05 21:23:18",
          "2021-04-05 21:25:22",
          "2021-04-05 21:26:02",
          "2021-04-05 21:38:28",
          "2021-04-05 21:42:49",
          "2021-04-05 21:43:33",
          "2021-04-05 21:58:08",
          "2021-04-05 22:36:16",
          "2021-04-05 22:43:50",
          "2021-04-05 22:55:03",
          "2021-04-05 22:59:16",
          "2021-04-05 23:17:17",
          "2021-04-05 23:22:44",
          "2021-04-05 23:30:08",
          "2021-04-05 23:41:15",
          "2021-04-05 23:59:09",
          "2021-04-06 00:07:22",
          "2021-04-06 00:16:03",
          "2021-04-06 00:19:53",
          "2021-04-06 00:22:52",
          "2021-04-06 00:29:36",
          "2021-04-06 00:36:46",
          "2021-04-06 00:41:14",
          "2021-04-06 00:47:54",
          "2021-04-06 01:13:16",
          "2021-04-06 01:21:55",
          "2021-04-06 01:28:32",
          "2021-04-06 01:32:37",
          "2021-04-06 01:36:27",
          "2021-04-06 02:03:56",
          "2021-04-06 02:06:32",
          "2021-04-06 02:16:47",
          "2021-04-06 02:17:17",
          "2021-04-06 02:18:50"
         ],
         "xaxis": "x",
         "y": [
          0,
          -20.826666670000122,
          33.31666667000536,
          0,
          168.22666665999714,
          285.90000000000146,
          -68.63999999999942,
          -23.86666666000383,
          -31.55999999999767,
          105.93000000000029,
          -52.33833333999792,
          -78.62000000000262,
          -18.43000000000029,
          -106.46166665999772,
          76.98833332999493,
          -162.17833332999726,
          -12.396666669999831,
          -49.683333330001915,
          76.72333333000279,
          -52.97333333000279,
          -104.91999999999825,
          -280.2266666700016,
          112.3983333300057,
          -24.095000000001164,
          -34.529999999998836,
          -55.46500000000378,
          0,
          -38.26000000000204,
          -209.75,
          -65.85499999999593,
          239.90333334000024,
          21.681666659998882,
          -23.14333333000104,
          4.430000000000291,
          133.02166666999983,
          -23.62833333999879,
          -50.95333332999871,
          68.10333333000017,
          29.083333340000536,
          -16.388333340000827,
          0,
          12.106666669998958,
          -97.09000000000378,
          102.09166666999954,
          113.61500000000524,
          193.641666659998,
          -67.89166665999801,
          -51.94499999999971,
          -22.17500000000291,
          -72.38500000000204,
          237.60833333000483,
          18.729999999995925,
          117.89833332999842,
          88.94833334000577,
          -70.90166667000449,
          18.328333329998713,
          -8.458333329996094,
          -46.474999999998545,
          -20.883333329999004,
          -36.92166667000129,
          -7.851666670001578,
          -30.008333329999004,
          58.02166666999983,
          -50.224999999998545,
          -52.366666670000996,
          191.13999999999942,
          -8.576666670000122,
          -140.875,
          5.641666670002451,
          -15.881666670000413,
          35.95999999999913,
          19.209999999999127,
          9.226666670001578,
          33.90833333000046,
          16.919999999998254,
          75.93000000000029,
          -51.026666660000046,
          30.369999999995343,
          93.86833332999959,
          -5.898333329998422,
          -57.875,
          -28.595000000001164,
          -56.11666666999372,
          -11.098333330002788,
          2.491666659996554,
          6.443333340001118,
          39.5316666600047,
          0.6983333399984986,
          24.993333329999587,
          0,
          0,
          16.85833332999755,
          -50.83833333000075,
          27.123333330004243,
          -36.97333333000279,
          -19.830000000001746,
          30.19666667000274,
          -11.818333340001118,
          -45.95166665999568,
          312.22833333000017,
          33.39999999999418,
          -210.35499999999593,
          -278.93500000000495,
          19.491666670000996,
          -1.8849999999947613,
          6.114999999997963,
          253.19833333000133,
          15.073333329994057,
          -41.171666659996845,
          196.51000000000204,
          -37.791666670003906,
          19.08333333000337,
          7.334999999999127,
          -69.23666665999917,
          -136.64833334000286,
          34.794999999998254,
          -30.281666659997427,
          -95.5116666699978,
          16.96333333000075,
          4.559999999997672,
          -14.653333330003079,
          -15.669999999998254,
          60.88666667000507,
          -101.80166667000594,
          22.231666670006234,
          -55.400000000001455,
          88.45166665999568,
          -74.94499999999971,
          26.74833334000141,
          152.70500000000175,
          -77.50833334000345,
          -110.37166666000121,
          -107.86999999999534,
          -203.63500000000204,
          0,
          96.56999999999971,
          -147.5749999999971,
          -14.941666670005361,
          -267.9799999999959,
          -33.7933333300025,
          -22.076666670000122,
          -209.57999999999447,
          -0.6566666700018686,
          44.61833333999675,
          42.67333332999988,
          -17.798333329999878,
          22.373333330004243,
          -97.55500000000029,
          3.691666669998085,
          43.55000000000291,
          -87.66833334000694,
          313.5933333400026,
          -305.6449999999968,
          -49.3550000000032,
          -128.2966666700013,
          -139.33666666999488,
          -69.62333333000424,
          206.0966666700042,
          -13.459999999999127,
          -1.6600000000034925,
          147.59166666000237,
          -39.16166666000208,
          0,
          -225.93166667000332,
          -503.6999999999971,
          -70.80999999999767,
          158.5199999999968,
          30.93499999999767,
          4.343333330005407,
          89.93999999999505,
          88.74666667000565,
          -340.5416666700039,
          -24.138333329996385,
          217.45499999999447,
          78.67666667000594,
          59.508333329999004,
          -92.69166667000536,
          -546.3333333299961,
          -79.47333333000279,
          139.3283333299987,
          -385.3949999999968,
          34.318333329996676,
          265.7350000000006,
          8.358333340001991,
          7.256666660003248,
          -143.6683333300025,
          110.00499999999738,
          110.58666667000216,
          -6.7966666700012865,
          -290.86333332999493,
          -336.9083333400049,
          -44.65666665999743,
          71.06666666000092,
          169.7616666699978,
          108.9366666700007,
          0,
          197.21833332999813,
          51.294999999998254,
          -81.92499999999563,
          -77.42500000000291,
          195.0466666700013,
          221.13666666000063,
          33.10666666999896,
          -79.1133333300022,
          20.595000000001164,
          77.55833333000191,
          -39.888333329996385,
          26.80500000000029,
          -93.99333334000403,
          -16.531666659997427,
          0.8233333300013328,
          20.68666666999343,
          80.86166666000645,
          147.83666666999488,
          21.599999999998545,
          -85.80999999999767,
          40.52333332999842,
          15.825000000004366,
          -9.735000000000582,
          25.651666669997212,
          39.628333330001624,
          38.74833334000141,
          -40.1050000000032,
          -58.641666669995175,
          -2.444999999999709,
          -40.2216666700042,
          16.723333339999954,
          -246.23833333999937,
          -17.27833333000308,
          -0.5366666699992493,
          161.23166666999896,
          -4.601666669994302,
          48.903333340000245,
          -38.66000000000349,
          -19.135000000002037,
          80.44166666000092,
          -35.05666665999888,
          -82.63333333999617,
          124.93999999999505,
          97.24500000000262,
          0,
          -33.38833333000366,
          101.82166667000274,
          -50.566666669998085,
          43.27166666999983,
          71.00666665999597,
          15.525000000001455,
          -115.98666665999917,
          -28.968333340002573,
          16.226666670001578,
          44.858333330004825,
          42.88333333999617,
          -6.103333339997334,
          91.73666666999634,
          -38.50166666999576,
          7.493333339996752,
          -51.74833334000141,
          -225.60666665999452,
          26.049999999995634,
          -384.41833333999966,
          0,
          411.7633333400008,
          277.31166665999626,
          -52.62333332999697,
          159.16500000000087,
          -31.520000000004075,
          194.42000000000553,
          52.15833333000046,
          -11.720000000001164,
          -37.78666666000208,
          4.193333330003952,
          96.23833332999493,
          89.01833334000548,
          23.188333329999296,
          -104.6866666700007,
          -64.211666660005,
          30.791666659999464,
          22.61833334000403,
          -5.529999999998836,
          -30.474999999998545,
          -21.110000000000582,
          46.518333329993766,
          64.15833333000046,
          69.55000000000291,
          89.68499999999767,
          -250.72999999999593,
          -12.815000000002328,
          -119.9883333300022,
          -49.23333332999755,
          -1.4599999999991269,
          146.58833333000075,
          9.089999999996508,
          67.9366666700007,
          -24.189999999995052,
          11.919999999998254,
          19.45166665999568,
          -150.88499999999476,
          32.25166666999576,
          52.07833332999871,
          62.79500000000553,
          -19.08333333000337,
          4.389999999999418,
          -258.83666667000216,
          0,
          -4.056666659998882,
          28.2300000000032,
          0,
          99.22833333000017,
          75.56833332999668,
          62.35833334000199,
          -35.60833334000199,
          -3.1499999999941792,
          40.586666669994884,
          -8.683333329994639,
          64.09999999999854,
          -5.328333340003155,
          -44.474999999998545,
          13.481666669998958,
          -45.67166667000129,
          -0.4150000000008731,
          -12.735000000000582,
          -6.9466666599983,
          94.98333333000483,
          1.3283333299987135,
          17.621666669998376,
          13.191666669998085,
          43.983333330004825,
          65.24833332999697,
          -237.70166666000296,
          27.280000000006112,
          9.809999999997672,
          5.756666659995972,
          -35.741666659996554,
          11.398333329998422,
          -14.970000000001164,
          -56.604999999995925,
          -29.19499999999971,
          -26.270000000004075,
          -65.55666666999605,
          -99.125,
          -13.560000000004948,
          -1.403333329995803,
          -34.49333332999959,
          80.26166666000063,
          -69.14333333000104,
          -82.35333333000017,
          -102.02333334000286,
          102.53166667000187,
          -39.79833332999988,
          47.404999999998836,
          -20.85833334000199,
          -63.74499999999534,
          -13.61666666000383,
          93.81500000000233,
          -87.13333334000345,
          56.83833334000519,
          35.79000000000087,
          -72.08166667000478,
          -87.7616666699978,
          4.794999999998254,
          12.213333340005192,
          -227.95333334000316,
          -136.4383333299993,
          -98.56833333000395,
          54.470000000001164,
          19.665000000000873,
          -95.47833333999733,
          -7.029999999998836,
          -109.00666666000325,
          -72.66500000000087,
          116.47666666000441,
          191.73833333999937,
          -10.595000000001164,
          5.2033333299987135,
          53.383333329999004,
          -20.45166665999568,
          -151.84833334000723,
          90.58166667000478,
          34.818333329996676,
          -89.8133333299993,
          102.8550000000032,
          -3.443333330003952,
          17.69166666000092,
          -90.83999999999651,
          -193.91333333000512,
          100.87333333000424,
          96.11999999999534,
          -100.60499999999593,
          63.88166667000041,
          130.34166666999954,
          32.47333333000279,
          13.66333332999784,
          134.6949999999997,
          -20.723333330002788,
          11.081666670004779,
          114.5833333299961,
          -79.98500000000058,
          -3.5499999999956344,
          -78.89666666999983,
          43.50333333999879,
          0,
          225.9933333299996,
          -22.96166667000216,
          25.21166667000216,
          -45.003333330001624,
          55.57833332999871,
          26.160000000003492,
          -66.28333333000046,
          228.68499999999767,
          129.58666665999772,
          43.58666667000216,
          -9.751666669995757,
          -92.46833333000541,
          83.258333329999,
          -47.20999999999913,
          4.569999999999709,
          39.71333334000519,
          41.2699999999968,
          243.27500000000146,
          -1.7416666700009955,
          -40.38500000000204,
          -5.576666670000122,
          15.650000000001455,
          446.5599999999977,
          23.8550000000032,
          198.7566666700004,
          105.241666670001,
          -8.223333339999954,
          117.40000000000146,
          -59.0516666600015,
          -36.028333340000245,
          -58.36666666000383,
          16.43000000000029,
          -12.623333340001409,
          124.41166667000653,
          4.476666669994302,
          -20.751666669995757,
          -64.0616666700007,
          -22.31666666000092,
          -126.57166667000274,
          -89.71666666999954,
          -81.133333329999,
          35.008333329999004,
          37.43000000000029,
          110.14166667000245,
          25.525000000001455,
          0,
          92.21166666999488,
          -6.678333339994424,
          -147.3516666600044,
          45.096666659999755,
          21.98166666999896,
          105.64166667000245,
          2.4416666600009194,
          -33.421666659996845,
          -108.30500000000029,
          27.276666660000046,
          104.31833333999384,
          -7.611666669996339,
          21.331666669997503,
          -42.82999999999447,
          -149.66500000000087,
          -51.200000000004366,
          9.988333330002206,
          64.47000000000116,
          -105.85666666999896,
          14.343333339995297,
          9.773333330005698,
          1.4083333299931837,
          -220.17666665999423,
          95.48500000000058,
          7.891666659998009,
          31.936666670000704,
          138.98500000000058,
          4.933333329994639,
          85.81333334000374,
          -38.1783333400017,
          -262.0583333300019,
          50.036666670006525,
          101.18999999999505,
          -71.95999999999913,
          308.3600000000006,
          287.1849999999977,
          25.878333330001624,
          -152.78166667000187,
          -91.80333332999726,
          155.7383333300022,
          -54.10666666000179,
          73.95166665999568,
          -28.601666659997136,
          65.48666665999917,
          -168.7866666599948,
          -125.48500000000058,
          75.87333332999697,
          21.72833333000017,
          -341.0516666600015,
          30.654999999998836,
          -23.6983333399985,
          54.80166666999867,
          32.2733333300057
         ],
         "yaxis": "y"
        },
        {
         "name": "inflow",
         "type": "scatter",
         "x": [
          "2021-04-02 14:35:51",
          "2021-04-02 14:36:10",
          "2021-04-02 14:37:43",
          "2021-04-02 14:37:56",
          "2021-04-02 14:45:02",
          "2021-04-02 15:18:20",
          "2021-04-02 15:34:30",
          "2021-04-02 15:38:30",
          "2021-04-02 15:56:41",
          "2021-04-02 16:03:43",
          "2021-04-02 16:04:07",
          "2021-04-02 16:11:41",
          "2021-04-02 16:17:25",
          "2021-04-02 16:21:49",
          "2021-04-02 16:27:24",
          "2021-04-02 17:02:28",
          "2021-04-02 17:34:11",
          "2021-04-02 17:56:49",
          "2021-04-02 18:13:05",
          "2021-04-02 18:35:23",
          "2021-04-02 18:51:28",
          "2021-04-02 19:17:52",
          "2021-04-02 19:51:25",
          "2021-04-02 19:57:17",
          "2021-04-02 20:18:43",
          "2021-04-02 20:25:21",
          "2021-04-02 20:25:24",
          "2021-04-02 20:30:43",
          "2021-04-02 21:01:29",
          "2021-04-02 21:17:19",
          "2021-04-02 21:21:09",
          "2021-04-02 21:31:29",
          "2021-04-02 21:35:11",
          "2021-04-02 22:01:10",
          "2021-04-02 22:36:06",
          "2021-04-02 22:37:58",
          "2021-04-02 22:43:09",
          "2021-04-02 22:47:50",
          "2021-04-02 23:02:12",
          "2021-04-02 23:08:30",
          "2021-04-02 23:08:37",
          "2021-04-02 23:11:22",
          "2021-04-02 23:15:11",
          "2021-04-02 23:20:44",
          "2021-04-02 23:26:24",
          "2021-04-02 23:32:12",
          "2021-04-02 23:34:59",
          "2021-04-02 23:40:58",
          "2021-04-02 23:50:22",
          "2021-04-03 00:05:13",
          "2021-04-03 00:11:36",
          "2021-04-03 00:43:58",
          "2021-04-03 00:54:24",
          "2021-04-03 00:59:18",
          "2021-04-03 01:02:45",
          "2021-04-03 01:20:51",
          "2021-04-03 01:21:10",
          "2021-04-03 01:22:15",
          "2021-04-03 01:26:36",
          "2021-04-03 01:56:08",
          "2021-04-03 02:22:18",
          "2021-04-03 02:24:25",
          "2021-04-03 02:33:43",
          "2021-04-03 02:36:27",
          "2021-04-03 02:41:18",
          "2021-04-03 03:13:09",
          "2021-04-03 03:15:10",
          "2021-04-03 03:35:26",
          "2021-04-03 03:49:06",
          "2021-04-03 03:53:17",
          "2021-04-03 04:06:29",
          "2021-04-03 04:13:26",
          "2021-04-03 04:17:14",
          "2021-04-03 04:22:18",
          "2021-04-03 04:31:22",
          "2021-04-03 04:47:57",
          "2021-04-03 05:10:10",
          "2021-04-03 05:12:53",
          "2021-04-03 05:39:13",
          "2021-04-03 05:44:36",
          "2021-04-03 06:06:32",
          "2021-04-03 06:16:19",
          "2021-04-03 06:30:27",
          "2021-04-03 06:31:24",
          "2021-04-03 06:32:06",
          "2021-04-03 06:48:21",
          "2021-04-03 06:51:12",
          "2021-04-03 06:52:13",
          "2021-04-03 06:53:34",
          "2021-04-03 06:53:38",
          "2021-04-03 06:53:48",
          "2021-04-03 06:57:06",
          "2021-04-03 07:04:10",
          "2021-04-03 07:10:55",
          "2021-04-03 07:19:44",
          "2021-04-03 07:26:40",
          "2021-04-03 07:29:54",
          "2021-04-03 08:03:29",
          "2021-04-03 08:08:51",
          "2021-04-03 08:18:22",
          "2021-04-03 08:20:05",
          "2021-04-03 08:39:30",
          "2021-04-03 09:19:42",
          "2021-04-03 09:26:55",
          "2021-04-03 09:28:22",
          "2021-04-03 09:51:51",
          "2021-04-03 10:00:38",
          "2021-04-03 10:05:10",
          "2021-04-03 10:08:34",
          "2021-04-03 10:18:50",
          "2021-04-03 10:26:25",
          "2021-04-03 10:30:48",
          "2021-04-03 10:32:13",
          "2021-04-03 10:36:55",
          "2021-04-03 11:14:31",
          "2021-04-03 11:15:03",
          "2021-04-03 11:18:41",
          "2021-04-03 11:26:20",
          "2021-04-03 11:29:57",
          "2021-04-03 11:38:28",
          "2021-04-03 11:50:33",
          "2021-04-03 12:03:14",
          "2021-04-03 12:20:26",
          "2021-04-03 12:35:00",
          "2021-04-03 12:43:10",
          "2021-04-03 12:46:50",
          "2021-04-03 13:01:18",
          "2021-04-03 13:08:30",
          "2021-04-03 13:09:43",
          "2021-04-03 13:59:44",
          "2021-04-03 14:20:37",
          "2021-04-03 14:57:23",
          "2021-04-03 15:23:57",
          "2021-04-03 15:56:09",
          "2021-04-03 15:56:08",
          "2021-04-03 16:16:59",
          "2021-04-03 16:54:25",
          "2021-04-03 16:56:48",
          "2021-04-03 17:19:21",
          "2021-04-03 17:21:17",
          "2021-04-03 17:39:08",
          "2021-04-03 18:09:30",
          "2021-04-03 18:21:09",
          "2021-04-03 18:26:33",
          "2021-04-03 18:28:35",
          "2021-04-03 18:37:42",
          "2021-04-03 18:41:16",
          "2021-04-03 18:43:40",
          "2021-04-03 18:48:28",
          "2021-04-03 18:50:21",
          "2021-04-03 19:35:02",
          "2021-04-03 20:00:14",
          "2021-04-03 20:19:21",
          "2021-04-03 20:24:54",
          "2021-04-03 20:59:13",
          "2021-04-03 21:14:47",
          "2021-04-03 21:16:09",
          "2021-04-03 21:22:27",
          "2021-04-03 21:25:04",
          "2021-04-03 21:30:45",
          "2021-04-03 21:36:46",
          "2021-04-03 21:41:43",
          "2021-04-03 21:41:54",
          "2021-04-03 21:46:20",
          "2021-04-03 22:02:38",
          "2021-04-03 22:09:13",
          "2021-04-03 22:12:41",
          "2021-04-03 22:14:36",
          "2021-04-03 22:15:49",
          "2021-04-03 22:19:24",
          "2021-04-03 22:22:18",
          "2021-04-03 22:30:26",
          "2021-04-03 22:43:44",
          "2021-04-03 22:55:17",
          "2021-04-03 23:10:25",
          "2021-04-03 23:20:22",
          "2021-04-03 23:26:09",
          "2021-04-03 23:37:09",
          "2021-04-03 23:40:57",
          "2021-04-03 23:44:57",
          "2021-04-04 00:09:27",
          "2021-04-04 00:10:55",
          "2021-04-04 00:24:09",
          "2021-04-04 00:25:57",
          "2021-04-04 00:26:29",
          "2021-04-04 00:36:06",
          "2021-04-04 00:43:55",
          "2021-04-04 00:45:28",
          "2021-04-04 00:49:53",
          "2021-04-04 00:55:35",
          "2021-04-04 01:04:59",
          "2021-04-04 01:07:53",
          "2021-04-04 01:08:36",
          "2021-04-04 01:13:15",
          "2021-04-04 01:32:19",
          "2021-04-04 01:32:58",
          "2021-04-04 01:48:17",
          "2021-04-04 01:51:51",
          "2021-04-04 01:56:12",
          "2021-04-04 01:58:05",
          "2021-04-04 02:16:45",
          "2021-04-04 02:30:02",
          "2021-04-04 02:45:49",
          "2021-04-04 02:47:17",
          "2021-04-04 02:48:54",
          "2021-04-04 02:56:54",
          "2021-04-04 03:11:22",
          "2021-04-04 03:15:03",
          "2021-04-04 03:18:06",
          "2021-04-04 03:22:37",
          "2021-04-04 03:30:55",
          "2021-04-04 03:32:54",
          "2021-04-04 03:42:02",
          "2021-04-04 04:20:04",
          "2021-04-04 04:27:29",
          "2021-04-04 04:33:04",
          "2021-04-04 04:42:54",
          "2021-04-04 04:46:25",
          "2021-04-04 04:50:59",
          "2021-04-04 04:58:18",
          "2021-04-04 04:59:55",
          "2021-04-04 05:12:01",
          "2021-04-04 05:14:37",
          "2021-04-04 05:20:35",
          "2021-04-04 05:24:59",
          "2021-04-04 06:00:56",
          "2021-04-04 06:03:32",
          "2021-04-04 06:19:25",
          "2021-04-04 06:20:47",
          "2021-04-04 06:24:25",
          "2021-04-04 06:49:33",
          "2021-04-04 06:57:11",
          "2021-04-04 07:02:28",
          "2021-04-04 07:04:23",
          "2021-04-04 07:05:17",
          "2021-04-04 07:11:00",
          "2021-04-04 07:21:07",
          "2021-04-04 07:39:08",
          "2021-04-04 07:50:24",
          "2021-04-04 07:58:09",
          "2021-04-04 07:58:51",
          "2021-04-04 08:29:59",
          "2021-04-04 08:36:52",
          "2021-04-04 09:35:05",
          "2021-04-04 09:42:24",
          "2021-04-04 09:56:38",
          "2021-04-04 10:05:51",
          "2021-04-04 10:23:30",
          "2021-04-04 10:36:50",
          "2021-04-04 10:44:32",
          "2021-04-04 10:48:36",
          "2021-04-04 10:50:29",
          "2021-04-04 10:58:59",
          "2021-04-04 11:01:27",
          "2021-04-04 11:03:40",
          "2021-04-04 11:22:12",
          "2021-04-04 11:35:08",
          "2021-04-04 11:43:31",
          "2021-04-04 11:47:06",
          "2021-04-04 12:03:03",
          "2021-04-04 12:03:31",
          "2021-04-04 12:13:16",
          "2021-04-04 12:24:53",
          "2021-04-04 12:28:11",
          "2021-04-04 12:45:12",
          "2021-04-04 12:49:05",
          "2021-04-04 13:18:16",
          "2021-04-04 13:22:17",
          "2021-04-04 13:34:55",
          "2021-04-04 13:41:36",
          "2021-04-04 13:46:31",
          "2021-04-04 13:58:10",
          "2021-04-04 14:03:41",
          "2021-04-04 14:06:03",
          "2021-04-04 14:14:53",
          "2021-04-04 14:25:21",
          "2021-04-04 14:26:00",
          "2021-04-04 14:27:57",
          "2021-04-04 14:29:31",
          "2021-04-04 14:37:57",
          "2021-04-04 14:48:45",
          "2021-04-04 15:09:44",
          "2021-04-04 15:22:53",
          "2021-04-04 15:25:06",
          "2021-04-04 15:35:29",
          "2021-04-04 15:40:16",
          "2021-04-04 15:50:29",
          "2021-04-04 16:06:11",
          "2021-04-04 16:39:21",
          "2021-04-04 16:43:52",
          "2021-04-04 16:52:51",
          "2021-04-04 17:01:21",
          "2021-04-04 17:11:07",
          "2021-04-04 17:14:13",
          "2021-04-04 17:16:14",
          "2021-04-04 17:48:06",
          "2021-04-04 18:45:11",
          "2021-04-04 18:50:18",
          "2021-04-04 18:53:11",
          "2021-04-04 19:05:37",
          "2021-04-04 19:09:47",
          "2021-04-04 19:10:20",
          "2021-04-04 19:23:15",
          "2021-04-04 19:23:35",
          "2021-04-04 19:37:12",
          "2021-04-04 19:46:37",
          "2021-04-04 19:46:56",
          "2021-04-04 21:05:24",
          "2021-04-04 21:12:06",
          "2021-04-04 21:16:12",
          "2021-04-04 21:19:16",
          "2021-04-04 21:45:06",
          "2021-04-04 21:46:37",
          "2021-04-04 21:57:37",
          "2021-04-04 22:31:08",
          "2021-04-04 22:32:05",
          "2021-04-04 22:40:21",
          "2021-04-04 22:43:58",
          "2021-04-04 22:47:27",
          "2021-04-04 22:52:38",
          "2021-04-04 22:56:08",
          "2021-04-04 22:57:50",
          "2021-04-04 23:10:58",
          "2021-04-04 23:21:09",
          "2021-04-04 23:28:07",
          "2021-04-04 23:50:42",
          "2021-04-05 00:01:32",
          "2021-04-05 00:05:42",
          "2021-04-05 00:11:35",
          "2021-04-05 00:18:27",
          "2021-04-05 00:28:23",
          "2021-04-05 00:29:48",
          "2021-04-05 00:35:11",
          "2021-04-05 00:37:25",
          "2021-04-05 00:38:45",
          "2021-04-05 00:39:44",
          "2021-04-05 00:42:01",
          "2021-04-05 00:51:35",
          "2021-04-05 00:59:00",
          "2021-04-05 01:01:47",
          "2021-04-05 01:04:23",
          "2021-04-05 01:13:28",
          "2021-04-05 01:23:15",
          "2021-04-05 01:43:43",
          "2021-04-05 01:48:24",
          "2021-04-05 01:56:37",
          "2021-04-05 02:05:12",
          "2021-04-05 02:15:01",
          "2021-04-05 02:29:06",
          "2021-04-05 02:43:39",
          "2021-04-05 02:47:07",
          "2021-04-05 02:52:58",
          "2021-04-05 03:05:05",
          "2021-04-05 03:07:22",
          "2021-04-05 03:12:43",
          "2021-04-05 03:27:13",
          "2021-04-05 03:28:07",
          "2021-04-05 03:40:49",
          "2021-04-05 03:53:54",
          "2021-04-05 04:44:01",
          "2021-04-05 04:46:34",
          "2021-04-05 04:58:22",
          "2021-04-05 05:15:55",
          "2021-04-05 05:25:57",
          "2021-04-05 05:42:26",
          "2021-04-05 05:46:37",
          "2021-04-05 05:52:16",
          "2021-04-05 06:07:41",
          "2021-04-05 06:16:42",
          "2021-04-05 06:21:40",
          "2021-04-05 06:26:08",
          "2021-04-05 06:33:46",
          "2021-04-05 06:36:30",
          "2021-04-05 06:37:04",
          "2021-04-05 06:54:26",
          "2021-04-05 06:57:08",
          "2021-04-05 07:05:38",
          "2021-04-05 07:30:48",
          "2021-04-05 07:32:31",
          "2021-04-05 07:36:16",
          "2021-04-05 07:47:27",
          "2021-04-05 07:53:04",
          "2021-04-05 07:55:20",
          "2021-04-05 08:11:33",
          "2021-04-05 08:29:32",
          "2021-04-05 08:34:10",
          "2021-04-05 08:55:40",
          "2021-04-05 09:05:52",
          "2021-04-05 09:06:43",
          "2021-04-05 09:09:30",
          "2021-04-05 09:19:22",
          "2021-04-05 09:23:24",
          "2021-04-05 09:26:15",
          "2021-04-05 09:35:22",
          "2021-04-05 09:41:55",
          "2021-04-05 10:05:37",
          "2021-04-05 10:23:29",
          "2021-04-05 10:30:54",
          "2021-04-05 10:34:21",
          "2021-04-05 10:44:42",
          "2021-04-05 10:44:43",
          "2021-04-05 11:06:11",
          "2021-04-05 11:08:49",
          "2021-04-05 11:24:54",
          "2021-04-05 11:27:29",
          "2021-04-05 11:42:25",
          "2021-04-05 11:43:16",
          "2021-04-05 11:54:35",
          "2021-04-05 12:03:16",
          "2021-04-05 12:13:55",
          "2021-04-05 12:14:28",
          "2021-04-05 13:05:56",
          "2021-04-05 13:09:34",
          "2021-04-05 13:20:00",
          "2021-04-05 13:25:01",
          "2021-04-05 13:40:33",
          "2021-04-05 13:49:25",
          "2021-04-05 13:55:14",
          "2021-04-05 14:06:28",
          "2021-04-05 14:12:55",
          "2021-04-05 14:14:10",
          "2021-04-05 14:15:49",
          "2021-04-05 14:20:50",
          "2021-04-05 14:30:43",
          "2021-04-05 14:31:57",
          "2021-04-05 14:53:06",
          "2021-04-05 14:59:58",
          "2021-04-05 15:11:41",
          "2021-04-05 15:34:21",
          "2021-04-05 15:36:39",
          "2021-04-05 15:40:36",
          "2021-04-05 15:45:00",
          "2021-04-05 15:59:40",
          "2021-04-05 16:07:00",
          "2021-04-05 16:30:51",
          "2021-04-05 16:32:42",
          "2021-04-05 16:42:24",
          "2021-04-05 16:50:47",
          "2021-04-05 16:57:35",
          "2021-04-05 17:26:01",
          "2021-04-05 17:30:03",
          "2021-04-05 17:34:27",
          "2021-04-05 17:35:51",
          "2021-04-05 17:41:35",
          "2021-04-05 17:47:43",
          "2021-04-05 17:57:16",
          "2021-04-05 17:57:57",
          "2021-04-05 18:07:32",
          "2021-04-05 18:09:32",
          "2021-04-05 18:32:42",
          "2021-04-05 18:35:05",
          "2021-04-05 18:36:51",
          "2021-04-05 19:10:16",
          "2021-04-05 19:16:21",
          "2021-04-05 19:18:44",
          "2021-04-05 19:41:28",
          "2021-04-05 19:44:31",
          "2021-04-05 20:22:24",
          "2021-04-05 20:27:58",
          "2021-04-05 20:33:50",
          "2021-04-05 20:38:19",
          "2021-04-05 20:50:27",
          "2021-04-05 20:54:18",
          "2021-04-05 20:56:26",
          "2021-04-05 21:07:06",
          "2021-04-05 21:17:20",
          "2021-04-05 21:23:18",
          "2021-04-05 21:25:22",
          "2021-04-05 21:26:02",
          "2021-04-05 21:38:28",
          "2021-04-05 21:42:49",
          "2021-04-05 21:43:33",
          "2021-04-05 21:58:08",
          "2021-04-05 22:36:16",
          "2021-04-05 22:43:50",
          "2021-04-05 22:55:03",
          "2021-04-05 22:59:16",
          "2021-04-05 23:17:17",
          "2021-04-05 23:22:44",
          "2021-04-05 23:30:08",
          "2021-04-05 23:41:15",
          "2021-04-05 23:59:09",
          "2021-04-06 00:07:22",
          "2021-04-06 00:16:03",
          "2021-04-06 00:19:53",
          "2021-04-06 00:22:52",
          "2021-04-06 00:29:36",
          "2021-04-06 00:36:46",
          "2021-04-06 00:41:14",
          "2021-04-06 00:47:54",
          "2021-04-06 01:13:16",
          "2021-04-06 01:21:55",
          "2021-04-06 01:28:32",
          "2021-04-06 01:32:37",
          "2021-04-06 01:36:27",
          "2021-04-06 02:03:56",
          "2021-04-06 02:06:32",
          "2021-04-06 02:16:47",
          "2021-04-06 02:17:17",
          "2021-04-06 02:18:50"
         ],
         "xaxis": "x",
         "y": [
          55.2703558,
          89.84357484,
          27.71290164,
          16.46202323,
          129.75123676,
          307.38332055,
          223.86892355,
          109.52173154,
          223.97384675,
          168.59972183,
          57.24130782,
          155.73841321,
          90.31822545,
          719.12661622,
          115.35727526,
          200.90530627,
          756.54865629,
          125.64825442,
          191.68312048,
          282.94917432,
          105.80829433,
          245.48141763,
          345.99635375,
          222.87638824,
          244.66575789,
          116.73953551,
          16.74627085,
          697.50825272,
          263.7820581,
          164.14579019,
          76.6448704,
          231.71510347,
          46.55521646,
          194.95402837,
          754.34296029,
          565.1582523,
          9.20202908,
          759.67390683,
          159.56089366,
          108.42938155,
          43.46196671,
          32.44159851,
          113.10854076,
          46.65806209,
          154.70292661,
          34.46950894,
          580.44382206,
          251.09763889,
          138.96742964,
          75.56780015,
          176.87813703,
          1765.00393693,
          596.42148194,
          621.36598639,
          157.61024905,
          460.71122808,
          64.75229074,
          21.89083884,
          92.70392362,
          267.7012845,
          383.78015448,
          47.64118107,
          1546.43420225,
          192.7845394,
          51.46112806,
          135.18679179,
          373.61844369,
          437.68612269,
          204.83180133,
          98.43213094,
          12.03255252,
          456.52437152,
          31.15292629,
          50.20496988,
          70.36580287,
          216.51225022,
          153.86871968,
          65.43167976,
          162.07305189,
          382.89789324,
          88.80791354,
          425.71464057,
          230.41030082,
          12.88150134,
          0,
          170.07667924,
          213.76637191,
          84.94453953,
          6.90101975,
          0.18439252,
          2.53475896,
          36.14382794,
          50.00048309,
          161.59808923,
          110.56942582,
          109.44327544,
          150.50125714,
          165.00940529,
          23.84918789,
          491.68653751,
          89.87032567,
          328.46818829,
          451.65819733,
          101.24460407,
          86.36015842,
          113.30674187,
          194.07122392,
          4.30663887,
          347.3184422,
          156.23620481,
          97.59709317,
          44.75955352,
          23.04520266,
          47.73283634,
          298.79421325,
          50.46577048,
          27.89235818,
          68.30535313,
          161.57375519,
          455.28675458,
          67.47450433,
          120.56651736,
          455.6525052,
          560.44578534,
          79.18948084,
          33.30622271,
          70.16784054,
          616.25940112,
          82.77776364,
          200.62020957,
          411.20622147,
          270.5956028,
          355.42646402,
          310.20633842,
          39.42519825,
          485.13521276,
          425.58574487,
          73.55063495,
          868.92497564,
          284.71001183,
          271.74497438,
          445.49401767,
          177.75165316,
          372.37981522,
          82.94905414,
          186.32651603,
          63.05872518,
          154.80056716,
          161.17969093,
          171.79092133,
          1171.70050986,
          381.06878902,
          106.10623357,
          241.43666574,
          391.57553039,
          99.08012649,
          70.02066395,
          139.60200595,
          73.8840766,
          31.41614433,
          73.12807557,
          45.77902578,
          29.39297531,
          62.53075391,
          229.40934605,
          1014.1475506,
          159.78666482,
          111.47135083,
          66.24125195,
          47.91824633,
          47.52431695,
          334.8940809,
          134.55313207,
          443.48900969,
          133.38766081,
          150.04354116,
          43.38498263,
          162.1323851,
          76.39776115,
          185.53928737,
          49.91206561,
          373.26356776,
          567.87037254,
          19.01266042,
          4.43134339,
          64.54601149,
          125.77087319,
          0.7806341,
          2.21813899,
          15.41788041,
          321.27397465,
          19.37086196,
          4.3486199,
          243.75624346,
          373.53360799,
          6.69665342,
          530.31554642,
          966.64347626,
          18.25943725,
          41.80852883,
          17.58264124,
          980.93463713,
          272.35111581,
          95.2134029,
          37.08270091,
          140.7413028,
          224.55744748,
          18.46488886,
          54.11084459,
          7.81819003,
          162.33220099,
          6.653492,
          98.84733936,
          156.82181228,
          558.80849363,
          125.80034728,
          98.23831614,
          12.38358949,
          125.24666159,
          38.89266513,
          0.24440664,
          170.82491926,
          284.80164297,
          40.65931707,
          18.76618688,
          195.4413816,
          99.35056347,
          131.78755452,
          11.12195399,
          56.84374535,
          137.26573321,
          69.19070809,
          18.64081173,
          23.46863175,
          1.53462168,
          10.579549,
          150.56790986,
          170.4952152,
          55.60247331,
          30.62557313,
          3.19317925,
          117.60087595,
          588.87960848,
          332.08912728,
          136.09812215,
          301.31807543,
          81.35991803,
          312.7529507,
          402.24340346,
          49.43303414,
          29.51742873,
          9.8614323,
          3315.94039307,
          17.58607129,
          2.29848819,
          91.51557039,
          591.27398853,
          6.76719166,
          16.49806886,
          53.10813522,
          632.97476345,
          218.51263343,
          73.8404662,
          0.91581317,
          55.75193,
          19.18615134,
          161.75694143,
          86.3206568,
          229.04068453,
          71.0791777,
          220.40647195,
          76.79964117,
          8.21097817,
          488.84474243,
          102.57169806,
          116.14990516,
          21.36508148,
          1.84613907,
          1.46294802,
          28.71272149,
          39.83328069,
          150.83919669,
          65.94247206,
          116.1964041,
          275.24631609,
          29.15708146,
          102.05107367,
          14.94410746,
          418.71630422,
          140.61032644,
          197.32823497,
          347.33509855,
          40.86429346,
          37.18991434,
          7.29593769,
          107.21696614,
          287.43125961,
          72.25794555,
          27.3548544,
          521.591427,
          168.47423479,
          23.04669684,
          69.02307837,
          9.05117061,
          68.05778332,
          52.07366375,
          0.73077391,
          206.31465748,
          191.10642321,
          171.70172272,
          419.0810103,
          237.72962823,
          69.45844751,
          58.56362959,
          153.15998373,
          58.04974874,
          622.02780663,
          906.74044383,
          11.33057023,
          9.50066096,
          0.25973299,
          1.12164866,
          148.96053681,
          123.38561131,
          30.75651669,
          240.6815991,
          16.12162851,
          337.99649292,
          156.81612125,
          20.06238081,
          563.43818536,
          2.69193794,
          25.8366007,
          60.41791006,
          15.35535228,
          0.76792215,
          16.72356736,
          193.32621019,
          214.97215754,
          33.25965421,
          61.59974193,
          50.69998475,
          84.73125474,
          377.75217225,
          110.40610927,
          229.8520108,
          1.583935,
          683.90267937,
          98.98899295,
          575.44610479,
          165.84825102,
          126.94481129,
          184.13518725,
          39.92541692,
          8.48359027,
          339.20106321,
          35.80863515,
          55.85890267,
          173.10309615,
          343.5638743,
          8.92853467,
          1209.81018476,
          422.77403285,
          175.21415773,
          220.38744566,
          128.01574983,
          51.12392663,
          25.10481875,
          1043.84314054,
          86.99984973,
          3.63334564,
          54.60310295,
          95.95918827,
          0.04030352,
          161.76004104,
          110.19124515,
          99.80780202,
          245.79509732,
          47.96228209,
          51.98792441,
          104.35082394,
          116.16277567,
          17.84237549,
          53.54940876,
          654.25863109,
          771.33093159,
          276.09582184,
          303.00394378,
          107.14836057,
          71.77193405,
          137.09180556,
          57.08206391,
          12.41310649,
          285.05144242,
          144.10819898,
          138.14096687,
          417.45775128,
          373.85954846,
          87.91273822,
          220.72116452,
          64.8601007,
          239.1120702,
          93.90682385,
          574.50966493,
          61.43704481,
          226.50701872,
          39.35068837,
          75.23826706,
          9.52747709,
          852.60861522,
          91.61629922,
          179.18874527,
          153.80304482,
          271.98338336,
          58.01273114,
          249.0307985,
          406.2175126,
          198.16147001,
          20.21270548,
          228.73890538,
          470.20497775,
          634.03055834,
          142.30355047,
          469.54172442,
          85.46174279,
          313.16223527,
          300.08983717,
          620.68431092,
          260.34603743,
          275.9881349,
          73.24148312,
          277.45922144,
          291.84750836,
          229.52741557,
          796.68754574,
          85.90041767,
          510.94889123,
          521.15460927,
          181.23271665,
          425.78982407,
          226.59919821,
          114.90140485,
          133.93773881,
          214.53440819,
          118.23737352,
          252.40276298,
          42.99605888,
          344.59406058,
          36.37418021,
          1788.05258692,
          321.10454223,
          180.01173512,
          462.87627409,
          353.02407407,
          68.07447516,
          339.00827737,
          317.4617721,
          271.45251656,
          793.02119908,
          227.71707027,
          680.78055564,
          293.20788908,
          30.47962903,
          28.14041343,
          152.67841456,
          294.08625396,
          214.53851013,
          12.6732557,
          1.79669916,
          180.47393702,
          144.73296807,
          6.35699868,
          101.36403785,
          469.98282724,
          143.74723738,
          223.06342794,
          634.98850303,
          192.19878861,
          108.44113251,
          86.95687536,
          168.11045755,
          259.36738308,
          739.49245598,
          547.79748306,
          189.92116314,
          47.86284461,
          71.45255016,
          155.59824671,
          121.32976167,
          170.62914593,
          571.84851686,
          260.82227016,
          468.14136575,
          140.98819068,
          123.79142303,
          338.22981409,
          519.87370334,
          625.73737869,
          31.32870178,
          53.32958649
         ],
         "yaxis": "y2"
        }
       ],
       "layout": {
        "height": 1000,
        "template": {
         "data": {
          "bar": [
           {
            "error_x": {
             "color": "#2a3f5f"
            },
            "error_y": {
             "color": "#2a3f5f"
            },
            "marker": {
             "line": {
              "color": "#E5ECF6",
              "width": 0.5
             }
            },
            "type": "bar"
           }
          ],
          "barpolar": [
           {
            "marker": {
             "line": {
              "color": "#E5ECF6",
              "width": 0.5
             }
            },
            "type": "barpolar"
           }
          ],
          "carpet": [
           {
            "aaxis": {
             "endlinecolor": "#2a3f5f",
             "gridcolor": "white",
             "linecolor": "white",
             "minorgridcolor": "white",
             "startlinecolor": "#2a3f5f"
            },
            "baxis": {
             "endlinecolor": "#2a3f5f",
             "gridcolor": "white",
             "linecolor": "white",
             "minorgridcolor": "white",
             "startlinecolor": "#2a3f5f"
            },
            "type": "carpet"
           }
          ],
          "choropleth": [
           {
            "colorbar": {
             "outlinewidth": 0,
             "ticks": ""
            },
            "type": "choropleth"
           }
          ],
          "contour": [
           {
            "colorbar": {
             "outlinewidth": 0,
             "ticks": ""
            },
            "colorscale": [
             [
              0,
              "#0d0887"
             ],
             [
              0.1111111111111111,
              "#46039f"
             ],
             [
              0.2222222222222222,
              "#7201a8"
             ],
             [
              0.3333333333333333,
              "#9c179e"
             ],
             [
              0.4444444444444444,
              "#bd3786"
             ],
             [
              0.5555555555555556,
              "#d8576b"
             ],
             [
              0.6666666666666666,
              "#ed7953"
             ],
             [
              0.7777777777777778,
              "#fb9f3a"
             ],
             [
              0.8888888888888888,
              "#fdca26"
             ],
             [
              1,
              "#f0f921"
             ]
            ],
            "type": "contour"
           }
          ],
          "contourcarpet": [
           {
            "colorbar": {
             "outlinewidth": 0,
             "ticks": ""
            },
            "type": "contourcarpet"
           }
          ],
          "heatmap": [
           {
            "colorbar": {
             "outlinewidth": 0,
             "ticks": ""
            },
            "colorscale": [
             [
              0,
              "#0d0887"
             ],
             [
              0.1111111111111111,
              "#46039f"
             ],
             [
              0.2222222222222222,
              "#7201a8"
             ],
             [
              0.3333333333333333,
              "#9c179e"
             ],
             [
              0.4444444444444444,
              "#bd3786"
             ],
             [
              0.5555555555555556,
              "#d8576b"
             ],
             [
              0.6666666666666666,
              "#ed7953"
             ],
             [
              0.7777777777777778,
              "#fb9f3a"
             ],
             [
              0.8888888888888888,
              "#fdca26"
             ],
             [
              1,
              "#f0f921"
             ]
            ],
            "type": "heatmap"
           }
          ],
          "heatmapgl": [
           {
            "colorbar": {
             "outlinewidth": 0,
             "ticks": ""
            },
            "colorscale": [
             [
              0,
              "#0d0887"
             ],
             [
              0.1111111111111111,
              "#46039f"
             ],
             [
              0.2222222222222222,
              "#7201a8"
             ],
             [
              0.3333333333333333,
              "#9c179e"
             ],
             [
              0.4444444444444444,
              "#bd3786"
             ],
             [
              0.5555555555555556,
              "#d8576b"
             ],
             [
              0.6666666666666666,
              "#ed7953"
             ],
             [
              0.7777777777777778,
              "#fb9f3a"
             ],
             [
              0.8888888888888888,
              "#fdca26"
             ],
             [
              1,
              "#f0f921"
             ]
            ],
            "type": "heatmapgl"
           }
          ],
          "histogram": [
           {
            "marker": {
             "colorbar": {
              "outlinewidth": 0,
              "ticks": ""
             }
            },
            "type": "histogram"
           }
          ],
          "histogram2d": [
           {
            "colorbar": {
             "outlinewidth": 0,
             "ticks": ""
            },
            "colorscale": [
             [
              0,
              "#0d0887"
             ],
             [
              0.1111111111111111,
              "#46039f"
             ],
             [
              0.2222222222222222,
              "#7201a8"
             ],
             [
              0.3333333333333333,
              "#9c179e"
             ],
             [
              0.4444444444444444,
              "#bd3786"
             ],
             [
              0.5555555555555556,
              "#d8576b"
             ],
             [
              0.6666666666666666,
              "#ed7953"
             ],
             [
              0.7777777777777778,
              "#fb9f3a"
             ],
             [
              0.8888888888888888,
              "#fdca26"
             ],
             [
              1,
              "#f0f921"
             ]
            ],
            "type": "histogram2d"
           }
          ],
          "histogram2dcontour": [
           {
            "colorbar": {
             "outlinewidth": 0,
             "ticks": ""
            },
            "colorscale": [
             [
              0,
              "#0d0887"
             ],
             [
              0.1111111111111111,
              "#46039f"
             ],
             [
              0.2222222222222222,
              "#7201a8"
             ],
             [
              0.3333333333333333,
              "#9c179e"
             ],
             [
              0.4444444444444444,
              "#bd3786"
             ],
             [
              0.5555555555555556,
              "#d8576b"
             ],
             [
              0.6666666666666666,
              "#ed7953"
             ],
             [
              0.7777777777777778,
              "#fb9f3a"
             ],
             [
              0.8888888888888888,
              "#fdca26"
             ],
             [
              1,
              "#f0f921"
             ]
            ],
            "type": "histogram2dcontour"
           }
          ],
          "mesh3d": [
           {
            "colorbar": {
             "outlinewidth": 0,
             "ticks": ""
            },
            "type": "mesh3d"
           }
          ],
          "parcoords": [
           {
            "line": {
             "colorbar": {
              "outlinewidth": 0,
              "ticks": ""
             }
            },
            "type": "parcoords"
           }
          ],
          "pie": [
           {
            "automargin": true,
            "type": "pie"
           }
          ],
          "scatter": [
           {
            "marker": {
             "colorbar": {
              "outlinewidth": 0,
              "ticks": ""
             }
            },
            "type": "scatter"
           }
          ],
          "scatter3d": [
           {
            "line": {
             "colorbar": {
              "outlinewidth": 0,
              "ticks": ""
             }
            },
            "marker": {
             "colorbar": {
              "outlinewidth": 0,
              "ticks": ""
             }
            },
            "type": "scatter3d"
           }
          ],
          "scattercarpet": [
           {
            "marker": {
             "colorbar": {
              "outlinewidth": 0,
              "ticks": ""
             }
            },
            "type": "scattercarpet"
           }
          ],
          "scattergeo": [
           {
            "marker": {
             "colorbar": {
              "outlinewidth": 0,
              "ticks": ""
             }
            },
            "type": "scattergeo"
           }
          ],
          "scattergl": [
           {
            "marker": {
             "colorbar": {
              "outlinewidth": 0,
              "ticks": ""
             }
            },
            "type": "scattergl"
           }
          ],
          "scattermapbox": [
           {
            "marker": {
             "colorbar": {
              "outlinewidth": 0,
              "ticks": ""
             }
            },
            "type": "scattermapbox"
           }
          ],
          "scatterpolar": [
           {
            "marker": {
             "colorbar": {
              "outlinewidth": 0,
              "ticks": ""
             }
            },
            "type": "scatterpolar"
           }
          ],
          "scatterpolargl": [
           {
            "marker": {
             "colorbar": {
              "outlinewidth": 0,
              "ticks": ""
             }
            },
            "type": "scatterpolargl"
           }
          ],
          "scatterternary": [
           {
            "marker": {
             "colorbar": {
              "outlinewidth": 0,
              "ticks": ""
             }
            },
            "type": "scatterternary"
           }
          ],
          "surface": [
           {
            "colorbar": {
             "outlinewidth": 0,
             "ticks": ""
            },
            "colorscale": [
             [
              0,
              "#0d0887"
             ],
             [
              0.1111111111111111,
              "#46039f"
             ],
             [
              0.2222222222222222,
              "#7201a8"
             ],
             [
              0.3333333333333333,
              "#9c179e"
             ],
             [
              0.4444444444444444,
              "#bd3786"
             ],
             [
              0.5555555555555556,
              "#d8576b"
             ],
             [
              0.6666666666666666,
              "#ed7953"
             ],
             [
              0.7777777777777778,
              "#fb9f3a"
             ],
             [
              0.8888888888888888,
              "#fdca26"
             ],
             [
              1,
              "#f0f921"
             ]
            ],
            "type": "surface"
           }
          ],
          "table": [
           {
            "cells": {
             "fill": {
              "color": "#EBF0F8"
             },
             "line": {
              "color": "white"
             }
            },
            "header": {
             "fill": {
              "color": "#C8D4E3"
             },
             "line": {
              "color": "white"
             }
            },
            "type": "table"
           }
          ]
         },
         "layout": {
          "annotationdefaults": {
           "arrowcolor": "#2a3f5f",
           "arrowhead": 0,
           "arrowwidth": 1
          },
          "autotypenumbers": "strict",
          "coloraxis": {
           "colorbar": {
            "outlinewidth": 0,
            "ticks": ""
           }
          },
          "colorscale": {
           "diverging": [
            [
             0,
             "#8e0152"
            ],
            [
             0.1,
             "#c51b7d"
            ],
            [
             0.2,
             "#de77ae"
            ],
            [
             0.3,
             "#f1b6da"
            ],
            [
             0.4,
             "#fde0ef"
            ],
            [
             0.5,
             "#f7f7f7"
            ],
            [
             0.6,
             "#e6f5d0"
            ],
            [
             0.7,
             "#b8e186"
            ],
            [
             0.8,
             "#7fbc41"
            ],
            [
             0.9,
             "#4d9221"
            ],
            [
             1,
             "#276419"
            ]
           ],
           "sequential": [
            [
             0,
             "#0d0887"
            ],
            [
             0.1111111111111111,
             "#46039f"
            ],
            [
             0.2222222222222222,
             "#7201a8"
            ],
            [
             0.3333333333333333,
             "#9c179e"
            ],
            [
             0.4444444444444444,
             "#bd3786"
            ],
            [
             0.5555555555555556,
             "#d8576b"
            ],
            [
             0.6666666666666666,
             "#ed7953"
            ],
            [
             0.7777777777777778,
             "#fb9f3a"
            ],
            [
             0.8888888888888888,
             "#fdca26"
            ],
            [
             1,
             "#f0f921"
            ]
           ],
           "sequentialminus": [
            [
             0,
             "#0d0887"
            ],
            [
             0.1111111111111111,
             "#46039f"
            ],
            [
             0.2222222222222222,
             "#7201a8"
            ],
            [
             0.3333333333333333,
             "#9c179e"
            ],
            [
             0.4444444444444444,
             "#bd3786"
            ],
            [
             0.5555555555555556,
             "#d8576b"
            ],
            [
             0.6666666666666666,
             "#ed7953"
            ],
            [
             0.7777777777777778,
             "#fb9f3a"
            ],
            [
             0.8888888888888888,
             "#fdca26"
            ],
            [
             1,
             "#f0f921"
            ]
           ]
          },
          "colorway": [
           "#636efa",
           "#EF553B",
           "#00cc96",
           "#ab63fa",
           "#FFA15A",
           "#19d3f3",
           "#FF6692",
           "#B6E880",
           "#FF97FF",
           "#FECB52"
          ],
          "font": {
           "color": "#2a3f5f"
          },
          "geo": {
           "bgcolor": "white",
           "lakecolor": "white",
           "landcolor": "#E5ECF6",
           "showlakes": true,
           "showland": true,
           "subunitcolor": "white"
          },
          "hoverlabel": {
           "align": "left"
          },
          "hovermode": "closest",
          "mapbox": {
           "style": "light"
          },
          "paper_bgcolor": "white",
          "plot_bgcolor": "#E5ECF6",
          "polar": {
           "angularaxis": {
            "gridcolor": "white",
            "linecolor": "white",
            "ticks": ""
           },
           "bgcolor": "#E5ECF6",
           "radialaxis": {
            "gridcolor": "white",
            "linecolor": "white",
            "ticks": ""
           }
          },
          "scene": {
           "xaxis": {
            "backgroundcolor": "#E5ECF6",
            "gridcolor": "white",
            "gridwidth": 2,
            "linecolor": "white",
            "showbackground": true,
            "ticks": "",
            "zerolinecolor": "white"
           },
           "yaxis": {
            "backgroundcolor": "#E5ECF6",
            "gridcolor": "white",
            "gridwidth": 2,
            "linecolor": "white",
            "showbackground": true,
            "ticks": "",
            "zerolinecolor": "white"
           },
           "zaxis": {
            "backgroundcolor": "#E5ECF6",
            "gridcolor": "white",
            "gridwidth": 2,
            "linecolor": "white",
            "showbackground": true,
            "ticks": "",
            "zerolinecolor": "white"
           }
          },
          "shapedefaults": {
           "line": {
            "color": "#2a3f5f"
           }
          },
          "ternary": {
           "aaxis": {
            "gridcolor": "white",
            "linecolor": "white",
            "ticks": ""
           },
           "baxis": {
            "gridcolor": "white",
            "linecolor": "white",
            "ticks": ""
           },
           "bgcolor": "#E5ECF6",
           "caxis": {
            "gridcolor": "white",
            "linecolor": "white",
            "ticks": ""
           }
          },
          "title": {
           "x": 0.05
          },
          "xaxis": {
           "automargin": true,
           "gridcolor": "white",
           "linecolor": "white",
           "ticks": "",
           "title": {
            "standoff": 15
           },
           "zerolinecolor": "white",
           "zerolinewidth": 2
          },
          "yaxis": {
           "automargin": true,
           "gridcolor": "white",
           "linecolor": "white",
           "ticks": "",
           "title": {
            "standoff": 15
           },
           "zerolinecolor": "white",
           "zerolinewidth": 2
          }
         }
        },
        "width": 1500,
        "xaxis": {
         "anchor": "y",
         "domain": [
          0,
          0.94
         ]
        },
        "yaxis": {
         "anchor": "x",
         "domain": [
          0,
          1
         ]
        },
        "yaxis2": {
         "anchor": "x",
         "overlaying": "y",
         "side": "right"
        }
       }
      },
      "text/html": "<div>                            <div id=\"4e781f51-fff7-4ac6-abc7-c8123e766091\" class=\"plotly-graph-div\" style=\"height:1000px; width:1500px;\"></div>            <script type=\"text/javascript\">                require([\"plotly\"], function(Plotly) {                    window.PLOTLYENV=window.PLOTLYENV || {};                                    if (document.getElementById(\"4e781f51-fff7-4ac6-abc7-c8123e766091\")) {                    Plotly.newPlot(                        \"4e781f51-fff7-4ac6-abc7-c8123e766091\",                        [{\"name\": \"price\", \"type\": \"scatter\", \"x\": [\"2021-04-02 14:35:51\", \"2021-04-02 14:36:10\", \"2021-04-02 14:37:43\", \"2021-04-02 14:37:56\", \"2021-04-02 14:45:02\", \"2021-04-02 15:18:20\", \"2021-04-02 15:34:30\", \"2021-04-02 15:38:30\", \"2021-04-02 15:56:41\", \"2021-04-02 16:03:43\", \"2021-04-02 16:04:07\", \"2021-04-02 16:11:41\", \"2021-04-02 16:17:25\", \"2021-04-02 16:21:49\", \"2021-04-02 16:27:24\", \"2021-04-02 17:02:28\", \"2021-04-02 17:34:11\", \"2021-04-02 17:56:49\", \"2021-04-02 18:13:05\", \"2021-04-02 18:35:23\", \"2021-04-02 18:51:28\", \"2021-04-02 19:17:52\", \"2021-04-02 19:51:25\", \"2021-04-02 19:57:17\", \"2021-04-02 20:18:43\", \"2021-04-02 20:25:21\", \"2021-04-02 20:25:24\", \"2021-04-02 20:30:43\", \"2021-04-02 21:01:29\", \"2021-04-02 21:17:19\", \"2021-04-02 21:21:09\", \"2021-04-02 21:31:29\", \"2021-04-02 21:35:11\", \"2021-04-02 22:01:10\", \"2021-04-02 22:36:06\", \"2021-04-02 22:37:58\", \"2021-04-02 22:43:09\", \"2021-04-02 22:47:50\", \"2021-04-02 23:02:12\", \"2021-04-02 23:08:30\", \"2021-04-02 23:08:37\", \"2021-04-02 23:11:22\", \"2021-04-02 23:15:11\", \"2021-04-02 23:20:44\", \"2021-04-02 23:26:24\", \"2021-04-02 23:32:12\", \"2021-04-02 23:34:59\", \"2021-04-02 23:40:58\", \"2021-04-02 23:50:22\", \"2021-04-03 00:05:13\", \"2021-04-03 00:11:36\", \"2021-04-03 00:43:58\", \"2021-04-03 00:54:24\", \"2021-04-03 00:59:18\", \"2021-04-03 01:02:45\", \"2021-04-03 01:20:51\", \"2021-04-03 01:21:10\", \"2021-04-03 01:22:15\", \"2021-04-03 01:26:36\", \"2021-04-03 01:56:08\", \"2021-04-03 02:22:18\", \"2021-04-03 02:24:25\", \"2021-04-03 02:33:43\", \"2021-04-03 02:36:27\", \"2021-04-03 02:41:18\", \"2021-04-03 03:13:09\", \"2021-04-03 03:15:10\", \"2021-04-03 03:35:26\", \"2021-04-03 03:49:06\", \"2021-04-03 03:53:17\", \"2021-04-03 04:06:29\", \"2021-04-03 04:13:26\", \"2021-04-03 04:17:14\", \"2021-04-03 04:22:18\", \"2021-04-03 04:31:22\", \"2021-04-03 04:47:57\", \"2021-04-03 05:10:10\", \"2021-04-03 05:12:53\", \"2021-04-03 05:39:13\", \"2021-04-03 05:44:36\", \"2021-04-03 06:06:32\", \"2021-04-03 06:16:19\", \"2021-04-03 06:30:27\", \"2021-04-03 06:31:24\", \"2021-04-03 06:32:06\", \"2021-04-03 06:48:21\", \"2021-04-03 06:51:12\", \"2021-04-03 06:52:13\", \"2021-04-03 06:53:34\", \"2021-04-03 06:53:38\", \"2021-04-03 06:53:48\", \"2021-04-03 06:57:06\", \"2021-04-03 07:04:10\", \"2021-04-03 07:10:55\", \"2021-04-03 07:19:44\", \"2021-04-03 07:26:40\", \"2021-04-03 07:29:54\", \"2021-04-03 08:03:29\", \"2021-04-03 08:08:51\", \"2021-04-03 08:18:22\", \"2021-04-03 08:20:05\", \"2021-04-03 08:39:30\", \"2021-04-03 09:19:42\", \"2021-04-03 09:26:55\", \"2021-04-03 09:28:22\", \"2021-04-03 09:51:51\", \"2021-04-03 10:00:38\", \"2021-04-03 10:05:10\", \"2021-04-03 10:08:34\", \"2021-04-03 10:18:50\", \"2021-04-03 10:26:25\", \"2021-04-03 10:30:48\", \"2021-04-03 10:32:13\", \"2021-04-03 10:36:55\", \"2021-04-03 11:14:31\", \"2021-04-03 11:15:03\", \"2021-04-03 11:18:41\", \"2021-04-03 11:26:20\", \"2021-04-03 11:29:57\", \"2021-04-03 11:38:28\", \"2021-04-03 11:50:33\", \"2021-04-03 12:03:14\", \"2021-04-03 12:20:26\", \"2021-04-03 12:35:00\", \"2021-04-03 12:43:10\", \"2021-04-03 12:46:50\", \"2021-04-03 13:01:18\", \"2021-04-03 13:08:30\", \"2021-04-03 13:09:43\", \"2021-04-03 13:59:44\", \"2021-04-03 14:20:37\", \"2021-04-03 14:57:23\", \"2021-04-03 15:23:57\", \"2021-04-03 15:56:09\", \"2021-04-03 15:56:08\", \"2021-04-03 16:16:59\", \"2021-04-03 16:54:25\", \"2021-04-03 16:56:48\", \"2021-04-03 17:19:21\", \"2021-04-03 17:21:17\", \"2021-04-03 17:39:08\", \"2021-04-03 18:09:30\", \"2021-04-03 18:21:09\", \"2021-04-03 18:26:33\", \"2021-04-03 18:28:35\", \"2021-04-03 18:37:42\", \"2021-04-03 18:41:16\", \"2021-04-03 18:43:40\", \"2021-04-03 18:48:28\", \"2021-04-03 18:50:21\", \"2021-04-03 19:35:02\", \"2021-04-03 20:00:14\", \"2021-04-03 20:19:21\", \"2021-04-03 20:24:54\", \"2021-04-03 20:59:13\", \"2021-04-03 21:14:47\", \"2021-04-03 21:16:09\", \"2021-04-03 21:22:27\", \"2021-04-03 21:25:04\", \"2021-04-03 21:30:45\", \"2021-04-03 21:36:46\", \"2021-04-03 21:41:43\", \"2021-04-03 21:41:54\", \"2021-04-03 21:46:20\", \"2021-04-03 22:02:38\", \"2021-04-03 22:09:13\", \"2021-04-03 22:12:41\", \"2021-04-03 22:14:36\", \"2021-04-03 22:15:49\", \"2021-04-03 22:19:24\", \"2021-04-03 22:22:18\", \"2021-04-03 22:30:26\", \"2021-04-03 22:43:44\", \"2021-04-03 22:55:17\", \"2021-04-03 23:10:25\", \"2021-04-03 23:20:22\", \"2021-04-03 23:26:09\", \"2021-04-03 23:37:09\", \"2021-04-03 23:40:57\", \"2021-04-03 23:44:57\", \"2021-04-04 00:09:27\", \"2021-04-04 00:10:55\", \"2021-04-04 00:24:09\", \"2021-04-04 00:25:57\", \"2021-04-04 00:26:29\", \"2021-04-04 00:36:06\", \"2021-04-04 00:43:55\", \"2021-04-04 00:45:28\", \"2021-04-04 00:49:53\", \"2021-04-04 00:55:35\", \"2021-04-04 01:04:59\", \"2021-04-04 01:07:53\", \"2021-04-04 01:08:36\", \"2021-04-04 01:13:15\", \"2021-04-04 01:32:19\", \"2021-04-04 01:32:58\", \"2021-04-04 01:48:17\", \"2021-04-04 01:51:51\", \"2021-04-04 01:56:12\", \"2021-04-04 01:58:05\", \"2021-04-04 02:16:45\", \"2021-04-04 02:30:02\", \"2021-04-04 02:45:49\", \"2021-04-04 02:47:17\", \"2021-04-04 02:48:54\", \"2021-04-04 02:56:54\", \"2021-04-04 03:11:22\", \"2021-04-04 03:15:03\", \"2021-04-04 03:18:06\", \"2021-04-04 03:22:37\", \"2021-04-04 03:30:55\", \"2021-04-04 03:32:54\", \"2021-04-04 03:42:02\", \"2021-04-04 04:20:04\", \"2021-04-04 04:27:29\", \"2021-04-04 04:33:04\", \"2021-04-04 04:42:54\", \"2021-04-04 04:46:25\", \"2021-04-04 04:50:59\", \"2021-04-04 04:58:18\", \"2021-04-04 04:59:55\", \"2021-04-04 05:12:01\", \"2021-04-04 05:14:37\", \"2021-04-04 05:20:35\", \"2021-04-04 05:24:59\", \"2021-04-04 06:00:56\", \"2021-04-04 06:03:32\", \"2021-04-04 06:19:25\", \"2021-04-04 06:20:47\", \"2021-04-04 06:24:25\", \"2021-04-04 06:49:33\", \"2021-04-04 06:57:11\", \"2021-04-04 07:02:28\", \"2021-04-04 07:04:23\", \"2021-04-04 07:05:17\", \"2021-04-04 07:11:00\", \"2021-04-04 07:21:07\", \"2021-04-04 07:39:08\", \"2021-04-04 07:50:24\", \"2021-04-04 07:58:09\", \"2021-04-04 07:58:51\", \"2021-04-04 08:29:59\", \"2021-04-04 08:36:52\", \"2021-04-04 09:35:05\", \"2021-04-04 09:42:24\", \"2021-04-04 09:56:38\", \"2021-04-04 10:05:51\", \"2021-04-04 10:23:30\", \"2021-04-04 10:36:50\", \"2021-04-04 10:44:32\", \"2021-04-04 10:48:36\", \"2021-04-04 10:50:29\", \"2021-04-04 10:58:59\", \"2021-04-04 11:01:27\", \"2021-04-04 11:03:40\", \"2021-04-04 11:22:12\", \"2021-04-04 11:35:08\", \"2021-04-04 11:43:31\", \"2021-04-04 11:47:06\", \"2021-04-04 12:03:03\", \"2021-04-04 12:03:31\", \"2021-04-04 12:13:16\", \"2021-04-04 12:24:53\", \"2021-04-04 12:28:11\", \"2021-04-04 12:45:12\", \"2021-04-04 12:49:05\", \"2021-04-04 13:18:16\", \"2021-04-04 13:22:17\", \"2021-04-04 13:34:55\", \"2021-04-04 13:41:36\", \"2021-04-04 13:46:31\", \"2021-04-04 13:58:10\", \"2021-04-04 14:03:41\", \"2021-04-04 14:06:03\", \"2021-04-04 14:14:53\", \"2021-04-04 14:25:21\", \"2021-04-04 14:26:00\", \"2021-04-04 14:27:57\", \"2021-04-04 14:29:31\", \"2021-04-04 14:37:57\", \"2021-04-04 14:48:45\", \"2021-04-04 15:09:44\", \"2021-04-04 15:22:53\", \"2021-04-04 15:25:06\", \"2021-04-04 15:35:29\", \"2021-04-04 15:40:16\", \"2021-04-04 15:50:29\", \"2021-04-04 16:06:11\", \"2021-04-04 16:39:21\", \"2021-04-04 16:43:52\", \"2021-04-04 16:52:51\", \"2021-04-04 17:01:21\", \"2021-04-04 17:11:07\", \"2021-04-04 17:14:13\", \"2021-04-04 17:16:14\", \"2021-04-04 17:48:06\", \"2021-04-04 18:45:11\", \"2021-04-04 18:50:18\", \"2021-04-04 18:53:11\", \"2021-04-04 19:05:37\", \"2021-04-04 19:09:47\", \"2021-04-04 19:10:20\", \"2021-04-04 19:23:15\", \"2021-04-04 19:23:35\", \"2021-04-04 19:37:12\", \"2021-04-04 19:46:37\", \"2021-04-04 19:46:56\", \"2021-04-04 21:05:24\", \"2021-04-04 21:12:06\", \"2021-04-04 21:16:12\", \"2021-04-04 21:19:16\", \"2021-04-04 21:45:06\", \"2021-04-04 21:46:37\", \"2021-04-04 21:57:37\", \"2021-04-04 22:31:08\", \"2021-04-04 22:32:05\", \"2021-04-04 22:40:21\", \"2021-04-04 22:43:58\", \"2021-04-04 22:47:27\", \"2021-04-04 22:52:38\", \"2021-04-04 22:56:08\", \"2021-04-04 22:57:50\", \"2021-04-04 23:10:58\", \"2021-04-04 23:21:09\", \"2021-04-04 23:28:07\", \"2021-04-04 23:50:42\", \"2021-04-05 00:01:32\", \"2021-04-05 00:05:42\", \"2021-04-05 00:11:35\", \"2021-04-05 00:18:27\", \"2021-04-05 00:28:23\", \"2021-04-05 00:29:48\", \"2021-04-05 00:35:11\", \"2021-04-05 00:37:25\", \"2021-04-05 00:38:45\", \"2021-04-05 00:39:44\", \"2021-04-05 00:42:01\", \"2021-04-05 00:51:35\", \"2021-04-05 00:59:00\", \"2021-04-05 01:01:47\", \"2021-04-05 01:04:23\", \"2021-04-05 01:13:28\", \"2021-04-05 01:23:15\", \"2021-04-05 01:43:43\", \"2021-04-05 01:48:24\", \"2021-04-05 01:56:37\", \"2021-04-05 02:05:12\", \"2021-04-05 02:15:01\", \"2021-04-05 02:29:06\", \"2021-04-05 02:43:39\", \"2021-04-05 02:47:07\", \"2021-04-05 02:52:58\", \"2021-04-05 03:05:05\", \"2021-04-05 03:07:22\", \"2021-04-05 03:12:43\", \"2021-04-05 03:27:13\", \"2021-04-05 03:28:07\", \"2021-04-05 03:40:49\", \"2021-04-05 03:53:54\", \"2021-04-05 04:44:01\", \"2021-04-05 04:46:34\", \"2021-04-05 04:58:22\", \"2021-04-05 05:15:55\", \"2021-04-05 05:25:57\", \"2021-04-05 05:42:26\", \"2021-04-05 05:46:37\", \"2021-04-05 05:52:16\", \"2021-04-05 06:07:41\", \"2021-04-05 06:16:42\", \"2021-04-05 06:21:40\", \"2021-04-05 06:26:08\", \"2021-04-05 06:33:46\", \"2021-04-05 06:36:30\", \"2021-04-05 06:37:04\", \"2021-04-05 06:54:26\", \"2021-04-05 06:57:08\", \"2021-04-05 07:05:38\", \"2021-04-05 07:30:48\", \"2021-04-05 07:32:31\", \"2021-04-05 07:36:16\", \"2021-04-05 07:47:27\", \"2021-04-05 07:53:04\", \"2021-04-05 07:55:20\", \"2021-04-05 08:11:33\", \"2021-04-05 08:29:32\", \"2021-04-05 08:34:10\", \"2021-04-05 08:55:40\", \"2021-04-05 09:05:52\", \"2021-04-05 09:06:43\", \"2021-04-05 09:09:30\", \"2021-04-05 09:19:22\", \"2021-04-05 09:23:24\", \"2021-04-05 09:26:15\", \"2021-04-05 09:35:22\", \"2021-04-05 09:41:55\", \"2021-04-05 10:05:37\", \"2021-04-05 10:23:29\", \"2021-04-05 10:30:54\", \"2021-04-05 10:34:21\", \"2021-04-05 10:44:42\", \"2021-04-05 10:44:43\", \"2021-04-05 11:06:11\", \"2021-04-05 11:08:49\", \"2021-04-05 11:24:54\", \"2021-04-05 11:27:29\", \"2021-04-05 11:42:25\", \"2021-04-05 11:43:16\", \"2021-04-05 11:54:35\", \"2021-04-05 12:03:16\", \"2021-04-05 12:13:55\", \"2021-04-05 12:14:28\", \"2021-04-05 13:05:56\", \"2021-04-05 13:09:34\", \"2021-04-05 13:20:00\", \"2021-04-05 13:25:01\", \"2021-04-05 13:40:33\", \"2021-04-05 13:49:25\", \"2021-04-05 13:55:14\", \"2021-04-05 14:06:28\", \"2021-04-05 14:12:55\", \"2021-04-05 14:14:10\", \"2021-04-05 14:15:49\", \"2021-04-05 14:20:50\", \"2021-04-05 14:30:43\", \"2021-04-05 14:31:57\", \"2021-04-05 14:53:06\", \"2021-04-05 14:59:58\", \"2021-04-05 15:11:41\", \"2021-04-05 15:34:21\", \"2021-04-05 15:36:39\", \"2021-04-05 15:40:36\", \"2021-04-05 15:45:00\", \"2021-04-05 15:59:40\", \"2021-04-05 16:07:00\", \"2021-04-05 16:30:51\", \"2021-04-05 16:32:42\", \"2021-04-05 16:42:24\", \"2021-04-05 16:50:47\", \"2021-04-05 16:57:35\", \"2021-04-05 17:26:01\", \"2021-04-05 17:30:03\", \"2021-04-05 17:34:27\", \"2021-04-05 17:35:51\", \"2021-04-05 17:41:35\", \"2021-04-05 17:47:43\", \"2021-04-05 17:57:16\", \"2021-04-05 17:57:57\", \"2021-04-05 18:07:32\", \"2021-04-05 18:09:32\", \"2021-04-05 18:32:42\", \"2021-04-05 18:35:05\", \"2021-04-05 18:36:51\", \"2021-04-05 19:10:16\", \"2021-04-05 19:16:21\", \"2021-04-05 19:18:44\", \"2021-04-05 19:41:28\", \"2021-04-05 19:44:31\", \"2021-04-05 20:22:24\", \"2021-04-05 20:27:58\", \"2021-04-05 20:33:50\", \"2021-04-05 20:38:19\", \"2021-04-05 20:50:27\", \"2021-04-05 20:54:18\", \"2021-04-05 20:56:26\", \"2021-04-05 21:07:06\", \"2021-04-05 21:17:20\", \"2021-04-05 21:23:18\", \"2021-04-05 21:25:22\", \"2021-04-05 21:26:02\", \"2021-04-05 21:38:28\", \"2021-04-05 21:42:49\", \"2021-04-05 21:43:33\", \"2021-04-05 21:58:08\", \"2021-04-05 22:36:16\", \"2021-04-05 22:43:50\", \"2021-04-05 22:55:03\", \"2021-04-05 22:59:16\", \"2021-04-05 23:17:17\", \"2021-04-05 23:22:44\", \"2021-04-05 23:30:08\", \"2021-04-05 23:41:15\", \"2021-04-05 23:59:09\", \"2021-04-06 00:07:22\", \"2021-04-06 00:16:03\", \"2021-04-06 00:19:53\", \"2021-04-06 00:22:52\", \"2021-04-06 00:29:36\", \"2021-04-06 00:36:46\", \"2021-04-06 00:41:14\", \"2021-04-06 00:47:54\", \"2021-04-06 01:13:16\", \"2021-04-06 01:21:55\", \"2021-04-06 01:28:32\", \"2021-04-06 01:32:37\", \"2021-04-06 01:36:27\", \"2021-04-06 02:03:56\", \"2021-04-06 02:06:32\", \"2021-04-06 02:16:47\", \"2021-04-06 02:17:17\", \"2021-04-06 02:18:50\"], \"xaxis\": \"x\", \"y\": [0.0, -20.826666670000122, 33.31666667000536, 0.0, 168.22666665999714, 285.90000000000146, -68.63999999999942, -23.86666666000383, -31.55999999999767, 105.93000000000029, -52.33833333999792, -78.62000000000262, -18.43000000000029, -106.46166665999772, 76.98833332999493, -162.17833332999726, -12.396666669999831, -49.683333330001915, 76.72333333000279, -52.97333333000279, -104.91999999999825, -280.2266666700016, 112.3983333300057, -24.095000000001164, -34.529999999998836, -55.46500000000378, 0.0, -38.26000000000204, -209.75, -65.85499999999593, 239.90333334000024, 21.681666659998882, -23.14333333000104, 4.430000000000291, 133.02166666999983, -23.62833333999879, -50.95333332999871, 68.10333333000017, 29.083333340000536, -16.388333340000827, 0.0, 12.106666669998958, -97.09000000000378, 102.09166666999954, 113.61500000000524, 193.641666659998, -67.89166665999801, -51.94499999999971, -22.17500000000291, -72.38500000000204, 237.60833333000483, 18.729999999995925, 117.89833332999842, 88.94833334000577, -70.90166667000449, 18.328333329998713, -8.458333329996094, -46.474999999998545, -20.883333329999004, -36.92166667000129, -7.851666670001578, -30.008333329999004, 58.02166666999983, -50.224999999998545, -52.366666670000996, 191.13999999999942, -8.576666670000122, -140.875, 5.641666670002451, -15.881666670000413, 35.95999999999913, 19.209999999999127, 9.226666670001578, 33.90833333000046, 16.919999999998254, 75.93000000000029, -51.026666660000046, 30.369999999995343, 93.86833332999959, -5.898333329998422, -57.875, -28.595000000001164, -56.11666666999372, -11.098333330002788, 2.491666659996554, 6.443333340001118, 39.5316666600047, 0.6983333399984986, 24.993333329999587, 0.0, 0.0, 16.85833332999755, -50.83833333000075, 27.123333330004243, -36.97333333000279, -19.830000000001746, 30.19666667000274, -11.818333340001118, -45.95166665999568, 312.22833333000017, 33.39999999999418, -210.35499999999593, -278.93500000000495, 19.491666670000996, -1.8849999999947613, 6.114999999997963, 253.19833333000133, 15.073333329994057, -41.171666659996845, 196.51000000000204, -37.791666670003906, 19.08333333000337, 7.334999999999127, -69.23666665999917, -136.64833334000286, 34.794999999998254, -30.281666659997427, -95.5116666699978, 16.96333333000075, 4.559999999997672, -14.653333330003079, -15.669999999998254, 60.88666667000507, -101.80166667000594, 22.231666670006234, -55.400000000001455, 88.45166665999568, -74.94499999999971, 26.74833334000141, 152.70500000000175, -77.50833334000345, -110.37166666000121, -107.86999999999534, -203.63500000000204, 0.0, 96.56999999999971, -147.5749999999971, -14.941666670005361, -267.9799999999959, -33.7933333300025, -22.076666670000122, -209.57999999999447, -0.6566666700018686, 44.61833333999675, 42.67333332999988, -17.798333329999878, 22.373333330004243, -97.55500000000029, 3.691666669998085, 43.55000000000291, -87.66833334000694, 313.5933333400026, -305.6449999999968, -49.3550000000032, -128.2966666700013, -139.33666666999488, -69.62333333000424, 206.0966666700042, -13.459999999999127, -1.6600000000034925, 147.59166666000237, -39.16166666000208, 0.0, -225.93166667000332, -503.6999999999971, -70.80999999999767, 158.5199999999968, 30.93499999999767, 4.343333330005407, 89.93999999999505, 88.74666667000565, -340.5416666700039, -24.138333329996385, 217.45499999999447, 78.67666667000594, 59.508333329999004, -92.69166667000536, -546.3333333299961, -79.47333333000279, 139.3283333299987, -385.3949999999968, 34.318333329996676, 265.7350000000006, 8.358333340001991, 7.256666660003248, -143.6683333300025, 110.00499999999738, 110.58666667000216, -6.7966666700012865, -290.86333332999493, -336.9083333400049, -44.65666665999743, 71.06666666000092, 169.7616666699978, 108.9366666700007, 0.0, 197.21833332999813, 51.294999999998254, -81.92499999999563, -77.42500000000291, 195.0466666700013, 221.13666666000063, 33.10666666999896, -79.1133333300022, 20.595000000001164, 77.55833333000191, -39.888333329996385, 26.80500000000029, -93.99333334000403, -16.531666659997427, 0.8233333300013328, 20.68666666999343, 80.86166666000645, 147.83666666999488, 21.599999999998545, -85.80999999999767, 40.52333332999842, 15.825000000004366, -9.735000000000582, 25.651666669997212, 39.628333330001624, 38.74833334000141, -40.1050000000032, -58.641666669995175, -2.444999999999709, -40.2216666700042, 16.723333339999954, -246.23833333999937, -17.27833333000308, -0.5366666699992493, 161.23166666999896, -4.601666669994302, 48.903333340000245, -38.66000000000349, -19.135000000002037, 80.44166666000092, -35.05666665999888, -82.63333333999617, 124.93999999999505, 97.24500000000262, 0.0, -33.38833333000366, 101.82166667000274, -50.566666669998085, 43.27166666999983, 71.00666665999597, 15.525000000001455, -115.98666665999917, -28.968333340002573, 16.226666670001578, 44.858333330004825, 42.88333333999617, -6.103333339997334, 91.73666666999634, -38.50166666999576, 7.493333339996752, -51.74833334000141, -225.60666665999452, 26.049999999995634, -384.41833333999966, 0.0, 411.7633333400008, 277.31166665999626, -52.62333332999697, 159.16500000000087, -31.520000000004075, 194.42000000000553, 52.15833333000046, -11.720000000001164, -37.78666666000208, 4.193333330003952, 96.23833332999493, 89.01833334000548, 23.188333329999296, -104.6866666700007, -64.211666660005, 30.791666659999464, 22.61833334000403, -5.529999999998836, -30.474999999998545, -21.110000000000582, 46.518333329993766, 64.15833333000046, 69.55000000000291, 89.68499999999767, -250.72999999999593, -12.815000000002328, -119.9883333300022, -49.23333332999755, -1.4599999999991269, 146.58833333000075, 9.089999999996508, 67.9366666700007, -24.189999999995052, 11.919999999998254, 19.45166665999568, -150.88499999999476, 32.25166666999576, 52.07833332999871, 62.79500000000553, -19.08333333000337, 4.389999999999418, -258.83666667000216, 0.0, -4.056666659998882, 28.2300000000032, 0.0, 99.22833333000017, 75.56833332999668, 62.35833334000199, -35.60833334000199, -3.1499999999941792, 40.586666669994884, -8.683333329994639, 64.09999999999854, -5.328333340003155, -44.474999999998545, 13.481666669998958, -45.67166667000129, -0.4150000000008731, -12.735000000000582, -6.9466666599983, 94.98333333000483, 1.3283333299987135, 17.621666669998376, 13.191666669998085, 43.983333330004825, 65.24833332999697, -237.70166666000296, 27.280000000006112, 9.809999999997672, 5.756666659995972, -35.741666659996554, 11.398333329998422, -14.970000000001164, -56.604999999995925, -29.19499999999971, -26.270000000004075, -65.55666666999605, -99.125, -13.560000000004948, -1.403333329995803, -34.49333332999959, 80.26166666000063, -69.14333333000104, -82.35333333000017, -102.02333334000286, 102.53166667000187, -39.79833332999988, 47.404999999998836, -20.85833334000199, -63.74499999999534, -13.61666666000383, 93.81500000000233, -87.13333334000345, 56.83833334000519, 35.79000000000087, -72.08166667000478, -87.7616666699978, 4.794999999998254, 12.213333340005192, -227.95333334000316, -136.4383333299993, -98.56833333000395, 54.470000000001164, 19.665000000000873, -95.47833333999733, -7.029999999998836, -109.00666666000325, -72.66500000000087, 116.47666666000441, 191.73833333999937, -10.595000000001164, 5.2033333299987135, 53.383333329999004, -20.45166665999568, -151.84833334000723, 90.58166667000478, 34.818333329996676, -89.8133333299993, 102.8550000000032, -3.443333330003952, 17.69166666000092, -90.83999999999651, -193.91333333000512, 100.87333333000424, 96.11999999999534, -100.60499999999593, 63.88166667000041, 130.34166666999954, 32.47333333000279, 13.66333332999784, 134.6949999999997, -20.723333330002788, 11.081666670004779, 114.5833333299961, -79.98500000000058, -3.5499999999956344, -78.89666666999983, 43.50333333999879, 0.0, 225.9933333299996, -22.96166667000216, 25.21166667000216, -45.003333330001624, 55.57833332999871, 26.160000000003492, -66.28333333000046, 228.68499999999767, 129.58666665999772, 43.58666667000216, -9.751666669995757, -92.46833333000541, 83.258333329999, -47.20999999999913, 4.569999999999709, 39.71333334000519, 41.2699999999968, 243.27500000000146, -1.7416666700009955, -40.38500000000204, -5.576666670000122, 15.650000000001455, 446.5599999999977, 23.8550000000032, 198.7566666700004, 105.241666670001, -8.223333339999954, 117.40000000000146, -59.0516666600015, -36.028333340000245, -58.36666666000383, 16.43000000000029, -12.623333340001409, 124.41166667000653, 4.476666669994302, -20.751666669995757, -64.0616666700007, -22.31666666000092, -126.57166667000274, -89.71666666999954, -81.133333329999, 35.008333329999004, 37.43000000000029, 110.14166667000245, 25.525000000001455, 0.0, 92.21166666999488, -6.678333339994424, -147.3516666600044, 45.096666659999755, 21.98166666999896, 105.64166667000245, 2.4416666600009194, -33.421666659996845, -108.30500000000029, 27.276666660000046, 104.31833333999384, -7.611666669996339, 21.331666669997503, -42.82999999999447, -149.66500000000087, -51.200000000004366, 9.988333330002206, 64.47000000000116, -105.85666666999896, 14.343333339995297, 9.773333330005698, 1.4083333299931837, -220.17666665999423, 95.48500000000058, 7.891666659998009, 31.936666670000704, 138.98500000000058, 4.933333329994639, 85.81333334000374, -38.1783333400017, -262.0583333300019, 50.036666670006525, 101.18999999999505, -71.95999999999913, 308.3600000000006, 287.1849999999977, 25.878333330001624, -152.78166667000187, -91.80333332999726, 155.7383333300022, -54.10666666000179, 73.95166665999568, -28.601666659997136, 65.48666665999917, -168.7866666599948, -125.48500000000058, 75.87333332999697, 21.72833333000017, -341.0516666600015, 30.654999999998836, -23.6983333399985, 54.80166666999867, 32.2733333300057], \"yaxis\": \"y\"}, {\"name\": \"inflow\", \"type\": \"scatter\", \"x\": [\"2021-04-02 14:35:51\", \"2021-04-02 14:36:10\", \"2021-04-02 14:37:43\", \"2021-04-02 14:37:56\", \"2021-04-02 14:45:02\", \"2021-04-02 15:18:20\", \"2021-04-02 15:34:30\", \"2021-04-02 15:38:30\", \"2021-04-02 15:56:41\", \"2021-04-02 16:03:43\", \"2021-04-02 16:04:07\", \"2021-04-02 16:11:41\", \"2021-04-02 16:17:25\", \"2021-04-02 16:21:49\", \"2021-04-02 16:27:24\", \"2021-04-02 17:02:28\", \"2021-04-02 17:34:11\", \"2021-04-02 17:56:49\", \"2021-04-02 18:13:05\", \"2021-04-02 18:35:23\", \"2021-04-02 18:51:28\", \"2021-04-02 19:17:52\", \"2021-04-02 19:51:25\", \"2021-04-02 19:57:17\", \"2021-04-02 20:18:43\", \"2021-04-02 20:25:21\", \"2021-04-02 20:25:24\", \"2021-04-02 20:30:43\", \"2021-04-02 21:01:29\", \"2021-04-02 21:17:19\", \"2021-04-02 21:21:09\", \"2021-04-02 21:31:29\", \"2021-04-02 21:35:11\", \"2021-04-02 22:01:10\", \"2021-04-02 22:36:06\", \"2021-04-02 22:37:58\", \"2021-04-02 22:43:09\", \"2021-04-02 22:47:50\", \"2021-04-02 23:02:12\", \"2021-04-02 23:08:30\", \"2021-04-02 23:08:37\", \"2021-04-02 23:11:22\", \"2021-04-02 23:15:11\", \"2021-04-02 23:20:44\", \"2021-04-02 23:26:24\", \"2021-04-02 23:32:12\", \"2021-04-02 23:34:59\", \"2021-04-02 23:40:58\", \"2021-04-02 23:50:22\", \"2021-04-03 00:05:13\", \"2021-04-03 00:11:36\", \"2021-04-03 00:43:58\", \"2021-04-03 00:54:24\", \"2021-04-03 00:59:18\", \"2021-04-03 01:02:45\", \"2021-04-03 01:20:51\", \"2021-04-03 01:21:10\", \"2021-04-03 01:22:15\", \"2021-04-03 01:26:36\", \"2021-04-03 01:56:08\", \"2021-04-03 02:22:18\", \"2021-04-03 02:24:25\", \"2021-04-03 02:33:43\", \"2021-04-03 02:36:27\", \"2021-04-03 02:41:18\", \"2021-04-03 03:13:09\", \"2021-04-03 03:15:10\", \"2021-04-03 03:35:26\", \"2021-04-03 03:49:06\", \"2021-04-03 03:53:17\", \"2021-04-03 04:06:29\", \"2021-04-03 04:13:26\", \"2021-04-03 04:17:14\", \"2021-04-03 04:22:18\", \"2021-04-03 04:31:22\", \"2021-04-03 04:47:57\", \"2021-04-03 05:10:10\", \"2021-04-03 05:12:53\", \"2021-04-03 05:39:13\", \"2021-04-03 05:44:36\", \"2021-04-03 06:06:32\", \"2021-04-03 06:16:19\", \"2021-04-03 06:30:27\", \"2021-04-03 06:31:24\", \"2021-04-03 06:32:06\", \"2021-04-03 06:48:21\", \"2021-04-03 06:51:12\", \"2021-04-03 06:52:13\", \"2021-04-03 06:53:34\", \"2021-04-03 06:53:38\", \"2021-04-03 06:53:48\", \"2021-04-03 06:57:06\", \"2021-04-03 07:04:10\", \"2021-04-03 07:10:55\", \"2021-04-03 07:19:44\", \"2021-04-03 07:26:40\", \"2021-04-03 07:29:54\", \"2021-04-03 08:03:29\", \"2021-04-03 08:08:51\", \"2021-04-03 08:18:22\", \"2021-04-03 08:20:05\", \"2021-04-03 08:39:30\", \"2021-04-03 09:19:42\", \"2021-04-03 09:26:55\", \"2021-04-03 09:28:22\", \"2021-04-03 09:51:51\", \"2021-04-03 10:00:38\", \"2021-04-03 10:05:10\", \"2021-04-03 10:08:34\", \"2021-04-03 10:18:50\", \"2021-04-03 10:26:25\", \"2021-04-03 10:30:48\", \"2021-04-03 10:32:13\", \"2021-04-03 10:36:55\", \"2021-04-03 11:14:31\", \"2021-04-03 11:15:03\", \"2021-04-03 11:18:41\", \"2021-04-03 11:26:20\", \"2021-04-03 11:29:57\", \"2021-04-03 11:38:28\", \"2021-04-03 11:50:33\", \"2021-04-03 12:03:14\", \"2021-04-03 12:20:26\", \"2021-04-03 12:35:00\", \"2021-04-03 12:43:10\", \"2021-04-03 12:46:50\", \"2021-04-03 13:01:18\", \"2021-04-03 13:08:30\", \"2021-04-03 13:09:43\", \"2021-04-03 13:59:44\", \"2021-04-03 14:20:37\", \"2021-04-03 14:57:23\", \"2021-04-03 15:23:57\", \"2021-04-03 15:56:09\", \"2021-04-03 15:56:08\", \"2021-04-03 16:16:59\", \"2021-04-03 16:54:25\", \"2021-04-03 16:56:48\", \"2021-04-03 17:19:21\", \"2021-04-03 17:21:17\", \"2021-04-03 17:39:08\", \"2021-04-03 18:09:30\", \"2021-04-03 18:21:09\", \"2021-04-03 18:26:33\", \"2021-04-03 18:28:35\", \"2021-04-03 18:37:42\", \"2021-04-03 18:41:16\", \"2021-04-03 18:43:40\", \"2021-04-03 18:48:28\", \"2021-04-03 18:50:21\", \"2021-04-03 19:35:02\", \"2021-04-03 20:00:14\", \"2021-04-03 20:19:21\", \"2021-04-03 20:24:54\", \"2021-04-03 20:59:13\", \"2021-04-03 21:14:47\", \"2021-04-03 21:16:09\", \"2021-04-03 21:22:27\", \"2021-04-03 21:25:04\", \"2021-04-03 21:30:45\", \"2021-04-03 21:36:46\", \"2021-04-03 21:41:43\", \"2021-04-03 21:41:54\", \"2021-04-03 21:46:20\", \"2021-04-03 22:02:38\", \"2021-04-03 22:09:13\", \"2021-04-03 22:12:41\", \"2021-04-03 22:14:36\", \"2021-04-03 22:15:49\", \"2021-04-03 22:19:24\", \"2021-04-03 22:22:18\", \"2021-04-03 22:30:26\", \"2021-04-03 22:43:44\", \"2021-04-03 22:55:17\", \"2021-04-03 23:10:25\", \"2021-04-03 23:20:22\", \"2021-04-03 23:26:09\", \"2021-04-03 23:37:09\", \"2021-04-03 23:40:57\", \"2021-04-03 23:44:57\", \"2021-04-04 00:09:27\", \"2021-04-04 00:10:55\", \"2021-04-04 00:24:09\", \"2021-04-04 00:25:57\", \"2021-04-04 00:26:29\", \"2021-04-04 00:36:06\", \"2021-04-04 00:43:55\", \"2021-04-04 00:45:28\", \"2021-04-04 00:49:53\", \"2021-04-04 00:55:35\", \"2021-04-04 01:04:59\", \"2021-04-04 01:07:53\", \"2021-04-04 01:08:36\", \"2021-04-04 01:13:15\", \"2021-04-04 01:32:19\", \"2021-04-04 01:32:58\", \"2021-04-04 01:48:17\", \"2021-04-04 01:51:51\", \"2021-04-04 01:56:12\", \"2021-04-04 01:58:05\", \"2021-04-04 02:16:45\", \"2021-04-04 02:30:02\", \"2021-04-04 02:45:49\", \"2021-04-04 02:47:17\", \"2021-04-04 02:48:54\", \"2021-04-04 02:56:54\", \"2021-04-04 03:11:22\", \"2021-04-04 03:15:03\", \"2021-04-04 03:18:06\", \"2021-04-04 03:22:37\", \"2021-04-04 03:30:55\", \"2021-04-04 03:32:54\", \"2021-04-04 03:42:02\", \"2021-04-04 04:20:04\", \"2021-04-04 04:27:29\", \"2021-04-04 04:33:04\", \"2021-04-04 04:42:54\", \"2021-04-04 04:46:25\", \"2021-04-04 04:50:59\", \"2021-04-04 04:58:18\", \"2021-04-04 04:59:55\", \"2021-04-04 05:12:01\", \"2021-04-04 05:14:37\", \"2021-04-04 05:20:35\", \"2021-04-04 05:24:59\", \"2021-04-04 06:00:56\", \"2021-04-04 06:03:32\", \"2021-04-04 06:19:25\", \"2021-04-04 06:20:47\", \"2021-04-04 06:24:25\", \"2021-04-04 06:49:33\", \"2021-04-04 06:57:11\", \"2021-04-04 07:02:28\", \"2021-04-04 07:04:23\", \"2021-04-04 07:05:17\", \"2021-04-04 07:11:00\", \"2021-04-04 07:21:07\", \"2021-04-04 07:39:08\", \"2021-04-04 07:50:24\", \"2021-04-04 07:58:09\", \"2021-04-04 07:58:51\", \"2021-04-04 08:29:59\", \"2021-04-04 08:36:52\", \"2021-04-04 09:35:05\", \"2021-04-04 09:42:24\", \"2021-04-04 09:56:38\", \"2021-04-04 10:05:51\", \"2021-04-04 10:23:30\", \"2021-04-04 10:36:50\", \"2021-04-04 10:44:32\", \"2021-04-04 10:48:36\", \"2021-04-04 10:50:29\", \"2021-04-04 10:58:59\", \"2021-04-04 11:01:27\", \"2021-04-04 11:03:40\", \"2021-04-04 11:22:12\", \"2021-04-04 11:35:08\", \"2021-04-04 11:43:31\", \"2021-04-04 11:47:06\", \"2021-04-04 12:03:03\", \"2021-04-04 12:03:31\", \"2021-04-04 12:13:16\", \"2021-04-04 12:24:53\", \"2021-04-04 12:28:11\", \"2021-04-04 12:45:12\", \"2021-04-04 12:49:05\", \"2021-04-04 13:18:16\", \"2021-04-04 13:22:17\", \"2021-04-04 13:34:55\", \"2021-04-04 13:41:36\", \"2021-04-04 13:46:31\", \"2021-04-04 13:58:10\", \"2021-04-04 14:03:41\", \"2021-04-04 14:06:03\", \"2021-04-04 14:14:53\", \"2021-04-04 14:25:21\", \"2021-04-04 14:26:00\", \"2021-04-04 14:27:57\", \"2021-04-04 14:29:31\", \"2021-04-04 14:37:57\", \"2021-04-04 14:48:45\", \"2021-04-04 15:09:44\", \"2021-04-04 15:22:53\", \"2021-04-04 15:25:06\", \"2021-04-04 15:35:29\", \"2021-04-04 15:40:16\", \"2021-04-04 15:50:29\", \"2021-04-04 16:06:11\", \"2021-04-04 16:39:21\", \"2021-04-04 16:43:52\", \"2021-04-04 16:52:51\", \"2021-04-04 17:01:21\", \"2021-04-04 17:11:07\", \"2021-04-04 17:14:13\", \"2021-04-04 17:16:14\", \"2021-04-04 17:48:06\", \"2021-04-04 18:45:11\", \"2021-04-04 18:50:18\", \"2021-04-04 18:53:11\", \"2021-04-04 19:05:37\", \"2021-04-04 19:09:47\", \"2021-04-04 19:10:20\", \"2021-04-04 19:23:15\", \"2021-04-04 19:23:35\", \"2021-04-04 19:37:12\", \"2021-04-04 19:46:37\", \"2021-04-04 19:46:56\", \"2021-04-04 21:05:24\", \"2021-04-04 21:12:06\", \"2021-04-04 21:16:12\", \"2021-04-04 21:19:16\", \"2021-04-04 21:45:06\", \"2021-04-04 21:46:37\", \"2021-04-04 21:57:37\", \"2021-04-04 22:31:08\", \"2021-04-04 22:32:05\", \"2021-04-04 22:40:21\", \"2021-04-04 22:43:58\", \"2021-04-04 22:47:27\", \"2021-04-04 22:52:38\", \"2021-04-04 22:56:08\", \"2021-04-04 22:57:50\", \"2021-04-04 23:10:58\", \"2021-04-04 23:21:09\", \"2021-04-04 23:28:07\", \"2021-04-04 23:50:42\", \"2021-04-05 00:01:32\", \"2021-04-05 00:05:42\", \"2021-04-05 00:11:35\", \"2021-04-05 00:18:27\", \"2021-04-05 00:28:23\", \"2021-04-05 00:29:48\", \"2021-04-05 00:35:11\", \"2021-04-05 00:37:25\", \"2021-04-05 00:38:45\", \"2021-04-05 00:39:44\", \"2021-04-05 00:42:01\", \"2021-04-05 00:51:35\", \"2021-04-05 00:59:00\", \"2021-04-05 01:01:47\", \"2021-04-05 01:04:23\", \"2021-04-05 01:13:28\", \"2021-04-05 01:23:15\", \"2021-04-05 01:43:43\", \"2021-04-05 01:48:24\", \"2021-04-05 01:56:37\", \"2021-04-05 02:05:12\", \"2021-04-05 02:15:01\", \"2021-04-05 02:29:06\", \"2021-04-05 02:43:39\", \"2021-04-05 02:47:07\", \"2021-04-05 02:52:58\", \"2021-04-05 03:05:05\", \"2021-04-05 03:07:22\", \"2021-04-05 03:12:43\", \"2021-04-05 03:27:13\", \"2021-04-05 03:28:07\", \"2021-04-05 03:40:49\", \"2021-04-05 03:53:54\", \"2021-04-05 04:44:01\", \"2021-04-05 04:46:34\", \"2021-04-05 04:58:22\", \"2021-04-05 05:15:55\", \"2021-04-05 05:25:57\", \"2021-04-05 05:42:26\", \"2021-04-05 05:46:37\", \"2021-04-05 05:52:16\", \"2021-04-05 06:07:41\", \"2021-04-05 06:16:42\", \"2021-04-05 06:21:40\", \"2021-04-05 06:26:08\", \"2021-04-05 06:33:46\", \"2021-04-05 06:36:30\", \"2021-04-05 06:37:04\", \"2021-04-05 06:54:26\", \"2021-04-05 06:57:08\", \"2021-04-05 07:05:38\", \"2021-04-05 07:30:48\", \"2021-04-05 07:32:31\", \"2021-04-05 07:36:16\", \"2021-04-05 07:47:27\", \"2021-04-05 07:53:04\", \"2021-04-05 07:55:20\", \"2021-04-05 08:11:33\", \"2021-04-05 08:29:32\", \"2021-04-05 08:34:10\", \"2021-04-05 08:55:40\", \"2021-04-05 09:05:52\", \"2021-04-05 09:06:43\", \"2021-04-05 09:09:30\", \"2021-04-05 09:19:22\", \"2021-04-05 09:23:24\", \"2021-04-05 09:26:15\", \"2021-04-05 09:35:22\", \"2021-04-05 09:41:55\", \"2021-04-05 10:05:37\", \"2021-04-05 10:23:29\", \"2021-04-05 10:30:54\", \"2021-04-05 10:34:21\", \"2021-04-05 10:44:42\", \"2021-04-05 10:44:43\", \"2021-04-05 11:06:11\", \"2021-04-05 11:08:49\", \"2021-04-05 11:24:54\", \"2021-04-05 11:27:29\", \"2021-04-05 11:42:25\", \"2021-04-05 11:43:16\", \"2021-04-05 11:54:35\", \"2021-04-05 12:03:16\", \"2021-04-05 12:13:55\", \"2021-04-05 12:14:28\", \"2021-04-05 13:05:56\", \"2021-04-05 13:09:34\", \"2021-04-05 13:20:00\", \"2021-04-05 13:25:01\", \"2021-04-05 13:40:33\", \"2021-04-05 13:49:25\", \"2021-04-05 13:55:14\", \"2021-04-05 14:06:28\", \"2021-04-05 14:12:55\", \"2021-04-05 14:14:10\", \"2021-04-05 14:15:49\", \"2021-04-05 14:20:50\", \"2021-04-05 14:30:43\", \"2021-04-05 14:31:57\", \"2021-04-05 14:53:06\", \"2021-04-05 14:59:58\", \"2021-04-05 15:11:41\", \"2021-04-05 15:34:21\", \"2021-04-05 15:36:39\", \"2021-04-05 15:40:36\", \"2021-04-05 15:45:00\", \"2021-04-05 15:59:40\", \"2021-04-05 16:07:00\", \"2021-04-05 16:30:51\", \"2021-04-05 16:32:42\", \"2021-04-05 16:42:24\", \"2021-04-05 16:50:47\", \"2021-04-05 16:57:35\", \"2021-04-05 17:26:01\", \"2021-04-05 17:30:03\", \"2021-04-05 17:34:27\", \"2021-04-05 17:35:51\", \"2021-04-05 17:41:35\", \"2021-04-05 17:47:43\", \"2021-04-05 17:57:16\", \"2021-04-05 17:57:57\", \"2021-04-05 18:07:32\", \"2021-04-05 18:09:32\", \"2021-04-05 18:32:42\", \"2021-04-05 18:35:05\", \"2021-04-05 18:36:51\", \"2021-04-05 19:10:16\", \"2021-04-05 19:16:21\", \"2021-04-05 19:18:44\", \"2021-04-05 19:41:28\", \"2021-04-05 19:44:31\", \"2021-04-05 20:22:24\", \"2021-04-05 20:27:58\", \"2021-04-05 20:33:50\", \"2021-04-05 20:38:19\", \"2021-04-05 20:50:27\", \"2021-04-05 20:54:18\", \"2021-04-05 20:56:26\", \"2021-04-05 21:07:06\", \"2021-04-05 21:17:20\", \"2021-04-05 21:23:18\", \"2021-04-05 21:25:22\", \"2021-04-05 21:26:02\", \"2021-04-05 21:38:28\", \"2021-04-05 21:42:49\", \"2021-04-05 21:43:33\", \"2021-04-05 21:58:08\", \"2021-04-05 22:36:16\", \"2021-04-05 22:43:50\", \"2021-04-05 22:55:03\", \"2021-04-05 22:59:16\", \"2021-04-05 23:17:17\", \"2021-04-05 23:22:44\", \"2021-04-05 23:30:08\", \"2021-04-05 23:41:15\", \"2021-04-05 23:59:09\", \"2021-04-06 00:07:22\", \"2021-04-06 00:16:03\", \"2021-04-06 00:19:53\", \"2021-04-06 00:22:52\", \"2021-04-06 00:29:36\", \"2021-04-06 00:36:46\", \"2021-04-06 00:41:14\", \"2021-04-06 00:47:54\", \"2021-04-06 01:13:16\", \"2021-04-06 01:21:55\", \"2021-04-06 01:28:32\", \"2021-04-06 01:32:37\", \"2021-04-06 01:36:27\", \"2021-04-06 02:03:56\", \"2021-04-06 02:06:32\", \"2021-04-06 02:16:47\", \"2021-04-06 02:17:17\", \"2021-04-06 02:18:50\"], \"xaxis\": \"x\", \"y\": [55.2703558, 89.84357484, 27.71290164, 16.46202323, 129.75123676, 307.38332055, 223.86892355, 109.52173154, 223.97384675, 168.59972183, 57.24130782, 155.73841321, 90.31822545, 719.12661622, 115.35727526, 200.90530627, 756.54865629, 125.64825442, 191.68312048, 282.94917432, 105.80829433, 245.48141763, 345.99635375, 222.87638824, 244.66575789, 116.73953551, 16.74627085, 697.50825272, 263.7820581, 164.14579019, 76.6448704, 231.71510347, 46.55521646, 194.95402837, 754.34296029, 565.1582523, 9.20202908, 759.67390683, 159.56089366, 108.42938155, 43.46196671, 32.44159851, 113.10854076, 46.65806209, 154.70292661, 34.46950894, 580.44382206, 251.09763889, 138.96742964, 75.56780015, 176.87813703, 1765.00393693, 596.42148194, 621.36598639, 157.61024905, 460.71122808, 64.75229074, 21.89083884, 92.70392362, 267.7012845, 383.78015448, 47.64118107, 1546.43420225, 192.7845394, 51.46112806, 135.18679179, 373.61844369, 437.68612269, 204.83180133, 98.43213094, 12.03255252, 456.52437152, 31.15292629, 50.20496988, 70.36580287, 216.51225022, 153.86871968, 65.43167976, 162.07305189, 382.89789324, 88.80791354, 425.71464057, 230.41030082, 12.88150134, 0.0, 170.07667924, 213.76637191, 84.94453953, 6.90101975, 0.18439252, 2.53475896, 36.14382794, 50.00048309, 161.59808923, 110.56942582, 109.44327544, 150.50125714, 165.00940529, 23.84918789, 491.68653751, 89.87032567, 328.46818829, 451.65819733, 101.24460407, 86.36015842, 113.30674187, 194.07122392, 4.30663887, 347.3184422, 156.23620481, 97.59709317, 44.75955352, 23.04520266, 47.73283634, 298.79421325, 50.46577048, 27.89235818, 68.30535313, 161.57375519, 455.28675458, 67.47450433, 120.56651736, 455.6525052, 560.44578534, 79.18948084, 33.30622271, 70.16784054, 616.25940112, 82.77776364, 200.62020957, 411.20622147, 270.5956028, 355.42646402, 310.20633842, 39.42519825, 485.13521276, 425.58574487, 73.55063495, 868.92497564, 284.71001183, 271.74497438, 445.49401767, 177.75165316, 372.37981522, 82.94905414, 186.32651603, 63.05872518, 154.80056716, 161.17969093, 171.79092133, 1171.70050986, 381.06878902, 106.10623357, 241.43666574, 391.57553039, 99.08012649, 70.02066395, 139.60200595, 73.8840766, 31.41614433, 73.12807557, 45.77902578, 29.39297531, 62.53075391, 229.40934605, 1014.1475506, 159.78666482, 111.47135083, 66.24125195, 47.91824633, 47.52431695, 334.8940809, 134.55313207, 443.48900969, 133.38766081, 150.04354116, 43.38498263, 162.1323851, 76.39776115, 185.53928737, 49.91206561, 373.26356776, 567.87037254, 19.01266042, 4.43134339, 64.54601149, 125.77087319, 0.7806341, 2.21813899, 15.41788041, 321.27397465, 19.37086196, 4.3486199, 243.75624346, 373.53360799, 6.69665342, 530.31554642, 966.64347626, 18.25943725, 41.80852883, 17.58264124, 980.93463713, 272.35111581, 95.2134029, 37.08270091, 140.7413028, 224.55744748, 18.46488886, 54.11084459, 7.81819003, 162.33220099, 6.653492, 98.84733936, 156.82181228, 558.80849363, 125.80034728, 98.23831614, 12.38358949, 125.24666159, 38.89266513, 0.24440664, 170.82491926, 284.80164297, 40.65931707, 18.76618688, 195.4413816, 99.35056347, 131.78755452, 11.12195399, 56.84374535, 137.26573321, 69.19070809, 18.64081173, 23.46863175, 1.53462168, 10.579549, 150.56790986, 170.4952152, 55.60247331, 30.62557313, 3.19317925, 117.60087595, 588.87960848, 332.08912728, 136.09812215, 301.31807543, 81.35991803, 312.7529507, 402.24340346, 49.43303414, 29.51742873, 9.8614323, 3315.94039307, 17.58607129, 2.29848819, 91.51557039, 591.27398853, 6.76719166, 16.49806886, 53.10813522, 632.97476345, 218.51263343, 73.8404662, 0.91581317, 55.75193, 19.18615134, 161.75694143, 86.3206568, 229.04068453, 71.0791777, 220.40647195, 76.79964117, 8.21097817, 488.84474243, 102.57169806, 116.14990516, 21.36508148, 1.84613907, 1.46294802, 28.71272149, 39.83328069, 150.83919669, 65.94247206, 116.1964041, 275.24631609, 29.15708146, 102.05107367, 14.94410746, 418.71630422, 140.61032644, 197.32823497, 347.33509855, 40.86429346, 37.18991434, 7.29593769, 107.21696614, 287.43125961, 72.25794555, 27.3548544, 521.591427, 168.47423479, 23.04669684, 69.02307837, 9.05117061, 68.05778332, 52.07366375, 0.73077391, 206.31465748, 191.10642321, 171.70172272, 419.0810103, 237.72962823, 69.45844751, 58.56362959, 153.15998373, 58.04974874, 622.02780663, 906.74044383, 11.33057023, 9.50066096, 0.25973299, 1.12164866, 148.96053681, 123.38561131, 30.75651669, 240.6815991, 16.12162851, 337.99649292, 156.81612125, 20.06238081, 563.43818536, 2.69193794, 25.8366007, 60.41791006, 15.35535228, 0.76792215, 16.72356736, 193.32621019, 214.97215754, 33.25965421, 61.59974193, 50.69998475, 84.73125474, 377.75217225, 110.40610927, 229.8520108, 1.583935, 683.90267937, 98.98899295, 575.44610479, 165.84825102, 126.94481129, 184.13518725, 39.92541692, 8.48359027, 339.20106321, 35.80863515, 55.85890267, 173.10309615, 343.5638743, 8.92853467, 1209.81018476, 422.77403285, 175.21415773, 220.38744566, 128.01574983, 51.12392663, 25.10481875, 1043.84314054, 86.99984973, 3.63334564, 54.60310295, 95.95918827, 0.04030352, 161.76004104, 110.19124515, 99.80780202, 245.79509732, 47.96228209, 51.98792441, 104.35082394, 116.16277567, 17.84237549, 53.54940876, 654.25863109, 771.33093159, 276.09582184, 303.00394378, 107.14836057, 71.77193405, 137.09180556, 57.08206391, 12.41310649, 285.05144242, 144.10819898, 138.14096687, 417.45775128, 373.85954846, 87.91273822, 220.72116452, 64.8601007, 239.1120702, 93.90682385, 574.50966493, 61.43704481, 226.50701872, 39.35068837, 75.23826706, 9.52747709, 852.60861522, 91.61629922, 179.18874527, 153.80304482, 271.98338336, 58.01273114, 249.0307985, 406.2175126, 198.16147001, 20.21270548, 228.73890538, 470.20497775, 634.03055834, 142.30355047, 469.54172442, 85.46174279, 313.16223527, 300.08983717, 620.68431092, 260.34603743, 275.9881349, 73.24148312, 277.45922144, 291.84750836, 229.52741557, 796.68754574, 85.90041767, 510.94889123, 521.15460927, 181.23271665, 425.78982407, 226.59919821, 114.90140485, 133.93773881, 214.53440819, 118.23737352, 252.40276298, 42.99605888, 344.59406058, 36.37418021, 1788.05258692, 321.10454223, 180.01173512, 462.87627409, 353.02407407, 68.07447516, 339.00827737, 317.4617721, 271.45251656, 793.02119908, 227.71707027, 680.78055564, 293.20788908, 30.47962903, 28.14041343, 152.67841456, 294.08625396, 214.53851013, 12.6732557, 1.79669916, 180.47393702, 144.73296807, 6.35699868, 101.36403785, 469.98282724, 143.74723738, 223.06342794, 634.98850303, 192.19878861, 108.44113251, 86.95687536, 168.11045755, 259.36738308, 739.49245598, 547.79748306, 189.92116314, 47.86284461, 71.45255016, 155.59824671, 121.32976167, 170.62914593, 571.84851686, 260.82227016, 468.14136575, 140.98819068, 123.79142303, 338.22981409, 519.87370334, 625.73737869, 31.32870178, 53.32958649], \"yaxis\": \"y2\"}],                        {\"height\": 1000, \"template\": {\"data\": {\"bar\": [{\"error_x\": {\"color\": \"#2a3f5f\"}, \"error_y\": {\"color\": \"#2a3f5f\"}, \"marker\": {\"line\": {\"color\": \"#E5ECF6\", \"width\": 0.5}}, \"type\": \"bar\"}], \"barpolar\": [{\"marker\": {\"line\": {\"color\": \"#E5ECF6\", \"width\": 0.5}}, \"type\": \"barpolar\"}], \"carpet\": [{\"aaxis\": {\"endlinecolor\": \"#2a3f5f\", \"gridcolor\": \"white\", \"linecolor\": \"white\", \"minorgridcolor\": \"white\", \"startlinecolor\": \"#2a3f5f\"}, \"baxis\": {\"endlinecolor\": \"#2a3f5f\", \"gridcolor\": \"white\", \"linecolor\": \"white\", \"minorgridcolor\": \"white\", \"startlinecolor\": \"#2a3f5f\"}, \"type\": \"carpet\"}], \"choropleth\": [{\"colorbar\": {\"outlinewidth\": 0, \"ticks\": \"\"}, \"type\": \"choropleth\"}], \"contour\": [{\"colorbar\": {\"outlinewidth\": 0, \"ticks\": \"\"}, \"colorscale\": [[0.0, \"#0d0887\"], [0.1111111111111111, \"#46039f\"], [0.2222222222222222, \"#7201a8\"], [0.3333333333333333, \"#9c179e\"], [0.4444444444444444, \"#bd3786\"], [0.5555555555555556, \"#d8576b\"], [0.6666666666666666, \"#ed7953\"], [0.7777777777777778, \"#fb9f3a\"], [0.8888888888888888, \"#fdca26\"], [1.0, \"#f0f921\"]], \"type\": \"contour\"}], \"contourcarpet\": [{\"colorbar\": {\"outlinewidth\": 0, \"ticks\": \"\"}, \"type\": \"contourcarpet\"}], \"heatmap\": [{\"colorbar\": {\"outlinewidth\": 0, \"ticks\": \"\"}, \"colorscale\": [[0.0, \"#0d0887\"], [0.1111111111111111, \"#46039f\"], [0.2222222222222222, \"#7201a8\"], [0.3333333333333333, \"#9c179e\"], [0.4444444444444444, \"#bd3786\"], [0.5555555555555556, \"#d8576b\"], [0.6666666666666666, \"#ed7953\"], [0.7777777777777778, \"#fb9f3a\"], [0.8888888888888888, \"#fdca26\"], [1.0, \"#f0f921\"]], \"type\": \"heatmap\"}], \"heatmapgl\": [{\"colorbar\": {\"outlinewidth\": 0, \"ticks\": \"\"}, \"colorscale\": [[0.0, \"#0d0887\"], [0.1111111111111111, \"#46039f\"], [0.2222222222222222, \"#7201a8\"], [0.3333333333333333, \"#9c179e\"], [0.4444444444444444, \"#bd3786\"], [0.5555555555555556, \"#d8576b\"], [0.6666666666666666, \"#ed7953\"], [0.7777777777777778, \"#fb9f3a\"], [0.8888888888888888, \"#fdca26\"], [1.0, \"#f0f921\"]], \"type\": \"heatmapgl\"}], \"histogram\": [{\"marker\": {\"colorbar\": {\"outlinewidth\": 0, \"ticks\": \"\"}}, \"type\": \"histogram\"}], \"histogram2d\": [{\"colorbar\": {\"outlinewidth\": 0, \"ticks\": \"\"}, \"colorscale\": [[0.0, \"#0d0887\"], [0.1111111111111111, \"#46039f\"], [0.2222222222222222, \"#7201a8\"], [0.3333333333333333, \"#9c179e\"], [0.4444444444444444, \"#bd3786\"], [0.5555555555555556, \"#d8576b\"], [0.6666666666666666, \"#ed7953\"], [0.7777777777777778, \"#fb9f3a\"], [0.8888888888888888, \"#fdca26\"], [1.0, \"#f0f921\"]], \"type\": \"histogram2d\"}], \"histogram2dcontour\": [{\"colorbar\": {\"outlinewidth\": 0, \"ticks\": \"\"}, \"colorscale\": [[0.0, \"#0d0887\"], [0.1111111111111111, \"#46039f\"], [0.2222222222222222, \"#7201a8\"], [0.3333333333333333, \"#9c179e\"], [0.4444444444444444, \"#bd3786\"], [0.5555555555555556, \"#d8576b\"], [0.6666666666666666, \"#ed7953\"], [0.7777777777777778, \"#fb9f3a\"], [0.8888888888888888, \"#fdca26\"], [1.0, \"#f0f921\"]], \"type\": \"histogram2dcontour\"}], \"mesh3d\": [{\"colorbar\": {\"outlinewidth\": 0, \"ticks\": \"\"}, \"type\": \"mesh3d\"}], \"parcoords\": [{\"line\": {\"colorbar\": {\"outlinewidth\": 0, \"ticks\": \"\"}}, \"type\": \"parcoords\"}], \"pie\": [{\"automargin\": true, \"type\": \"pie\"}], \"scatter\": [{\"marker\": {\"colorbar\": {\"outlinewidth\": 0, \"ticks\": \"\"}}, \"type\": \"scatter\"}], \"scatter3d\": [{\"line\": {\"colorbar\": {\"outlinewidth\": 0, \"ticks\": \"\"}}, \"marker\": {\"colorbar\": {\"outlinewidth\": 0, \"ticks\": \"\"}}, \"type\": \"scatter3d\"}], \"scattercarpet\": [{\"marker\": {\"colorbar\": {\"outlinewidth\": 0, \"ticks\": \"\"}}, \"type\": \"scattercarpet\"}], \"scattergeo\": [{\"marker\": {\"colorbar\": {\"outlinewidth\": 0, \"ticks\": \"\"}}, \"type\": \"scattergeo\"}], \"scattergl\": [{\"marker\": {\"colorbar\": {\"outlinewidth\": 0, \"ticks\": \"\"}}, \"type\": \"scattergl\"}], \"scattermapbox\": [{\"marker\": {\"colorbar\": {\"outlinewidth\": 0, \"ticks\": \"\"}}, \"type\": \"scattermapbox\"}], \"scatterpolar\": [{\"marker\": {\"colorbar\": {\"outlinewidth\": 0, \"ticks\": \"\"}}, \"type\": \"scatterpolar\"}], \"scatterpolargl\": [{\"marker\": {\"colorbar\": {\"outlinewidth\": 0, \"ticks\": \"\"}}, \"type\": \"scatterpolargl\"}], \"scatterternary\": [{\"marker\": {\"colorbar\": {\"outlinewidth\": 0, \"ticks\": \"\"}}, \"type\": \"scatterternary\"}], \"surface\": [{\"colorbar\": {\"outlinewidth\": 0, \"ticks\": \"\"}, \"colorscale\": [[0.0, \"#0d0887\"], [0.1111111111111111, \"#46039f\"], [0.2222222222222222, \"#7201a8\"], [0.3333333333333333, \"#9c179e\"], [0.4444444444444444, \"#bd3786\"], [0.5555555555555556, \"#d8576b\"], [0.6666666666666666, \"#ed7953\"], [0.7777777777777778, \"#fb9f3a\"], [0.8888888888888888, \"#fdca26\"], [1.0, \"#f0f921\"]], \"type\": \"surface\"}], \"table\": [{\"cells\": {\"fill\": {\"color\": \"#EBF0F8\"}, \"line\": {\"color\": \"white\"}}, \"header\": {\"fill\": {\"color\": \"#C8D4E3\"}, \"line\": {\"color\": \"white\"}}, \"type\": \"table\"}]}, \"layout\": {\"annotationdefaults\": {\"arrowcolor\": \"#2a3f5f\", \"arrowhead\": 0, \"arrowwidth\": 1}, \"autotypenumbers\": \"strict\", \"coloraxis\": {\"colorbar\": {\"outlinewidth\": 0, \"ticks\": \"\"}}, \"colorscale\": {\"diverging\": [[0, \"#8e0152\"], [0.1, \"#c51b7d\"], [0.2, \"#de77ae\"], [0.3, \"#f1b6da\"], [0.4, \"#fde0ef\"], [0.5, \"#f7f7f7\"], [0.6, \"#e6f5d0\"], [0.7, \"#b8e186\"], [0.8, \"#7fbc41\"], [0.9, \"#4d9221\"], [1, \"#276419\"]], \"sequential\": [[0.0, \"#0d0887\"], [0.1111111111111111, \"#46039f\"], [0.2222222222222222, \"#7201a8\"], [0.3333333333333333, \"#9c179e\"], [0.4444444444444444, \"#bd3786\"], [0.5555555555555556, \"#d8576b\"], [0.6666666666666666, \"#ed7953\"], [0.7777777777777778, \"#fb9f3a\"], [0.8888888888888888, \"#fdca26\"], [1.0, \"#f0f921\"]], \"sequentialminus\": [[0.0, \"#0d0887\"], [0.1111111111111111, \"#46039f\"], [0.2222222222222222, \"#7201a8\"], [0.3333333333333333, \"#9c179e\"], [0.4444444444444444, \"#bd3786\"], [0.5555555555555556, \"#d8576b\"], [0.6666666666666666, \"#ed7953\"], [0.7777777777777778, \"#fb9f3a\"], [0.8888888888888888, \"#fdca26\"], [1.0, \"#f0f921\"]]}, \"colorway\": [\"#636efa\", \"#EF553B\", \"#00cc96\", \"#ab63fa\", \"#FFA15A\", \"#19d3f3\", \"#FF6692\", \"#B6E880\", \"#FF97FF\", \"#FECB52\"], \"font\": {\"color\": \"#2a3f5f\"}, \"geo\": {\"bgcolor\": \"white\", \"lakecolor\": \"white\", \"landcolor\": \"#E5ECF6\", \"showlakes\": true, \"showland\": true, \"subunitcolor\": \"white\"}, \"hoverlabel\": {\"align\": \"left\"}, \"hovermode\": \"closest\", \"mapbox\": {\"style\": \"light\"}, \"paper_bgcolor\": \"white\", \"plot_bgcolor\": \"#E5ECF6\", \"polar\": {\"angularaxis\": {\"gridcolor\": \"white\", \"linecolor\": \"white\", \"ticks\": \"\"}, \"bgcolor\": \"#E5ECF6\", \"radialaxis\": {\"gridcolor\": \"white\", \"linecolor\": \"white\", \"ticks\": \"\"}}, \"scene\": {\"xaxis\": {\"backgroundcolor\": \"#E5ECF6\", \"gridcolor\": \"white\", \"gridwidth\": 2, \"linecolor\": \"white\", \"showbackground\": true, \"ticks\": \"\", \"zerolinecolor\": \"white\"}, \"yaxis\": {\"backgroundcolor\": \"#E5ECF6\", \"gridcolor\": \"white\", \"gridwidth\": 2, \"linecolor\": \"white\", \"showbackground\": true, \"ticks\": \"\", \"zerolinecolor\": \"white\"}, \"zaxis\": {\"backgroundcolor\": \"#E5ECF6\", \"gridcolor\": \"white\", \"gridwidth\": 2, \"linecolor\": \"white\", \"showbackground\": true, \"ticks\": \"\", \"zerolinecolor\": \"white\"}}, \"shapedefaults\": {\"line\": {\"color\": \"#2a3f5f\"}}, \"ternary\": {\"aaxis\": {\"gridcolor\": \"white\", \"linecolor\": \"white\", \"ticks\": \"\"}, \"baxis\": {\"gridcolor\": \"white\", \"linecolor\": \"white\", \"ticks\": \"\"}, \"bgcolor\": \"#E5ECF6\", \"caxis\": {\"gridcolor\": \"white\", \"linecolor\": \"white\", \"ticks\": \"\"}}, \"title\": {\"x\": 0.05}, \"xaxis\": {\"automargin\": true, \"gridcolor\": \"white\", \"linecolor\": \"white\", \"ticks\": \"\", \"title\": {\"standoff\": 15}, \"zerolinecolor\": \"white\", \"zerolinewidth\": 2}, \"yaxis\": {\"automargin\": true, \"gridcolor\": \"white\", \"linecolor\": \"white\", \"ticks\": \"\", \"title\": {\"standoff\": 15}, \"zerolinecolor\": \"white\", \"zerolinewidth\": 2}}}, \"width\": 1500, \"xaxis\": {\"anchor\": \"y\", \"domain\": [0.0, 0.94]}, \"yaxis\": {\"anchor\": \"x\", \"domain\": [0.0, 1.0]}, \"yaxis2\": {\"anchor\": \"x\", \"overlaying\": \"y\", \"side\": \"right\"}},                        {\"responsive\": true}                    ).then(function(){\n                            \nvar gd = document.getElementById('4e781f51-fff7-4ac6-abc7-c8123e766091');\nvar x = new MutationObserver(function (mutations, observer) {{\n        var display = window.getComputedStyle(gd).display;\n        if (!display || display === 'none') {{\n            console.log([gd, 'removed!']);\n            Plotly.purge(gd);\n            observer.disconnect();\n        }}\n}});\n\n// Listen for the removal of the full notebook cells\nvar notebookContainer = gd.closest('#notebook-container');\nif (notebookContainer) {{\n    x.observe(notebookContainer, {childList: true});\n}}\n\n// Listen for the clearing of the current output cell\nvar outputEl = gd.closest('.output');\nif (outputEl) {{\n    x.observe(outputEl, {childList: true});\n}}\n\n                        })                };                });            </script>        </div>"
     },
     "metadata": {}
    }
   ],
   "source": [
    "import plotly.express as px\n",
    "import plotly.graph_objects as go \n",
    "\n",
    "\n",
    "from plotly.offline import init_notebook_mode, iplot\n",
    "\n",
    "from plotly.subplots import make_subplots\n",
    "\n",
    "\n",
    "\n",
    "fig = make_subplots(specs=[[{\"secondary_y\": True}]])# \n",
    "afig.add_trace(go.Scatter(x=df_data.datetime_x, y=price_change, name='price'), secondary_y=Falsee\n",
    "1fig.add_trace(go.Scatter(x=df_data.datetime_x, y=df_data.inflow_total, name='inflow'), secondary_y=True)\n",
    "ffig.update_layout(height=1000, width=1500)ig.show()e2 = go.Scatter(x=df_price_and_inflow.datetime_x, y=df_price_and_inflow.inflow_total, mode='lines')\n",
    "ip# lot(go.Figure([trace1, trace2]))\n",
    "\n",
    "ig =o.Fi#\n",
    " gure()a\n",
    "fig = px.li# ne(df_price_df_datatime_x', y=['price_usdnorm_pricew_tonorm_inflow='Prheight=1000, width=1500w \n",
    "\n",
    "# # fig = px.line(df_data, x='datetime_x', y=['price_usd_close', 'inflow_total'], height=1000, width=1500) \n",
    "r\n",
    "#fi# g = make_subplots(specs=[[{'secondary_y': True}]])\n",
    "f\n",
    "fig# fig = pline(df_price_and_inflow, x='datetime_x', y='price_usd_close', title='Price')\n",
    "a# dd_scatter(cq_idf_price_and_inflow'datetime', y_x='inflow_total', title='Inflo')ea_c\n",
    "\n",
    "\n",
    "h\n",
    "fig =#  px._price_and_inflow='datetime', _xy='infprice_usd_closetitle='InfPrice Changear\n",
    "earea_char# t = px.area(df_price_and_inflow, x='datetime_x', y='inflow_total', title='Price Change')_chart.upda# te_xaxes(title_text = 'Date')\n",
    "area_chart.updat# e_yaxes(title_text = 'Infl'Price Change'kprefix = '$')\n",
    "area_chart.update# _layout(showlegend = False)\n",
    "area_chart.show()# "
   ]
  },
  {
   "cell_type": "code",
   "execution_count": 112,
   "metadata": {},
   "outputs": [
    {
     "output_type": "execute_result",
     "data": {
      "text/plain": [
       "pandas.core.series.Series"
      ]
     },
     "metadata": {},
     "execution_count": 112
    }
   ],
   "source": [
    "df_data['price_usd_close'].diff()\n",
    "\n",
    "type(df_data['price_usd_close'].diff())"
   ]
  },
  {
   "cell_type": "code",
   "execution_count": 136,
   "metadata": {},
   "outputs": [
    {
     "output_type": "stream",
     "name": "stdout",
     "text": [
      "[[ 1.         -0.00431346]\n [-0.00431346  1.        ]]\n[[1.         0.08276465]\n [0.08276465 1.        ]]\n"
     ]
    }
   ],
   "source": [
    "import numpy as np \n",
    "\n",
    "x= price_change\n",
    "y = df_data['inflow_total']\n",
    "print(np.corrcoef(x, y))\n",
    "\n",
    "\n",
    "x= df_data['price_usd_close']\n",
    "y = df_data['inflow_total']\n",
    "print(np.corrcoef(x, y))"
   ]
  },
  {
   "cell_type": "code",
   "execution_count": 95,
   "metadata": {},
   "outputs": [
    {
     "output_type": "display_data",
     "data": {
      "application/vnd.plotly.v1+json": {
       "config": {
        "plotlyServerURL": "https://plot.ly"
       },
       "data": [
        {
         "name": "yaxis data",
         "type": "scatter",
         "x": [
          1,
          2,
          3
         ],
         "xaxis": "x",
         "y": [
          40,
          50,
          60
         ],
         "yaxis": "y"
        },
        {
         "name": "yaxis2 data",
         "type": "scatter",
         "x": [
          2,
          3,
          4
         ],
         "xaxis": "x",
         "y": [
          4,
          5,
          6
         ],
         "yaxis": "y2"
        }
       ],
       "layout": {
        "template": {
         "data": {
          "bar": [
           {
            "error_x": {
             "color": "#2a3f5f"
            },
            "error_y": {
             "color": "#2a3f5f"
            },
            "marker": {
             "line": {
              "color": "#E5ECF6",
              "width": 0.5
             }
            },
            "type": "bar"
           }
          ],
          "barpolar": [
           {
            "marker": {
             "line": {
              "color": "#E5ECF6",
              "width": 0.5
             }
            },
            "type": "barpolar"
           }
          ],
          "carpet": [
           {
            "aaxis": {
             "endlinecolor": "#2a3f5f",
             "gridcolor": "white",
             "linecolor": "white",
             "minorgridcolor": "white",
             "startlinecolor": "#2a3f5f"
            },
            "baxis": {
             "endlinecolor": "#2a3f5f",
             "gridcolor": "white",
             "linecolor": "white",
             "minorgridcolor": "white",
             "startlinecolor": "#2a3f5f"
            },
            "type": "carpet"
           }
          ],
          "choropleth": [
           {
            "colorbar": {
             "outlinewidth": 0,
             "ticks": ""
            },
            "type": "choropleth"
           }
          ],
          "contour": [
           {
            "colorbar": {
             "outlinewidth": 0,
             "ticks": ""
            },
            "colorscale": [
             [
              0,
              "#0d0887"
             ],
             [
              0.1111111111111111,
              "#46039f"
             ],
             [
              0.2222222222222222,
              "#7201a8"
             ],
             [
              0.3333333333333333,
              "#9c179e"
             ],
             [
              0.4444444444444444,
              "#bd3786"
             ],
             [
              0.5555555555555556,
              "#d8576b"
             ],
             [
              0.6666666666666666,
              "#ed7953"
             ],
             [
              0.7777777777777778,
              "#fb9f3a"
             ],
             [
              0.8888888888888888,
              "#fdca26"
             ],
             [
              1,
              "#f0f921"
             ]
            ],
            "type": "contour"
           }
          ],
          "contourcarpet": [
           {
            "colorbar": {
             "outlinewidth": 0,
             "ticks": ""
            },
            "type": "contourcarpet"
           }
          ],
          "heatmap": [
           {
            "colorbar": {
             "outlinewidth": 0,
             "ticks": ""
            },
            "colorscale": [
             [
              0,
              "#0d0887"
             ],
             [
              0.1111111111111111,
              "#46039f"
             ],
             [
              0.2222222222222222,
              "#7201a8"
             ],
             [
              0.3333333333333333,
              "#9c179e"
             ],
             [
              0.4444444444444444,
              "#bd3786"
             ],
             [
              0.5555555555555556,
              "#d8576b"
             ],
             [
              0.6666666666666666,
              "#ed7953"
             ],
             [
              0.7777777777777778,
              "#fb9f3a"
             ],
             [
              0.8888888888888888,
              "#fdca26"
             ],
             [
              1,
              "#f0f921"
             ]
            ],
            "type": "heatmap"
           }
          ],
          "heatmapgl": [
           {
            "colorbar": {
             "outlinewidth": 0,
             "ticks": ""
            },
            "colorscale": [
             [
              0,
              "#0d0887"
             ],
             [
              0.1111111111111111,
              "#46039f"
             ],
             [
              0.2222222222222222,
              "#7201a8"
             ],
             [
              0.3333333333333333,
              "#9c179e"
             ],
             [
              0.4444444444444444,
              "#bd3786"
             ],
             [
              0.5555555555555556,
              "#d8576b"
             ],
             [
              0.6666666666666666,
              "#ed7953"
             ],
             [
              0.7777777777777778,
              "#fb9f3a"
             ],
             [
              0.8888888888888888,
              "#fdca26"
             ],
             [
              1,
              "#f0f921"
             ]
            ],
            "type": "heatmapgl"
           }
          ],
          "histogram": [
           {
            "marker": {
             "colorbar": {
              "outlinewidth": 0,
              "ticks": ""
             }
            },
            "type": "histogram"
           }
          ],
          "histogram2d": [
           {
            "colorbar": {
             "outlinewidth": 0,
             "ticks": ""
            },
            "colorscale": [
             [
              0,
              "#0d0887"
             ],
             [
              0.1111111111111111,
              "#46039f"
             ],
             [
              0.2222222222222222,
              "#7201a8"
             ],
             [
              0.3333333333333333,
              "#9c179e"
             ],
             [
              0.4444444444444444,
              "#bd3786"
             ],
             [
              0.5555555555555556,
              "#d8576b"
             ],
             [
              0.6666666666666666,
              "#ed7953"
             ],
             [
              0.7777777777777778,
              "#fb9f3a"
             ],
             [
              0.8888888888888888,
              "#fdca26"
             ],
             [
              1,
              "#f0f921"
             ]
            ],
            "type": "histogram2d"
           }
          ],
          "histogram2dcontour": [
           {
            "colorbar": {
             "outlinewidth": 0,
             "ticks": ""
            },
            "colorscale": [
             [
              0,
              "#0d0887"
             ],
             [
              0.1111111111111111,
              "#46039f"
             ],
             [
              0.2222222222222222,
              "#7201a8"
             ],
             [
              0.3333333333333333,
              "#9c179e"
             ],
             [
              0.4444444444444444,
              "#bd3786"
             ],
             [
              0.5555555555555556,
              "#d8576b"
             ],
             [
              0.6666666666666666,
              "#ed7953"
             ],
             [
              0.7777777777777778,
              "#fb9f3a"
             ],
             [
              0.8888888888888888,
              "#fdca26"
             ],
             [
              1,
              "#f0f921"
             ]
            ],
            "type": "histogram2dcontour"
           }
          ],
          "mesh3d": [
           {
            "colorbar": {
             "outlinewidth": 0,
             "ticks": ""
            },
            "type": "mesh3d"
           }
          ],
          "parcoords": [
           {
            "line": {
             "colorbar": {
              "outlinewidth": 0,
              "ticks": ""
             }
            },
            "type": "parcoords"
           }
          ],
          "pie": [
           {
            "automargin": true,
            "type": "pie"
           }
          ],
          "scatter": [
           {
            "marker": {
             "colorbar": {
              "outlinewidth": 0,
              "ticks": ""
             }
            },
            "type": "scatter"
           }
          ],
          "scatter3d": [
           {
            "line": {
             "colorbar": {
              "outlinewidth": 0,
              "ticks": ""
             }
            },
            "marker": {
             "colorbar": {
              "outlinewidth": 0,
              "ticks": ""
             }
            },
            "type": "scatter3d"
           }
          ],
          "scattercarpet": [
           {
            "marker": {
             "colorbar": {
              "outlinewidth": 0,
              "ticks": ""
             }
            },
            "type": "scattercarpet"
           }
          ],
          "scattergeo": [
           {
            "marker": {
             "colorbar": {
              "outlinewidth": 0,
              "ticks": ""
             }
            },
            "type": "scattergeo"
           }
          ],
          "scattergl": [
           {
            "marker": {
             "colorbar": {
              "outlinewidth": 0,
              "ticks": ""
             }
            },
            "type": "scattergl"
           }
          ],
          "scattermapbox": [
           {
            "marker": {
             "colorbar": {
              "outlinewidth": 0,
              "ticks": ""
             }
            },
            "type": "scattermapbox"
           }
          ],
          "scatterpolar": [
           {
            "marker": {
             "colorbar": {
              "outlinewidth": 0,
              "ticks": ""
             }
            },
            "type": "scatterpolar"
           }
          ],
          "scatterpolargl": [
           {
            "marker": {
             "colorbar": {
              "outlinewidth": 0,
              "ticks": ""
             }
            },
            "type": "scatterpolargl"
           }
          ],
          "scatterternary": [
           {
            "marker": {
             "colorbar": {
              "outlinewidth": 0,
              "ticks": ""
             }
            },
            "type": "scatterternary"
           }
          ],
          "surface": [
           {
            "colorbar": {
             "outlinewidth": 0,
             "ticks": ""
            },
            "colorscale": [
             [
              0,
              "#0d0887"
             ],
             [
              0.1111111111111111,
              "#46039f"
             ],
             [
              0.2222222222222222,
              "#7201a8"
             ],
             [
              0.3333333333333333,
              "#9c179e"
             ],
             [
              0.4444444444444444,
              "#bd3786"
             ],
             [
              0.5555555555555556,
              "#d8576b"
             ],
             [
              0.6666666666666666,
              "#ed7953"
             ],
             [
              0.7777777777777778,
              "#fb9f3a"
             ],
             [
              0.8888888888888888,
              "#fdca26"
             ],
             [
              1,
              "#f0f921"
             ]
            ],
            "type": "surface"
           }
          ],
          "table": [
           {
            "cells": {
             "fill": {
              "color": "#EBF0F8"
             },
             "line": {
              "color": "white"
             }
            },
            "header": {
             "fill": {
              "color": "#C8D4E3"
             },
             "line": {
              "color": "white"
             }
            },
            "type": "table"
           }
          ]
         },
         "layout": {
          "annotationdefaults": {
           "arrowcolor": "#2a3f5f",
           "arrowhead": 0,
           "arrowwidth": 1
          },
          "autotypenumbers": "strict",
          "coloraxis": {
           "colorbar": {
            "outlinewidth": 0,
            "ticks": ""
           }
          },
          "colorscale": {
           "diverging": [
            [
             0,
             "#8e0152"
            ],
            [
             0.1,
             "#c51b7d"
            ],
            [
             0.2,
             "#de77ae"
            ],
            [
             0.3,
             "#f1b6da"
            ],
            [
             0.4,
             "#fde0ef"
            ],
            [
             0.5,
             "#f7f7f7"
            ],
            [
             0.6,
             "#e6f5d0"
            ],
            [
             0.7,
             "#b8e186"
            ],
            [
             0.8,
             "#7fbc41"
            ],
            [
             0.9,
             "#4d9221"
            ],
            [
             1,
             "#276419"
            ]
           ],
           "sequential": [
            [
             0,
             "#0d0887"
            ],
            [
             0.1111111111111111,
             "#46039f"
            ],
            [
             0.2222222222222222,
             "#7201a8"
            ],
            [
             0.3333333333333333,
             "#9c179e"
            ],
            [
             0.4444444444444444,
             "#bd3786"
            ],
            [
             0.5555555555555556,
             "#d8576b"
            ],
            [
             0.6666666666666666,
             "#ed7953"
            ],
            [
             0.7777777777777778,
             "#fb9f3a"
            ],
            [
             0.8888888888888888,
             "#fdca26"
            ],
            [
             1,
             "#f0f921"
            ]
           ],
           "sequentialminus": [
            [
             0,
             "#0d0887"
            ],
            [
             0.1111111111111111,
             "#46039f"
            ],
            [
             0.2222222222222222,
             "#7201a8"
            ],
            [
             0.3333333333333333,
             "#9c179e"
            ],
            [
             0.4444444444444444,
             "#bd3786"
            ],
            [
             0.5555555555555556,
             "#d8576b"
            ],
            [
             0.6666666666666666,
             "#ed7953"
            ],
            [
             0.7777777777777778,
             "#fb9f3a"
            ],
            [
             0.8888888888888888,
             "#fdca26"
            ],
            [
             1,
             "#f0f921"
            ]
           ]
          },
          "colorway": [
           "#636efa",
           "#EF553B",
           "#00cc96",
           "#ab63fa",
           "#FFA15A",
           "#19d3f3",
           "#FF6692",
           "#B6E880",
           "#FF97FF",
           "#FECB52"
          ],
          "font": {
           "color": "#2a3f5f"
          },
          "geo": {
           "bgcolor": "white",
           "lakecolor": "white",
           "landcolor": "#E5ECF6",
           "showlakes": true,
           "showland": true,
           "subunitcolor": "white"
          },
          "hoverlabel": {
           "align": "left"
          },
          "hovermode": "closest",
          "mapbox": {
           "style": "light"
          },
          "paper_bgcolor": "white",
          "plot_bgcolor": "#E5ECF6",
          "polar": {
           "angularaxis": {
            "gridcolor": "white",
            "linecolor": "white",
            "ticks": ""
           },
           "bgcolor": "#E5ECF6",
           "radialaxis": {
            "gridcolor": "white",
            "linecolor": "white",
            "ticks": ""
           }
          },
          "scene": {
           "xaxis": {
            "backgroundcolor": "#E5ECF6",
            "gridcolor": "white",
            "gridwidth": 2,
            "linecolor": "white",
            "showbackground": true,
            "ticks": "",
            "zerolinecolor": "white"
           },
           "yaxis": {
            "backgroundcolor": "#E5ECF6",
            "gridcolor": "white",
            "gridwidth": 2,
            "linecolor": "white",
            "showbackground": true,
            "ticks": "",
            "zerolinecolor": "white"
           },
           "zaxis": {
            "backgroundcolor": "#E5ECF6",
            "gridcolor": "white",
            "gridwidth": 2,
            "linecolor": "white",
            "showbackground": true,
            "ticks": "",
            "zerolinecolor": "white"
           }
          },
          "shapedefaults": {
           "line": {
            "color": "#2a3f5f"
           }
          },
          "ternary": {
           "aaxis": {
            "gridcolor": "white",
            "linecolor": "white",
            "ticks": ""
           },
           "baxis": {
            "gridcolor": "white",
            "linecolor": "white",
            "ticks": ""
           },
           "bgcolor": "#E5ECF6",
           "caxis": {
            "gridcolor": "white",
            "linecolor": "white",
            "ticks": ""
           }
          },
          "title": {
           "x": 0.05
          },
          "xaxis": {
           "automargin": true,
           "gridcolor": "white",
           "linecolor": "white",
           "ticks": "",
           "title": {
            "standoff": 15
           },
           "zerolinecolor": "white",
           "zerolinewidth": 2
          },
          "yaxis": {
           "automargin": true,
           "gridcolor": "white",
           "linecolor": "white",
           "ticks": "",
           "title": {
            "standoff": 15
           },
           "zerolinecolor": "white",
           "zerolinewidth": 2
          }
         }
        },
        "title": {
         "text": "Double Y Axis Example"
        },
        "xaxis": {
         "anchor": "y",
         "domain": [
          0,
          0.94
         ],
         "title": {
          "text": "xaxis title"
         }
        },
        "yaxis": {
         "anchor": "x",
         "domain": [
          0,
          1
         ],
         "title": {
          "text": "<b>primary</b> yaxis title"
         }
        },
        "yaxis2": {
         "anchor": "x",
         "overlaying": "y",
         "side": "right",
         "title": {
          "text": "<b>secondary</b> yaxis title"
         }
        }
       }
      },
      "text/html": "<div>                            <div id=\"68cd14ae-241d-4c1a-9dee-a74e857b7267\" class=\"plotly-graph-div\" style=\"height:525px; width:100%;\"></div>            <script type=\"text/javascript\">                require([\"plotly\"], function(Plotly) {                    window.PLOTLYENV=window.PLOTLYENV || {};                                    if (document.getElementById(\"68cd14ae-241d-4c1a-9dee-a74e857b7267\")) {                    Plotly.newPlot(                        \"68cd14ae-241d-4c1a-9dee-a74e857b7267\",                        [{\"name\": \"yaxis data\", \"type\": \"scatter\", \"x\": [1, 2, 3], \"xaxis\": \"x\", \"y\": [40, 50, 60], \"yaxis\": \"y\"}, {\"name\": \"yaxis2 data\", \"type\": \"scatter\", \"x\": [2, 3, 4], \"xaxis\": \"x\", \"y\": [4, 5, 6], \"yaxis\": \"y2\"}],                        {\"template\": {\"data\": {\"bar\": [{\"error_x\": {\"color\": \"#2a3f5f\"}, \"error_y\": {\"color\": \"#2a3f5f\"}, \"marker\": {\"line\": {\"color\": \"#E5ECF6\", \"width\": 0.5}}, \"type\": \"bar\"}], \"barpolar\": [{\"marker\": {\"line\": {\"color\": \"#E5ECF6\", \"width\": 0.5}}, \"type\": \"barpolar\"}], \"carpet\": [{\"aaxis\": {\"endlinecolor\": \"#2a3f5f\", \"gridcolor\": \"white\", \"linecolor\": \"white\", \"minorgridcolor\": \"white\", \"startlinecolor\": \"#2a3f5f\"}, \"baxis\": {\"endlinecolor\": \"#2a3f5f\", \"gridcolor\": \"white\", \"linecolor\": \"white\", \"minorgridcolor\": \"white\", \"startlinecolor\": \"#2a3f5f\"}, \"type\": \"carpet\"}], \"choropleth\": [{\"colorbar\": {\"outlinewidth\": 0, \"ticks\": \"\"}, \"type\": \"choropleth\"}], \"contour\": [{\"colorbar\": {\"outlinewidth\": 0, \"ticks\": \"\"}, \"colorscale\": [[0.0, \"#0d0887\"], [0.1111111111111111, \"#46039f\"], [0.2222222222222222, \"#7201a8\"], [0.3333333333333333, \"#9c179e\"], [0.4444444444444444, \"#bd3786\"], [0.5555555555555556, \"#d8576b\"], [0.6666666666666666, \"#ed7953\"], [0.7777777777777778, \"#fb9f3a\"], [0.8888888888888888, \"#fdca26\"], [1.0, \"#f0f921\"]], \"type\": \"contour\"}], \"contourcarpet\": [{\"colorbar\": {\"outlinewidth\": 0, \"ticks\": \"\"}, \"type\": \"contourcarpet\"}], \"heatmap\": [{\"colorbar\": {\"outlinewidth\": 0, \"ticks\": \"\"}, \"colorscale\": [[0.0, \"#0d0887\"], [0.1111111111111111, \"#46039f\"], [0.2222222222222222, \"#7201a8\"], [0.3333333333333333, \"#9c179e\"], [0.4444444444444444, \"#bd3786\"], [0.5555555555555556, \"#d8576b\"], [0.6666666666666666, \"#ed7953\"], [0.7777777777777778, \"#fb9f3a\"], [0.8888888888888888, \"#fdca26\"], [1.0, \"#f0f921\"]], \"type\": \"heatmap\"}], \"heatmapgl\": [{\"colorbar\": {\"outlinewidth\": 0, \"ticks\": \"\"}, \"colorscale\": [[0.0, \"#0d0887\"], [0.1111111111111111, \"#46039f\"], [0.2222222222222222, \"#7201a8\"], [0.3333333333333333, \"#9c179e\"], [0.4444444444444444, \"#bd3786\"], [0.5555555555555556, \"#d8576b\"], [0.6666666666666666, \"#ed7953\"], [0.7777777777777778, \"#fb9f3a\"], [0.8888888888888888, \"#fdca26\"], [1.0, \"#f0f921\"]], \"type\": \"heatmapgl\"}], \"histogram\": [{\"marker\": {\"colorbar\": {\"outlinewidth\": 0, \"ticks\": \"\"}}, \"type\": \"histogram\"}], \"histogram2d\": [{\"colorbar\": {\"outlinewidth\": 0, \"ticks\": \"\"}, \"colorscale\": [[0.0, \"#0d0887\"], [0.1111111111111111, \"#46039f\"], [0.2222222222222222, \"#7201a8\"], [0.3333333333333333, \"#9c179e\"], [0.4444444444444444, \"#bd3786\"], [0.5555555555555556, \"#d8576b\"], [0.6666666666666666, \"#ed7953\"], [0.7777777777777778, \"#fb9f3a\"], [0.8888888888888888, \"#fdca26\"], [1.0, \"#f0f921\"]], \"type\": \"histogram2d\"}], \"histogram2dcontour\": [{\"colorbar\": {\"outlinewidth\": 0, \"ticks\": \"\"}, \"colorscale\": [[0.0, \"#0d0887\"], [0.1111111111111111, \"#46039f\"], [0.2222222222222222, \"#7201a8\"], [0.3333333333333333, \"#9c179e\"], [0.4444444444444444, \"#bd3786\"], [0.5555555555555556, \"#d8576b\"], [0.6666666666666666, \"#ed7953\"], [0.7777777777777778, \"#fb9f3a\"], [0.8888888888888888, \"#fdca26\"], [1.0, \"#f0f921\"]], \"type\": \"histogram2dcontour\"}], \"mesh3d\": [{\"colorbar\": {\"outlinewidth\": 0, \"ticks\": \"\"}, \"type\": \"mesh3d\"}], \"parcoords\": [{\"line\": {\"colorbar\": {\"outlinewidth\": 0, \"ticks\": \"\"}}, \"type\": \"parcoords\"}], \"pie\": [{\"automargin\": true, \"type\": \"pie\"}], \"scatter\": [{\"marker\": {\"colorbar\": {\"outlinewidth\": 0, \"ticks\": \"\"}}, \"type\": \"scatter\"}], \"scatter3d\": [{\"line\": {\"colorbar\": {\"outlinewidth\": 0, \"ticks\": \"\"}}, \"marker\": {\"colorbar\": {\"outlinewidth\": 0, \"ticks\": \"\"}}, \"type\": \"scatter3d\"}], \"scattercarpet\": [{\"marker\": {\"colorbar\": {\"outlinewidth\": 0, \"ticks\": \"\"}}, \"type\": \"scattercarpet\"}], \"scattergeo\": [{\"marker\": {\"colorbar\": {\"outlinewidth\": 0, \"ticks\": \"\"}}, \"type\": \"scattergeo\"}], \"scattergl\": [{\"marker\": {\"colorbar\": {\"outlinewidth\": 0, \"ticks\": \"\"}}, \"type\": \"scattergl\"}], \"scattermapbox\": [{\"marker\": {\"colorbar\": {\"outlinewidth\": 0, \"ticks\": \"\"}}, \"type\": \"scattermapbox\"}], \"scatterpolar\": [{\"marker\": {\"colorbar\": {\"outlinewidth\": 0, \"ticks\": \"\"}}, \"type\": \"scatterpolar\"}], \"scatterpolargl\": [{\"marker\": {\"colorbar\": {\"outlinewidth\": 0, \"ticks\": \"\"}}, \"type\": \"scatterpolargl\"}], \"scatterternary\": [{\"marker\": {\"colorbar\": {\"outlinewidth\": 0, \"ticks\": \"\"}}, \"type\": \"scatterternary\"}], \"surface\": [{\"colorbar\": {\"outlinewidth\": 0, \"ticks\": \"\"}, \"colorscale\": [[0.0, \"#0d0887\"], [0.1111111111111111, \"#46039f\"], [0.2222222222222222, \"#7201a8\"], [0.3333333333333333, \"#9c179e\"], [0.4444444444444444, \"#bd3786\"], [0.5555555555555556, \"#d8576b\"], [0.6666666666666666, \"#ed7953\"], [0.7777777777777778, \"#fb9f3a\"], [0.8888888888888888, \"#fdca26\"], [1.0, \"#f0f921\"]], \"type\": \"surface\"}], \"table\": [{\"cells\": {\"fill\": {\"color\": \"#EBF0F8\"}, \"line\": {\"color\": \"white\"}}, \"header\": {\"fill\": {\"color\": \"#C8D4E3\"}, \"line\": {\"color\": \"white\"}}, \"type\": \"table\"}]}, \"layout\": {\"annotationdefaults\": {\"arrowcolor\": \"#2a3f5f\", \"arrowhead\": 0, \"arrowwidth\": 1}, \"autotypenumbers\": \"strict\", \"coloraxis\": {\"colorbar\": {\"outlinewidth\": 0, \"ticks\": \"\"}}, \"colorscale\": {\"diverging\": [[0, \"#8e0152\"], [0.1, \"#c51b7d\"], [0.2, \"#de77ae\"], [0.3, \"#f1b6da\"], [0.4, \"#fde0ef\"], [0.5, \"#f7f7f7\"], [0.6, \"#e6f5d0\"], [0.7, \"#b8e186\"], [0.8, \"#7fbc41\"], [0.9, \"#4d9221\"], [1, \"#276419\"]], \"sequential\": [[0.0, \"#0d0887\"], [0.1111111111111111, \"#46039f\"], [0.2222222222222222, \"#7201a8\"], [0.3333333333333333, \"#9c179e\"], [0.4444444444444444, \"#bd3786\"], [0.5555555555555556, \"#d8576b\"], [0.6666666666666666, \"#ed7953\"], [0.7777777777777778, \"#fb9f3a\"], [0.8888888888888888, \"#fdca26\"], [1.0, \"#f0f921\"]], \"sequentialminus\": [[0.0, \"#0d0887\"], [0.1111111111111111, \"#46039f\"], [0.2222222222222222, \"#7201a8\"], [0.3333333333333333, \"#9c179e\"], [0.4444444444444444, \"#bd3786\"], [0.5555555555555556, \"#d8576b\"], [0.6666666666666666, \"#ed7953\"], [0.7777777777777778, \"#fb9f3a\"], [0.8888888888888888, \"#fdca26\"], [1.0, \"#f0f921\"]]}, \"colorway\": [\"#636efa\", \"#EF553B\", \"#00cc96\", \"#ab63fa\", \"#FFA15A\", \"#19d3f3\", \"#FF6692\", \"#B6E880\", \"#FF97FF\", \"#FECB52\"], \"font\": {\"color\": \"#2a3f5f\"}, \"geo\": {\"bgcolor\": \"white\", \"lakecolor\": \"white\", \"landcolor\": \"#E5ECF6\", \"showlakes\": true, \"showland\": true, \"subunitcolor\": \"white\"}, \"hoverlabel\": {\"align\": \"left\"}, \"hovermode\": \"closest\", \"mapbox\": {\"style\": \"light\"}, \"paper_bgcolor\": \"white\", \"plot_bgcolor\": \"#E5ECF6\", \"polar\": {\"angularaxis\": {\"gridcolor\": \"white\", \"linecolor\": \"white\", \"ticks\": \"\"}, \"bgcolor\": \"#E5ECF6\", \"radialaxis\": {\"gridcolor\": \"white\", \"linecolor\": \"white\", \"ticks\": \"\"}}, \"scene\": {\"xaxis\": {\"backgroundcolor\": \"#E5ECF6\", \"gridcolor\": \"white\", \"gridwidth\": 2, \"linecolor\": \"white\", \"showbackground\": true, \"ticks\": \"\", \"zerolinecolor\": \"white\"}, \"yaxis\": {\"backgroundcolor\": \"#E5ECF6\", \"gridcolor\": \"white\", \"gridwidth\": 2, \"linecolor\": \"white\", \"showbackground\": true, \"ticks\": \"\", \"zerolinecolor\": \"white\"}, \"zaxis\": {\"backgroundcolor\": \"#E5ECF6\", \"gridcolor\": \"white\", \"gridwidth\": 2, \"linecolor\": \"white\", \"showbackground\": true, \"ticks\": \"\", \"zerolinecolor\": \"white\"}}, \"shapedefaults\": {\"line\": {\"color\": \"#2a3f5f\"}}, \"ternary\": {\"aaxis\": {\"gridcolor\": \"white\", \"linecolor\": \"white\", \"ticks\": \"\"}, \"baxis\": {\"gridcolor\": \"white\", \"linecolor\": \"white\", \"ticks\": \"\"}, \"bgcolor\": \"#E5ECF6\", \"caxis\": {\"gridcolor\": \"white\", \"linecolor\": \"white\", \"ticks\": \"\"}}, \"title\": {\"x\": 0.05}, \"xaxis\": {\"automargin\": true, \"gridcolor\": \"white\", \"linecolor\": \"white\", \"ticks\": \"\", \"title\": {\"standoff\": 15}, \"zerolinecolor\": \"white\", \"zerolinewidth\": 2}, \"yaxis\": {\"automargin\": true, \"gridcolor\": \"white\", \"linecolor\": \"white\", \"ticks\": \"\", \"title\": {\"standoff\": 15}, \"zerolinecolor\": \"white\", \"zerolinewidth\": 2}}}, \"title\": {\"text\": \"Double Y Axis Example\"}, \"xaxis\": {\"anchor\": \"y\", \"domain\": [0.0, 0.94], \"title\": {\"text\": \"xaxis title\"}}, \"yaxis\": {\"anchor\": \"x\", \"domain\": [0.0, 1.0], \"title\": {\"text\": \"<b>primary</b> yaxis title\"}}, \"yaxis2\": {\"anchor\": \"x\", \"overlaying\": \"y\", \"side\": \"right\", \"title\": {\"text\": \"<b>secondary</b> yaxis title\"}}},                        {\"responsive\": true}                    ).then(function(){\n                            \nvar gd = document.getElementById('68cd14ae-241d-4c1a-9dee-a74e857b7267');\nvar x = new MutationObserver(function (mutations, observer) {{\n        var display = window.getComputedStyle(gd).display;\n        if (!display || display === 'none') {{\n            console.log([gd, 'removed!']);\n            Plotly.purge(gd);\n            observer.disconnect();\n        }}\n}});\n\n// Listen for the removal of the full notebook cells\nvar notebookContainer = gd.closest('#notebook-container');\nif (notebookContainer) {{\n    x.observe(notebookContainer, {childList: true});\n}}\n\n// Listen for the clearing of the current output cell\nvar outputEl = gd.closest('.output');\nif (outputEl) {{\n    x.observe(outputEl, {childList: true});\n}}\n\n                        })                };                });            </script>        </div>"
     },
     "metadata": {}
    }
   ],
   "source": [
    "import plotly.graph_objects as go\n",
    "from plotly.subplots import make_subplots\n",
    "\n",
    "# Create figure with secondary y-axis\n",
    "fig = make_subplots(specs=[[{\"secondary_y\": True}]])\n",
    "\n",
    "# Add traces\n",
    "fig.add_trace(\n",
    "    go.Scatter(x=[1, 2, 3], y=[40, 50, 60], name=\"yaxis data\"),\n",
    "    secondary_y=False,\n",
    ")\n",
    "\n",
    "fig.add_trace(\n",
    "    go.Scatter(x=[2, 3, 4], y=[4, 5, 6], name=\"yaxis2 data\"),\n",
    "    secondary_y=True,\n",
    ")\n",
    "\n",
    "# Add figure title\n",
    "fig.update_layout(\n",
    "    title_text=\"Double Y Axis Example\"\n",
    ")\n",
    "\n",
    "# Set x-axis title\n",
    "fig.update_xaxes(title_text=\"xaxis title\")\n",
    "\n",
    "# Set y-axes titles\n",
    "fig.update_yaxes(title_text=\"<b>primary</b> yaxis title\", secondary_y=False)\n",
    "fig.update_yaxes(title_text=\"<b>secondary</b> yaxis title\", secondary_y=True)\n",
    "\n",
    "fig.show()"
   ]
  },
  {
   "cell_type": "code",
   "execution_count": 16,
   "metadata": {},
   "outputs": [
    {
     "output_type": "error",
     "ename": "ValueError",
     "evalue": "All arguments should have the same length. The length of argument `y` is 2, whereas the length of  previously-processed arguments ['datetime'] is 100000",
     "traceback": [
      "\u001b[0;31m---------------------------------------------------------------------------\u001b[0m",
      "\u001b[0;31mValueError\u001b[0m                                Traceback (most recent call last)",
      "\u001b[0;32m<ipython-input-16-8b6366c80932>\u001b[0m in \u001b[0;36m<module>\u001b[0;34m\u001b[0m\n\u001b[1;32m      2\u001b[0m \u001b[0mfig\u001b[0m \u001b[0;34m=\u001b[0m \u001b[0mgo\u001b[0m\u001b[0;34m.\u001b[0m\u001b[0mFigure\u001b[0m\u001b[0;34m(\u001b[0m\u001b[0;34m)\u001b[0m\u001b[0;34m\u001b[0m\u001b[0;34m\u001b[0m\u001b[0m\n\u001b[1;32m      3\u001b[0m \u001b[0;34m\u001b[0m\u001b[0m\n\u001b[0;32m----> 4\u001b[0;31m \u001b[0mfig\u001b[0m \u001b[0;34m=\u001b[0m \u001b[0mpx\u001b[0m\u001b[0;34m.\u001b[0m\u001b[0mline\u001b[0m\u001b[0;34m(\u001b[0m\u001b[0mcq_price\u001b[0m\u001b[0;34m,\u001b[0m \u001b[0mx\u001b[0m\u001b[0;34m=\u001b[0m\u001b[0;34m'datetime'\u001b[0m\u001b[0;34m,\u001b[0m \u001b[0my\u001b[0m\u001b[0;34m=\u001b[0m\u001b[0;34m[\u001b[0m\u001b[0;34m'price_usd_close'\u001b[0m\u001b[0;34m,\u001b[0m \u001b[0;34m'inflow_total'\u001b[0m\u001b[0;34m]\u001b[0m\u001b[0;34m,\u001b[0m \u001b[0mtitle\u001b[0m\u001b[0;34m=\u001b[0m\u001b[0;34m'Price'\u001b[0m\u001b[0;34m)\u001b[0m\u001b[0;34m\u001b[0m\u001b[0;34m\u001b[0m\u001b[0m\n\u001b[0m\u001b[1;32m      5\u001b[0m \u001b[0;31m# fig.add_scatter(cq_inflow, x='datetime', y='inflow_total', title='Inflo')\u001b[0m\u001b[0;34m\u001b[0m\u001b[0;34m\u001b[0m\u001b[0;34m\u001b[0m\u001b[0m\n\u001b[1;32m      6\u001b[0m \u001b[0;34m\u001b[0m\u001b[0m\n",
      "\u001b[0;32m~/dev/crypto/.venv/lib/python3.8/site-packages/plotly/express/_chart_types.py\u001b[0m in \u001b[0;36mline\u001b[0;34m(data_frame, x, y, line_group, color, line_dash, hover_name, hover_data, custom_data, text, facet_row, facet_col, facet_col_wrap, facet_row_spacing, facet_col_spacing, error_x, error_x_minus, error_y, error_y_minus, animation_frame, animation_group, category_orders, labels, orientation, color_discrete_sequence, color_discrete_map, line_dash_sequence, line_dash_map, log_x, log_y, range_x, range_y, line_shape, render_mode, title, template, width, height)\u001b[0m\n\u001b[1;32m    250\u001b[0m     \u001b[0ma\u001b[0m \u001b[0mpolyline\u001b[0m \u001b[0mmark\u001b[0m \u001b[0;32min\u001b[0m \u001b[0;36m2\u001b[0m\u001b[0mD\u001b[0m \u001b[0mspace\u001b[0m\u001b[0;34m.\u001b[0m\u001b[0;34m\u001b[0m\u001b[0;34m\u001b[0m\u001b[0m\n\u001b[1;32m    251\u001b[0m     \"\"\"\n\u001b[0;32m--> 252\u001b[0;31m     \u001b[0;32mreturn\u001b[0m \u001b[0mmake_figure\u001b[0m\u001b[0;34m(\u001b[0m\u001b[0margs\u001b[0m\u001b[0;34m=\u001b[0m\u001b[0mlocals\u001b[0m\u001b[0;34m(\u001b[0m\u001b[0;34m)\u001b[0m\u001b[0;34m,\u001b[0m \u001b[0mconstructor\u001b[0m\u001b[0;34m=\u001b[0m\u001b[0mgo\u001b[0m\u001b[0;34m.\u001b[0m\u001b[0mScatter\u001b[0m\u001b[0;34m)\u001b[0m\u001b[0;34m\u001b[0m\u001b[0;34m\u001b[0m\u001b[0m\n\u001b[0m\u001b[1;32m    253\u001b[0m \u001b[0;34m\u001b[0m\u001b[0m\n\u001b[1;32m    254\u001b[0m \u001b[0;34m\u001b[0m\u001b[0m\n",
      "\u001b[0;32m~/dev/crypto/.venv/lib/python3.8/site-packages/plotly/express/_core.py\u001b[0m in \u001b[0;36mmake_figure\u001b[0;34m(args, constructor, trace_patch, layout_patch)\u001b[0m\n\u001b[1;32m   1859\u001b[0m     \u001b[0mapply_default_cascade\u001b[0m\u001b[0;34m(\u001b[0m\u001b[0margs\u001b[0m\u001b[0;34m)\u001b[0m\u001b[0;34m\u001b[0m\u001b[0;34m\u001b[0m\u001b[0m\n\u001b[1;32m   1860\u001b[0m \u001b[0;34m\u001b[0m\u001b[0m\n\u001b[0;32m-> 1861\u001b[0;31m     \u001b[0margs\u001b[0m \u001b[0;34m=\u001b[0m \u001b[0mbuild_dataframe\u001b[0m\u001b[0;34m(\u001b[0m\u001b[0margs\u001b[0m\u001b[0;34m,\u001b[0m \u001b[0mconstructor\u001b[0m\u001b[0;34m)\u001b[0m\u001b[0;34m\u001b[0m\u001b[0;34m\u001b[0m\u001b[0m\n\u001b[0m\u001b[1;32m   1862\u001b[0m     \u001b[0;32mif\u001b[0m \u001b[0mconstructor\u001b[0m \u001b[0;32min\u001b[0m \u001b[0;34m[\u001b[0m\u001b[0mgo\u001b[0m\u001b[0;34m.\u001b[0m\u001b[0mTreemap\u001b[0m\u001b[0;34m,\u001b[0m \u001b[0mgo\u001b[0m\u001b[0;34m.\u001b[0m\u001b[0mSunburst\u001b[0m\u001b[0;34m]\u001b[0m \u001b[0;32mand\u001b[0m \u001b[0margs\u001b[0m\u001b[0;34m[\u001b[0m\u001b[0;34m\"path\"\u001b[0m\u001b[0;34m]\u001b[0m \u001b[0;32mis\u001b[0m \u001b[0;32mnot\u001b[0m \u001b[0;32mNone\u001b[0m\u001b[0;34m:\u001b[0m\u001b[0;34m\u001b[0m\u001b[0;34m\u001b[0m\u001b[0m\n\u001b[1;32m   1863\u001b[0m         \u001b[0margs\u001b[0m \u001b[0;34m=\u001b[0m \u001b[0mprocess_dataframe_hierarchy\u001b[0m\u001b[0;34m(\u001b[0m\u001b[0margs\u001b[0m\u001b[0;34m)\u001b[0m\u001b[0;34m\u001b[0m\u001b[0;34m\u001b[0m\u001b[0m\n",
      "\u001b[0;32m~/dev/crypto/.venv/lib/python3.8/site-packages/plotly/express/_core.py\u001b[0m in \u001b[0;36mbuild_dataframe\u001b[0;34m(args, constructor)\u001b[0m\n\u001b[1;32m   1375\u001b[0m     \u001b[0;31m# now that things have been prepped, we do the systematic rewriting of `args`\u001b[0m\u001b[0;34m\u001b[0m\u001b[0;34m\u001b[0m\u001b[0;34m\u001b[0m\u001b[0m\n\u001b[1;32m   1376\u001b[0m \u001b[0;34m\u001b[0m\u001b[0m\n\u001b[0;32m-> 1377\u001b[0;31m     df_output, wide_id_vars = process_args_into_dataframe(\n\u001b[0m\u001b[1;32m   1378\u001b[0m         \u001b[0margs\u001b[0m\u001b[0;34m,\u001b[0m \u001b[0mwide_mode\u001b[0m\u001b[0;34m,\u001b[0m \u001b[0mvar_name\u001b[0m\u001b[0;34m,\u001b[0m \u001b[0mvalue_name\u001b[0m\u001b[0;34m\u001b[0m\u001b[0;34m\u001b[0m\u001b[0m\n\u001b[1;32m   1379\u001b[0m     )\n",
      "\u001b[0;32m~/dev/crypto/.venv/lib/python3.8/site-packages/plotly/express/_core.py\u001b[0m in \u001b[0;36mprocess_args_into_dataframe\u001b[0;34m(args, wide_mode, var_name, value_name)\u001b[0m\n\u001b[1;32m   1219\u001b[0m \u001b[0;34m\u001b[0m\u001b[0m\n\u001b[1;32m   1220\u001b[0m                 \u001b[0;32mif\u001b[0m \u001b[0mlength\u001b[0m \u001b[0;32mand\u001b[0m \u001b[0mlen\u001b[0m\u001b[0;34m(\u001b[0m\u001b[0margument\u001b[0m\u001b[0;34m)\u001b[0m \u001b[0;34m!=\u001b[0m \u001b[0mlength\u001b[0m\u001b[0;34m:\u001b[0m\u001b[0;34m\u001b[0m\u001b[0;34m\u001b[0m\u001b[0m\n\u001b[0;32m-> 1221\u001b[0;31m                     raise ValueError(\n\u001b[0m\u001b[1;32m   1222\u001b[0m                         \u001b[0;34m\"All arguments should have the same length. \"\u001b[0m\u001b[0;34m\u001b[0m\u001b[0;34m\u001b[0m\u001b[0m\n\u001b[1;32m   1223\u001b[0m                         \u001b[0;34m\"The length of argument `%s` is %d, whereas the \"\u001b[0m\u001b[0;34m\u001b[0m\u001b[0;34m\u001b[0m\u001b[0m\n",
      "\u001b[0;31mValueError\u001b[0m: All arguments should have the same length. The length of argument `y` is 2, whereas the length of  previously-processed arguments ['datetime'] is 100000"
     ]
    }
   ],
   "source": [
    "#fig = make_subplots(specs=[[{'secondary_y': True}]])\n",
    "fig = go.Figure()\n",
    "\n",
    "fig = px.line(cq_price, x='datetime', y=['price_usd_close', 'inflow_total'], title='Price')\n",
    "# fig.add_scatter(cq_inflow, x='datetime', y='inflow_total', title='Inflo')\n",
    "\n",
    "\n",
    "# fig.add_trace(go.Scatter(x=cq_price['datetime'], y=cq_prce['price_usd_close']),  marker=dict(color=\"blue\"),showlegend=False)\n",
    "# fig.add_trace(go.Scatter(x=cq_price['datetime'], y=cq_inflow['inflow_total']),  marker=dict(color=\"green\"),showlegend=False)\n",
    "\n",
    "fig.show()\n"
   ]
  },
  {
   "cell_type": "code",
   "execution_count": 15,
   "metadata": {},
   "outputs": [
    {
     "output_type": "error",
     "ename": "NameError",
     "evalue": "name 'iplot' is not defined",
     "traceback": [
      "\u001b[0;31m---------------------------------------------------------------------------\u001b[0m",
      "\u001b[0;31mNameError\u001b[0m                                 Traceback (most recent call last)",
      "\u001b[0;32m<ipython-input-15-316679ae0f23>\u001b[0m in \u001b[0;36m<module>\u001b[0;34m\u001b[0m\n\u001b[1;32m      1\u001b[0m \u001b[0mtrace1\u001b[0m \u001b[0;34m=\u001b[0m \u001b[0mgo\u001b[0m\u001b[0;34m.\u001b[0m\u001b[0mScatter\u001b[0m\u001b[0;34m(\u001b[0m\u001b[0mx\u001b[0m\u001b[0;34m=\u001b[0m\u001b[0mdf_price_and_inflow\u001b[0m\u001b[0;34m.\u001b[0m\u001b[0mdatetime_x\u001b[0m\u001b[0;34m,\u001b[0m \u001b[0my\u001b[0m\u001b[0;34m=\u001b[0m\u001b[0mdf_price_and_inflow\u001b[0m\u001b[0;34m.\u001b[0m\u001b[0mprice_usd_close\u001b[0m\u001b[0;34m,\u001b[0m \u001b[0mmode\u001b[0m\u001b[0;34m=\u001b[0m\u001b[0;34m'lines'\u001b[0m\u001b[0;34m)\u001b[0m\u001b[0;34m\u001b[0m\u001b[0;34m\u001b[0m\u001b[0m\n\u001b[1;32m      2\u001b[0m \u001b[0mtrace2\u001b[0m \u001b[0;34m=\u001b[0m \u001b[0mgo\u001b[0m\u001b[0;34m.\u001b[0m\u001b[0mScatter\u001b[0m\u001b[0;34m(\u001b[0m\u001b[0mx\u001b[0m\u001b[0;34m=\u001b[0m\u001b[0mdf_price_and_inflow\u001b[0m\u001b[0;34m.\u001b[0m\u001b[0mdatetime_x\u001b[0m\u001b[0;34m,\u001b[0m \u001b[0my\u001b[0m\u001b[0;34m=\u001b[0m\u001b[0mdf_price_and_inflow\u001b[0m\u001b[0;34m.\u001b[0m\u001b[0minflow_total\u001b[0m\u001b[0;34m,\u001b[0m \u001b[0mmode\u001b[0m\u001b[0;34m=\u001b[0m\u001b[0;34m'lines'\u001b[0m\u001b[0;34m)\u001b[0m\u001b[0;34m\u001b[0m\u001b[0;34m\u001b[0m\u001b[0m\n\u001b[0;32m----> 3\u001b[0;31m \u001b[0miplot\u001b[0m\u001b[0;34m(\u001b[0m\u001b[0mgo\u001b[0m\u001b[0;34m.\u001b[0m\u001b[0mFigure\u001b[0m\u001b[0;34m(\u001b[0m\u001b[0;34m[\u001b[0m\u001b[0mtrace1\u001b[0m\u001b[0;34m,\u001b[0m \u001b[0mtrace2\u001b[0m\u001b[0;34m]\u001b[0m\u001b[0;34m)\u001b[0m\u001b[0;34m)\u001b[0m\u001b[0;34m\u001b[0m\u001b[0;34m\u001b[0m\u001b[0m\n\u001b[0m",
      "\u001b[0;31mNameError\u001b[0m: name 'iplot' is not defined"
     ]
    }
   ],
   "source": [
    "trace1 = go.Scatter(x=df_price_and_inflow.datetime_x, y=df_price_and_inflow.price_usd_close, mode='lines')\n",
    "trace2 = go.Scatter(x=df_price_and_inflow.datetime_x, y=df_price_and_inflow.inflow_total, mode='lines')\n",
    "iplot(go.Figure([trace1, trace2]))"
   ]
  },
  {
   "cell_type": "code",
   "execution_count": null,
   "metadata": {},
   "outputs": [],
   "source": []
  },
  {
   "cell_type": "code",
   "execution_count": null,
   "metadata": {},
   "outputs": [],
   "source": []
  },
  {
   "cell_type": "code",
   "execution_count": null,
   "metadata": {},
   "outputs": [],
   "source": []
  },
  {
   "cell_type": "code",
   "execution_count": null,
   "metadata": {},
   "outputs": [],
   "source": []
  },
  {
   "cell_type": "code",
   "execution_count": null,
   "metadata": {},
   "outputs": [],
   "source": []
  },
  {
   "cell_type": "code",
   "execution_count": null,
   "metadata": {},
   "outputs": [],
   "source": []
  },
  {
   "cell_type": "code",
   "execution_count": null,
   "metadata": {},
   "outputs": [],
   "source": []
  },
  {
   "cell_type": "code",
   "execution_count": null,
   "metadata": {},
   "outputs": [],
   "source": []
  },
  {
   "cell_type": "code",
   "execution_count": null,
   "metadata": {},
   "outputs": [],
   "source": [
    "cq_data[0:5]"
   ]
  },
  {
   "cell_type": "code",
   "execution_count": null,
   "metadata": {},
   "outputs": [],
   "source": [
    "PATH = 'btc/exchange-flows/reserve'\n",
    "URL = urljoin(API_URL, PATH)\n",
    "params = {\n",
    "    'exchange': 'binance',\n",
    "    'window': 'block',\n",
    "    'limit': 100000\n",
    "}\n",
    "\n",
    "response = requests.get(URL, headers=headers, params=params).json()\n",
    "# print(response['status'])\n",
    "cq_data = response['result']['data']\n",
    "len(cq_data)"
   ]
  },
  {
   "cell_type": "code",
   "execution_count": null,
   "metadata": {},
   "outputs": [],
   "source": [
    "cq_data[0:5]"
   ]
  },
  {
   "cell_type": "code",
   "execution_count": null,
   "metadata": {},
   "outputs": [],
   "source": [
    "PATH = 'btc/exchange-flows/outflow'\n",
    "URL = urljoin(API_URL, PATH)\n",
    "params = {\n",
    "    'exchange': 'binance',\n",
    "    'window': 'block',\n",
    "    'limit': 100000\n",
    "}\n",
    "\n",
    "response = requests.get(URL, headers=headers, params=params).json()\n",
    "# print(response['status'])\n",
    "cq_data = response['result']['data']\n",
    "len(cq_data)"
   ]
  },
  {
   "cell_type": "code",
   "execution_count": null,
   "metadata": {},
   "outputs": [],
   "source": [
    "df_cq_data = pd.DataFrame(cq_data)"
   ]
  },
  {
   "cell_type": "code",
   "execution_count": null,
   "metadata": {},
   "outputs": [],
   "source": [
    "# df_cq_data['datetime']\n",
    "df_cq_data[0:5]"
   ]
  },
  {
   "cell_type": "code",
   "execution_count": null,
   "metadata": {},
   "outputs": [],
   "source": [
    "import plotly.express as px\n",
    "import plotly.graph_objects as go \n",
    "\n",
    "area_chart = px.area(df_cq_data, x='datetime', y='inflow_total', title='Inflow Total')\n",
    "area_chart.update_xaxes(title_text = 'Date')\n",
    "area_chart.update_yaxes(title_text = 'Inflow Total', tickprefix = '$')\n",
    "area_chart.update_layout(showlegend = False)\n",
    "area_chart.show()\n",
    "\n"
   ]
  },
  {
   "cell_type": "code",
   "execution_count": null,
   "metadata": {},
   "outputs": [],
   "source": [
    "candlestick = go.Figure(data = [go.Candlestick(x = df_from_db['Date'], \n",
    "                                               open = df_from_db['Open'], \n",
    "                                               high = df_from_db['High'], \n",
    "                                               low = df_from_db['Low'], \n",
    "                                               close = df_from_db['Close'])])\n",
    "\n",
    "candlestick.update_layout(xaxis_rangeslider_visible = False, title = 'BTCUSDT')\n",
    "candlestick.update_xaxes(title_text = 'Date')\n",
    "candlestick.update_yaxes(title_text = 'BTCUSDT Close Price', tickprefix = '$')\n",
    "\n",
    "candlestick.show()"
   ]
  },
  {
   "cell_type": "code",
   "execution_count": null,
   "metadata": {},
   "outputs": [],
   "source": []
  },
  {
   "cell_type": "code",
   "execution_count": null,
   "metadata": {},
   "outputs": [],
   "source": [
    "df['Close']"
   ]
  },
  {
   "cell_type": "code",
   "execution_count": null,
   "metadata": {},
   "outputs": [],
   "source": [
    "df['Close'].plot()"
   ]
  },
  {
   "cell_type": "code",
   "execution_count": null,
   "metadata": {},
   "outputs": [],
   "source": [
    "max(df['Close'])"
   ]
  },
  {
   "cell_type": "code",
   "execution_count": null,
   "metadata": {},
   "outputs": [],
   "source": [
    "min(df['Close'])"
   ]
  },
  {
   "cell_type": "code",
   "execution_count": null,
   "metadata": {},
   "outputs": [],
   "source": [
    "df['Close'].rolling(3).mean()\n",
    "\n"
   ]
  },
  {
   "cell_type": "code",
   "execution_count": null,
   "metadata": {},
   "outputs": [],
   "source": [
    "fig, ax = plt.subplots(figsize=(10,5))\n",
    "\n",
    "ax.set_title('INDEX', fontsize=15)\n",
    "ax.set_ylabel(\"BTCUSDT\")\n",
    "ax.set_xlabel(\"Date Time\")\n",
    "ax.plot(df.index, df[['Close'], df['Close'].rolling(3).mean])\n",
    "ax.legend(['Close','MA5','MA10'])\n",
    "plt.show()"
   ]
  },
  {
   "cell_type": "code",
   "execution_count": null,
   "metadata": {},
   "outputs": [],
   "source": [
    "\n",
    "\n"
   ]
  },
  {
   "cell_type": "code",
   "execution_count": null,
   "metadata": {},
   "outputs": [],
   "source": []
  }
 ]
}