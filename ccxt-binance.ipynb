{
 "metadata": {
  "language_info": {
   "codemirror_mode": {
    "name": "ipython",
    "version": 3
   },
   "file_extension": ".py",
   "mimetype": "text/x-python",
   "name": "python",
   "nbconvert_exporter": "python",
   "pygments_lexer": "ipython3",
   "version": "3.8.10"
  },
  "orig_nbformat": 2,
  "kernelspec": {
   "name": "python3",
   "display_name": "Python 3.8.10 64-bit ('venv': venv)"
  },
  "interpreter": {
   "hash": "703d482c079a7afa9ebd53b71cbe02730ba23b5953ded63e56add7759604ddd7"
  }
 },
 "nbformat": 4,
 "nbformat_minor": 2,
 "cells": [
  {
   "cell_type": "code",
   "execution_count": 2,
   "source": [
    "from binance.client import Client\n",
    "import binance\n",
    "from datetime import datetime \n",
    "import configparser\n",
    "import json\n",
    "import requests\n",
    "import ccxt\n",
    "import time\n",
    "from pprint import pprint \n",
    "\n",
    "\n",
    "def table(values):\n",
    "    first = values[0]\n",
    "    keys = list(first.keys()) if isinstance(first, dict) else range(0, len(first))\n",
    "    widths = [max([len(str(v[k])) for v in values]) for k in keys]\n",
    "    string = ' | '.join(['{:<' + str(w) + '}' for w in widths])\n",
    "    return \"\\n\".join([string.format(*[str(v[k]) for k in keys]) for v in values])\n",
    "\n",
    "\n",
    "def date_from_timestamp(timestamp):\n",
    "    return(timestamp/1000)\n",
    "\n",
    "\n",
    "config = configparser.ConfigParser()\n",
    "config.read('config.ini')\n",
    "\n",
    "API_KEY = config['BINANCE']['API_KEY']\n",
    "SECRET_KEY = config['BINANCE']['SECRET_KEY']\n",
    "API_URL = config['BINANCE']['API_URL']\n",
    "\n",
    "\n",
    "print('CCXT Version: ', ccxt.__version__)\n",
    "exchange_id = 'binance'\n",
    "exchange = ccxt.binance({\n",
    "    'options': {\n",
    "        'adjustForTimeDifference': True,\n",
    "        'defaultType': 'future'\n",
    "    },\n",
    "    'enableRateLimit': True,\n",
    "    'apiKey': API_KEY,\n",
    "    'secret': SECRET_KEY,\n",
    "})\n",
    "\n"
   ],
   "outputs": [
    {
     "output_type": "stream",
     "name": "stdout",
     "text": [
      "CCXT Version:  1.45.42\n"
     ]
    }
   ],
   "metadata": {}
  },
  {
   "cell_type": "code",
   "execution_count": 33,
   "source": [
    "#잔고보기\n",
    "binance=ccxt.binance({\n",
    "    'apiKey' : 'iGZ7SwwhHZ02IGg3pYTJGR7dTYHu6T8kIiCVnsDYRreUDTjg6fkTocFi4uHmcv0R',\n",
    "    'secret' : 'iZot0U2sE7vpZ8AyIp4sBsJrwqib3SVmmSntu4JDnPlEflPXov3qCofcpOQuKwxW',\n",
    "})\n",
    "balance=binance.fetch_balance()\n",
    "print(balance['BTC']['free'])"
   ],
   "outputs": [
    {
     "output_type": "stream",
     "name": "stdout",
     "text": [
      "0.00581518 0.0 200.49400131\n"
     ]
    }
   ],
   "metadata": {}
  },
  {
   "cell_type": "code",
   "execution_count": 34,
   "source": [
    "#시장가 매수\n",
    "order = binance.create_market_buy_order('BTC/USDT', 50)\n",
    "print(order)"
   ],
   "outputs": [
    {
     "output_type": "stream",
     "name": "stdout",
     "text": [
      "{'info': {'symbol': 'DOGEUSDT', 'orderId': '1539125160', 'orderListId': '-1', 'clientOrderId': 'x-R4BD3S8231bd1f888ef2174f26f6a', 'transactTime': '1627384391047', 'price': '0.00000000', 'origQty': '50.00000000', 'executedQty': '50.00000000', 'cummulativeQuoteQty': '10.16250000', 'status': 'FILLED', 'timeInForce': 'GTC', 'type': 'MARKET', 'side': 'BUY', 'fills': [{'price': '0.20325000', 'qty': '50.00000000', 'commission': '0.05000000', 'commissionAsset': 'DOGE', 'tradeId': '296632810'}]}, 'id': '1539125160', 'clientOrderId': 'x-R4BD3S8231bd1f888ef2174f26f6a', 'timestamp': 1627384391047, 'datetime': '2021-07-27T11:13:11.047Z', 'lastTradeTimestamp': None, 'symbol': 'DOGE/USDT', 'type': 'market', 'timeInForce': 'GTC', 'postOnly': False, 'side': 'buy', 'price': 0.20325, 'stopPrice': None, 'amount': 50.0, 'cost': 10.1625, 'average': 0.20325, 'filled': 50.0, 'remaining': 0.0, 'status': 'closed', 'fee': {'cost': 0.05, 'currency': 'DOGE'}, 'trades': [{'info': {'price': '0.20325000', 'qty': '50.00000000', 'commission': '0.05000000', 'commissionAsset': 'DOGE', 'tradeId': '296632810'}, 'timestamp': None, 'datetime': None, 'symbol': 'DOGE/USDT', 'id': None, 'order': None, 'type': None, 'side': None, 'takerOrMaker': None, 'price': 0.20325, 'amount': 50.0, 'cost': 10.1625, 'fee': {'cost': 0.05, 'currency': 'DOGE'}}]}\n"
     ]
    }
   ],
   "metadata": {}
  },
  {
   "cell_type": "code",
   "execution_count": 35,
   "source": [
    "#시장가 매도\n",
    "#order = binance.create_market_sell_order('DOGE/USDT', 49.95)\n",
    "print(order)"
   ],
   "outputs": [
    {
     "output_type": "stream",
     "name": "stdout",
     "text": [
      "{'info': {'symbol': 'DOGEUSDT', 'orderId': '1539126657', 'orderListId': '-1', 'clientOrderId': 'x-R4BD3S8293e460d441c461aef9359c', 'transactTime': '1627384427384', 'price': '0.00000000', 'origQty': '49.90000000', 'executedQty': '49.90000000', 'cummulativeQuoteQty': '10.14267400', 'status': 'FILLED', 'timeInForce': 'GTC', 'type': 'MARKET', 'side': 'SELL', 'fills': [{'price': '0.20326000', 'qty': '49.90000000', 'commission': '0.01014267', 'commissionAsset': 'USDT', 'tradeId': '296632927'}]}, 'id': '1539126657', 'clientOrderId': 'x-R4BD3S8293e460d441c461aef9359c', 'timestamp': 1627384427384, 'datetime': '2021-07-27T11:13:47.384Z', 'lastTradeTimestamp': None, 'symbol': 'DOGE/USDT', 'type': 'market', 'timeInForce': 'GTC', 'postOnly': False, 'side': 'sell', 'price': 0.20326, 'stopPrice': None, 'amount': 49.9, 'cost': 10.142674, 'average': 0.20326, 'filled': 49.9, 'remaining': 0.0, 'status': 'closed', 'fee': {'cost': 0.01014267, 'currency': 'USDT'}, 'trades': [{'info': {'price': '0.20326000', 'qty': '49.90000000', 'commission': '0.01014267', 'commissionAsset': 'USDT', 'tradeId': '296632927'}, 'timestamp': None, 'datetime': None, 'symbol': 'DOGE/USDT', 'id': None, 'order': None, 'type': None, 'side': None, 'takerOrMaker': None, 'price': 0.20326, 'amount': 49.9, 'cost': 10.142674, 'fee': {'cost': 0.01014267, 'currency': 'USDT'}}]}\n"
     ]
    }
   ],
   "metadata": {}
  },
  {
   "cell_type": "code",
   "execution_count": null,
   "source": [
    "pprint(exchange.fapiPublic_get_ticker_24hr())"
   ],
   "outputs": [],
   "metadata": {}
  },
  {
   "cell_type": "code",
   "execution_count": null,
   "source": [
    "markets = exchange.load_markets()\n",
    "# pprint(markets)\n",
    "pprint(markets.keys())\n",
    "pprint(markets['BTC/USDT'])"
   ],
   "outputs": [],
   "metadata": {}
  },
  {
   "cell_type": "code",
   "execution_count": null,
   "source": [
    "balance = exchange.fetch_balance()\n",
    "# pprint(balance.keys())\n",
    "# pprint(balance)\n",
    "# pprint(balance['total']['USDT'])\n",
    "usdt_balance = balance['total']['USDT']\n",
    "print('My current USDT balance: ', usdt_balance)"
   ],
   "outputs": [],
   "metadata": {
    "tags": []
   }
  },
  {
   "cell_type": "code",
   "execution_count": null,
   "source": [
    "pprint(balance['info']['availableBalance'])\n",
    "pprint(balance['info']['totalUnrealizedProfit'])\n",
    "# pprint(balance['info']['positions'])"
   ],
   "outputs": [],
   "metadata": {}
  },
  {
   "cell_type": "code",
   "execution_count": null,
   "source": [
    "all_positions = balance['info']['positions']\n",
    "current_positions = [position for position in all_positions if (float(position['positionAmt']) < 0  or float(position['positionAmt']) > 0)]\n",
    "pprint(current_positions)"
   ],
   "outputs": [],
   "metadata": {}
  },
  {
   "cell_type": "code",
   "execution_count": null,
   "source": [
    "current_markets_ids = [position['symbol'] for position in current_positions]\n",
    "# print(current_markets_ids[0])\n",
    "print(type(current_markets_ids))\n",
    "pprint(len(current_markets_ids))\n",
    "\n",
    "# market = exchange.markets_by_id[current_markets_ids[0]]\n",
    "# pprint(market)\n",
    "\n",
    "# for handling multiple markets \n",
    "\n",
    "if len(current_markets_ids) > 0 :\n",
    "    current_markets = [exchange.markets_by_id[market_id] for market_id in current_markets_ids]\n",
    "else :\n",
    "    current_markets = None\n",
    "pprint(current_markets)\n",
    "\n",
    "\n",
    "\n"
   ],
   "outputs": [],
   "metadata": {}
  },
  {
   "cell_type": "code",
   "execution_count": null,
   "source": [],
   "outputs": [],
   "metadata": {}
  },
  {
   "cell_type": "code",
   "execution_count": null,
   "source": [
    "symbol = 'BTCUSDT'\n",
    "pprint(exchange.fapiPublic_get_ticker_24hr({'symbol': symbol}))\n",
    "pprint(exchange.fapiPublicGetFundingRate({'symbol': symbol}))\n",
    "\n",
    "# pprint(exchange.fapiPublic_get_ticker_24hr()"
   ],
   "outputs": [],
   "metadata": {}
  },
  {
   "cell_type": "code",
   "execution_count": null,
   "source": [
    "symbol = 'OCEAN/USDT'\n",
    "market = exchange.market(symbol)\n"
   ],
   "outputs": [],
   "metadata": {}
  },
  {
   "cell_type": "code",
   "execution_count": null,
   "source": [
    "None == []"
   ],
   "outputs": [],
   "metadata": {}
  },
  {
   "cell_type": "code",
   "execution_count": null,
   "source": [
    "exchange.fetchStatus()"
   ],
   "outputs": [],
   "metadata": {}
  },
  {
   "cell_type": "code",
   "execution_count": null,
   "source": [],
   "outputs": [],
   "metadata": {}
  }
 ]
}