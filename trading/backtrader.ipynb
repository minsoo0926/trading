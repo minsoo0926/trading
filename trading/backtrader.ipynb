{
 "metadata": {
  "language_info": {
   "codemirror_mode": {
    "name": "ipython",
    "version": 3
   },
   "file_extension": ".py",
   "mimetype": "text/x-python",
   "name": "python",
   "nbconvert_exporter": "python",
   "pygments_lexer": "ipython3",
   "version": "3.8.3"
  },
  "orig_nbformat": 2,
  "kernelspec": {
   "name": "python3",
   "display_name": "Python 3.8.3  ('.venv': venv)"
  },
  "metadata": {
   "interpreter": {
    "hash": "09f4dcfb3e964316099ed5c193f7e1b40b926ea02855df65dc4d9b607a760bc3"
   }
  },
  "interpreter": {
   "hash": "09f4dcfb3e964316099ed5c193f7e1b40b926ea02855df65dc4d9b607a760bc3"
  }
 },
 "nbformat": 4,
 "nbformat_minor": 2,
 "cells": [
  {
   "cell_type": "code",
   "execution_count": null,
   "metadata": {},
   "outputs": [],
   "source": [
    "import backtrader as bt\n",
    "import backtrader.indicators as btind\n",
    "import backtrader.feeds as btfeeds\n",
    "import btalib\n",
    "\n",
    "import pandas as pd \n",
    "import os, sys\n",
    "from datetime import datetime, timedelta\n",
    "\n",
    "import matplotlib.pylab as plt \n",
    "%matplotlib inline\n",
    "# %matplotlib widget\n",
    "\n",
    "import openpyxl\n",
    "from pprint import pprint \n",
    "\n",
    "from cryptoquant import *\n",
    "from strategy import *\n",
    "from utils import * \n",
    "from graph import * \n",
    "\n",
    "import warnings\n",
    "warnings.filterwarnings('ignore')\n",
    "\n",
    "\n",
    "from IPython.display import Image\n",
    "# import openpyxl\n",
    "# date_format = '%Y-%m-%d %H:%M:%S'\n",
    "# coinbase_datetime_format = '%Y-%m-%dT%H:%M:%S'\n",
    "# CQ_DATE_FORMAT = '%Y%m%dT%H%M%S'"
   ]
  },
  {
   "cell_type": "code",
   "execution_count": null,
   "metadata": {},
   "outputs": [],
   "source": [
    "start = '20210501T010000'\n",
    "end = '20210521T010000'\n",
    "data = get_price_coinbase_premium_big_df(start, end)\n",
    "data.to_pickle('../data/20210521.pkl')\n",
    "data"
   ]
  },
  {
   "cell_type": "code",
   "execution_count": null,
   "metadata": {},
   "outputs": [],
   "source": [
    "try: \n",
    "    data = pd.read_pickle('../data/20210521.pkl')\n",
    "    print('Reading... data')\n",
    "    print(data)\n",
    "except FileNotFoundError:\n",
    "    print('File not found')\n"
   ]
  },
  {
   "cell_type": "code",
   "execution_count": null,
   "metadata": {},
   "outputs": [],
   "source": [
    "one_day = one_day_from_df(data, '2021-05-18')\n",
    "one_day"
   ]
  },
  {
   "cell_type": "code",
   "execution_count": null,
   "metadata": {},
   "outputs": [],
   "source": [
    "one_day['price_diff'] = mean_within_window(one_day, 'price_usd_close')"
   ]
  },
  {
   "cell_type": "code",
   "execution_count": null,
   "metadata": {},
   "outputs": [],
   "source": [
    "line_graph(x=one_day.index, y=one_day.price_diff, height=1500, width=2500)\n",
    "multiline_graph(x=one_day.index, y1=one_day.price_diff, y2=one_day.coinbase_premium_gap, title=['diff', 'gap'], height=1500, width=2500)\n"
   ]
  },
  {
   "cell_type": "code",
   "execution_count": null,
   "metadata": {},
   "outputs": [],
   "source": [
    "data_feed = PriceSignalData(dataname=data, timeframe=bt.TimeFrame.Minutes, compression=1, name='Binance')"
   ]
  },
  {
   "cell_type": "code",
   "execution_count": null,
   "metadata": {},
   "outputs": [],
   "source": [
    "\n",
    "BINANCE_Commission = 0.04 # percent (based on VIP 0, mmax(maker, taker)) = 0.04 * 0.01 * price \n",
    "\n",
    "fund = 100000\n",
    "cerebro = bt.Cerebro()\n",
    "cerebro.broker.setcash(fund)\n",
    "\n",
    "# we don't actually receive cash when we buy perpetual short contracts on Binance\n",
    "cerebro.broker.set_shortcash(False)\n",
    "\n",
    "# cerebro.broker.setcommission(commission=0.1, margin=1, mult=10.0, name='Binance')\n",
    "cerebro.broker.setcommission(\n",
    "    commission=0.1, \n",
    "    commtype = bt.CommInfoBase.COMM_FIXED,\n",
    "    automargin = 0.05,\n",
    "    # margin=0.05, \n",
    "    mult=1.0, \n",
    "    leverage= 20, \n",
    "    stocklike = False, \n",
    "    name='Binance')\n",
    "\n",
    "# cerebro.broker.setcommission(commission=0.1, name='Binance')\n",
    "# cerebro.broker.setcommission(commission=0.1, margin=0, mult=10, name='data')? \n",
    "\n",
    "\n",
    "cerebro.adddata(data_feed)\n",
    "# cerebro.addstrategy(Test)\n",
    "#cerebro.addstrategy(PrintData)\n",
    "# cerebro.addstrategy(MACrossOver)\n",
    "# cerebro.addstrategy(SMACross)\n",
    "cerebro.addstrategy(RSI)\n",
    "\n",
    "cerebro.addanalyzer(bt.analyzers.TradeAnalyzer, _name=\"ta\")\n",
    "cerebro.addanalyzer(bt.analyzers.SQN, _name=\"sqn\")\n",
    "\n",
    "start_value = cerebro.broker.getvalue()\n",
    "strategies = cerebro.run()\n",
    "firstStrat = strategies[0]\n",
    "end_value = cerebro.broker.getvalue()\n",
    "\n",
    "pnl = end_value - start_value\n",
    "print(f'Starting Portfolio Value: {start_value:2f}')\n",
    "print(f'Final Portfolio Value: {end_value:2f}')\n",
    "print(f'PnL: {pnl:.2f}')\n",
    "\n",
    "# print_trade_analysis(firstStrat.analyzers.ta.get_analysis())\n",
    "# print_sqn(firstStrat.analyzers.sqn.get_analysis())\n",
    "\n",
    "# cerebro.plot()"
   ]
  },
  {
   "cell_type": "code",
   "execution_count": null,
   "metadata": {},
   "outputs": [],
   "source": [
    "# plt.rcParams['font.sans-serif']=['SimHei']\n",
    "plt.rcParams['axes.unicode_minus']=False\n",
    "plt.rcParams['figure.figsize']=[18, 16]\n",
    "plt.rcParams['figure.dpi']=200\n",
    "plt.rcParams['figure.facecolor']='w'\n",
    "plt.rcParams['figure.edgecolor']='k'\n",
    "\n",
    "cerebro.plot(iplot=False, volume=False, style='candlestick')\n",
    "# cerebro.plot(volume=False)"
   ]
  },
  {
   "source": [
    "## Test (will be deleted later)"
   ],
   "cell_type": "markdown",
   "metadata": {}
  },
  {
   "cell_type": "code",
   "execution_count": null,
   "metadata": {},
   "outputs": [],
   "source": [
    "from datetime import datetime, timedelta\n",
    "\n",
    "def str_to_datetime(date_str, format):\n",
    "    '''\n",
    "    change str date to datetime using format parameter  \n",
    "    '''\n",
    "    return(datetime.strptime(date_str, format))\n",
    "\n",
    "start = '2021-05-01 01:00:00'\n",
    "test = str_to_datetime(start, '%Y-%m-%d %H:%M:%S').strftime('%Y%m%dT%H%M%S')\n",
    "\n",
    "test"
   ]
  },
  {
   "cell_type": "code",
   "execution_count": 1,
   "metadata": {},
   "outputs": [
    {
     "output_type": "stream",
     "name": "stdout",
     "text": [
      "2017-05-01 01:00:00 2021-05-21 01:00:00\n"
     ]
    }
   ],
   "source": [
    "import pandas as pd \n",
    "import os, sys\n",
    "from datetime import datetime, timedelta\n",
    "\n",
    "import matplotlib.pylab as plt \n",
    "%matplotlib inline\n",
    "# %matplotlib widget\n",
    "\n",
    "import openpyxl\n",
    "from pprint import pprint \n",
    "\n",
    "from cq_utils import *\n",
    "from strategy import *\n",
    "from utils import * \n",
    "from graph import * \n",
    "\n",
    "import warnings\n",
    "warnings.filterwarnings('ignore')\n",
    "\n",
    "\n",
    "from IPython.display import Image\n",
    "start = '2017-05-01 01:00:00'\n",
    "end = '2021-05-21 01:00:00'\n",
    "data =stablecoin_supply_ratio(start, end)"
   ]
  },
  {
   "cell_type": "code",
   "execution_count": 2,
   "metadata": {},
   "outputs": [
    {
     "output_type": "execute_result",
     "data": {
      "text/plain": [
       "            date  stablecoin_supply_ratio\n",
       "0     2017-05-01               402.310091\n",
       "1     2017-05-02               413.044912\n",
       "2     2017-05-03               429.134723\n",
       "3     2017-05-04               439.673826\n",
       "4     2017-05-05               431.140907\n",
       "...          ...                      ...\n",
       "1477  2021-05-17                15.794594\n",
       "1478  2021-05-18                15.494302\n",
       "1479  2021-05-19                13.052705\n",
       "1480  2021-05-20                14.248998\n",
       "1481  2021-05-21                12.847816\n",
       "\n",
       "[1482 rows x 2 columns]"
      ],
      "text/html": "<div>\n<style scoped>\n    .dataframe tbody tr th:only-of-type {\n        vertical-align: middle;\n    }\n\n    .dataframe tbody tr th {\n        vertical-align: top;\n    }\n\n    .dataframe thead th {\n        text-align: right;\n    }\n</style>\n<table border=\"1\" class=\"dataframe\">\n  <thead>\n    <tr style=\"text-align: right;\">\n      <th></th>\n      <th>date</th>\n      <th>stablecoin_supply_ratio</th>\n    </tr>\n  </thead>\n  <tbody>\n    <tr>\n      <th>0</th>\n      <td>2017-05-01</td>\n      <td>402.310091</td>\n    </tr>\n    <tr>\n      <th>1</th>\n      <td>2017-05-02</td>\n      <td>413.044912</td>\n    </tr>\n    <tr>\n      <th>2</th>\n      <td>2017-05-03</td>\n      <td>429.134723</td>\n    </tr>\n    <tr>\n      <th>3</th>\n      <td>2017-05-04</td>\n      <td>439.673826</td>\n    </tr>\n    <tr>\n      <th>4</th>\n      <td>2017-05-05</td>\n      <td>431.140907</td>\n    </tr>\n    <tr>\n      <th>...</th>\n      <td>...</td>\n      <td>...</td>\n    </tr>\n    <tr>\n      <th>1477</th>\n      <td>2021-05-17</td>\n      <td>15.794594</td>\n    </tr>\n    <tr>\n      <th>1478</th>\n      <td>2021-05-18</td>\n      <td>15.494302</td>\n    </tr>\n    <tr>\n      <th>1479</th>\n      <td>2021-05-19</td>\n      <td>13.052705</td>\n    </tr>\n    <tr>\n      <th>1480</th>\n      <td>2021-05-20</td>\n      <td>14.248998</td>\n    </tr>\n    <tr>\n      <th>1481</th>\n      <td>2021-05-21</td>\n      <td>12.847816</td>\n    </tr>\n  </tbody>\n</table>\n<p>1482 rows × 2 columns</p>\n</div>"
     },
     "metadata": {},
     "execution_count": 2
    }
   ],
   "source": [
    "pd.DataFrame(data)"
   ]
  },
  {
   "cell_type": "code",
   "execution_count": null,
   "metadata": {},
   "outputs": [],
   "source": [
    "ssr = stablecoin_supply_ratio(start, end)"
   ]
  },
  {
   "cell_type": "code",
   "execution_count": null,
   "metadata": {},
   "outputs": [],
   "source": []
  }
 ]
}