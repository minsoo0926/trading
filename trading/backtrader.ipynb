{
 "metadata": {
  "language_info": {
   "codemirror_mode": {
    "name": "ipython",
    "version": 3
   },
   "file_extension": ".py",
   "mimetype": "text/x-python",
   "name": "python",
   "nbconvert_exporter": "python",
   "pygments_lexer": "ipython3",
   "version": "3.8.10"
  },
  "orig_nbformat": 2,
  "kernelspec": {
   "name": "python3",
   "display_name": "Python 3.8.10 64-bit ('venv': venv)"
  },
  "metadata": {
   "interpreter": {
    "hash": "09f4dcfb3e964316099ed5c193f7e1b40b926ea02855df65dc4d9b607a760bc3"
   }
  },
  "interpreter": {
   "hash": "703d482c079a7afa9ebd53b71cbe02730ba23b5953ded63e56add7759604ddd7"
  }
 },
 "nbformat": 4,
 "nbformat_minor": 2,
 "cells": [
  {
   "cell_type": "code",
   "execution_count": null,
   "source": [
    "import matplotlib\n",
    "import matplotlib.pyplot as plt \n",
    "from datetime import datetime \n",
    "import backtrader as bt\n",
    "import mine\n",
    "import pandas as pd\n",
    "from mine import trend_utils\n",
    "from pandas_datareader import data\n",
    "import strategies\n",
    "import strategy\n",
    "\n",
    "class MyCSVData(bt.feeds.GenericCSVData):\n",
    "    params = (\n",
    "        ('dtformat', '%Y-%m-%d %H:%M:%S'),\n",
    "        ('datetime', None),\n",
    "        ('open', 1),\n",
    "        ('high', 2),\n",
    "        ('low', 3),\n",
    "        ('close', 4),\n",
    "        ('volume', 5),\n",
    "        \n",
    "    )\n",
    "\n",
    "df=pd.read_csv('/root/trading/trading/data/20200101-ETH_future.csv')\n",
    "df['datetime']=pd.to_datetime(df['datetime'], format='%Y-%m-%d %H:%M:%S')\n",
    "df1=df.set_index('datetime', drop=True)\n",
    "cerebro = bt.Cerebro()\n",
    "#data = MyCSVData(dataname='/root/trading/trading/data/20200101-ETH_future.csv', fromdate=datetime(2020, 5, 1))\n",
    "data=bt.feeds.PandasData(dataname=df1, datetime=None)\n",
    "cerebro.adddata(data)\n",
    "\n",
    "cerebro.broker.setcash(500000)\n",
    "cerebro.broker.setcommission(commission=0.0075, leverage=3.0)\n",
    "cerebro.addstrategy(strategies.trend_strategy)\n",
    "cerebro.run()\n",
    "#Get final portfolio Value \n",
    "portvalue = cerebro.broker.getvalue() \n",
    "pnl = portvalue - 500000\n",
    "#Print out the final result \n",
    "print('Final Portfolio Value: ${}'.format(portvalue)) \n",
    "print('P/L: ${}'.format(pnl)) \n",
    "print((portvalue-500000)/500000*100,'%') \n",
    "#Visualize \n",
    "figure=cerebro.plot(iplot=False)"
   ],
   "outputs": [],
   "metadata": {}
  },
  {
   "cell_type": "code",
   "execution_count": null,
   "source": [
    "import backtrader as bt\n",
    "import backtrader.indicators as btind\n",
    "import backtrader.feeds as btfeeds\n",
    "import btalib\n",
    "\n",
    "import pandas as pd \n",
    "import os, sys\n",
    "from datetime import datetime, timedelta\n",
    "\n",
    "import matplotlib.pylab as plt \n",
    "%matplotlib inline\n",
    "# %matplotlib widget\n",
    "\n",
    "import openpyxl\n",
    "from pprint import pprint \n",
    "\n",
    "#from cryptoquant import *\n",
    "from strategy import *\n",
    "from utils import * \n",
    "from graph import * \n",
    "\n",
    "import warnings\n",
    "warnings.filterwarnings('ignore')\n",
    "\n",
    "\n",
    "from IPython.display import Image\n",
    "# import openpyxl\n",
    "# date_format = '%Y-%m-%d %H:%M:%S'\n",
    "# coinbase_datetime_format = '%Y-%m-%dT%H:%M:%S'\n",
    "# CQ_DATE_FORMAT = '%Y%m%dT%H%M%S'"
   ],
   "outputs": [],
   "metadata": {}
  },
  {
   "cell_type": "code",
   "execution_count": null,
   "source": [
    "start = '20210501T010000'\n",
    "end = '20210521T010000'\n",
    "data = get_price_coinbase_premium_big_df(start, end)\n",
    "data.to_pickle('../data/20210521.pkl')\n",
    "data"
   ],
   "outputs": [],
   "metadata": {}
  },
  {
   "cell_type": "code",
   "execution_count": null,
   "source": [
    "try: \n",
    "    data = pd.read_pickle('../data/20210521.pkl')\n",
    "    print('Reading... data')\n",
    "    print(data)\n",
    "except FileNotFoundError:\n",
    "    print('File not found')\n"
   ],
   "outputs": [],
   "metadata": {}
  },
  {
   "cell_type": "code",
   "execution_count": null,
   "source": [
    "one_day = one_day_from_df(data, '2021-05-18')\n",
    "one_day"
   ],
   "outputs": [],
   "metadata": {}
  },
  {
   "cell_type": "code",
   "execution_count": null,
   "source": [
    "one_day['price_diff'] = mean_within_window(one_day, 'price_usd_close')"
   ],
   "outputs": [],
   "metadata": {}
  },
  {
   "cell_type": "code",
   "execution_count": null,
   "source": [
    "line_graph(x=one_day.index, y=one_day.price_diff, height=1500, width=2500)\n",
    "multiline_graph(x=one_day.index, y1=one_day.price_diff, y2=one_day.coinbase_premium_gap, title=['diff', 'gap'], height=1500, width=2500)\n"
   ],
   "outputs": [],
   "metadata": {}
  },
  {
   "cell_type": "code",
   "execution_count": null,
   "source": [
    "data_feed = PriceSignalData(dataname=data, timeframe=bt.TimeFrame.Minutes, compression=1, name='Binance')"
   ],
   "outputs": [],
   "metadata": {}
  },
  {
   "cell_type": "code",
   "execution_count": null,
   "source": [
    "\n",
    "BINANCE_Commission = 0.04 # percent (based on VIP 0, mmax(maker, taker)) = 0.04 * 0.01 * price \n",
    "\n",
    "fund = 100000\n",
    "cerebro = bt.Cerebro()\n",
    "cerebro.broker.setcash(fund)\n",
    "\n",
    "# we don't actually receive cash when we buy perpetual short contracts on Binance\n",
    "cerebro.broker.set_shortcash(False)\n",
    "\n",
    "# cerebro.broker.setcommission(commission=0.1, margin=1, mult=10.0, name='Binance')\n",
    "cerebro.broker.setcommission(\n",
    "    commission=0.1, \n",
    "    commtype = bt.CommInfoBase.COMM_FIXED,\n",
    "    automargin = 0.05,\n",
    "    # margin=0.05, \n",
    "    mult=1.0, \n",
    "    leverage= 20, \n",
    "    stocklike = False, \n",
    "    name='Binance')\n",
    "\n",
    "# cerebro.broker.setcommission(commission=0.1, name='Binance')\n",
    "# cerebro.broker.setcommission(commission=0.1, margin=0, mult=10, name='data')? \n",
    "\n",
    "\n",
    "cerebro.adddata(data_feed)\n",
    "# cerebro.addstrategy(Test)\n",
    "#cerebro.addstrategy(PrintData)\n",
    "# cerebro.addstrategy(MACrossOver)\n",
    "# cerebro.addstrategy(SMACross)\n",
    "cerebro.addstrategy(RSI)\n",
    "\n",
    "cerebro.addanalyzer(bt.analyzers.TradeAnalyzer, _name=\"ta\")\n",
    "cerebro.addanalyzer(bt.analyzers.SQN, _name=\"sqn\")\n",
    "\n",
    "start_value = cerebro.broker.getvalue()\n",
    "strategies = cerebro.run()\n",
    "firstStrat = strategies[0]\n",
    "end_value = cerebro.broker.getvalue()\n",
    "\n",
    "pnl = end_value - start_value\n",
    "print(f'Starting Portfolio Value: {start_value:2f}')\n",
    "print(f'Final Portfolio Value: {end_value:2f}')\n",
    "print(f'PnL: {pnl:.2f}')\n",
    "\n",
    "# print_trade_analysis(firstStrat.analyzers.ta.get_analysis())\n",
    "# print_sqn(firstStrat.analyzers.sqn.get_analysis())\n",
    "\n",
    "# cerebro.plot()"
   ],
   "outputs": [],
   "metadata": {}
  },
  {
   "cell_type": "code",
   "execution_count": null,
   "source": [
    "# plt.rcParams['font.sans-serif']=['SimHei']\n",
    "plt.rcParams['axes.unicode_minus']=False\n",
    "plt.rcParams['figure.figsize']=[18, 16]\n",
    "plt.rcParams['figure.dpi']=200\n",
    "plt.rcParams['figure.facecolor']='w'\n",
    "plt.rcParams['figure.edgecolor']='k'\n",
    "\n",
    "cerebro.plot(iplot=False, volume=False, style='candlestick')\n",
    "# cerebro.plot(volume=False)"
   ],
   "outputs": [],
   "metadata": {}
  },
  {
   "cell_type": "markdown",
   "source": [
    "## Test (will be deleted later)"
   ],
   "metadata": {}
  },
  {
   "cell_type": "code",
   "execution_count": null,
   "source": [
    "from datetime import datetime, timedelta\n",
    "\n",
    "def str_to_datetime(date_str, format):\n",
    "    '''\n",
    "    change str date to datetime using format parameter  \n",
    "    '''\n",
    "    return(datetime.strptime(date_str, format))\n",
    "\n",
    "start = '2021-05-01 01:00:00'\n",
    "test = str_to_datetime(start, '%Y-%m-%d %H:%M:%S').strftime('%Y%m%dT%H%M%S')\n",
    "\n",
    "test"
   ],
   "outputs": [],
   "metadata": {}
  },
  {
   "cell_type": "code",
   "execution_count": null,
   "source": [
    "import pandas as pd \n",
    "import os, sys\n",
    "from datetime import datetime, timedelta\n",
    "\n",
    "import matplotlib.pylab as plt \n",
    "%matplotlib inline\n",
    "# %matplotlib widget\n",
    "\n",
    "import openpyxl\n",
    "from pprint import pprint \n",
    "\n",
    "from cq_utils import *\n",
    "from strategy import *\n",
    "from utils import * \n",
    "from graph import * \n",
    "\n",
    "import warnings\n",
    "warnings.filterwarnings('ignore')\n",
    "\n",
    "\n",
    "from IPython.display import Image\n",
    "start = '2017-05-01 01:00:00'\n",
    "end = '2021-05-21 01:00:00'\n",
    "data =stablecoin_supply_ratio(start, end)"
   ],
   "outputs": [],
   "metadata": {}
  },
  {
   "cell_type": "code",
   "execution_count": null,
   "source": [
    "pd.DataFrame(data)"
   ],
   "outputs": [],
   "metadata": {}
  },
  {
   "cell_type": "code",
   "execution_count": null,
   "source": [
    "ssr = stablecoin_supply_ratio(start, end)"
   ],
   "outputs": [],
   "metadata": {}
  },
  {
   "cell_type": "code",
   "execution_count": null,
   "source": [],
   "outputs": [],
   "metadata": {}
  }
 ]
}