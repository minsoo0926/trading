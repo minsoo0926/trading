{
 "metadata": {
  "language_info": {
   "codemirror_mode": {
    "name": "ipython",
    "version": 3
   },
   "file_extension": ".py",
   "mimetype": "text/x-python",
   "name": "python",
   "nbconvert_exporter": "python",
   "pygments_lexer": "ipython3",
   "version": "3.8.3"
  },
  "orig_nbformat": 4,
  "kernelspec": {
   "name": "python3",
   "display_name": "Python 3.8.3  ('.venv': venv)"
  },
  "interpreter": {
   "hash": "09f4dcfb3e964316099ed5c193f7e1b40b926ea02855df65dc4d9b607a760bc3"
  }
 },
 "nbformat": 4,
 "nbformat_minor": 2,
 "cells": [
  {
   "source": [
    "## Cryptoquant Data Gathering Example"
   ],
   "cell_type": "markdown",
   "metadata": {}
  },
  {
   "cell_type": "code",
   "execution_count": 1,
   "metadata": {},
   "outputs": [],
   "source": [
    "from utils import cq_utils, date_utils \n",
    "import pandas as pd \n",
    "\n",
    "start = '2019-01-01 01:00:00'"
   ]
  },
  {
   "cell_type": "code",
   "execution_count": 2,
   "metadata": {},
   "outputs": [
    {
     "output_type": "stream",
     "name": "stdout",
     "text": [
      "processing: 2019-01-01 01:00:00 - 2021-06-24 01:41:46.921589\n",
      "processing: 2019-01-01 01:00:00 - 2021-04-15 14:41:00\n",
      "processing: 2019-01-01 01:00:00 - 2021-02-05 04:01:00\n",
      "processing: 2019-01-01 01:00:00 - 2020-11-27 17:02:00\n",
      "processing: 2019-01-01 01:00:00 - 2020-09-19 03:06:00\n",
      "processing: 2019-01-01 01:00:00 - 2020-07-11 11:29:00\n",
      "processing: 2019-01-01 01:00:00 - 2020-05-03 00:45:00\n",
      "processing: 2019-01-01 01:00:00 - 2020-02-23 13:25:00\n",
      "processing: 2019-01-01 01:00:00 - 2019-12-31 23:59:00\n"
     ]
    },
    {
     "output_type": "execute_result",
     "data": {
      "text/plain": [
       "                   datetime  coinbase_premium_gap  coinbase_premium_index\n",
       "0       2020-01-01 00:00:00                -32.64               -0.453923\n",
       "1       2020-01-01 00:01:00                -30.31               -0.421842\n",
       "2       2020-01-01 00:02:00                -23.84               -0.331918\n",
       "3       2020-01-01 00:03:00                -22.11               -0.307774\n",
       "4       2020-01-01 00:04:00                -26.26               -0.365674\n",
       "...                     ...                   ...                     ...\n",
       "775842  2021-06-24 01:36:00                  7.16                0.021757\n",
       "775843  2021-06-24 01:37:00                 10.02                0.030481\n",
       "775844  2021-06-24 01:38:00                  3.70                0.011233\n",
       "775845  2021-06-24 01:39:00                  8.22                0.025040\n",
       "775846  2021-06-24 01:40:00                  1.23                0.003748\n",
       "\n",
       "[775847 rows x 3 columns]"
      ],
      "text/html": "<div>\n<style scoped>\n    .dataframe tbody tr th:only-of-type {\n        vertical-align: middle;\n    }\n\n    .dataframe tbody tr th {\n        vertical-align: top;\n    }\n\n    .dataframe thead th {\n        text-align: right;\n    }\n</style>\n<table border=\"1\" class=\"dataframe\">\n  <thead>\n    <tr style=\"text-align: right;\">\n      <th></th>\n      <th>datetime</th>\n      <th>coinbase_premium_gap</th>\n      <th>coinbase_premium_index</th>\n    </tr>\n  </thead>\n  <tbody>\n    <tr>\n      <th>0</th>\n      <td>2020-01-01 00:00:00</td>\n      <td>-32.64</td>\n      <td>-0.453923</td>\n    </tr>\n    <tr>\n      <th>1</th>\n      <td>2020-01-01 00:01:00</td>\n      <td>-30.31</td>\n      <td>-0.421842</td>\n    </tr>\n    <tr>\n      <th>2</th>\n      <td>2020-01-01 00:02:00</td>\n      <td>-23.84</td>\n      <td>-0.331918</td>\n    </tr>\n    <tr>\n      <th>3</th>\n      <td>2020-01-01 00:03:00</td>\n      <td>-22.11</td>\n      <td>-0.307774</td>\n    </tr>\n    <tr>\n      <th>4</th>\n      <td>2020-01-01 00:04:00</td>\n      <td>-26.26</td>\n      <td>-0.365674</td>\n    </tr>\n    <tr>\n      <th>...</th>\n      <td>...</td>\n      <td>...</td>\n      <td>...</td>\n    </tr>\n    <tr>\n      <th>775842</th>\n      <td>2021-06-24 01:36:00</td>\n      <td>7.16</td>\n      <td>0.021757</td>\n    </tr>\n    <tr>\n      <th>775843</th>\n      <td>2021-06-24 01:37:00</td>\n      <td>10.02</td>\n      <td>0.030481</td>\n    </tr>\n    <tr>\n      <th>775844</th>\n      <td>2021-06-24 01:38:00</td>\n      <td>3.70</td>\n      <td>0.011233</td>\n    </tr>\n    <tr>\n      <th>775845</th>\n      <td>2021-06-24 01:39:00</td>\n      <td>8.22</td>\n      <td>0.025040</td>\n    </tr>\n    <tr>\n      <th>775846</th>\n      <td>2021-06-24 01:40:00</td>\n      <td>1.23</td>\n      <td>0.003748</td>\n    </tr>\n  </tbody>\n</table>\n<p>775847 rows × 3 columns</p>\n</div>"
     },
     "metadata": {},
     "execution_count": 2
    }
   ],
   "source": [
    "response = cq_utils.copro_premium(start, end=None, timeframe='min')\n",
    "pd.DataFrame(response['data'])"
   ]
  },
  {
   "cell_type": "code",
   "execution_count": 3,
   "metadata": {},
   "outputs": [
    {
     "output_type": "stream",
     "name": "stdout",
     "text": [
      "processing: 2017-01-01 01:00:00 - 2021-06-24 01:42:26.430944\n"
     ]
    },
    {
     "output_type": "execute_result",
     "data": {
      "text/plain": [
       "            date  stablecoin_supply_ratio\n",
       "0     2017-01-01              2032.571357\n",
       "1     2017-01-02              2077.708932\n",
       "2     2017-01-03              2070.393068\n",
       "3     2017-01-04              1879.697002\n",
       "4     2017-01-05              1494.332729\n",
       "...          ...                      ...\n",
       "1630  2021-06-19                10.808274\n",
       "1631  2021-06-20                10.830242\n",
       "1632  2021-06-21                 9.545977\n",
       "1633  2021-06-22                 9.810200\n",
       "1634  2021-06-23                10.100088\n",
       "\n",
       "[1635 rows x 2 columns]"
      ],
      "text/html": "<div>\n<style scoped>\n    .dataframe tbody tr th:only-of-type {\n        vertical-align: middle;\n    }\n\n    .dataframe tbody tr th {\n        vertical-align: top;\n    }\n\n    .dataframe thead th {\n        text-align: right;\n    }\n</style>\n<table border=\"1\" class=\"dataframe\">\n  <thead>\n    <tr style=\"text-align: right;\">\n      <th></th>\n      <th>date</th>\n      <th>stablecoin_supply_ratio</th>\n    </tr>\n  </thead>\n  <tbody>\n    <tr>\n      <th>0</th>\n      <td>2017-01-01</td>\n      <td>2032.571357</td>\n    </tr>\n    <tr>\n      <th>1</th>\n      <td>2017-01-02</td>\n      <td>2077.708932</td>\n    </tr>\n    <tr>\n      <th>2</th>\n      <td>2017-01-03</td>\n      <td>2070.393068</td>\n    </tr>\n    <tr>\n      <th>3</th>\n      <td>2017-01-04</td>\n      <td>1879.697002</td>\n    </tr>\n    <tr>\n      <th>4</th>\n      <td>2017-01-05</td>\n      <td>1494.332729</td>\n    </tr>\n    <tr>\n      <th>...</th>\n      <td>...</td>\n      <td>...</td>\n    </tr>\n    <tr>\n      <th>1630</th>\n      <td>2021-06-19</td>\n      <td>10.808274</td>\n    </tr>\n    <tr>\n      <th>1631</th>\n      <td>2021-06-20</td>\n      <td>10.830242</td>\n    </tr>\n    <tr>\n      <th>1632</th>\n      <td>2021-06-21</td>\n      <td>9.545977</td>\n    </tr>\n    <tr>\n      <th>1633</th>\n      <td>2021-06-22</td>\n      <td>9.810200</td>\n    </tr>\n    <tr>\n      <th>1634</th>\n      <td>2021-06-23</td>\n      <td>10.100088</td>\n    </tr>\n  </tbody>\n</table>\n<p>1635 rows × 2 columns</p>\n</div>"
     },
     "metadata": {},
     "execution_count": 3
    }
   ],
   "source": [
    "response = cq_utils.stablecoin_supply_ratio('2017-01-01 01:00:00', end=None, timeframe='day')\n",
    "pd.DataFrame(response['data'])"
   ]
  },
  {
   "cell_type": "code",
   "execution_count": 5,
   "metadata": {},
   "outputs": [
    {
     "output_type": "stream",
     "name": "stdout",
     "text": [
      "processing: 2017-01-01 01:00:00 - 2021-06-24 01:43:05.909373\n",
      "processing: 2017-01-01 01:00:00 - 2019-08-04 22:27:16\n",
      "processing: 2017-01-01 01:00:00 - 2017-10-07 03:28:09\n",
      "processing: 2017-01-01 01:00:00 - 2017-01-01 01:00:04\n"
     ]
    },
    {
     "output_type": "execute_result",
     "data": {
      "text/plain": [
       "        blockheight             datetime       reserve   reserve_usd\n",
       "0            446039  2017-01-01 01:01:04  1.136440e+06  1.103654e+09\n",
       "1            446040  2017-01-01 01:02:34  1.136537e+06  1.103566e+09\n",
       "2            446041  2017-01-01 01:10:25  1.136299e+06  1.101744e+09\n",
       "3            446042  2017-01-01 01:35:33  1.136234e+06  1.097034e+09\n",
       "4            446043  2017-01-01 01:56:24  1.136753e+06  1.103435e+09\n",
       "...             ...                  ...           ...           ...\n",
       "242595       688634  2021-06-24 00:56:03  2.491574e+06  8.297036e+10\n",
       "242596       688635  2021-06-24 00:57:05  2.491571e+06  8.280133e+10\n",
       "242597       688636  2021-06-24 01:06:15  2.491693e+06  8.275623e+10\n",
       "242598       688637  2021-06-24 01:14:21  2.491652e+06  8.288971e+10\n",
       "242599       688638  2021-06-24 01:33:45  2.491479e+06  8.236504e+10\n",
       "\n",
       "[242600 rows x 4 columns]"
      ],
      "text/html": "<div>\n<style scoped>\n    .dataframe tbody tr th:only-of-type {\n        vertical-align: middle;\n    }\n\n    .dataframe tbody tr th {\n        vertical-align: top;\n    }\n\n    .dataframe thead th {\n        text-align: right;\n    }\n</style>\n<table border=\"1\" class=\"dataframe\">\n  <thead>\n    <tr style=\"text-align: right;\">\n      <th></th>\n      <th>blockheight</th>\n      <th>datetime</th>\n      <th>reserve</th>\n      <th>reserve_usd</th>\n    </tr>\n  </thead>\n  <tbody>\n    <tr>\n      <th>0</th>\n      <td>446039</td>\n      <td>2017-01-01 01:01:04</td>\n      <td>1.136440e+06</td>\n      <td>1.103654e+09</td>\n    </tr>\n    <tr>\n      <th>1</th>\n      <td>446040</td>\n      <td>2017-01-01 01:02:34</td>\n      <td>1.136537e+06</td>\n      <td>1.103566e+09</td>\n    </tr>\n    <tr>\n      <th>2</th>\n      <td>446041</td>\n      <td>2017-01-01 01:10:25</td>\n      <td>1.136299e+06</td>\n      <td>1.101744e+09</td>\n    </tr>\n    <tr>\n      <th>3</th>\n      <td>446042</td>\n      <td>2017-01-01 01:35:33</td>\n      <td>1.136234e+06</td>\n      <td>1.097034e+09</td>\n    </tr>\n    <tr>\n      <th>4</th>\n      <td>446043</td>\n      <td>2017-01-01 01:56:24</td>\n      <td>1.136753e+06</td>\n      <td>1.103435e+09</td>\n    </tr>\n    <tr>\n      <th>...</th>\n      <td>...</td>\n      <td>...</td>\n      <td>...</td>\n      <td>...</td>\n    </tr>\n    <tr>\n      <th>242595</th>\n      <td>688634</td>\n      <td>2021-06-24 00:56:03</td>\n      <td>2.491574e+06</td>\n      <td>8.297036e+10</td>\n    </tr>\n    <tr>\n      <th>242596</th>\n      <td>688635</td>\n      <td>2021-06-24 00:57:05</td>\n      <td>2.491571e+06</td>\n      <td>8.280133e+10</td>\n    </tr>\n    <tr>\n      <th>242597</th>\n      <td>688636</td>\n      <td>2021-06-24 01:06:15</td>\n      <td>2.491693e+06</td>\n      <td>8.275623e+10</td>\n    </tr>\n    <tr>\n      <th>242598</th>\n      <td>688637</td>\n      <td>2021-06-24 01:14:21</td>\n      <td>2.491652e+06</td>\n      <td>8.288971e+10</td>\n    </tr>\n    <tr>\n      <th>242599</th>\n      <td>688638</td>\n      <td>2021-06-24 01:33:45</td>\n      <td>2.491479e+06</td>\n      <td>8.236504e+10</td>\n    </tr>\n  </tbody>\n</table>\n<p>242600 rows × 4 columns</p>\n</div>"
     },
     "metadata": {},
     "execution_count": 5
    }
   ],
   "source": [
    "response = cq_utils.exchange_btc_reserve('2017-01-01 01:00:00', end=None, exchange='all_exchange', timeframe='block')\n",
    "pd.DataFrame(response['data'])\n"
   ]
  },
  {
   "cell_type": "code",
   "execution_count": 6,
   "metadata": {},
   "outputs": [
    {
     "output_type": "stream",
     "name": "stdout",
     "text": [
      "processing: 2017-01-01 01:00:00 - 2021-06-24 01:43:23.510869\n",
      "processing: 2017-01-01 01:00:00 - 2019-08-04 22:27:16\n",
      "processing: 2017-01-01 01:00:00 - 2017-10-07 03:28:09\n",
      "processing: 2017-01-01 01:00:00 - 2017-01-01 01:00:04\n"
     ]
    },
    {
     "output_type": "execute_result",
     "data": {
      "text/plain": [
       "        blockheight             datetime  inflow_total  inflow_top10  \\\n",
       "0            446039  2017-01-01 01:01:04    523.854765    523.845023   \n",
       "1            446040  2017-01-01 01:02:34    100.128977    100.128977   \n",
       "2            446041  2017-01-01 01:10:25     75.306823     74.754330   \n",
       "3            446042  2017-01-01 01:35:33     74.856558     74.204427   \n",
       "4            446043  2017-01-01 01:56:24    661.035814    659.588338   \n",
       "...             ...                  ...           ...           ...   \n",
       "242595       688634  2021-06-24 00:56:03    140.894255    139.981034   \n",
       "242596       688635  2021-06-24 00:57:05      3.665821      3.445813   \n",
       "242597       688636  2021-06-24 01:06:15    357.339880    356.356401   \n",
       "242598       688637  2021-06-24 01:14:21     40.132019     39.328344   \n",
       "242599       688638  2021-06-24 01:33:45    210.302935    208.500122   \n",
       "\n",
       "        inflow_mean  \n",
       "0         12.776945  \n",
       "1          7.702229  \n",
       "2          0.660586  \n",
       "3          0.365154  \n",
       "4          3.046248  \n",
       "...             ...  \n",
       "242595     0.700966  \n",
       "242596     0.041189  \n",
       "242597     2.290640  \n",
       "242598     0.229326  \n",
       "242599     0.805758  \n",
       "\n",
       "[242600 rows x 5 columns]"
      ],
      "text/html": "<div>\n<style scoped>\n    .dataframe tbody tr th:only-of-type {\n        vertical-align: middle;\n    }\n\n    .dataframe tbody tr th {\n        vertical-align: top;\n    }\n\n    .dataframe thead th {\n        text-align: right;\n    }\n</style>\n<table border=\"1\" class=\"dataframe\">\n  <thead>\n    <tr style=\"text-align: right;\">\n      <th></th>\n      <th>blockheight</th>\n      <th>datetime</th>\n      <th>inflow_total</th>\n      <th>inflow_top10</th>\n      <th>inflow_mean</th>\n    </tr>\n  </thead>\n  <tbody>\n    <tr>\n      <th>0</th>\n      <td>446039</td>\n      <td>2017-01-01 01:01:04</td>\n      <td>523.854765</td>\n      <td>523.845023</td>\n      <td>12.776945</td>\n    </tr>\n    <tr>\n      <th>1</th>\n      <td>446040</td>\n      <td>2017-01-01 01:02:34</td>\n      <td>100.128977</td>\n      <td>100.128977</td>\n      <td>7.702229</td>\n    </tr>\n    <tr>\n      <th>2</th>\n      <td>446041</td>\n      <td>2017-01-01 01:10:25</td>\n      <td>75.306823</td>\n      <td>74.754330</td>\n      <td>0.660586</td>\n    </tr>\n    <tr>\n      <th>3</th>\n      <td>446042</td>\n      <td>2017-01-01 01:35:33</td>\n      <td>74.856558</td>\n      <td>74.204427</td>\n      <td>0.365154</td>\n    </tr>\n    <tr>\n      <th>4</th>\n      <td>446043</td>\n      <td>2017-01-01 01:56:24</td>\n      <td>661.035814</td>\n      <td>659.588338</td>\n      <td>3.046248</td>\n    </tr>\n    <tr>\n      <th>...</th>\n      <td>...</td>\n      <td>...</td>\n      <td>...</td>\n      <td>...</td>\n      <td>...</td>\n    </tr>\n    <tr>\n      <th>242595</th>\n      <td>688634</td>\n      <td>2021-06-24 00:56:03</td>\n      <td>140.894255</td>\n      <td>139.981034</td>\n      <td>0.700966</td>\n    </tr>\n    <tr>\n      <th>242596</th>\n      <td>688635</td>\n      <td>2021-06-24 00:57:05</td>\n      <td>3.665821</td>\n      <td>3.445813</td>\n      <td>0.041189</td>\n    </tr>\n    <tr>\n      <th>242597</th>\n      <td>688636</td>\n      <td>2021-06-24 01:06:15</td>\n      <td>357.339880</td>\n      <td>356.356401</td>\n      <td>2.290640</td>\n    </tr>\n    <tr>\n      <th>242598</th>\n      <td>688637</td>\n      <td>2021-06-24 01:14:21</td>\n      <td>40.132019</td>\n      <td>39.328344</td>\n      <td>0.229326</td>\n    </tr>\n    <tr>\n      <th>242599</th>\n      <td>688638</td>\n      <td>2021-06-24 01:33:45</td>\n      <td>210.302935</td>\n      <td>208.500122</td>\n      <td>0.805758</td>\n    </tr>\n  </tbody>\n</table>\n<p>242600 rows × 5 columns</p>\n</div>"
     },
     "metadata": {},
     "execution_count": 6
    }
   ],
   "source": [
    "response = cq_utils.exchange_btc_inflow('2017-01-01 01:00:00', end=None, exchange='all_exchange', timeframe='block')\n",
    "pd.DataFrame(response['data'])\n"
   ]
  },
  {
   "cell_type": "code",
   "execution_count": 7,
   "metadata": {},
   "outputs": [
    {
     "output_type": "stream",
     "name": "stdout",
     "text": [
      "2017-01-01 01:00:00 2021-06-24 01:43:34.810656\n",
      "processing: 2017-01-01 01:00:00 - 2021-06-24 01:43:34.810656\n",
      "processing: 2017-01-01 01:00:00 - 2019-08-04 22:27:16\n",
      "processing: 2017-01-01 01:00:00 - 2017-10-07 03:28:09\n",
      "processing: 2017-01-01 01:00:00 - 2017-01-01 01:00:04\n"
     ]
    },
    {
     "output_type": "execute_result",
     "data": {
      "text/plain": [
       "        blockheight             datetime  netflow_total\n",
       "0            446039  2017-01-01 01:01:04   523.48354460\n",
       "1            446040  2017-01-01 01:02:34    96.95215518\n",
       "2            446041  2017-01-01 01:10:25  -238.30073863\n",
       "3            446042  2017-01-01 01:35:33   -64.69366605\n",
       "4            446043  2017-01-01 01:56:24   519.27800303\n",
       "...             ...                  ...            ...\n",
       "242595       688634  2021-06-24 00:56:03  -171.83349842\n",
       "242596       688635  2021-06-24 00:57:05    -2.56953370\n",
       "242597       688636  2021-06-24 01:06:15   121.79030282\n",
       "242598       688637  2021-06-24 01:14:21   -41.24175623\n",
       "242599       688638  2021-06-24 01:33:45  -172.62001928\n",
       "\n",
       "[242600 rows x 3 columns]"
      ],
      "text/html": "<div>\n<style scoped>\n    .dataframe tbody tr th:only-of-type {\n        vertical-align: middle;\n    }\n\n    .dataframe tbody tr th {\n        vertical-align: top;\n    }\n\n    .dataframe thead th {\n        text-align: right;\n    }\n</style>\n<table border=\"1\" class=\"dataframe\">\n  <thead>\n    <tr style=\"text-align: right;\">\n      <th></th>\n      <th>blockheight</th>\n      <th>datetime</th>\n      <th>netflow_total</th>\n    </tr>\n  </thead>\n  <tbody>\n    <tr>\n      <th>0</th>\n      <td>446039</td>\n      <td>2017-01-01 01:01:04</td>\n      <td>523.48354460</td>\n    </tr>\n    <tr>\n      <th>1</th>\n      <td>446040</td>\n      <td>2017-01-01 01:02:34</td>\n      <td>96.95215518</td>\n    </tr>\n    <tr>\n      <th>2</th>\n      <td>446041</td>\n      <td>2017-01-01 01:10:25</td>\n      <td>-238.30073863</td>\n    </tr>\n    <tr>\n      <th>3</th>\n      <td>446042</td>\n      <td>2017-01-01 01:35:33</td>\n      <td>-64.69366605</td>\n    </tr>\n    <tr>\n      <th>4</th>\n      <td>446043</td>\n      <td>2017-01-01 01:56:24</td>\n      <td>519.27800303</td>\n    </tr>\n    <tr>\n      <th>...</th>\n      <td>...</td>\n      <td>...</td>\n      <td>...</td>\n    </tr>\n    <tr>\n      <th>242595</th>\n      <td>688634</td>\n      <td>2021-06-24 00:56:03</td>\n      <td>-171.83349842</td>\n    </tr>\n    <tr>\n      <th>242596</th>\n      <td>688635</td>\n      <td>2021-06-24 00:57:05</td>\n      <td>-2.56953370</td>\n    </tr>\n    <tr>\n      <th>242597</th>\n      <td>688636</td>\n      <td>2021-06-24 01:06:15</td>\n      <td>121.79030282</td>\n    </tr>\n    <tr>\n      <th>242598</th>\n      <td>688637</td>\n      <td>2021-06-24 01:14:21</td>\n      <td>-41.24175623</td>\n    </tr>\n    <tr>\n      <th>242599</th>\n      <td>688638</td>\n      <td>2021-06-24 01:33:45</td>\n      <td>-172.62001928</td>\n    </tr>\n  </tbody>\n</table>\n<p>242600 rows × 3 columns</p>\n</div>"
     },
     "metadata": {},
     "execution_count": 7
    }
   ],
   "source": [
    "response = cq_utils.exchange_btc_netflow('2017-01-01 01:00:00', end=None, exchange='all_exchange', timeframe='block')\n",
    "pd.DataFrame(response['data'])"
   ]
  },
  {
   "cell_type": "code",
   "execution_count": 8,
   "metadata": {},
   "outputs": [
    {
     "output_type": "stream",
     "name": "stdout",
     "text": [
      "2017-01-01 01:00:00 2021-06-24 01:43:44.018806\n",
      "processing: 2017-01-01 01:00:00 - 2021-06-24 01:43:44.018806\n",
      "processing: 2017-01-01 01:00:00 - 2019-08-04 22:27:16\n",
      "processing: 2017-01-01 01:00:00 - 2017-10-07 03:28:09\n",
      "processing: 2017-01-01 01:00:00 - 2017-01-01 01:00:04\n"
     ]
    },
    {
     "output_type": "execute_result",
     "data": {
      "text/plain": [
       "        blockheight             datetime  outflow_total  outflow_top10  \\\n",
       "0            446039  2017-01-01 01:01:04       0.371220       0.370753   \n",
       "1            446040  2017-01-01 01:02:34       3.176822       3.176822   \n",
       "2            446041  2017-01-01 01:10:25     313.607562     313.512187   \n",
       "3            446042  2017-01-01 01:35:33     139.550224     138.518397   \n",
       "4            446043  2017-01-01 01:56:24     141.757811     137.139345   \n",
       "...             ...                  ...            ...            ...   \n",
       "242595       688634  2021-06-24 00:56:03     312.727753     312.717177   \n",
       "242596       688635  2021-06-24 00:57:05       6.235355       6.235355   \n",
       "242597       688636  2021-06-24 01:06:15     235.549577     235.541248   \n",
       "242598       688637  2021-06-24 01:14:21      81.373775      81.367773   \n",
       "242599       688638  2021-06-24 01:33:45     382.922954     382.909472   \n",
       "\n",
       "        outflow_mean  \n",
       "0           0.024748  \n",
       "1           0.529470  \n",
       "2          10.453585  \n",
       "3           1.341829  \n",
       "4           1.687593  \n",
       "...              ...  \n",
       "242595      2.113025  \n",
       "242596      1.247071  \n",
       "242597      1.731982  \n",
       "242598      0.689608  \n",
       "242599      1.392447  \n",
       "\n",
       "[242600 rows x 5 columns]"
      ],
      "text/html": "<div>\n<style scoped>\n    .dataframe tbody tr th:only-of-type {\n        vertical-align: middle;\n    }\n\n    .dataframe tbody tr th {\n        vertical-align: top;\n    }\n\n    .dataframe thead th {\n        text-align: right;\n    }\n</style>\n<table border=\"1\" class=\"dataframe\">\n  <thead>\n    <tr style=\"text-align: right;\">\n      <th></th>\n      <th>blockheight</th>\n      <th>datetime</th>\n      <th>outflow_total</th>\n      <th>outflow_top10</th>\n      <th>outflow_mean</th>\n    </tr>\n  </thead>\n  <tbody>\n    <tr>\n      <th>0</th>\n      <td>446039</td>\n      <td>2017-01-01 01:01:04</td>\n      <td>0.371220</td>\n      <td>0.370753</td>\n      <td>0.024748</td>\n    </tr>\n    <tr>\n      <th>1</th>\n      <td>446040</td>\n      <td>2017-01-01 01:02:34</td>\n      <td>3.176822</td>\n      <td>3.176822</td>\n      <td>0.529470</td>\n    </tr>\n    <tr>\n      <th>2</th>\n      <td>446041</td>\n      <td>2017-01-01 01:10:25</td>\n      <td>313.607562</td>\n      <td>313.512187</td>\n      <td>10.453585</td>\n    </tr>\n    <tr>\n      <th>3</th>\n      <td>446042</td>\n      <td>2017-01-01 01:35:33</td>\n      <td>139.550224</td>\n      <td>138.518397</td>\n      <td>1.341829</td>\n    </tr>\n    <tr>\n      <th>4</th>\n      <td>446043</td>\n      <td>2017-01-01 01:56:24</td>\n      <td>141.757811</td>\n      <td>137.139345</td>\n      <td>1.687593</td>\n    </tr>\n    <tr>\n      <th>...</th>\n      <td>...</td>\n      <td>...</td>\n      <td>...</td>\n      <td>...</td>\n      <td>...</td>\n    </tr>\n    <tr>\n      <th>242595</th>\n      <td>688634</td>\n      <td>2021-06-24 00:56:03</td>\n      <td>312.727753</td>\n      <td>312.717177</td>\n      <td>2.113025</td>\n    </tr>\n    <tr>\n      <th>242596</th>\n      <td>688635</td>\n      <td>2021-06-24 00:57:05</td>\n      <td>6.235355</td>\n      <td>6.235355</td>\n      <td>1.247071</td>\n    </tr>\n    <tr>\n      <th>242597</th>\n      <td>688636</td>\n      <td>2021-06-24 01:06:15</td>\n      <td>235.549577</td>\n      <td>235.541248</td>\n      <td>1.731982</td>\n    </tr>\n    <tr>\n      <th>242598</th>\n      <td>688637</td>\n      <td>2021-06-24 01:14:21</td>\n      <td>81.373775</td>\n      <td>81.367773</td>\n      <td>0.689608</td>\n    </tr>\n    <tr>\n      <th>242599</th>\n      <td>688638</td>\n      <td>2021-06-24 01:33:45</td>\n      <td>382.922954</td>\n      <td>382.909472</td>\n      <td>1.392447</td>\n    </tr>\n  </tbody>\n</table>\n<p>242600 rows × 5 columns</p>\n</div>"
     },
     "metadata": {},
     "execution_count": 8
    }
   ],
   "source": [
    "response = cq_utils.exchange_btc_outflow('2017-01-01 01:00:00', end=None, exchange='all_exchange', timeframe='block')\n",
    "pd.DataFrame(response['data'])\n"
   ]
  },
  {
   "cell_type": "code",
   "execution_count": 9,
   "metadata": {},
   "outputs": [
    {
     "output_type": "stream",
     "name": "stdout",
     "text": [
      "2017-01-01 01:00:00 2021-06-24 01:43:55.860201\nprocessing: 2017-01-01 01:00:00 - 2021-06-24 01:43:55.860201\n"
     ]
    },
    {
     "output_type": "execute_result",
     "data": {
      "text/plain": [
       "            date       mpi\n",
       "0     2017-01-01 -0.529292\n",
       "1     2017-01-02 -0.491280\n",
       "2     2017-01-03  0.035301\n",
       "3     2017-01-04  0.080539\n",
       "4     2017-01-05  1.667363\n",
       "...          ...       ...\n",
       "1629  2021-06-18 -0.744990\n",
       "1630  2021-06-19 -0.776964\n",
       "1631  2021-06-20 -0.736019\n",
       "1632  2021-06-21 -0.634611\n",
       "1633  2021-06-22 -0.656810\n",
       "\n",
       "[1634 rows x 2 columns]"
      ],
      "text/html": "<div>\n<style scoped>\n    .dataframe tbody tr th:only-of-type {\n        vertical-align: middle;\n    }\n\n    .dataframe tbody tr th {\n        vertical-align: top;\n    }\n\n    .dataframe thead th {\n        text-align: right;\n    }\n</style>\n<table border=\"1\" class=\"dataframe\">\n  <thead>\n    <tr style=\"text-align: right;\">\n      <th></th>\n      <th>date</th>\n      <th>mpi</th>\n    </tr>\n  </thead>\n  <tbody>\n    <tr>\n      <th>0</th>\n      <td>2017-01-01</td>\n      <td>-0.529292</td>\n    </tr>\n    <tr>\n      <th>1</th>\n      <td>2017-01-02</td>\n      <td>-0.491280</td>\n    </tr>\n    <tr>\n      <th>2</th>\n      <td>2017-01-03</td>\n      <td>0.035301</td>\n    </tr>\n    <tr>\n      <th>3</th>\n      <td>2017-01-04</td>\n      <td>0.080539</td>\n    </tr>\n    <tr>\n      <th>4</th>\n      <td>2017-01-05</td>\n      <td>1.667363</td>\n    </tr>\n    <tr>\n      <th>...</th>\n      <td>...</td>\n      <td>...</td>\n    </tr>\n    <tr>\n      <th>1629</th>\n      <td>2021-06-18</td>\n      <td>-0.744990</td>\n    </tr>\n    <tr>\n      <th>1630</th>\n      <td>2021-06-19</td>\n      <td>-0.776964</td>\n    </tr>\n    <tr>\n      <th>1631</th>\n      <td>2021-06-20</td>\n      <td>-0.736019</td>\n    </tr>\n    <tr>\n      <th>1632</th>\n      <td>2021-06-21</td>\n      <td>-0.634611</td>\n    </tr>\n    <tr>\n      <th>1633</th>\n      <td>2021-06-22</td>\n      <td>-0.656810</td>\n    </tr>\n  </tbody>\n</table>\n<p>1634 rows × 2 columns</p>\n</div>"
     },
     "metadata": {},
     "execution_count": 9
    }
   ],
   "source": [
    "response = cq_utils.miners_position_index('2017-01-01 01:00:00', end=None, timeframe='day')\n",
    "pd.DataFrame(response['data'])"
   ]
  },
  {
   "cell_type": "code",
   "execution_count": null,
   "metadata": {},
   "outputs": [],
   "source": []
  },
  {
   "cell_type": "code",
   "execution_count": 2,
   "metadata": {},
   "outputs": [
    {
     "output_type": "stream",
     "name": "stdout",
     "text": [
      "2017-01-01 01:00:00 2021-06-24 02:16:50.075064\nprocessing: 2017-01-01 01:00:00 - 2021-06-24 02:16:50.075064\n"
     ]
    }
   ],
   "source": [
    "response = cq_utils.miners_position_index('2017-01-01 01:00:00', end=None, timeframe='day')\n",
    "test = pd.DataFrame(response['data'])"
   ]
  },
  {
   "cell_type": "code",
   "execution_count": 3,
   "metadata": {},
   "outputs": [
    {
     "output_type": "execute_result",
     "data": {
      "text/plain": [
       "            date       mpi\n",
       "0     2017-01-01 -0.529292\n",
       "1     2017-01-02 -0.491280\n",
       "2     2017-01-03  0.035301\n",
       "3     2017-01-04  0.080539\n",
       "4     2017-01-05  1.667363\n",
       "...          ...       ...\n",
       "1629  2021-06-18 -0.744990\n",
       "1630  2021-06-19 -0.776964\n",
       "1631  2021-06-20 -0.736019\n",
       "1632  2021-06-21 -0.634611\n",
       "1633  2021-06-22 -0.656810\n",
       "\n",
       "[1634 rows x 2 columns]"
      ],
      "text/html": "<div>\n<style scoped>\n    .dataframe tbody tr th:only-of-type {\n        vertical-align: middle;\n    }\n\n    .dataframe tbody tr th {\n        vertical-align: top;\n    }\n\n    .dataframe thead th {\n        text-align: right;\n    }\n</style>\n<table border=\"1\" class=\"dataframe\">\n  <thead>\n    <tr style=\"text-align: right;\">\n      <th></th>\n      <th>date</th>\n      <th>mpi</th>\n    </tr>\n  </thead>\n  <tbody>\n    <tr>\n      <th>0</th>\n      <td>2017-01-01</td>\n      <td>-0.529292</td>\n    </tr>\n    <tr>\n      <th>1</th>\n      <td>2017-01-02</td>\n      <td>-0.491280</td>\n    </tr>\n    <tr>\n      <th>2</th>\n      <td>2017-01-03</td>\n      <td>0.035301</td>\n    </tr>\n    <tr>\n      <th>3</th>\n      <td>2017-01-04</td>\n      <td>0.080539</td>\n    </tr>\n    <tr>\n      <th>4</th>\n      <td>2017-01-05</td>\n      <td>1.667363</td>\n    </tr>\n    <tr>\n      <th>...</th>\n      <td>...</td>\n      <td>...</td>\n    </tr>\n    <tr>\n      <th>1629</th>\n      <td>2021-06-18</td>\n      <td>-0.744990</td>\n    </tr>\n    <tr>\n      <th>1630</th>\n      <td>2021-06-19</td>\n      <td>-0.776964</td>\n    </tr>\n    <tr>\n      <th>1631</th>\n      <td>2021-06-20</td>\n      <td>-0.736019</td>\n    </tr>\n    <tr>\n      <th>1632</th>\n      <td>2021-06-21</td>\n      <td>-0.634611</td>\n    </tr>\n    <tr>\n      <th>1633</th>\n      <td>2021-06-22</td>\n      <td>-0.656810</td>\n    </tr>\n  </tbody>\n</table>\n<p>1634 rows × 2 columns</p>\n</div>"
     },
     "metadata": {},
     "execution_count": 3
    }
   ],
   "source": [
    "test"
   ]
  },
  {
   "source": [
    "## Examples of datetime, timestamp conversion"
   ],
   "cell_type": "markdown",
   "metadata": {}
  },
  {
   "cell_type": "code",
   "execution_count": 3,
   "metadata": {},
   "outputs": [
    {
     "output_type": "execute_result",
     "data": {
      "text/plain": [
       "1483228800.0"
      ]
     },
     "metadata": {},
     "execution_count": 3
    }
   ],
   "source": [
    "datetime_obj = date_utils.str_to_datetime(test.date[0], '%Y-%m-%d')\n",
    "\n",
    "timestamp = date_utils.datetime_to_utctimestamp(datetime_obj)\n",
    "timestamp"
   ]
  },
  {
   "cell_type": "code",
   "execution_count": null,
   "metadata": {},
   "outputs": [],
   "source": []
  },
  {
   "cell_type": "code",
   "execution_count": 5,
   "metadata": {},
   "outputs": [
    {
     "output_type": "execute_result",
     "data": {
      "text/plain": [
       "'2017-01-01 00:00:00+00:00'"
      ]
     },
     "metadata": {},
     "execution_count": 5
    }
   ],
   "source": [
    "date_obj = date_utils.utctimestamp_to_datetime(timestamp)\n",
    "str(date_obj)"
   ]
  },
  {
   "cell_type": "code",
   "execution_count": null,
   "metadata": {},
   "outputs": [],
   "source": []
  }
 ]
}