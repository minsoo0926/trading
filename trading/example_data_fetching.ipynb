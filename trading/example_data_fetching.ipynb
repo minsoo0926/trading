{
 "metadata": {
  "language_info": {
   "codemirror_mode": {
    "name": "ipython",
    "version": 3
   },
   "file_extension": ".py",
   "mimetype": "text/x-python",
   "name": "python",
   "nbconvert_exporter": "python",
   "pygments_lexer": "ipython3",
   "version": "3.8.3"
  },
  "orig_nbformat": 2,
  "kernelspec": {
   "name": "python3",
   "display_name": "Python 3.8.3 64-bit ('.venv': venv)"
  },
  "metadata": {
   "interpreter": {
    "hash": "09f4dcfb3e964316099ed5c193f7e1b40b926ea02855df65dc4d9b607a760bc3"
   }
  },
  "interpreter": {
   "hash": "09f4dcfb3e964316099ed5c193f7e1b40b926ea02855df65dc4d9b607a760bc3"
  }
 },
 "nbformat": 4,
 "nbformat_minor": 2,
 "cells": [
  {
   "source": [
    "## Examples of Data fetching using CCXT "
   ],
   "cell_type": "markdown",
   "metadata": {}
  },
  {
   "cell_type": "code",
   "execution_count": 1,
   "metadata": {},
   "outputs": [],
   "source": [
    "from datetime import datetime, timezone\n",
    "import configparser\n",
    "import json\n",
    "import ccxt\n",
    "import time\n",
    "import pandas as pd\n",
    "from utils import ccxt_utils, cq_utils   \n",
    "import pickle\n",
    "\n",
    "config = configparser.ConfigParser()\n",
    "config.read('../config.ini')\n",
    "\n",
    "BINANCE_SYMBOL = 'BTC/USDT'\n",
    "COPRO_SYMBOL = 'BTC/USD'\n",
    "\n",
    "BINANCE_API_KEY = config['BINANCE']['API_KEY']\n",
    "BINANCE_SECRET_KEY = config['BINANCE']['SECRET_KEY']\n",
    "BINANCE_API_URL = config['BINANCE']['API_URL']\n",
    "\n",
    "COPRO_API_KEY = config['COINBASE']['API_KEY']\n",
    "COPRO_SECRET_KEY = config['COINBASE']['SECRET_KEY']\n",
    "COPRO_API_URL = config['COINBASE']['API_URL']"
   ]
  },
  {
   "cell_type": "code",
   "execution_count": 2,
   "metadata": {},
   "outputs": [
    {
     "output_type": "stream",
     "name": "stdout",
     "text": [
      "CCXT Version:  1.45.42\n"
     ]
    }
   ],
   "source": [
    "print('CCXT Version: ', ccxt.__version__)\n",
    "\n",
    "binance = ccxt.binance({\n",
    "    'options': {\n",
    "        'adjustForTimeDifference': True,\n",
    "        # 'defaultType': 'future'\n",
    "    },\n",
    "    'rateLimit': 10000,\n",
    "    'enableRateLimit': True,\n",
    "    # 'verbose': True,\n",
    "    'apiKey': BINANCE_API_KEY,\n",
    "    'secret': BINANCE_SECRET_KEY,\n",
    "})\n",
    "\n",
    "binance_futures = ccxt.binance({\n",
    "    'options': {\n",
    "        'adjustForTimeDifference': True,\n",
    "        'defaultType': 'future'\n",
    "    },\n",
    "    'rateLimit': 10000,\n",
    "    'enableRateLimit': True,\n",
    "    # 'verbose': True,\n",
    "    'apiKey': BINANCE_API_KEY,\n",
    "    'secret': BINANCE_SECRET_KEY,\n",
    "})\n",
    "\n",
    "copro = ccxt.coinbasepro({\n",
    "    'options': {\n",
    "        'adjustForTimeDifference': True,\n",
    "        'defaultType': 'future'\n",
    "    },\n",
    "    'rateLimit': 10000,\n",
    "    'enableRateLimit': True,\n",
    "    # 'verbose': True,\n",
    "    'apiKey': COPRO_API_KEY,\n",
    "    'secret': COPRO_SECRET_KEY,\n",
    "})"
   ]
  },
  {
   "cell_type": "code",
   "execution_count": 3,
   "metadata": {},
   "outputs": [
    {
     "output_type": "execute_result",
     "data": {
      "text/plain": [
       "('binance', 'binance', 'coinbasepro')"
      ]
     },
     "metadata": {},
     "execution_count": 3
    }
   ],
   "source": [
    "binance.id, binance_futures.id, copro.id"
   ]
  },
  {
   "cell_type": "code",
   "execution_count": null,
   "metadata": {},
   "outputs": [],
   "source": [
    "since = '2021-06-21 00:00:00'\n",
    "since_timestamp = binance.parse8601(since)\n",
    "print(since_timestamp)\n",
    "\n",
    "a_data = ccxt_utils.fetch_ohlcv(BINANCE_SYMBOL, binance, timeframe='1m', start=since, end=None)\n",
    "b_data = ccxt_utils.fetch_ohlcv(BINANCE_SYMBOL, binance_futures, timeframe='1m', start=since, end=None)\n",
    "c_data = ccxt_utils.fetch_ohlcv(COPRO_SYMBOL, copro, timeframe='1m', start=since, end=None)\n"
   ]
  },
  {
   "cell_type": "code",
   "execution_count": null,
   "metadata": {},
   "outputs": [],
   "source": [
    "a_data, b_data, c_data "
   ]
  },
  {
   "cell_type": "code",
   "execution_count": null,
   "metadata": {},
   "outputs": [],
   "source": [
    "a_data_df = ccxt_utils.ohlcv_to_df(a_data['data'])\n",
    "b_data_df = ccxt_utils.ohlcv_to_df(b_data['data'])\n",
    "b_data_df"
   ]
  },
  {
   "cell_type": "code",
   "execution_count": null,
   "metadata": {},
   "outputs": [],
   "source": [
    "# with open('data/20200101-binance_futures-1m.pkl', 'wb') as f: \n",
    "#     pickle.dump(b_data, f, pickle.HIGHEST_PROTOCOL) "
   ]
  },
  {
   "cell_type": "code",
   "execution_count": null,
   "metadata": {},
   "outputs": [],
   "source": [
    "merged_data = ccxt_utils.merge_price_signal(a_data_df, b_data_df)\n",
    "merged_data"
   ]
  },
  {
   "cell_type": "code",
   "execution_count": 4,
   "metadata": {},
   "outputs": [
    {
     "output_type": "stream",
     "name": "stdout",
     "text": [
      "1577836800000\n",
      "Data fetching (binance): from  2020-01-01T00:00:00.000Z - to 2021-06-24T08:54:51.472Z\n",
      "Data fetching (binance): from  2020-01-21T20:00:00.000Z - to 2021-06-24T08:54:51.472Z\n",
      "Data fetching (binance): from  2020-02-11T16:00:00.000Z - to 2021-06-24T08:54:51.472Z\n",
      "Data fetching (binance): from  2020-03-03T12:00:00.000Z - to 2021-06-24T08:54:51.472Z\n",
      "Data fetching (binance): from  2020-03-24T08:00:00.000Z - to 2021-06-24T08:54:51.472Z\n",
      "Data fetching (binance): from  2020-04-14T04:00:00.000Z - to 2021-06-24T08:54:51.472Z\n",
      "Data fetching (binance): from  2020-05-05T00:00:00.000Z - to 2021-06-24T08:54:51.472Z\n",
      "Data fetching (binance): from  2020-05-25T20:00:00.000Z - to 2021-06-24T08:54:51.472Z\n",
      "Data fetching (binance): from  2020-06-15T16:00:00.000Z - to 2021-06-24T08:54:51.472Z\n",
      "Data fetching (binance): from  2020-07-06T12:00:00.000Z - to 2021-06-24T08:54:51.472Z\n",
      "Data fetching (binance): from  2020-07-27T08:00:00.000Z - to 2021-06-24T08:54:51.472Z\n",
      "Data fetching (binance): from  2020-08-17T04:00:00.000Z - to 2021-06-24T08:54:51.472Z\n",
      "Data fetching (binance): from  2020-09-07T00:00:00.000Z - to 2021-06-24T08:54:51.472Z\n",
      "Data fetching (binance): from  2020-09-27T20:00:00.000Z - to 2021-06-24T08:54:51.472Z\n",
      "Data fetching (binance): from  2020-10-18T16:00:00.000Z - to 2021-06-24T08:54:51.472Z\n",
      "Data fetching (binance): from  2020-11-08T12:00:00.000Z - to 2021-06-24T08:54:51.472Z\n",
      "Data fetching (binance): from  2020-11-29T08:00:00.000Z - to 2021-06-24T08:54:51.472Z\n",
      "Data fetching (binance): from  2020-12-20T04:00:00.000Z - to 2021-06-24T08:54:51.472Z\n",
      "Data fetching (binance): from  2021-01-10T00:00:00.000Z - to 2021-06-24T08:54:51.472Z\n",
      "Data fetching (binance): from  2021-01-30T20:00:00.000Z - to 2021-06-24T08:54:51.472Z\n",
      "Data fetching (binance): from  2021-02-20T16:00:00.000Z - to 2021-06-24T08:54:51.472Z\n",
      "Data fetching (binance): from  2021-03-13T12:00:00.000Z - to 2021-06-24T08:54:51.472Z\n",
      "Data fetching (binance): from  2021-04-03T08:00:00.000Z - to 2021-06-24T08:54:51.472Z\n",
      "Data fetching (binance): from  2021-04-24T04:00:00.000Z - to 2021-06-24T08:54:51.472Z\n",
      "Data fetching (binance): from  2021-05-15T00:00:00.000Z - to 2021-06-24T08:54:51.472Z\n",
      "Data fetching (binance): from  2021-06-04T20:00:00.000Z - to 2021-06-24T08:54:51.472Z\n",
      "Fetching finished.\n"
     ]
    }
   ],
   "source": [
    "since = '2020-01-01 00:00:00'\n",
    "since_timestamp = binance.parse8601(since)\n",
    "print(since_timestamp)\n",
    "\n",
    "a_data_1h = ccxt_utils.fetch_ohlcv(BINANCE_SYMBOL, binance, timeframe='1h', start=since, end=None)\n",
    "b_data_1h = ccxt_utils.fetch_ohlcv(BINANCE_SYMBOL, binance_futures, timeframe='1h', start=since, end=None)\n",
    "c_data_1h = ccxt_utils.fetch_ohlcv(COPRO_SYMBOL, copro, timeframe='1h', start=since, end=None)"
   ]
  },
  {
   "source": [
    "## Examples of Data Conversion and Loading/Saving "
   ],
   "cell_type": "markdown",
   "metadata": {}
  },
  {
   "cell_type": "code",
   "execution_count": 11,
   "metadata": {},
   "outputs": [
    {
     "output_type": "execute_result",
     "data": {
      "text/plain": [
       "                         open      high       low     close       volume\n",
       "datetime                                                                \n",
       "2020-01-01 00:00:00   7195.24   7196.25   7175.46   7177.02   511.814901\n",
       "2020-01-01 01:00:00   7176.47   7230.00   7175.71   7216.27   883.052603\n",
       "2020-01-01 02:00:00   7215.52   7244.87   7211.41   7242.85   655.156809\n",
       "2020-01-01 03:00:00   7242.66   7245.00   7220.00   7225.01   783.724867\n",
       "2020-01-01 04:00:00   7225.00   7230.00   7215.03   7217.27   467.812578\n",
       "...                       ...       ...       ...       ...          ...\n",
       "2021-06-24 04:00:00  32589.20  32785.70  32286.57  32546.38  3145.359409\n",
       "2021-06-24 05:00:00  32546.39  33023.95  32480.00  32982.01  3428.696094\n",
       "2021-06-24 06:00:00  32982.00  33206.79  32724.38  33005.23  2950.795183\n",
       "2021-06-24 07:00:00  33005.23  33280.55  32768.81  32853.74  3526.205222\n",
       "2021-06-24 08:00:00  32853.74  33399.86  32820.61  33371.45  3252.743080\n",
       "\n",
       "[12945 rows x 5 columns]"
      ],
      "text/html": "<div>\n<style scoped>\n    .dataframe tbody tr th:only-of-type {\n        vertical-align: middle;\n    }\n\n    .dataframe tbody tr th {\n        vertical-align: top;\n    }\n\n    .dataframe thead th {\n        text-align: right;\n    }\n</style>\n<table border=\"1\" class=\"dataframe\">\n  <thead>\n    <tr style=\"text-align: right;\">\n      <th></th>\n      <th>open</th>\n      <th>high</th>\n      <th>low</th>\n      <th>close</th>\n      <th>volume</th>\n    </tr>\n    <tr>\n      <th>datetime</th>\n      <th></th>\n      <th></th>\n      <th></th>\n      <th></th>\n      <th></th>\n    </tr>\n  </thead>\n  <tbody>\n    <tr>\n      <th>2020-01-01 00:00:00</th>\n      <td>7195.24</td>\n      <td>7196.25</td>\n      <td>7175.46</td>\n      <td>7177.02</td>\n      <td>511.814901</td>\n    </tr>\n    <tr>\n      <th>2020-01-01 01:00:00</th>\n      <td>7176.47</td>\n      <td>7230.00</td>\n      <td>7175.71</td>\n      <td>7216.27</td>\n      <td>883.052603</td>\n    </tr>\n    <tr>\n      <th>2020-01-01 02:00:00</th>\n      <td>7215.52</td>\n      <td>7244.87</td>\n      <td>7211.41</td>\n      <td>7242.85</td>\n      <td>655.156809</td>\n    </tr>\n    <tr>\n      <th>2020-01-01 03:00:00</th>\n      <td>7242.66</td>\n      <td>7245.00</td>\n      <td>7220.00</td>\n      <td>7225.01</td>\n      <td>783.724867</td>\n    </tr>\n    <tr>\n      <th>2020-01-01 04:00:00</th>\n      <td>7225.00</td>\n      <td>7230.00</td>\n      <td>7215.03</td>\n      <td>7217.27</td>\n      <td>467.812578</td>\n    </tr>\n    <tr>\n      <th>...</th>\n      <td>...</td>\n      <td>...</td>\n      <td>...</td>\n      <td>...</td>\n      <td>...</td>\n    </tr>\n    <tr>\n      <th>2021-06-24 04:00:00</th>\n      <td>32589.20</td>\n      <td>32785.70</td>\n      <td>32286.57</td>\n      <td>32546.38</td>\n      <td>3145.359409</td>\n    </tr>\n    <tr>\n      <th>2021-06-24 05:00:00</th>\n      <td>32546.39</td>\n      <td>33023.95</td>\n      <td>32480.00</td>\n      <td>32982.01</td>\n      <td>3428.696094</td>\n    </tr>\n    <tr>\n      <th>2021-06-24 06:00:00</th>\n      <td>32982.00</td>\n      <td>33206.79</td>\n      <td>32724.38</td>\n      <td>33005.23</td>\n      <td>2950.795183</td>\n    </tr>\n    <tr>\n      <th>2021-06-24 07:00:00</th>\n      <td>33005.23</td>\n      <td>33280.55</td>\n      <td>32768.81</td>\n      <td>32853.74</td>\n      <td>3526.205222</td>\n    </tr>\n    <tr>\n      <th>2021-06-24 08:00:00</th>\n      <td>32853.74</td>\n      <td>33399.86</td>\n      <td>32820.61</td>\n      <td>33371.45</td>\n      <td>3252.743080</td>\n    </tr>\n  </tbody>\n</table>\n<p>12945 rows × 5 columns</p>\n</div>"
     },
     "metadata": {},
     "execution_count": 11
    }
   ],
   "source": [
    "a_data_1h_df = ccxt_utils.ohlcv_to_df(a_data_1h['data'])\n",
    "b_data_1h_df = ccxt_utils.ohlcv_to_df(b_data_1h['data'])\n",
    "c_data_1h_df = ccxt_utils.ohlcv_to_df(c_data_1h['data'])\n",
    "\n",
    "a_data_1h_df.to_csv('data/20200101-binance-1h.csv')\n",
    "b_data_1h_df.to_csv('data/20200101-binance_futures-1h.csv')\n",
    "c_data_1h_df.to_csv('data/20200101-coinbase-1h.csv')\n",
    "\n",
    "a_data_1h_df"
   ]
  },
  {
   "cell_type": "code",
   "execution_count": 14,
   "metadata": {},
   "outputs": [
    {
     "output_type": "stream",
     "name": "stdout",
     "text": [
      "1577836800000\n",
      "Data fetching (binance): from  2020-01-01T00:00:00.000Z - to 2021-06-24T09:47:44.015Z\n",
      "Data fetching (binance): from  2021-05-15T00:00:00.000Z - to 2021-06-24T09:47:44.015Z\n",
      "Fetching finished.\n",
      "Data fetching (binance): from  2020-01-01T00:00:00.000Z - to 2021-06-24T09:47:54.141Z\n",
      "Data fetching (binance): from  2021-05-15T00:00:00.000Z - to 2021-06-24T09:47:54.141Z\n",
      "Fetching finished.\n",
      "Data fetching (coinbasepro): from  2020-01-01T00:00:00.000Z - to 2021-06-24T09:48:04.197Z\n",
      "Data fetching (coinbasepro): from  2020-10-27T00:00:00.000Z - to 2021-06-24T09:48:04.197Z\n",
      "Fetching finished.\n"
     ]
    }
   ],
   "source": [
    "since = '2020-01-01 00:00:00'\n",
    "since_timestamp = binance.parse8601(since)\n",
    "print(since_timestamp)\n",
    "\n",
    "a_data_1d = ccxt_utils.fetch_ohlcv(BINANCE_SYMBOL, binance, timeframe='1d', start=since, end=None)\n",
    "b_data_1d = ccxt_utils.fetch_ohlcv(BINANCE_SYMBOL, binance_futures, timeframe='1d', start=since, end=None)\n",
    "c_data_1d = ccxt_utils.fetch_ohlcv(COPRO_SYMBOL, copro, timeframe='1d', start=since, end=None)\n",
    "\n",
    "a_data_1d_df = ccxt_utils.ohlcv_to_df(a_data_1d['data'])\n",
    "b_data_1d_df = ccxt_utils.ohlcv_to_df(b_data_1d['data'])\n",
    "c_data_1d_df = ccxt_utils.ohlcv_to_df(c_data_1d['data'])\n",
    "\n",
    "a_data_1d_df.to_csv('data/20200101-binance-1d.csv')\n",
    "b_data_1d_df.to_csv('data/20200101-binance_futures-1d.csv')\n",
    "c_data_1d_df.to_csv('data/20200101-coinbase-1d.csv')"
   ]
  },
  {
   "cell_type": "code",
   "execution_count": 18,
   "metadata": {},
   "outputs": [],
   "source": [
    "with open('data/20200101-binance_futures-1m.pkl', 'rb') as f: \n",
    "    data = pickle.load(f)\n",
    "\n",
    "with open('data/20200101-copro-1m.pkl', 'rb') as f: \n",
    "    data = pickle.load(f)\n",
    "\n",
    "with open('data/20200101-copro-premium-1m.pkl', 'rb') as f: \n",
    "    data = pickle.load(f)\n",
    "\n",
    "data.to_csv('data/20200101-binance_futures-1m.csv')\n",
    "data.to_csv('data/20200101-copro-premium-1m.csv')\n",
    "data.to_csv('data/20200101-copro-1m.csv')"
   ]
  },
  {
   "cell_type": "code",
   "execution_count": 19,
   "metadata": {},
   "outputs": [],
   "source": []
  },
  {
   "cell_type": "code",
   "execution_count": 20,
   "metadata": {},
   "outputs": [],
   "source": []
  },
  {
   "cell_type": "code",
   "execution_count": null,
   "metadata": {},
   "outputs": [],
   "source": []
  }
 ]
}