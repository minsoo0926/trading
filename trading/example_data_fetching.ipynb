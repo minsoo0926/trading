{
 "metadata": {
  "language_info": {
   "codemirror_mode": {
    "name": "ipython",
    "version": 3
   },
   "file_extension": ".py",
   "mimetype": "text/x-python",
   "name": "python",
   "nbconvert_exporter": "python",
   "pygments_lexer": "ipython3",
   "version": "3.8.10"
  },
  "orig_nbformat": 2,
  "kernelspec": {
   "name": "python3",
   "display_name": "Python 3.8.10 64-bit ('venv': venv)"
  },
  "metadata": {
   "interpreter": {
    "hash": "09f4dcfb3e964316099ed5c193f7e1b40b926ea02855df65dc4d9b607a760bc3"
   }
  },
  "interpreter": {
   "hash": "703d482c079a7afa9ebd53b71cbe02730ba23b5953ded63e56add7759604ddd7"
  }
 },
 "nbformat": 4,
 "nbformat_minor": 2,
 "cells": [
  {
   "cell_type": "markdown",
   "source": [
    "## Examples of Data fetching using CCXT "
   ],
   "metadata": {}
  },
  {
   "cell_type": "code",
   "execution_count": 1,
   "source": [
    "from datetime import datetime, timezone\n",
    "import configparser\n",
    "import json\n",
    "import ccxt\n",
    "import time\n",
    "import pandas as pd\n",
    "from utils import ccxt_utils, cq_utils   \n",
    "import pickle\n",
    "\n",
    "config = configparser.ConfigParser()\n",
    "config.read('../config.ini')\n",
    "\n",
    "BINANCE_SYMBOL = 'BTC/USDT'\n",
    "COPRO_SYMBOL = 'BTC/USD'\n",
    "\n",
    "BINANCE_API_KEY = config['BINANCE']['API_KEY']\n",
    "BINANCE_SECRET_KEY = config['BINANCE']['SECRET_KEY']\n",
    "BINANCE_API_URL = config['BINANCE']['API_URL']\n",
    "\n",
    "COPRO_API_KEY = config['COINBASE']['API_KEY']\n",
    "COPRO_SECRET_KEY = config['COINBASE']['SECRET_KEY']\n",
    "COPRO_API_URL = config['COINBASE']['API_URL']"
   ],
   "outputs": [],
   "metadata": {}
  },
  {
   "cell_type": "code",
   "execution_count": 2,
   "source": [
    "print('CCXT Version: ', ccxt.__version__)\n",
    "\n",
    "binance = ccxt.binance({\n",
    "    'options': {\n",
    "        'adjustForTimeDifference': True,\n",
    "        # 'defaultType': 'future'\n",
    "    },\n",
    "    'rateLimit': 10000,\n",
    "    'enableRateLimit': True,\n",
    "    # 'verbose': True,\n",
    "    'apiKey': BINANCE_API_KEY,\n",
    "    'secret': BINANCE_SECRET_KEY,\n",
    "})\n",
    "\n",
    "binance_futures = ccxt.binance({\n",
    "    'options': {\n",
    "        'adjustForTimeDifference': True,\n",
    "        'defaultType': 'future'\n",
    "    },\n",
    "    'rateLimit': 10000,\n",
    "    'enableRateLimit': True,\n",
    "    # 'verbose': True,\n",
    "    'apiKey': BINANCE_API_KEY,\n",
    "    'secret': BINANCE_SECRET_KEY,\n",
    "})\n",
    "\n",
    "copro = ccxt.coinbasepro({\n",
    "    'options': {\n",
    "        'adjustForTimeDifference': True,\n",
    "        'defaultType': 'future'\n",
    "    },\n",
    "    'rateLimit': 10000,\n",
    "    'enableRateLimit': True,\n",
    "    # 'verbose': True,\n",
    "    'apiKey': COPRO_API_KEY,\n",
    "    'secret': COPRO_SECRET_KEY,\n",
    "})"
   ],
   "outputs": [
    {
     "output_type": "stream",
     "name": "stdout",
     "text": [
      "CCXT Version:  1.45.42\n"
     ]
    }
   ],
   "metadata": {}
  },
  {
   "cell_type": "code",
   "execution_count": null,
   "source": [
    "binance.id, binance_futures.id, copro.id"
   ],
   "outputs": [],
   "metadata": {}
  },
  {
   "cell_type": "code",
   "execution_count": null,
   "source": [
    "since = '2020-01-01 00:00:00'\n",
    "since_timestamp = binance.parse8601(since)\n",
    "print(since_timestamp)\n",
    "\n",
    "a_data = ccxt_utils.fetch_ohlcv(BINANCE_SYMBOL, binance, timeframe='1m', start=since, end=None)\n",
    "b_data = ccxt_utils.fetch_ohlcv(BINANCE_SYMBOL, binance_futures, timeframe='1m', start=since, end=None)\n",
    "c_data = ccxt_utils.fetch_ohlcv(COPRO_SYMBOL, copro, timeframe='1m', start=since, end=None)\n"
   ],
   "outputs": [],
   "metadata": {}
  },
  {
   "cell_type": "code",
   "execution_count": null,
   "source": [
    "#a_data, b_data, c_data "
   ],
   "outputs": [],
   "metadata": {}
  },
  {
   "cell_type": "code",
   "execution_count": null,
   "source": [
    "a_data_df = ccxt_utils.ohlcv_to_df(a_data['data'])\n",
    "b_data_df = ccxt_utils.ohlcv_to_df(b_data['data'])\n",
    "#b_data_df"
   ],
   "outputs": [],
   "metadata": {}
  },
  {
   "cell_type": "code",
   "execution_count": null,
   "source": [
    "# with open('data/20200101-binance_futures-1m.pkl', 'wb') as f: \n",
    "#     pickle.dump(b_data, f, pickle.HIGHEST_PROTOCOL) "
   ],
   "outputs": [],
   "metadata": {}
  },
  {
   "cell_type": "code",
   "execution_count": null,
   "source": [
    "merged_data = ccxt_utils.merge_price_signal(a_data_df, b_data_df)\n",
    "#merged_data"
   ],
   "outputs": [],
   "metadata": {}
  },
  {
   "cell_type": "code",
   "execution_count": 4,
   "source": [
    "since = '2020-01-01 01:00:00'\n",
    "since_timestamp = binance.parse8601(since)\n",
    "print(since_timestamp)\n",
    "\n",
    "#a_data_1h = ccxt_utils.fetch_ohlcv(BINANCE_SYMBOL, binance, timeframe='1h', start=since, end=end)\n",
    "b_data_1h = ccxt_utils.fetch_ohlcv(BINANCE_SYMBOL, binance_futures, timeframe='1h', start=since, end=None)\n",
    "#c_data_1h = ccxt_utils.fetch_ohlcv(COPRO_SYMBOL, copro, timeframe='1h', start=since, end=None)"
   ],
   "outputs": [
    {
     "output_type": "stream",
     "name": "stdout",
     "text": [
      "1577840400000\n",
      "Data fetching (binance): from  2020-01-01T01:00:00.000Z - to 2021-10-04T17:00:39.806Z\n",
      "Data fetching (binance): from  2020-01-21T21:00:00.000Z - to 2021-10-04T17:00:39.806Z\n",
      "Data fetching (binance): from  2020-02-11T17:00:00.000Z - to 2021-10-04T17:00:39.806Z\n",
      "Data fetching (binance): from  2020-03-03T13:00:00.000Z - to 2021-10-04T17:00:39.806Z\n",
      "Data fetching (binance): from  2020-03-24T09:00:00.000Z - to 2021-10-04T17:00:39.806Z\n",
      "Data fetching (binance): from  2020-04-14T05:00:00.000Z - to 2021-10-04T17:00:39.806Z\n",
      "Data fetching (binance): from  2020-05-05T01:00:00.000Z - to 2021-10-04T17:00:39.806Z\n",
      "Data fetching (binance): from  2020-05-25T21:00:00.000Z - to 2021-10-04T17:00:39.806Z\n",
      "Data fetching (binance): from  2020-06-15T17:00:00.000Z - to 2021-10-04T17:00:39.806Z\n",
      "Data fetching (binance): from  2020-07-06T13:00:00.000Z - to 2021-10-04T17:00:39.806Z\n",
      "Data fetching (binance): from  2020-07-27T09:00:00.000Z - to 2021-10-04T17:00:39.806Z\n",
      "Data fetching (binance): from  2020-08-17T05:00:00.000Z - to 2021-10-04T17:00:39.806Z\n",
      "Data fetching (binance): from  2020-09-07T01:00:00.000Z - to 2021-10-04T17:00:39.806Z\n",
      "Data fetching (binance): from  2020-09-27T21:00:00.000Z - to 2021-10-04T17:00:39.806Z\n",
      "Data fetching (binance): from  2020-10-18T17:00:00.000Z - to 2021-10-04T17:00:39.806Z\n",
      "Data fetching (binance): from  2020-11-08T13:00:00.000Z - to 2021-10-04T17:00:39.806Z\n",
      "Data fetching (binance): from  2020-11-29T09:00:00.000Z - to 2021-10-04T17:00:39.806Z\n",
      "Data fetching (binance): from  2020-12-20T05:00:00.000Z - to 2021-10-04T17:00:39.806Z\n",
      "Data fetching (binance): from  2021-01-10T01:00:00.000Z - to 2021-10-04T17:00:39.806Z\n",
      "Data fetching (binance): from  2021-01-30T21:00:00.000Z - to 2021-10-04T17:00:39.806Z\n",
      "Data fetching (binance): from  2021-02-20T17:00:00.000Z - to 2021-10-04T17:00:39.806Z\n",
      "Data fetching (binance): from  2021-03-13T13:00:00.000Z - to 2021-10-04T17:00:39.806Z\n",
      "Data fetching (binance): from  2021-04-03T09:00:00.000Z - to 2021-10-04T17:00:39.806Z\n",
      "Data fetching (binance): from  2021-04-24T05:00:00.000Z - to 2021-10-04T17:00:39.806Z\n",
      "Data fetching (binance): from  2021-05-15T01:00:00.000Z - to 2021-10-04T17:00:39.806Z\n",
      "Data fetching (binance): from  2021-06-04T21:00:00.000Z - to 2021-10-04T17:00:39.806Z\n",
      "Data fetching (binance): from  2021-06-25T17:00:00.000Z - to 2021-10-04T17:00:39.806Z\n",
      "Data fetching (binance): from  2021-07-16T13:00:00.000Z - to 2021-10-04T17:00:39.806Z\n",
      "Data fetching (binance): from  2021-08-06T09:00:00.000Z - to 2021-10-04T17:00:39.806Z\n",
      "Data fetching (binance): from  2021-08-27T05:00:00.000Z - to 2021-10-04T17:00:39.806Z\n",
      "Data fetching (binance): from  2021-09-17T01:00:00.000Z - to 2021-10-04T17:00:39.806Z\n",
      "Fetching finished.\n"
     ]
    }
   ],
   "metadata": {}
  },
  {
   "cell_type": "code",
   "execution_count": 9,
   "source": [
    "b_data_1h"
   ],
   "outputs": [
    {
     "output_type": "execute_result",
     "data": {
      "text/plain": [
       "{'status': 200,\n",
       " 'data': [[1632441600000, 3150.7, 3157.5, 3123.99, 3125.63, 53197.645],\n",
       "  [1632445200000, 3125.62, 3136.58, 3086.35, 3095.4, 69819.238],\n",
       "  [1632448800000, 3095.73, 3107.74, 3080.37, 3100.7, 58618.861],\n",
       "  [1632452400000, 3100.7, 3112.0, 3068.0, 3073.39, 61098.57],\n",
       "  [1632456000000, 3073.39, 3086.91, 3054.4, 3077.89, 57573.784],\n",
       "  [1632459600000, 3077.89, 3081.48, 3036.73, 3071.81, 83429.655],\n",
       "  [1632463200000, 3071.81, 3094.39, 3056.27, 3057.09, 65134.851],\n",
       "  [1632466800000, 3057.08, 3116.36, 3054.15, 3100.84, 127338.536]]}"
      ]
     },
     "metadata": {},
     "execution_count": 9
    }
   ],
   "metadata": {}
  },
  {
   "cell_type": "markdown",
   "source": [
    "## Examples of Data Conversion and Loading/Saving "
   ],
   "metadata": {}
  },
  {
   "cell_type": "code",
   "execution_count": null,
   "source": [
    "#a_data_1h_df = ccxt_utils.ohlcv_to_df(a_data_1h['data'])\n",
    "b_data_1h_df = ccxt_utils.ohlcv_to_df(b_data_1h['data'])\n",
    "#c_data_1h_df = ccxt_utils.ohlcv_to_df(c_data_1h['data'])\n",
    "\n",
    "#a_data_1h_df.to_csv('data/20200101-binance-1h.csv')\n",
    "b_data_1h_df.to_csv('data/20200101-binance_futures-1h.csv')\n",
    "#c_data_1h_df.to_csv('data/20200101-coinbase-1h.csv')\n",
    "\n",
    "#a_data_1h_df"
   ],
   "outputs": [],
   "metadata": {}
  },
  {
   "cell_type": "code",
   "execution_count": null,
   "source": [
    "since = '2020-01-01 00:00:00'\n",
    "since_timestamp = binance.parse8601(since)\n",
    "print(since_timestamp)\n",
    "\n",
    "a_data_1d = ccxt_utils.fetch_ohlcv(BINANCE_SYMBOL, binance, timeframe='1d', start=since, end=None)\n",
    "b_data_1d = ccxt_utils.fetch_ohlcv(BINANCE_SYMBOL, binance_futures, timeframe='1d', start=since, end=None)\n",
    "c_data_1d = ccxt_utils.fetch_ohlcv(COPRO_SYMBOL, copro, timeframe='1d', start=since, end=None)\n",
    "\n",
    "a_data_1d_df = ccxt_utils.ohlcv_to_df(a_data_1d['data'])\n",
    "b_data_1d_df = ccxt_utils.ohlcv_to_df(b_data_1d['data'])\n",
    "c_data_1d_df = ccxt_utils.ohlcv_to_df(c_data_1d['data'])\n",
    "\n",
    "a_data_1d_df.to_csv('data/20200101-binance-1d.csv')\n",
    "b_data_1d_df.to_csv('data/20200101-binance_futures-1d.csv')\n",
    "c_data_1d_df.to_csv('data/20200101-coinbase-1d.csv')"
   ],
   "outputs": [],
   "metadata": {}
  },
  {
   "cell_type": "code",
   "execution_count": null,
   "source": [
    "with open('data/20200101-binance_futures-1m.pkl', 'rb') as f: \n",
    "    data = pickle.load(f)\n",
    "\n",
    "with open('data/20200101-copro-1m.pkl', 'rb') as f: \n",
    "    data = pickle.load(f)\n",
    "\n",
    "with open('data/20200101-copro-premium-1m.pkl', 'rb') as f: \n",
    "    data = pickle.load(f)\n",
    "\n",
    "data.to_csv('data/20200101-binance_futures-1m.csv')\n",
    "data.to_csv('data/20200101-copro-premium-1m.csv')\n",
    "data.to_csv('data/20200101-copro-1m.csv')"
   ],
   "outputs": [],
   "metadata": {}
  }
 ]
}