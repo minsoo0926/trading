{
 "metadata": {
  "language_info": {
   "codemirror_mode": {
    "name": "ipython",
    "version": 3
   },
   "file_extension": ".py",
   "mimetype": "text/x-python",
   "name": "python",
   "nbconvert_exporter": "python",
   "pygments_lexer": "ipython3",
   "version": "3.8.10"
  },
  "orig_nbformat": 2,
  "kernelspec": {
   "name": "python3",
   "display_name": "Python 3.8.10 64-bit ('venv': venv)"
  },
  "metadata": {
   "interpreter": {
    "hash": "09f4dcfb3e964316099ed5c193f7e1b40b926ea02855df65dc4d9b607a760bc3"
   }
  },
  "interpreter": {
   "hash": "703d482c079a7afa9ebd53b71cbe02730ba23b5953ded63e56add7759604ddd7"
  }
 },
 "nbformat": 4,
 "nbformat_minor": 2,
 "cells": [
  {
   "cell_type": "markdown",
   "source": [
    "## Examples of Data fetching using CCXT "
   ],
   "metadata": {}
  },
  {
   "cell_type": "code",
   "execution_count": 2,
   "source": [
    "from datetime import datetime, timezone\n",
    "import configparser\n",
    "import json\n",
    "import ccxt\n",
    "import time\n",
    "import pandas as pd\n",
    "from utils import ccxt_utils, cq_utils   \n",
    "import pickle\n",
    "\n",
    "config = configparser.ConfigParser()\n",
    "config.read('../config.ini')\n",
    "\n",
    "BINANCE_SYMBOL = 'BTC/USDT'\n",
    "COPRO_SYMBOL = 'BTC/USD'\n",
    "\n",
    "BINANCE_API_KEY = config['BINANCE']['API_KEY']\n",
    "BINANCE_SECRET_KEY = config['BINANCE']['SECRET_KEY']\n",
    "BINANCE_API_URL = config['BINANCE']['API_URL']\n",
    "\n",
    "COPRO_API_KEY = config['COINBASE']['API_KEY']\n",
    "COPRO_SECRET_KEY = config['COINBASE']['SECRET_KEY']\n",
    "COPRO_API_URL = config['COINBASE']['API_URL']"
   ],
   "outputs": [],
   "metadata": {}
  },
  {
   "cell_type": "code",
   "execution_count": 3,
   "source": [
    "print('CCXT Version: ', ccxt.__version__)\n",
    "\n",
    "binance = ccxt.binance({\n",
    "    'options': {\n",
    "        'adjustForTimeDifference': True,\n",
    "        # 'defaultType': 'future'\n",
    "    },\n",
    "    'rateLimit': 10000,\n",
    "    'enableRateLimit': True,\n",
    "    # 'verbose': True,\n",
    "    'apiKey': BINANCE_API_KEY,\n",
    "    'secret': BINANCE_SECRET_KEY,\n",
    "})\n",
    "\n",
    "binance_futures = ccxt.binance({\n",
    "    'options': {\n",
    "        'adjustForTimeDifference': True,\n",
    "        'defaultType': 'future'\n",
    "    },\n",
    "    'rateLimit': 10000,\n",
    "    'enableRateLimit': True,\n",
    "    # 'verbose': True,\n",
    "    'apiKey': BINANCE_API_KEY,\n",
    "    'secret': BINANCE_SECRET_KEY,\n",
    "})\n",
    "\n",
    "copro = ccxt.coinbasepro({\n",
    "    'options': {\n",
    "        'adjustForTimeDifference': True,\n",
    "        'defaultType': 'future'\n",
    "    },\n",
    "    'rateLimit': 10000,\n",
    "    'enableRateLimit': True,\n",
    "    # 'verbose': True,\n",
    "    'apiKey': COPRO_API_KEY,\n",
    "    'secret': COPRO_SECRET_KEY,\n",
    "})"
   ],
   "outputs": [
    {
     "output_type": "stream",
     "name": "stdout",
     "text": [
      "CCXT Version:  1.45.42\n"
     ]
    }
   ],
   "metadata": {}
  },
  {
   "cell_type": "code",
   "execution_count": null,
   "source": [
    "binance.id, binance_futures.id, copro.id"
   ],
   "outputs": [],
   "metadata": {}
  },
  {
   "cell_type": "code",
   "execution_count": null,
   "source": [
    "since = '2020-01-01 00:00:00'\n",
    "since_timestamp = binance.parse8601(since)\n",
    "print(since_timestamp)\n",
    "\n",
    "a_data = ccxt_utils.fetch_ohlcv(BINANCE_SYMBOL, binance, timeframe='1m', start=since, end=None)\n",
    "b_data = ccxt_utils.fetch_ohlcv(BINANCE_SYMBOL, binance_futures, timeframe='1m', start=since, end=None)\n",
    "c_data = ccxt_utils.fetch_ohlcv(COPRO_SYMBOL, copro, timeframe='1m', start=since, end=None)\n"
   ],
   "outputs": [],
   "metadata": {}
  },
  {
   "cell_type": "code",
   "execution_count": null,
   "source": [
    "#a_data, b_data, c_data "
   ],
   "outputs": [],
   "metadata": {}
  },
  {
   "cell_type": "code",
   "execution_count": null,
   "source": [
    "a_data_df = ccxt_utils.ohlcv_to_df(a_data['data'])\n",
    "b_data_df = ccxt_utils.ohlcv_to_df(b_data['data'])\n",
    "#b_data_df"
   ],
   "outputs": [],
   "metadata": {}
  },
  {
   "cell_type": "code",
   "execution_count": null,
   "source": [
    "# with open('data/20200101-binance_futures-1m.pkl', 'wb') as f: \n",
    "#     pickle.dump(b_data, f, pickle.HIGHEST_PROTOCOL) "
   ],
   "outputs": [],
   "metadata": {}
  },
  {
   "cell_type": "code",
   "execution_count": null,
   "source": [
    "merged_data = ccxt_utils.merge_price_signal(a_data_df, b_data_df)\n",
    "#merged_data"
   ],
   "outputs": [],
   "metadata": {}
  },
  {
   "cell_type": "code",
   "execution_count": 4,
   "source": [
    "since = '2020-01-01 00:00:00'\n",
    "end = '2020-01-01 01:00:00'\n",
    "since_timestamp = binance.parse8601(since)\n",
    "print(since_timestamp)\n",
    "\n",
    "a_data_1h = ccxt_utils.fetch_ohlcv(BINANCE_SYMBOL, binance, timeframe='1h', start=since, end=end)\n",
    "b_data_1h = ccxt_utils.fetch_ohlcv(BINANCE_SYMBOL, binance_futures, timeframe='1h', start=since, end=end)\n",
    "#c_data_1h = ccxt_utils.fetch_ohlcv(COPRO_SYMBOL, copro, timeframe='1h', start=since, end=None)"
   ],
   "outputs": [
    {
     "output_type": "stream",
     "name": "stdout",
     "text": [
      "1577836800000\n",
      "Data fetching (binance): from  2020-01-01T00:00:00.000Z - to 2020-01-01T01:00:00.000Z\n",
      "Fetching finished.\n",
      "Data fetching (binance): from  2020-01-01T00:00:00.000Z - to 2020-01-01T01:00:00.000Z\n"
     ]
    }
   ],
   "metadata": {}
  },
  {
   "cell_type": "markdown",
   "source": [
    "## Examples of Data Conversion and Loading/Saving "
   ],
   "metadata": {}
  },
  {
   "cell_type": "code",
   "execution_count": null,
   "source": [
    "a_data_1h_df = ccxt_utils.ohlcv_to_df(a_data_1h['data'])\n",
    "b_data_1h_df = ccxt_utils.ohlcv_to_df(b_data_1h['data'])\n",
    "#c_data_1h_df = ccxt_utils.ohlcv_to_df(c_data_1h['data'])\n",
    "\n",
    "a_data_1h_df.to_csv('data/20200101-binance-1h.csv')\n",
    "b_data_1h_df.to_csv('data/20200101-binance_futures-1h.csv')\n",
    "#c_data_1h_df.to_csv('data/20200101-coinbase-1h.csv')\n",
    "\n",
    "a_data_1h_df"
   ],
   "outputs": [],
   "metadata": {}
  },
  {
   "cell_type": "code",
   "execution_count": null,
   "source": [
    "since = '2020-01-01 00:00:00'\n",
    "since_timestamp = binance.parse8601(since)\n",
    "print(since_timestamp)\n",
    "\n",
    "a_data_1d = ccxt_utils.fetch_ohlcv(BINANCE_SYMBOL, binance, timeframe='1d', start=since, end=None)\n",
    "b_data_1d = ccxt_utils.fetch_ohlcv(BINANCE_SYMBOL, binance_futures, timeframe='1d', start=since, end=None)\n",
    "c_data_1d = ccxt_utils.fetch_ohlcv(COPRO_SYMBOL, copro, timeframe='1d', start=since, end=None)\n",
    "\n",
    "a_data_1d_df = ccxt_utils.ohlcv_to_df(a_data_1d['data'])\n",
    "b_data_1d_df = ccxt_utils.ohlcv_to_df(b_data_1d['data'])\n",
    "c_data_1d_df = ccxt_utils.ohlcv_to_df(c_data_1d['data'])\n",
    "\n",
    "a_data_1d_df.to_csv('data/20200101-binance-1d.csv')\n",
    "b_data_1d_df.to_csv('data/20200101-binance_futures-1d.csv')\n",
    "c_data_1d_df.to_csv('data/20200101-coinbase-1d.csv')"
   ],
   "outputs": [],
   "metadata": {}
  },
  {
   "cell_type": "code",
   "execution_count": null,
   "source": [
    "with open('data/20200101-binance_futures-1m.pkl', 'rb') as f: \n",
    "    data = pickle.load(f)\n",
    "\n",
    "with open('data/20200101-copro-1m.pkl', 'rb') as f: \n",
    "    data = pickle.load(f)\n",
    "\n",
    "with open('data/20200101-copro-premium-1m.pkl', 'rb') as f: \n",
    "    data = pickle.load(f)\n",
    "\n",
    "data.to_csv('data/20200101-binance_futures-1m.csv')\n",
    "data.to_csv('data/20200101-copro-premium-1m.csv')\n",
    "data.to_csv('data/20200101-copro-1m.csv')"
   ],
   "outputs": [],
   "metadata": {}
  }
 ]
}