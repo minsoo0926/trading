{
 "metadata": {
  "language_info": {
   "codemirror_mode": {
    "name": "ipython",
    "version": 3
   },
   "file_extension": ".py",
   "mimetype": "text/x-python",
   "name": "python",
   "nbconvert_exporter": "python",
   "pygments_lexer": "ipython3",
   "version": "3.8.3"
  },
  "orig_nbformat": 2,
  "kernelspec": {
   "name": "python3",
   "display_name": "Python 3.8.3  ('.venv': venv)"
  },
  "metadata": {
   "interpreter": {
    "hash": "09f4dcfb3e964316099ed5c193f7e1b40b926ea02855df65dc4d9b607a760bc3"
   }
  },
  "interpreter": {
   "hash": "09f4dcfb3e964316099ed5c193f7e1b40b926ea02855df65dc4d9b607a760bc3"
  }
 },
 "nbformat": 4,
 "nbformat_minor": 2,
 "cells": [
  {
   "cell_type": "code",
   "execution_count": 1,
   "metadata": {},
   "outputs": [],
   "source": [
    "from datetime import datetime, timedelta\n",
    "import pandas as pd \n",
    "# from influxdb_client import InfluxDBClient\n",
    "from influxdb_client import InfluxDBClient, Point, WritePrecision, WriteOptions \n",
    "from influxdb_client.client.write_api import SYNCHRONOUS\n",
    "import configparser\n",
    "import pickle\n",
    "\n",
    "config = configparser.ConfigParser()\n",
    "config.read('../config.ini')\n",
    "\n",
    "\n",
    "TOKEN = config['INFLUXDB']['API_KEY']\n",
    "API_URL = config['INFLUXDB']['API_URL']\n",
    "ORG = config['INFLUXDB']['ORG']\n",
    "\n",
    "client = InfluxDBClient(url=API_URL, token=TOKEN, org=ORG)\n",
    "write_api = client.write_api(write_options=SYNCHRONOUS)\n",
    "query_api = client.query_api()\n",
    "\n",
    "\n",
    "# The defined buckets should be created in influxdb - consult influxdb manuals. \n",
    "BUCKET = 'my_bucket'\n",
    "TEST1 = 'test_bucket1'\n",
    "TEST2 = 'test_bucket2'"
   ]
  },
  {
   "cell_type": "code",
   "execution_count": 2,
   "metadata": {},
   "outputs": [],
   "source": [
    "with open('data/20200101-binance_futures-1m.pkl', 'rb') as f:\n",
    "\tdata = pickle.load(f)"
   ]
  },
  {
   "source": [
    "## Example of Dataframe writing to InfluxDB"
   ],
   "cell_type": "markdown",
   "metadata": {}
  },
  {
   "cell_type": "code",
   "execution_count": 3,
   "metadata": {},
   "outputs": [
    {
     "output_type": "execute_result",
     "data": {
      "text/plain": [
       "                        open     high      low    close   volume\n",
       "datetime                                                        \n",
       "2020-01-01 00:00:00  7189.43  7190.52  7177.00  7182.44  246.092\n",
       "2020-01-01 00:01:00  7182.43  7182.44  7178.75  7179.01   70.909\n",
       "2020-01-01 00:02:00  7179.01  7179.01  7175.25  7177.93   99.420\n",
       "2020-01-01 00:03:00  7177.77  7182.60  7177.00  7181.11   69.330\n",
       "2020-01-01 00:04:00  7179.10  7179.10  7172.94  7175.25   97.368\n",
       "...                      ...      ...      ...      ...      ...\n",
       "2020-01-01 01:35:00  7213.55  7213.97  7207.74  7207.74  125.766\n",
       "2020-01-01 01:36:00  7207.76  7212.00  7207.00  7208.74   67.480\n",
       "2020-01-01 01:37:00  7209.31  7209.47  7207.07  7207.07   43.464\n",
       "2020-01-01 01:38:00  7207.98  7216.73  7207.98  7216.73   69.946\n",
       "2020-01-01 01:39:00  7216.56  7216.60  7210.92  7210.92   91.500\n",
       "\n",
       "[100 rows x 5 columns]"
      ],
      "text/html": "<div>\n<style scoped>\n    .dataframe tbody tr th:only-of-type {\n        vertical-align: middle;\n    }\n\n    .dataframe tbody tr th {\n        vertical-align: top;\n    }\n\n    .dataframe thead th {\n        text-align: right;\n    }\n</style>\n<table border=\"1\" class=\"dataframe\">\n  <thead>\n    <tr style=\"text-align: right;\">\n      <th></th>\n      <th>open</th>\n      <th>high</th>\n      <th>low</th>\n      <th>close</th>\n      <th>volume</th>\n    </tr>\n    <tr>\n      <th>datetime</th>\n      <th></th>\n      <th></th>\n      <th></th>\n      <th></th>\n      <th></th>\n    </tr>\n  </thead>\n  <tbody>\n    <tr>\n      <th>2020-01-01 00:00:00</th>\n      <td>7189.43</td>\n      <td>7190.52</td>\n      <td>7177.00</td>\n      <td>7182.44</td>\n      <td>246.092</td>\n    </tr>\n    <tr>\n      <th>2020-01-01 00:01:00</th>\n      <td>7182.43</td>\n      <td>7182.44</td>\n      <td>7178.75</td>\n      <td>7179.01</td>\n      <td>70.909</td>\n    </tr>\n    <tr>\n      <th>2020-01-01 00:02:00</th>\n      <td>7179.01</td>\n      <td>7179.01</td>\n      <td>7175.25</td>\n      <td>7177.93</td>\n      <td>99.420</td>\n    </tr>\n    <tr>\n      <th>2020-01-01 00:03:00</th>\n      <td>7177.77</td>\n      <td>7182.60</td>\n      <td>7177.00</td>\n      <td>7181.11</td>\n      <td>69.330</td>\n    </tr>\n    <tr>\n      <th>2020-01-01 00:04:00</th>\n      <td>7179.10</td>\n      <td>7179.10</td>\n      <td>7172.94</td>\n      <td>7175.25</td>\n      <td>97.368</td>\n    </tr>\n    <tr>\n      <th>...</th>\n      <td>...</td>\n      <td>...</td>\n      <td>...</td>\n      <td>...</td>\n      <td>...</td>\n    </tr>\n    <tr>\n      <th>2020-01-01 01:35:00</th>\n      <td>7213.55</td>\n      <td>7213.97</td>\n      <td>7207.74</td>\n      <td>7207.74</td>\n      <td>125.766</td>\n    </tr>\n    <tr>\n      <th>2020-01-01 01:36:00</th>\n      <td>7207.76</td>\n      <td>7212.00</td>\n      <td>7207.00</td>\n      <td>7208.74</td>\n      <td>67.480</td>\n    </tr>\n    <tr>\n      <th>2020-01-01 01:37:00</th>\n      <td>7209.31</td>\n      <td>7209.47</td>\n      <td>7207.07</td>\n      <td>7207.07</td>\n      <td>43.464</td>\n    </tr>\n    <tr>\n      <th>2020-01-01 01:38:00</th>\n      <td>7207.98</td>\n      <td>7216.73</td>\n      <td>7207.98</td>\n      <td>7216.73</td>\n      <td>69.946</td>\n    </tr>\n    <tr>\n      <th>2020-01-01 01:39:00</th>\n      <td>7216.56</td>\n      <td>7216.60</td>\n      <td>7210.92</td>\n      <td>7210.92</td>\n      <td>91.500</td>\n    </tr>\n  </tbody>\n</table>\n<p>100 rows × 5 columns</p>\n</div>"
     },
     "metadata": {},
     "execution_count": 3
    }
   ],
   "source": [
    "sample_data = data[0:100]\n",
    "sample_data"
   ]
  },
  {
   "source": [
    "### One column (in this case 'close') should be assigned as value and field, so should not be included in tag_columns"
   ],
   "cell_type": "markdown",
   "metadata": {}
  },
  {
   "cell_type": "code",
   "execution_count": 4,
   "metadata": {},
   "outputs": [],
   "source": [
    "write_api.write(bucket=TEST1, record=sample_data, data_frame_measurement_name='binance',\n",
    "                data_frame_tag_columns=['open', 'high', 'low', 'volume'])\n",
    "write_api.close()"
   ]
  },
  {
   "cell_type": "code",
   "execution_count": 5,
   "metadata": {},
   "outputs": [
    {
     "output_type": "execute_result",
     "data": {
      "text/plain": [
       "     result table                    _start                            _stop  \\\n",
       "0   _result     0 1970-01-01 00:00:00+00:00 2021-06-23 07:55:27.564137+00:00   \n",
       "1   _result     1 1970-01-01 00:00:00+00:00 2021-06-23 07:55:27.564137+00:00   \n",
       "2   _result     2 1970-01-01 00:00:00+00:00 2021-06-23 07:55:27.564137+00:00   \n",
       "3   _result     3 1970-01-01 00:00:00+00:00 2021-06-23 07:55:27.564137+00:00   \n",
       "4   _result     4 1970-01-01 00:00:00+00:00 2021-06-23 07:55:27.564137+00:00   \n",
       "..      ...   ...                       ...                              ...   \n",
       "95  _result    95 1970-01-01 00:00:00+00:00 2021-06-23 07:55:27.564137+00:00   \n",
       "96  _result    96 1970-01-01 00:00:00+00:00 2021-06-23 07:55:27.564137+00:00   \n",
       "97  _result    97 1970-01-01 00:00:00+00:00 2021-06-23 07:55:27.564137+00:00   \n",
       "98  _result    98 1970-01-01 00:00:00+00:00 2021-06-23 07:55:27.564137+00:00   \n",
       "99  _result    99 1970-01-01 00:00:00+00:00 2021-06-23 07:55:27.564137+00:00   \n",
       "\n",
       "                       _time   _value _field _measurement     high      low  \\\n",
       "0  2020-01-01 00:59:00+00:00  7171.55  close      binance  7171.61   7171.0   \n",
       "1  2020-01-01 01:00:00+00:00  7171.76  close      binance  7171.77  7171.36   \n",
       "2  2020-01-01 00:58:00+00:00  7171.81  close      binance  7172.92  7171.75   \n",
       "3  2020-01-01 00:57:00+00:00  7173.29  close      binance  7173.33  7171.16   \n",
       "4  2020-01-01 00:20:00+00:00  7171.29  close      binance   7173.5   7171.0   \n",
       "..                       ...      ...    ...          ...      ...      ...   \n",
       "95 2020-01-01 01:38:00+00:00  7216.73  close      binance  7216.73  7207.98   \n",
       "96 2020-01-01 01:33:00+00:00  7210.07  close      binance  7217.64   7208.0   \n",
       "97 2020-01-01 01:30:00+00:00  7220.47  close      binance  7220.55  7205.89   \n",
       "98 2020-01-01 01:32:00+00:00  7214.83  close      binance  7222.95   7208.0   \n",
       "99 2020-01-01 01:31:00+00:00  7216.89  close      binance   7225.0  7213.33   \n",
       "\n",
       "       open   volume  \n",
       "0   7171.52   28.912  \n",
       "1   7171.43    9.245  \n",
       "2   7172.73    3.161  \n",
       "3   7171.28   26.996  \n",
       "4    7173.5   63.683  \n",
       "..      ...      ...  \n",
       "95  7207.98   69.946  \n",
       "96  7214.83   91.493  \n",
       "97  7205.89  204.296  \n",
       "98   7216.9  157.719  \n",
       "99  7220.47  351.269  \n",
       "\n",
       "[100 rows x 12 columns]"
      ],
      "text/html": "<div>\n<style scoped>\n    .dataframe tbody tr th:only-of-type {\n        vertical-align: middle;\n    }\n\n    .dataframe tbody tr th {\n        vertical-align: top;\n    }\n\n    .dataframe thead th {\n        text-align: right;\n    }\n</style>\n<table border=\"1\" class=\"dataframe\">\n  <thead>\n    <tr style=\"text-align: right;\">\n      <th></th>\n      <th>result</th>\n      <th>table</th>\n      <th>_start</th>\n      <th>_stop</th>\n      <th>_time</th>\n      <th>_value</th>\n      <th>_field</th>\n      <th>_measurement</th>\n      <th>high</th>\n      <th>low</th>\n      <th>open</th>\n      <th>volume</th>\n    </tr>\n  </thead>\n  <tbody>\n    <tr>\n      <th>0</th>\n      <td>_result</td>\n      <td>0</td>\n      <td>1970-01-01 00:00:00+00:00</td>\n      <td>2021-06-23 07:55:27.564137+00:00</td>\n      <td>2020-01-01 00:59:00+00:00</td>\n      <td>7171.55</td>\n      <td>close</td>\n      <td>binance</td>\n      <td>7171.61</td>\n      <td>7171.0</td>\n      <td>7171.52</td>\n      <td>28.912</td>\n    </tr>\n    <tr>\n      <th>1</th>\n      <td>_result</td>\n      <td>1</td>\n      <td>1970-01-01 00:00:00+00:00</td>\n      <td>2021-06-23 07:55:27.564137+00:00</td>\n      <td>2020-01-01 01:00:00+00:00</td>\n      <td>7171.76</td>\n      <td>close</td>\n      <td>binance</td>\n      <td>7171.77</td>\n      <td>7171.36</td>\n      <td>7171.43</td>\n      <td>9.245</td>\n    </tr>\n    <tr>\n      <th>2</th>\n      <td>_result</td>\n      <td>2</td>\n      <td>1970-01-01 00:00:00+00:00</td>\n      <td>2021-06-23 07:55:27.564137+00:00</td>\n      <td>2020-01-01 00:58:00+00:00</td>\n      <td>7171.81</td>\n      <td>close</td>\n      <td>binance</td>\n      <td>7172.92</td>\n      <td>7171.75</td>\n      <td>7172.73</td>\n      <td>3.161</td>\n    </tr>\n    <tr>\n      <th>3</th>\n      <td>_result</td>\n      <td>3</td>\n      <td>1970-01-01 00:00:00+00:00</td>\n      <td>2021-06-23 07:55:27.564137+00:00</td>\n      <td>2020-01-01 00:57:00+00:00</td>\n      <td>7173.29</td>\n      <td>close</td>\n      <td>binance</td>\n      <td>7173.33</td>\n      <td>7171.16</td>\n      <td>7171.28</td>\n      <td>26.996</td>\n    </tr>\n    <tr>\n      <th>4</th>\n      <td>_result</td>\n      <td>4</td>\n      <td>1970-01-01 00:00:00+00:00</td>\n      <td>2021-06-23 07:55:27.564137+00:00</td>\n      <td>2020-01-01 00:20:00+00:00</td>\n      <td>7171.29</td>\n      <td>close</td>\n      <td>binance</td>\n      <td>7173.5</td>\n      <td>7171.0</td>\n      <td>7173.5</td>\n      <td>63.683</td>\n    </tr>\n    <tr>\n      <th>...</th>\n      <td>...</td>\n      <td>...</td>\n      <td>...</td>\n      <td>...</td>\n      <td>...</td>\n      <td>...</td>\n      <td>...</td>\n      <td>...</td>\n      <td>...</td>\n      <td>...</td>\n      <td>...</td>\n      <td>...</td>\n    </tr>\n    <tr>\n      <th>95</th>\n      <td>_result</td>\n      <td>95</td>\n      <td>1970-01-01 00:00:00+00:00</td>\n      <td>2021-06-23 07:55:27.564137+00:00</td>\n      <td>2020-01-01 01:38:00+00:00</td>\n      <td>7216.73</td>\n      <td>close</td>\n      <td>binance</td>\n      <td>7216.73</td>\n      <td>7207.98</td>\n      <td>7207.98</td>\n      <td>69.946</td>\n    </tr>\n    <tr>\n      <th>96</th>\n      <td>_result</td>\n      <td>96</td>\n      <td>1970-01-01 00:00:00+00:00</td>\n      <td>2021-06-23 07:55:27.564137+00:00</td>\n      <td>2020-01-01 01:33:00+00:00</td>\n      <td>7210.07</td>\n      <td>close</td>\n      <td>binance</td>\n      <td>7217.64</td>\n      <td>7208.0</td>\n      <td>7214.83</td>\n      <td>91.493</td>\n    </tr>\n    <tr>\n      <th>97</th>\n      <td>_result</td>\n      <td>97</td>\n      <td>1970-01-01 00:00:00+00:00</td>\n      <td>2021-06-23 07:55:27.564137+00:00</td>\n      <td>2020-01-01 01:30:00+00:00</td>\n      <td>7220.47</td>\n      <td>close</td>\n      <td>binance</td>\n      <td>7220.55</td>\n      <td>7205.89</td>\n      <td>7205.89</td>\n      <td>204.296</td>\n    </tr>\n    <tr>\n      <th>98</th>\n      <td>_result</td>\n      <td>98</td>\n      <td>1970-01-01 00:00:00+00:00</td>\n      <td>2021-06-23 07:55:27.564137+00:00</td>\n      <td>2020-01-01 01:32:00+00:00</td>\n      <td>7214.83</td>\n      <td>close</td>\n      <td>binance</td>\n      <td>7222.95</td>\n      <td>7208.0</td>\n      <td>7216.9</td>\n      <td>157.719</td>\n    </tr>\n    <tr>\n      <th>99</th>\n      <td>_result</td>\n      <td>99</td>\n      <td>1970-01-01 00:00:00+00:00</td>\n      <td>2021-06-23 07:55:27.564137+00:00</td>\n      <td>2020-01-01 01:31:00+00:00</td>\n      <td>7216.89</td>\n      <td>close</td>\n      <td>binance</td>\n      <td>7225.0</td>\n      <td>7213.33</td>\n      <td>7220.47</td>\n      <td>351.269</td>\n    </tr>\n  </tbody>\n</table>\n<p>100 rows × 12 columns</p>\n</div>"
     },
     "metadata": {},
     "execution_count": 5
    }
   ],
   "source": [
    "query = 'from(bucket: \\\"{}\\\") |> range(start:0)'.format(TEST1)\n",
    "data = client.query_api().query_data_frame(org=ORG, query=query)\n",
    "data"
   ]
  },
  {
   "source": [
    "## Write data (dataframe) to influxdb"
   ],
   "cell_type": "markdown",
   "metadata": {}
  },
  {
   "cell_type": "code",
   "execution_count": 9,
   "metadata": {},
   "outputs": [
    {
     "output_type": "execute_result",
     "data": {
      "text/plain": [
       "                     blockheight  inflow_total  inflow_top10  inflow_mean\n",
       "datetime                                                                 \n",
       "2020-01-01 00:03:05       610691    339.306123    330.610481     1.368170\n",
       "2020-01-01 00:07:32       610692     71.728480     71.726044     0.788225\n",
       "2020-01-01 00:13:34       610693     39.837081     39.779510     0.402395\n",
       "2020-01-01 00:19:00       610694     69.974007     69.968218     0.874675\n",
       "2020-01-01 00:37:32       610695    171.701157    170.507771     0.833501\n",
       "...                          ...           ...           ...          ...\n",
       "2021-06-22 07:55:21       688467    613.384863    612.072143     4.172686\n",
       "2021-06-22 08:25:35       688468   1065.423847   1003.685588     3.170904\n",
       "2021-06-22 08:30:43       688469    354.832382    302.683069     1.271801\n",
       "2021-06-22 08:38:41       688470    633.441961    547.755604     3.538782\n",
       "2021-06-22 08:40:18       688471    113.397731    113.270907     2.362453\n",
       "\n",
       "[77781 rows x 4 columns]"
      ],
      "text/html": "<div>\n<style scoped>\n    .dataframe tbody tr th:only-of-type {\n        vertical-align: middle;\n    }\n\n    .dataframe tbody tr th {\n        vertical-align: top;\n    }\n\n    .dataframe thead th {\n        text-align: right;\n    }\n</style>\n<table border=\"1\" class=\"dataframe\">\n  <thead>\n    <tr style=\"text-align: right;\">\n      <th></th>\n      <th>blockheight</th>\n      <th>inflow_total</th>\n      <th>inflow_top10</th>\n      <th>inflow_mean</th>\n    </tr>\n    <tr>\n      <th>datetime</th>\n      <th></th>\n      <th></th>\n      <th></th>\n      <th></th>\n    </tr>\n  </thead>\n  <tbody>\n    <tr>\n      <th>2020-01-01 00:03:05</th>\n      <td>610691</td>\n      <td>339.306123</td>\n      <td>330.610481</td>\n      <td>1.368170</td>\n    </tr>\n    <tr>\n      <th>2020-01-01 00:07:32</th>\n      <td>610692</td>\n      <td>71.728480</td>\n      <td>71.726044</td>\n      <td>0.788225</td>\n    </tr>\n    <tr>\n      <th>2020-01-01 00:13:34</th>\n      <td>610693</td>\n      <td>39.837081</td>\n      <td>39.779510</td>\n      <td>0.402395</td>\n    </tr>\n    <tr>\n      <th>2020-01-01 00:19:00</th>\n      <td>610694</td>\n      <td>69.974007</td>\n      <td>69.968218</td>\n      <td>0.874675</td>\n    </tr>\n    <tr>\n      <th>2020-01-01 00:37:32</th>\n      <td>610695</td>\n      <td>171.701157</td>\n      <td>170.507771</td>\n      <td>0.833501</td>\n    </tr>\n    <tr>\n      <th>...</th>\n      <td>...</td>\n      <td>...</td>\n      <td>...</td>\n      <td>...</td>\n    </tr>\n    <tr>\n      <th>2021-06-22 07:55:21</th>\n      <td>688467</td>\n      <td>613.384863</td>\n      <td>612.072143</td>\n      <td>4.172686</td>\n    </tr>\n    <tr>\n      <th>2021-06-22 08:25:35</th>\n      <td>688468</td>\n      <td>1065.423847</td>\n      <td>1003.685588</td>\n      <td>3.170904</td>\n    </tr>\n    <tr>\n      <th>2021-06-22 08:30:43</th>\n      <td>688469</td>\n      <td>354.832382</td>\n      <td>302.683069</td>\n      <td>1.271801</td>\n    </tr>\n    <tr>\n      <th>2021-06-22 08:38:41</th>\n      <td>688470</td>\n      <td>633.441961</td>\n      <td>547.755604</td>\n      <td>3.538782</td>\n    </tr>\n    <tr>\n      <th>2021-06-22 08:40:18</th>\n      <td>688471</td>\n      <td>113.397731</td>\n      <td>113.270907</td>\n      <td>2.362453</td>\n    </tr>\n  </tbody>\n</table>\n<p>77781 rows × 4 columns</p>\n</div>"
     },
     "metadata": {},
     "execution_count": 9
    }
   ],
   "source": [
    "with open('data/20200101-exchange_inflow-block.pkl', 'rb') as f:\n",
    "\tinflow_data = pickle.load(f)\n",
    "\n",
    "inflow_data.set_index('datetime', inplace=True)\n",
    "inflow_data"
   ]
  },
  {
   "cell_type": "code",
   "execution_count": 11,
   "metadata": {},
   "outputs": [],
   "source": [
    "write_api.write(bucket=TEST2, record=inflow_data, data_frame_measurement_name='exchange_inflow',\n",
    "                data_frame_tag_columns=['inflow_top10', 'inflow_mean', 'blockheight'])\n",
    "write_api.close()"
   ]
  },
  {
   "cell_type": "code",
   "execution_count": 12,
   "metadata": {},
   "outputs": [
    {
     "output_type": "execute_result",
     "data": {
      "text/plain": [
       "        result  table                    _start  \\\n",
       "0      _result      0 1970-01-01 00:00:00+00:00   \n",
       "1      _result      1 1970-01-01 00:00:00+00:00   \n",
       "2      _result      2 1970-01-01 00:00:00+00:00   \n",
       "3      _result      3 1970-01-01 00:00:00+00:00   \n",
       "4      _result      4 1970-01-01 00:00:00+00:00   \n",
       "...        ...    ...                       ...   \n",
       "77776  _result  77776 1970-01-01 00:00:00+00:00   \n",
       "77777  _result  77777 1970-01-01 00:00:00+00:00   \n",
       "77778  _result  77778 1970-01-01 00:00:00+00:00   \n",
       "77779  _result  77779 1970-01-01 00:00:00+00:00   \n",
       "77780  _result  77780 1970-01-01 00:00:00+00:00   \n",
       "\n",
       "                                 _stop                     _time       _value  \\\n",
       "0     2021-06-23 07:58:27.730436+00:00 2020-01-01 00:03:05+00:00   339.306123   \n",
       "1     2021-06-23 07:58:27.730436+00:00 2020-01-01 00:07:32+00:00    71.728480   \n",
       "2     2021-06-23 07:58:27.730436+00:00 2020-01-01 00:13:34+00:00    39.837081   \n",
       "3     2021-06-23 07:58:27.730436+00:00 2020-01-01 00:19:00+00:00    69.974007   \n",
       "4     2021-06-23 07:58:27.730436+00:00 2020-01-01 00:37:32+00:00   171.701157   \n",
       "...                                ...                       ...          ...   \n",
       "77776 2021-06-23 07:58:27.730436+00:00 2021-06-22 07:55:21+00:00   613.384863   \n",
       "77777 2021-06-23 07:58:27.730436+00:00 2021-06-22 08:25:35+00:00  1065.423847   \n",
       "77778 2021-06-23 07:58:27.730436+00:00 2021-06-22 08:30:43+00:00   354.832382   \n",
       "77779 2021-06-23 07:58:27.730436+00:00 2021-06-22 08:38:41+00:00   633.441961   \n",
       "77780 2021-06-23 07:58:27.730436+00:00 2021-06-22 08:40:18+00:00   113.397731   \n",
       "\n",
       "             _field     _measurement blockheight inflow_mean   inflow_top10  \n",
       "0      inflow_total  exchange_inflow      610691  1.36816985    330.6104809  \n",
       "1      inflow_total  exchange_inflow      610692  0.78822506    71.72604394  \n",
       "2      inflow_total  exchange_inflow      610693  0.40239476    39.77950962  \n",
       "3      inflow_total  exchange_inflow      610694  0.87467508    69.96821796  \n",
       "4      inflow_total  exchange_inflow      610695  0.83350076   170.50777056  \n",
       "...             ...              ...         ...         ...            ...  \n",
       "77776  inflow_total  exchange_inflow      688467  4.17268614   612.07214278  \n",
       "77777  inflow_total  exchange_inflow      688468  3.17090431  1003.68558808  \n",
       "77778  inflow_total  exchange_inflow      688469  1.27180065   302.68306899  \n",
       "77779  inflow_total  exchange_inflow      688470  3.53878191   547.75560442  \n",
       "77780  inflow_total  exchange_inflow      688471  2.36245272   113.27090691  \n",
       "\n",
       "[77781 rows x 11 columns]"
      ],
      "text/html": "<div>\n<style scoped>\n    .dataframe tbody tr th:only-of-type {\n        vertical-align: middle;\n    }\n\n    .dataframe tbody tr th {\n        vertical-align: top;\n    }\n\n    .dataframe thead th {\n        text-align: right;\n    }\n</style>\n<table border=\"1\" class=\"dataframe\">\n  <thead>\n    <tr style=\"text-align: right;\">\n      <th></th>\n      <th>result</th>\n      <th>table</th>\n      <th>_start</th>\n      <th>_stop</th>\n      <th>_time</th>\n      <th>_value</th>\n      <th>_field</th>\n      <th>_measurement</th>\n      <th>blockheight</th>\n      <th>inflow_mean</th>\n      <th>inflow_top10</th>\n    </tr>\n  </thead>\n  <tbody>\n    <tr>\n      <th>0</th>\n      <td>_result</td>\n      <td>0</td>\n      <td>1970-01-01 00:00:00+00:00</td>\n      <td>2021-06-23 07:58:27.730436+00:00</td>\n      <td>2020-01-01 00:03:05+00:00</td>\n      <td>339.306123</td>\n      <td>inflow_total</td>\n      <td>exchange_inflow</td>\n      <td>610691</td>\n      <td>1.36816985</td>\n      <td>330.6104809</td>\n    </tr>\n    <tr>\n      <th>1</th>\n      <td>_result</td>\n      <td>1</td>\n      <td>1970-01-01 00:00:00+00:00</td>\n      <td>2021-06-23 07:58:27.730436+00:00</td>\n      <td>2020-01-01 00:07:32+00:00</td>\n      <td>71.728480</td>\n      <td>inflow_total</td>\n      <td>exchange_inflow</td>\n      <td>610692</td>\n      <td>0.78822506</td>\n      <td>71.72604394</td>\n    </tr>\n    <tr>\n      <th>2</th>\n      <td>_result</td>\n      <td>2</td>\n      <td>1970-01-01 00:00:00+00:00</td>\n      <td>2021-06-23 07:58:27.730436+00:00</td>\n      <td>2020-01-01 00:13:34+00:00</td>\n      <td>39.837081</td>\n      <td>inflow_total</td>\n      <td>exchange_inflow</td>\n      <td>610693</td>\n      <td>0.40239476</td>\n      <td>39.77950962</td>\n    </tr>\n    <tr>\n      <th>3</th>\n      <td>_result</td>\n      <td>3</td>\n      <td>1970-01-01 00:00:00+00:00</td>\n      <td>2021-06-23 07:58:27.730436+00:00</td>\n      <td>2020-01-01 00:19:00+00:00</td>\n      <td>69.974007</td>\n      <td>inflow_total</td>\n      <td>exchange_inflow</td>\n      <td>610694</td>\n      <td>0.87467508</td>\n      <td>69.96821796</td>\n    </tr>\n    <tr>\n      <th>4</th>\n      <td>_result</td>\n      <td>4</td>\n      <td>1970-01-01 00:00:00+00:00</td>\n      <td>2021-06-23 07:58:27.730436+00:00</td>\n      <td>2020-01-01 00:37:32+00:00</td>\n      <td>171.701157</td>\n      <td>inflow_total</td>\n      <td>exchange_inflow</td>\n      <td>610695</td>\n      <td>0.83350076</td>\n      <td>170.50777056</td>\n    </tr>\n    <tr>\n      <th>...</th>\n      <td>...</td>\n      <td>...</td>\n      <td>...</td>\n      <td>...</td>\n      <td>...</td>\n      <td>...</td>\n      <td>...</td>\n      <td>...</td>\n      <td>...</td>\n      <td>...</td>\n      <td>...</td>\n    </tr>\n    <tr>\n      <th>77776</th>\n      <td>_result</td>\n      <td>77776</td>\n      <td>1970-01-01 00:00:00+00:00</td>\n      <td>2021-06-23 07:58:27.730436+00:00</td>\n      <td>2021-06-22 07:55:21+00:00</td>\n      <td>613.384863</td>\n      <td>inflow_total</td>\n      <td>exchange_inflow</td>\n      <td>688467</td>\n      <td>4.17268614</td>\n      <td>612.07214278</td>\n    </tr>\n    <tr>\n      <th>77777</th>\n      <td>_result</td>\n      <td>77777</td>\n      <td>1970-01-01 00:00:00+00:00</td>\n      <td>2021-06-23 07:58:27.730436+00:00</td>\n      <td>2021-06-22 08:25:35+00:00</td>\n      <td>1065.423847</td>\n      <td>inflow_total</td>\n      <td>exchange_inflow</td>\n      <td>688468</td>\n      <td>3.17090431</td>\n      <td>1003.68558808</td>\n    </tr>\n    <tr>\n      <th>77778</th>\n      <td>_result</td>\n      <td>77778</td>\n      <td>1970-01-01 00:00:00+00:00</td>\n      <td>2021-06-23 07:58:27.730436+00:00</td>\n      <td>2021-06-22 08:30:43+00:00</td>\n      <td>354.832382</td>\n      <td>inflow_total</td>\n      <td>exchange_inflow</td>\n      <td>688469</td>\n      <td>1.27180065</td>\n      <td>302.68306899</td>\n    </tr>\n    <tr>\n      <th>77779</th>\n      <td>_result</td>\n      <td>77779</td>\n      <td>1970-01-01 00:00:00+00:00</td>\n      <td>2021-06-23 07:58:27.730436+00:00</td>\n      <td>2021-06-22 08:38:41+00:00</td>\n      <td>633.441961</td>\n      <td>inflow_total</td>\n      <td>exchange_inflow</td>\n      <td>688470</td>\n      <td>3.53878191</td>\n      <td>547.75560442</td>\n    </tr>\n    <tr>\n      <th>77780</th>\n      <td>_result</td>\n      <td>77780</td>\n      <td>1970-01-01 00:00:00+00:00</td>\n      <td>2021-06-23 07:58:27.730436+00:00</td>\n      <td>2021-06-22 08:40:18+00:00</td>\n      <td>113.397731</td>\n      <td>inflow_total</td>\n      <td>exchange_inflow</td>\n      <td>688471</td>\n      <td>2.36245272</td>\n      <td>113.27090691</td>\n    </tr>\n  </tbody>\n</table>\n<p>77781 rows × 11 columns</p>\n</div>"
     },
     "metadata": {},
     "execution_count": 12
    }
   ],
   "source": [
    "query = 'from(bucket: \\\"{}\\\") |> range(start:0)'.format(TEST2)\n",
    "data = client.query_api().query_data_frame(org=ORG, query=query)\n",
    "data"
   ]
  },
  {
   "cell_type": "code",
   "execution_count": null,
   "metadata": {},
   "outputs": [],
   "source": []
  }
 ]
}