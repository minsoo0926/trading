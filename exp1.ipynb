{
 "metadata": {
  "language_info": {
   "codemirror_mode": {
    "name": "ipython",
    "version": 3
   },
   "file_extension": ".py",
   "mimetype": "text/x-python",
   "name": "python",
   "nbconvert_exporter": "python",
   "pygments_lexer": "ipython3",
   "version": "3.8.3-final"
  },
  "orig_nbformat": 2,
  "kernelspec": {
   "name": "python383jvsc74a57bd009f4dcfb3e964316099ed5c193f7e1b40b926ea02855df65dc4d9b607a760bc3",
   "display_name": "Python 3.8.3 64-bit ('.venv')"
  }
 },
 "nbformat": 4,
 "nbformat_minor": 2,
 "cells": [
  {
   "cell_type": "code",
   "execution_count": 1,
   "metadata": {},
   "outputs": [],
   "source": [
    "import pandas as pd\n",
    "import warnings\n",
    "warnings.filterwarnings('ignore')\n",
    "from pprint import pprint \n",
    "import plotly.express as px\n",
    "import plotly.graph_objects as go \n",
    "import plotly.graph_objects as px\n",
    "from plotly.subplots import make_subplots\n",
    "import requests\n",
    "from pprint import pprint \n",
    "import configparser\n",
    "from urllib.parse import urljoin \n",
    "from datetime import datetime, timedelta"
   ]
  },
  {
   "source": [
    "## Functions"
   ],
   "cell_type": "markdown",
   "metadata": {}
  },
  {
   "cell_type": "code",
   "execution_count": null,
   "metadata": {},
   "outputs": [],
   "source": [
    "INTERVAL = 1500\n",
    "MAX_DATA = 100000 \n",
    "\n",
    "def two_bars(x, y1, y2, name):\n",
    "    fig = px.Figure(data=[\n",
    "        go.Bar(x=x, y=y1, yaxis='y', offsetgroup=1),\n",
    "        go.Bar(x=x, y=y2, yaxis='y2', offsetgroup=2)\n",
    "        # go.Bar(x=df_coinbase.datetime[:50], y=df_coinbase.coinbase_premium_gap[:50], yaxis='y', offsetgroup=1, name='premium'),\n",
    "        # go.Bar(x=df_coinbase.datetime[:50], y=df_price.price_usd_close[:50], yaxis='y2', offsetgroup=2, name='price')\n",
    "    ],\n",
    "    \n",
    "    layout={\n",
    "        'yaxis': {'title': name[0]},\n",
    "        'yaxis2': {'title': name[1], 'overlaying':'y', 'side': 'right'},\n",
    "    })\n",
    "    \n",
    "    fig.update_layout(height=1000, width=4000, barmode='group', yaxis=dict(range=[y1.min(), y1.max()]), yaxis2=dict(range=[y2.min(), y2.max()]))       \n",
    "    fig.show()\n",
    "\n",
    "\n",
    "def get_one_day_data(db, previous_n):\n",
    "    # assume that db[0] is the latest data... \n",
    "    interval = INTERVAL\n",
    "    return db[interval*previous_n: interval*(previous_n+1)]\n",
    "\n",
    "\n",
    "def two_lines_parallel(x, y1, y2, name):\n",
    "    fig = make_subplots(rows=2, cols=1, shared_xaxes=True, vertical_spacing=0.01)\n",
    "    fig.add_trace(go.Scatter(x=x, y=y1, yaxis='y'), row=1, col=1)\n",
    "    fig.add_trace(go.Scatter(x=x, y=y2, yaxis='y2'), row=2, col=1)\n",
    "    \n",
    "    fig.update_layout(height=1000, width=4000, yaxis=dict(range=[y1.min(), y1.max()]), yaxis2=dict(range=[y2.min(), y2.max()]))       \n",
    "    fig.show()\n",
    "\n",
    "\n",
    "def two_bars_parallel(x, y1, y2, name):\n",
    "    fig = make_subplots(rows=2, cols=1, shared_xaxes=True, vertical_spacing=0.01)\n",
    "    fig.add_trace(go.Bar(x=x, y=y1, yaxis='y', name=name[0]), row=1, col=1)\n",
    "    fig.add_trace(go.Bar(x=x, y=y2, yaxis='y2', name=name[1]), row=2, col=1)\n",
    "    \n",
    "    fig.update_layout(height=1000, width=4000, yaxis=dict(range=[y1.min(), y1.max()]), yaxis2=dict(range=[y2.min(), y2.max()]))       \n",
    "    fig.show()\n",
    "\n"
   ]
  },
  {
   "cell_type": "code",
   "execution_count": null,
   "metadata": {},
   "outputs": [],
   "source": [
    "def simulation(signals, prices, long_condition, short_condition):\n",
    "    # signals: datetime, signal format \n",
    "\n",
    "    cost = 0 \n",
    "    unrealized_profit = 0\n",
    "    profit = 0 \n",
    "    fee = 0 \n",
    "    position = 0 \n",
    "\n",
    "    for signal in signals:\n",
    "        if long_condition(signal):\n",
    "            price = get_price(signal.datetime)\n",
    "            cost += price + fee \n",
    "            position += 1\n",
    "        else if short_condition(signal): \n",
    "            price = get_price(signal.datetime)\n",
    "            cost += price + fee \n",
    "\n",
    "\n",
    "\n",
    "\n",
    "\n",
    "\n",
    "\n",
    "\n",
    "    return True\n"
   ]
  },
  {
   "cell_type": "code",
   "execution_count": null,
   "metadata": {},
   "outputs": [],
   "source": [
    "make_subplots?"
   ]
  },
  {
   "cell_type": "code",
   "execution_count": null,
   "metadata": {},
   "outputs": [],
   "source": [
    "config = configparser.ConfigParser()\n",
    "config.read('config.ini')\n",
    "\n",
    "API_KEY = config['CRYPTOQUANT']['API_KEY']\n",
    "API_URL = config['CRYPTOQUANT']['API_URL']\n",
    "\n",
    "headers = {'Authorization': 'Bearer ' + API_KEY}"
   ]
  },
  {
   "cell_type": "code",
   "execution_count": null,
   "metadata": {},
   "outputs": [],
   "source": [
    "PATH = 'btc/market-data/coinbase-premium-index'\n",
    "URL = urljoin(API_URL, PATH)\n",
    "params = {\n",
    "    'window': 'min',\n",
    "    'limit': MAX_DATA\n",
    "}\n",
    "\n",
    "response = requests.get(URL, headers=headers, params=params).json()\n",
    "# print(response['status'])\n",
    "df_coinbase = pd.DataFrame(response['result']['data'])\n",
    "\n",
    "in_date = df_coinbase.loc[0].datetime\n",
    "d = datetime.strptime(in_date, '%Y-%m-%d %H:%M:%S')\n",
    "new_date = d.strftime('%Y%m%dT%H%M%S')\n",
    "\n",
    "PATH = 'btc/market-data/price-usd'\n",
    "URL = urljoin(API_URL, PATH)\n",
    "params = {\n",
    "    'window': 'min',\n",
    "    'to': new_date,\n",
    "    'limit': MAX_DATA\n",
    "}\n",
    "\n",
    "response = requests.get(URL, headers=headers, params=params).json()\n",
    "df_price = pd.DataFrame(response['result']['data'])\n"
   ]
  },
  {
   "cell_type": "code",
   "execution_count": null,
   "metadata": {},
   "outputs": [],
   "source": [
    "df_coinbase_0 = get_one_day_data(df_coinbase, 0)\n",
    "df_price_0 = get_one_day_data(df_price, 0)"
   ]
  },
  {
   "cell_type": "code",
   "execution_count": null,
   "metadata": {},
   "outputs": [],
   "source": [
    "df_price_0['datetime'] = pd.to_datetime(df_price_0['datetime'], format='%Y-%m-%d %H:%M:%S', errors='raise')\n",
    "df_price_0\n",
    "\n",
    "type(df_price_0.loc[0, 'datetime'])"
   ]
  },
  {
   "cell_type": "code",
   "execution_count": null,
   "metadata": {},
   "outputs": [],
   "source": [
    "yesterday = datetime.now() - timedelta(days=1)\n",
    "yesterday = yesterday.strftime('%Y-%m-%d')\n",
    "\n",
    "def find_date(x, yesteday):\n",
    "    d = datetime.strptime(x.datetime, '%Y-%m-%d %H:%M:%S')\n",
    "    if (d.strftime('%Y-%m-%d') == yesterday): \n",
    "        return True \n",
    "    return False\n",
    "how_many_data_one_day = df_coinbase_0.apply(lambda x: find_date(x, yesterday), axis=1)\n",
    "how_many_data_one_day.value_counts()"
   ]
  },
  {
   "cell_type": "code",
   "execution_count": null,
   "metadata": {},
   "outputs": [],
   "source": [
    "df_coinbase_0 = get_one_day_data(df_coinbase, 0)\n",
    "df_price_0 = get_one_day_data(df_price, 0)\n",
    "two_bars(x=df_coinbase_0.datetime, y1=df_coinbase_0.coinbase_premium_gap, y2=df_price_0.price_usd_close, name=['premium', 'price'])\n"
   ]
  },
  {
   "cell_type": "code",
   "execution_count": null,
   "metadata": {},
   "outputs": [],
   "source": [
    "two_bars_parallel(x=df_coinbase_0.datetime, y1=df_coinbase_0.coinbase_premium_gap, y2=df_price_0.price_usd_close, name=['premium', 'price'])"
   ]
  },
  {
   "cell_type": "code",
   "execution_count": null,
   "metadata": {},
   "outputs": [],
   "source": [
    "df_coinbase_0"
   ]
  },
  {
   "cell_type": "code",
   "execution_count": null,
   "metadata": {},
   "outputs": [],
   "source": [
    "df_price_0.datetime"
   ]
  },
  {
   "cell_type": "code",
   "execution_count": null,
   "metadata": {},
   "outputs": [],
   "source": [
    "df_price_0[df_price_0.datetime.strftime(%Y%m%d) == '2021']"
   ]
  },
  {
   "cell_type": "code",
   "execution_count": null,
   "metadata": {},
   "outputs": [],
   "source": [
    "one_day = get_one_day_data(df_coinbase, 1)\n",
    "one_day\n"
   ]
  },
  {
   "cell_type": "code",
   "execution_count": null,
   "metadata": {},
   "outputs": [],
   "source": [
    "one_day = 1500\n",
    "\n",
    "\n",
    "\n",
    "\n",
    "\n",
    "df_coinbase_1 = df_coinbase[one_day+1:one_day*2]\n",
    "df_price_1 = df_price[one_day+1:one_day*2]\n",
    "pprint(df_coinbase[:one_day])\n",
    "pprint(df_price[:one_day])"
   ]
  },
  {
   "cell_type": "code",
   "execution_count": null,
   "metadata": {},
   "outputs": [],
   "source": [
    "two_bar_graphs(x=df_coinbase_1.datetime, y1=df_coinbase_1.coinbase_premium_gap, y2=df_price_1.price_usd_close, name=['premium', 'price'])\n"
   ]
  },
  {
   "cell_type": "code",
   "execution_count": null,
   "metadata": {},
   "outputs": [],
   "source": [
    "one_day = 1500\n",
    "\n",
    "df_coinbase_1 = df_coinbase[:one_day]\n",
    "df_price_1 = df_price[:one_day]\n",
    "pprint(df_coinbase[:one_day])\n",
    "pprint(df_price[:one_day])"
   ]
  },
  {
   "cell_type": "code",
   "execution_count": null,
   "metadata": {},
   "outputs": [],
   "source": [
    "two_bar_graphs(x=df_coinbase_1.datetime, y1=df_coinbase_1.coinbase_premium_gap, y2=df_price_1.price_usd_close, name=['premium', 'price'])\n"
   ]
  },
  {
   "cell_type": "code",
   "execution_count": null,
   "metadata": {},
   "outputs": [],
   "source": [
    "one_day = 1500\n",
    "\n",
    "df_coinbase_1 = df_coinbase[2*one_day+1 :one_day*3]\n",
    "df_price_1 = df_price[2*one_day+1 :one_day*3]\n",
    "two_bar_graphs(x=df_coinbase_1.datetime, y1=df_coinbase_1.coinbase_premium_gap, y2=df_price_1.price_usd_close, name=['premium', 'price'])\n"
   ]
  },
  {
   "cell_type": "code",
   "execution_count": null,
   "metadata": {},
   "outputs": [],
   "source": [
    "one_day = 1500\n",
    "\n",
    "df_coinbase_1 = df_coinbase[3*one_day+1 :one_day*4]\n",
    "df_price_1 = df_price[3*one_day+1 :one_day*4]\n",
    "two_bar_graphs(x=df_coinbase_1.datetime, y1=df_coinbase_1.coinbase_premium_gap, y2=df_price_1.price_usd_close, name=['premium', 'price'])"
   ]
  },
  {
   "cell_type": "code",
   "execution_count": null,
   "metadata": {},
   "outputs": [],
   "source": []
  }
 ]
}