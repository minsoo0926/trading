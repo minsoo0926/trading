{
 "metadata": {
  "language_info": {
   "codemirror_mode": {
    "name": "ipython",
    "version": 3
   },
   "file_extension": ".py",
   "mimetype": "text/x-python",
   "name": "python",
   "nbconvert_exporter": "python",
   "pygments_lexer": "ipython3",
   "version": "3.8.3"
  },
  "orig_nbformat": 2,
  "kernelspec": {
   "name": "pythonjvsc74a57bd009f4dcfb3e964316099ed5c193f7e1b40b926ea02855df65dc4d9b607a760bc3",
   "display_name": "Python 3.8.3  ('.venv': venv)"
  },
  "metadata": {
   "interpreter": {
    "hash": "09f4dcfb3e964316099ed5c193f7e1b40b926ea02855df65dc4d9b607a760bc3"
   }
  }
 },
 "nbformat": 4,
 "nbformat_minor": 2,
 "cells": [
  {
   "cell_type": "code",
   "execution_count": 24,
   "metadata": {},
   "outputs": [
    {
     "output_type": "execute_result",
     "data": {
      "text/plain": [
       "DatetimeIndex(['2020-04-15', '2020-04-16', '2020-04-17', '2020-04-20',\n",
       "               '2020-04-21', '2020-04-22', '2020-04-23', '2020-04-24',\n",
       "               '2020-04-27', '2020-04-28',\n",
       "               ...\n",
       "               '2021-03-31', '2021-04-01', '2021-04-05', '2021-04-06',\n",
       "               '2021-04-07', '2021-04-08', '2021-04-09', '2021-04-12',\n",
       "               '2021-04-13', '2021-04-14'],\n",
       "              dtype='datetime64[ns]', name='Date', length=252, freq=None)"
      ]
     },
     "metadata": {},
     "execution_count": 24
    }
   ],
   "source": [
    "import pandas as pd \n",
    "import btalib \n",
    "\n",
    "df = pd.read_csv('./data/TSLA.csv', parse_dates=True, index_col='Date')\n",
    "\n",
    "df.index\n"
   ]
  },
  {
   "cell_type": "code",
   "execution_count": null,
   "metadata": {},
   "outputs": [],
   "source": [
    "sma = btalib.sma(df)\n"
   ]
  },
  {
   "cell_type": "code",
   "execution_count": 20,
   "metadata": {},
   "outputs": [
    {
     "output_type": "execute_result",
     "data": {
      "text/plain": [
       "                  Open        High         Low       Close   Adj Close  \\\n",
       "Date                                                                     \n",
       "2020-04-15  148.399994  150.626007  142.000000  145.966003  145.966003   \n",
       "2020-04-16  143.388000  151.889999  141.343994  149.042007  149.042007   \n",
       "2020-04-17  154.455994  154.990005  149.531998  150.778000  150.778000   \n",
       "2020-04-20  146.539993  153.113998  142.442001  149.272003  149.272003   \n",
       "2020-04-21  146.024002  150.666000  134.757996  137.343994  137.343994   \n",
       "...                ...         ...         ...         ...         ...   \n",
       "2021-04-08  677.380005  689.549988  671.650024  683.799988  683.799988   \n",
       "2021-04-09  677.770020  680.969971  669.429993  677.020020  677.020020   \n",
       "2021-04-12  685.700012  704.799988  682.090027  701.979980  701.979980   \n",
       "2021-04-13  712.700012  763.000000  710.659973  762.320007  762.320007   \n",
       "2021-04-14  770.700012  780.789978  728.030029  732.229980  732.229980   \n",
       "\n",
       "               Volume  \n",
       "Date                   \n",
       "2020-04-15  117885000  \n",
       "2020-04-16  103289500  \n",
       "2020-04-17   65641000  \n",
       "2020-04-20   73733000  \n",
       "2020-04-21  101045500  \n",
       "...               ...  \n",
       "2021-04-08   23924300  \n",
       "2021-04-09   21402600  \n",
       "2021-04-12   29135700  \n",
       "2021-04-13   44652800  \n",
       "2021-04-14   48875100  \n",
       "\n",
       "[252 rows x 6 columns]"
      ],
      "text/html": "<div>\n<style scoped>\n    .dataframe tbody tr th:only-of-type {\n        vertical-align: middle;\n    }\n\n    .dataframe tbody tr th {\n        vertical-align: top;\n    }\n\n    .dataframe thead th {\n        text-align: right;\n    }\n</style>\n<table border=\"1\" class=\"dataframe\">\n  <thead>\n    <tr style=\"text-align: right;\">\n      <th></th>\n      <th>Open</th>\n      <th>High</th>\n      <th>Low</th>\n      <th>Close</th>\n      <th>Adj Close</th>\n      <th>Volume</th>\n    </tr>\n    <tr>\n      <th>Date</th>\n      <th></th>\n      <th></th>\n      <th></th>\n      <th></th>\n      <th></th>\n      <th></th>\n    </tr>\n  </thead>\n  <tbody>\n    <tr>\n      <th>2020-04-15</th>\n      <td>148.399994</td>\n      <td>150.626007</td>\n      <td>142.000000</td>\n      <td>145.966003</td>\n      <td>145.966003</td>\n      <td>117885000</td>\n    </tr>\n    <tr>\n      <th>2020-04-16</th>\n      <td>143.388000</td>\n      <td>151.889999</td>\n      <td>141.343994</td>\n      <td>149.042007</td>\n      <td>149.042007</td>\n      <td>103289500</td>\n    </tr>\n    <tr>\n      <th>2020-04-17</th>\n      <td>154.455994</td>\n      <td>154.990005</td>\n      <td>149.531998</td>\n      <td>150.778000</td>\n      <td>150.778000</td>\n      <td>65641000</td>\n    </tr>\n    <tr>\n      <th>2020-04-20</th>\n      <td>146.539993</td>\n      <td>153.113998</td>\n      <td>142.442001</td>\n      <td>149.272003</td>\n      <td>149.272003</td>\n      <td>73733000</td>\n    </tr>\n    <tr>\n      <th>2020-04-21</th>\n      <td>146.024002</td>\n      <td>150.666000</td>\n      <td>134.757996</td>\n      <td>137.343994</td>\n      <td>137.343994</td>\n      <td>101045500</td>\n    </tr>\n    <tr>\n      <th>...</th>\n      <td>...</td>\n      <td>...</td>\n      <td>...</td>\n      <td>...</td>\n      <td>...</td>\n      <td>...</td>\n    </tr>\n    <tr>\n      <th>2021-04-08</th>\n      <td>677.380005</td>\n      <td>689.549988</td>\n      <td>671.650024</td>\n      <td>683.799988</td>\n      <td>683.799988</td>\n      <td>23924300</td>\n    </tr>\n    <tr>\n      <th>2021-04-09</th>\n      <td>677.770020</td>\n      <td>680.969971</td>\n      <td>669.429993</td>\n      <td>677.020020</td>\n      <td>677.020020</td>\n      <td>21402600</td>\n    </tr>\n    <tr>\n      <th>2021-04-12</th>\n      <td>685.700012</td>\n      <td>704.799988</td>\n      <td>682.090027</td>\n      <td>701.979980</td>\n      <td>701.979980</td>\n      <td>29135700</td>\n    </tr>\n    <tr>\n      <th>2021-04-13</th>\n      <td>712.700012</td>\n      <td>763.000000</td>\n      <td>710.659973</td>\n      <td>762.320007</td>\n      <td>762.320007</td>\n      <td>44652800</td>\n    </tr>\n    <tr>\n      <th>2021-04-14</th>\n      <td>770.700012</td>\n      <td>780.789978</td>\n      <td>728.030029</td>\n      <td>732.229980</td>\n      <td>732.229980</td>\n      <td>48875100</td>\n    </tr>\n  </tbody>\n</table>\n<p>252 rows × 6 columns</p>\n</div>"
     },
     "metadata": {},
     "execution_count": 20
    }
   ],
   "source": [
    "df"
   ]
  },
  {
   "cell_type": "code",
   "execution_count": 2,
   "metadata": {},
   "outputs": [
    {
     "output_type": "execute_result",
     "data": {
      "text/plain": [
       "DatetimeIndex(['2020-04-15', '2020-04-16', '2020-04-17', '2020-04-20',\n",
       "               '2020-04-21', '2020-04-22', '2020-04-23', '2020-04-24',\n",
       "               '2020-04-27', '2020-04-28',\n",
       "               ...\n",
       "               '2021-03-31', '2021-04-01', '2021-04-05', '2021-04-06',\n",
       "               '2021-04-07', '2021-04-08', '2021-04-09', '2021-04-12',\n",
       "               '2021-04-13', '2021-04-14'],\n",
       "              dtype='datetime64[ns]', name='Date', length=252, freq=None)"
      ]
     },
     "metadata": {},
     "execution_count": 2
    }
   ],
   "source": [
    "df.index"
   ]
  },
  {
   "cell_type": "code",
   "execution_count": 3,
   "metadata": {},
   "outputs": [
    {
     "output_type": "execute_result",
     "data": {
      "text/plain": [
       "                  Open        High         Low       Close   Adj Close  \\\n",
       "Date                                                                     \n",
       "2020-04-15  148.399994  150.626007  142.000000  145.966003  145.966003   \n",
       "2020-04-16  143.388000  151.889999  141.343994  149.042007  149.042007   \n",
       "2020-04-17  154.455994  154.990005  149.531998  150.778000  150.778000   \n",
       "2020-04-20  146.539993  153.113998  142.442001  149.272003  149.272003   \n",
       "2020-04-21  146.024002  150.666000  134.757996  137.343994  137.343994   \n",
       "...                ...         ...         ...         ...         ...   \n",
       "2021-04-08  677.380005  689.549988  671.650024  683.799988  683.799988   \n",
       "2021-04-09  677.770020  680.969971  669.429993  677.020020  677.020020   \n",
       "2021-04-12  685.700012  704.799988  682.090027  701.979980  701.979980   \n",
       "2021-04-13  712.700012  763.000000  710.659973  762.320007  762.320007   \n",
       "2021-04-14  770.700012  780.789978  728.030029  732.229980  732.229980   \n",
       "\n",
       "               Volume  \n",
       "Date                   \n",
       "2020-04-15  117885000  \n",
       "2020-04-16  103289500  \n",
       "2020-04-17   65641000  \n",
       "2020-04-20   73733000  \n",
       "2020-04-21  101045500  \n",
       "...               ...  \n",
       "2021-04-08   23924300  \n",
       "2021-04-09   21402600  \n",
       "2021-04-12   29135700  \n",
       "2021-04-13   44652800  \n",
       "2021-04-14   48875100  \n",
       "\n",
       "[252 rows x 6 columns]"
      ],
      "text/html": "<div>\n<style scoped>\n    .dataframe tbody tr th:only-of-type {\n        vertical-align: middle;\n    }\n\n    .dataframe tbody tr th {\n        vertical-align: top;\n    }\n\n    .dataframe thead th {\n        text-align: right;\n    }\n</style>\n<table border=\"1\" class=\"dataframe\">\n  <thead>\n    <tr style=\"text-align: right;\">\n      <th></th>\n      <th>Open</th>\n      <th>High</th>\n      <th>Low</th>\n      <th>Close</th>\n      <th>Adj Close</th>\n      <th>Volume</th>\n    </tr>\n    <tr>\n      <th>Date</th>\n      <th></th>\n      <th></th>\n      <th></th>\n      <th></th>\n      <th></th>\n      <th></th>\n    </tr>\n  </thead>\n  <tbody>\n    <tr>\n      <th>2020-04-15</th>\n      <td>148.399994</td>\n      <td>150.626007</td>\n      <td>142.000000</td>\n      <td>145.966003</td>\n      <td>145.966003</td>\n      <td>117885000</td>\n    </tr>\n    <tr>\n      <th>2020-04-16</th>\n      <td>143.388000</td>\n      <td>151.889999</td>\n      <td>141.343994</td>\n      <td>149.042007</td>\n      <td>149.042007</td>\n      <td>103289500</td>\n    </tr>\n    <tr>\n      <th>2020-04-17</th>\n      <td>154.455994</td>\n      <td>154.990005</td>\n      <td>149.531998</td>\n      <td>150.778000</td>\n      <td>150.778000</td>\n      <td>65641000</td>\n    </tr>\n    <tr>\n      <th>2020-04-20</th>\n      <td>146.539993</td>\n      <td>153.113998</td>\n      <td>142.442001</td>\n      <td>149.272003</td>\n      <td>149.272003</td>\n      <td>73733000</td>\n    </tr>\n    <tr>\n      <th>2020-04-21</th>\n      <td>146.024002</td>\n      <td>150.666000</td>\n      <td>134.757996</td>\n      <td>137.343994</td>\n      <td>137.343994</td>\n      <td>101045500</td>\n    </tr>\n    <tr>\n      <th>...</th>\n      <td>...</td>\n      <td>...</td>\n      <td>...</td>\n      <td>...</td>\n      <td>...</td>\n      <td>...</td>\n    </tr>\n    <tr>\n      <th>2021-04-08</th>\n      <td>677.380005</td>\n      <td>689.549988</td>\n      <td>671.650024</td>\n      <td>683.799988</td>\n      <td>683.799988</td>\n      <td>23924300</td>\n    </tr>\n    <tr>\n      <th>2021-04-09</th>\n      <td>677.770020</td>\n      <td>680.969971</td>\n      <td>669.429993</td>\n      <td>677.020020</td>\n      <td>677.020020</td>\n      <td>21402600</td>\n    </tr>\n    <tr>\n      <th>2021-04-12</th>\n      <td>685.700012</td>\n      <td>704.799988</td>\n      <td>682.090027</td>\n      <td>701.979980</td>\n      <td>701.979980</td>\n      <td>29135700</td>\n    </tr>\n    <tr>\n      <th>2021-04-13</th>\n      <td>712.700012</td>\n      <td>763.000000</td>\n      <td>710.659973</td>\n      <td>762.320007</td>\n      <td>762.320007</td>\n      <td>44652800</td>\n    </tr>\n    <tr>\n      <th>2021-04-14</th>\n      <td>770.700012</td>\n      <td>780.789978</td>\n      <td>728.030029</td>\n      <td>732.229980</td>\n      <td>732.229980</td>\n      <td>48875100</td>\n    </tr>\n  </tbody>\n</table>\n<p>252 rows × 6 columns</p>\n</div>"
     },
     "metadata": {},
     "execution_count": 3
    }
   ],
   "source": [
    "df"
   ]
  },
  {
   "cell_type": "code",
   "execution_count": 4,
   "metadata": {},
   "outputs": [
    {
     "output_type": "stream",
     "name": "stdout",
     "text": [
      "                   sma\nDate                  \n2020-04-15         NaN\n2020-04-16         NaN\n2020-04-17         NaN\n2020-04-20         NaN\n2020-04-21         NaN\n...                ...\n2021-04-08  662.112329\n2021-04-09  661.938997\n2021-04-12  662.821663\n2021-04-13  664.284664\n2021-04-14  665.810996\n\n[252 rows x 1 columns]\n"
     ]
    }
   ],
   "source": [
    "sma\n",
    "print(sma.df)"
   ]
  },
  {
   "cell_type": "code",
   "execution_count": 5,
   "metadata": {},
   "outputs": [
    {
     "output_type": "stream",
     "name": "stdout",
     "text": [
      "                   sma\nDate                  \n2020-04-15         NaN\n2020-04-16         NaN\n2020-04-17         NaN\n2020-04-20         NaN\n2020-04-21         NaN\n...                ...\n2021-04-08  683.490330\n2021-04-09  681.615662\n2021-04-12  681.552327\n2021-04-13  683.018994\n2021-04-14  685.008327\n\n[252 rows x 1 columns]\n"
     ]
    }
   ],
   "source": [
    "sma = btalib.sma(df.High)\n",
    "print(sma.df)"
   ]
  },
  {
   "cell_type": "code",
   "execution_count": 6,
   "metadata": {},
   "outputs": [
    {
     "output_type": "stream",
     "name": "stdout",
     "text": [
      "                   sma\nDate                  \n2020-04-15         NaN\n2020-04-16         NaN\n2020-04-17         NaN\n2020-04-20         NaN\n2020-04-21         NaN\n...                ...\n2021-04-08  662.112329\n2021-04-09  661.938997\n2021-04-12  662.821663\n2021-04-13  664.284664\n2021-04-14  665.810996\n\n[252 rows x 1 columns]\n"
     ]
    }
   ],
   "source": [
    "sma = btalib.sma(df)\n",
    "print(sma.df)"
   ]
  },
  {
   "cell_type": "code",
   "execution_count": 7,
   "metadata": {},
   "outputs": [
    {
     "output_type": "stream",
     "name": "stdout",
     "text": [
      "                   sma\nDate                  \n2020-04-15         NaN\n2020-04-16         NaN\n2020-04-17         NaN\n2020-04-20  148.764503\n2020-04-21  146.609001\n...                ...\n2021-04-08  684.359985\n2021-04-09  680.852494\n2021-04-12  683.442490\n2021-04-13  706.279999\n2021-04-14  718.387497\n\n[252 rows x 1 columns]\n"
     ]
    }
   ],
   "source": [
    "sma = btalib.sma(df, period=4)\n",
    "print(sma.df)"
   ]
  },
  {
   "cell_type": "code",
   "execution_count": 8,
   "metadata": {},
   "outputs": [
    {
     "output_type": "stream",
     "name": "stdout",
     "text": [
      "                   sma\nDate                  \n2020-04-15         NaN\n2020-04-16         NaN\n2020-04-17         NaN\n2020-04-20  148.764503\n2020-04-21  146.609001\n2020-04-22  145.953999\n2020-04-23  143.541000\n2020-04-24  142.480499\n2020-04-27  148.082001\n2020-04-28  149.932503\n2020-04-29  154.676502\n2020-04-30  157.513004\n2020-05-01  152.641506\n2020-05-04  152.245007\n2020-05-05  150.630005\n2020-05-06  150.665005\n2020-05-07  154.601002\n2020-05-08  157.512501\n2020-05-11  159.666500\n2020-05-12  161.008000\n2020-05-13  161.554001\n2020-05-14  160.749500\n2020-05-15  160.143501\n2020-05-18  160.354500\n2020-05-19  161.207001\n2020-05-20  161.818501\n2020-05-21  163.240002\n2020-05-22  163.402504\n2020-05-26  163.945503\n2020-05-27  164.179004\n2020-05-28  163.089504\n2020-05-29  163.995502\n2020-06-01  167.957001\n2020-06-02  171.023498\n2020-06-03  174.880996\n2020-06-04  176.349998\n2020-06-05  175.728001\n2020-06-08  179.146000\n2020-06-09  182.031502\n2020-06-10  190.064999\n2020-06-11  194.423996\n2020-06-12  193.691998\n2020-06-15  196.203495\n2020-06-16  194.057495\n2020-06-17  195.004998\n2020-06-18  198.438999\n2020-06-19  198.938999\n2020-06-22  199.548500\n2020-06-23  200.048000\n2020-06-24  197.892498\n2020-06-25  197.146500\n2020-06-26  195.417500\n2020-06-29  195.795997\n2020-06-30  201.743999\n2020-07-01  208.426499\n2020-07-02  220.872498\n2020-07-06  238.984002\n2020-07-07  254.486496\n2020-07-08  266.798996\n2020-07-09  276.079994\n2020-07-10  284.733490\n2020-07-13  290.093491\n2020-07-14  297.639488\n2020-07-15  305.225990\n2020-07-16  303.025490\n2020-07-17  303.214493\n2020-07-20  309.524498\n2020-07-21  310.641998\n2020-07-22  315.226501\n2020-07-23  315.838005\n2020-07-24  304.538002\n2020-07-27  303.100006\n2020-07-28  297.308006\n2020-07-29  296.610001\n2020-07-30  300.134499\n2020-07-31  294.692497\n2020-08-03  295.117996\n2020-08-04  294.512497\n2020-08-05  294.389000\n2020-08-06  297.329994\n2020-08-07  295.715492\n2020-08-10  292.293991\n2020-08-11  286.762489\n2020-08-12  290.021492\n2020-08-13  298.435997\n2020-08-14  310.042999\n2020-08-17  333.105499\n2020-08-18  349.722000\n2020-08-19  362.598496\n2020-08-20  380.154495\n2020-08-21  390.871498\n2020-08-24  397.226997\n2020-08-25  404.467498\n2020-08-26  412.034500\n2020-08-27  421.473000\n2020-08-28  431.432999\n2020-08-31  454.846001\n2020-09-01  465.949997\n2020-09-02  465.854996\n2020-09-03  456.934998\n2020-09-04  436.934998\n2020-09-08  400.724998\n2020-09-09  380.452499\n2020-09-10  371.537498\n2020-09-11  360.137497\n2020-09-14  382.489998\n2020-09-15  403.360001\n2020-09-16  420.965004\n2020-09-17  433.642502\n2020-09-18  439.275002\n2020-09-21  439.182503\n2020-09-22  434.800003\n2020-09-23  424.032501\n2020-09-24  410.442505\n2020-09-25  399.930000\n2020-09-28  399.172501\n2020-09-29  408.850006\n2020-09-30  419.155006\n2020-10-01  429.360008\n2020-10-02  427.832504\n2020-10-05  429.485001\n2020-10-06  425.727501\n2020-10-07  420.012497\n2020-10-08  422.720001\n2020-10-09  424.800003\n2020-10-12  431.879997\n2020-10-13  437.217499\n2020-10-14  446.062493\n2020-10-15  449.782494\n2020-10-16  449.125000\n2020-10-19  445.169998\n2020-10-20  435.330002\n2020-10-21  428.770004\n2020-10-22  425.300003\n2020-10-23  422.750008\n2020-10-26  422.335007\n2020-10-27  422.845001\n2020-10-28  417.902497\n2020-10-29  415.452492\n2020-10-30  407.392494\n2020-11-02  401.349999\n2020-11-03  405.820000\n2020-11-04  408.357506\n2020-11-05  420.870003\n2020-11-06  428.230003\n2020-11-09  427.570007\n2020-11-10  424.915001\n2020-11-11  419.675003\n2020-11-12  415.127502\n2020-11-13  411.937500\n2020-11-16  411.370003\n2020-11-17  417.489998\n2020-11-18  436.209999\n2020-11-19  458.902496\n2020-11-20  479.282493\n2020-11-23  499.342491\n2020-11-24  516.527489\n2020-11-25  535.209992\n2020-11-27  559.247498\n2020-11-30  570.684998\n2020-12-01  578.029999\n2020-12-02  576.735001\n2020-12-03  578.639999\n2020-12-04  586.500000\n2020-12-07  600.750000\n2020-12-08  621.015000\n2020-12-09  623.789993\n2020-12-10  630.797500\n2020-12-11  622.854995\n2020-12-14  620.342498\n2020-12-15  627.535004\n2020-12-16  626.460007\n2020-12-17  637.937515\n2020-12-18  651.730011\n2020-12-21  655.882507\n2020-12-22  660.275009\n2020-12-23  657.794998\n2020-12-24  649.487503\n2020-12-28  652.945007\n2020-12-29  659.357498\n2020-12-30  671.557510\n2020-12-31  682.532501\n2021-01-04  699.052506\n2021-01-05  716.332504\n2021-01-06  731.632492\n2021-01-07  759.224991\n2021-01-08  796.787491\n2021-01-11  815.807495\n2021-01-12  839.172501\n2021-01-13  848.764999\n2021-01-14  840.009994\n2021-01-15  843.752487\n2021-01-19  842.529984\n2021-01-20  841.539993\n2021-01-21  841.537491\n2021-01-22  846.657501\n2021-01-25  855.720001\n2021-01-26  863.880005\n2021-01-27  868.672501\n2021-01-28  865.869995\n2021-01-29  844.052505\n2021-02-01  833.232498\n2021-02-02  835.390000\n2021-02-03  840.205002\n2021-02-04  854.319992\n2021-02-05  857.424988\n2021-02-08  855.082489\n2021-02-09  853.774994\n2021-02-10  842.482498\n2021-02-11  832.339996\n2021-02-12  820.514999\n2021-02-16  807.204987\n2021-02-17  805.537491\n2021-02-18  799.467499\n2021-02-19  790.762497\n2021-02-22  770.332504\n2021-02-23  745.505005\n2021-02-24  734.165009\n2021-02-25  709.395004\n2021-02-26  699.645004\n2021-03-01  704.542496\n2021-03-02  690.647492\n2021-03-03  683.392502\n2021-03-04  669.877502\n2021-03-05  639.757507\n2021-03-08  608.897506\n2021-03-09  613.992508\n2021-03-10  625.647507\n2021-03-11  651.059998\n2021-03-12  683.742493\n2021-03-15  692.332489\n2021-03-16  694.537491\n2021-03-17  695.089996\n2021-03-18  684.947494\n2021-03-19  671.679993\n2021-03-22  669.959992\n2021-03-23  660.047485\n2021-03-24  654.324997\n2021-03-25  650.705002\n2021-03-26  637.882507\n2021-03-29  625.165009\n2021-03-30  626.502502\n2021-03-31  633.387497\n2021-04-01  644.147492\n2021-04-05  664.087494\n2021-04-06  678.087494\n2021-04-07  678.847489\n2021-04-08  684.359985\n2021-04-09  680.852494\n2021-04-12  683.442490\n2021-04-13  706.279999\n2021-04-14  718.387497\n"
     ]
    }
   ],
   "source": [
    "print(sma.df.to_string())"
   ]
  },
  {
   "cell_type": "code",
   "execution_count": 9,
   "metadata": {},
   "outputs": [
    {
     "output_type": "stream",
     "name": "stdout",
     "text": [
      "{'period': 30}\n['period']\n{'period': 4}\n"
     ]
    }
   ],
   "source": [
    "print(btalib.sma.params)\n",
    "print(list(sma.params))\n",
    "print(dict(sma.params))"
   ]
  },
  {
   "cell_type": "code",
   "execution_count": 10,
   "metadata": {},
   "outputs": [
    {
     "output_type": "execute_result",
     "data": {
      "text/plain": [
       "                  Open        High         Low    NewClose   Adj Close  \\\n",
       "Date                                                                     \n",
       "2020-04-15  148.399994  150.626007  142.000000  145.966003  145.966003   \n",
       "2020-04-16  143.388000  151.889999  141.343994  149.042007  149.042007   \n",
       "2020-04-17  154.455994  154.990005  149.531998  150.778000  150.778000   \n",
       "2020-04-20  146.539993  153.113998  142.442001  149.272003  149.272003   \n",
       "2020-04-21  146.024002  150.666000  134.757996  137.343994  137.343994   \n",
       "...                ...         ...         ...         ...         ...   \n",
       "2021-04-08  677.380005  689.549988  671.650024  683.799988  683.799988   \n",
       "2021-04-09  677.770020  680.969971  669.429993  677.020020  677.020020   \n",
       "2021-04-12  685.700012  704.799988  682.090027  701.979980  701.979980   \n",
       "2021-04-13  712.700012  763.000000  710.659973  762.320007  762.320007   \n",
       "2021-04-14  770.700012  780.789978  728.030029  732.229980  732.229980   \n",
       "\n",
       "               Volume  \n",
       "Date                   \n",
       "2020-04-15  117885000  \n",
       "2020-04-16  103289500  \n",
       "2020-04-17   65641000  \n",
       "2020-04-20   73733000  \n",
       "2020-04-21  101045500  \n",
       "...               ...  \n",
       "2021-04-08   23924300  \n",
       "2021-04-09   21402600  \n",
       "2021-04-12   29135700  \n",
       "2021-04-13   44652800  \n",
       "2021-04-14   48875100  \n",
       "\n",
       "[252 rows x 6 columns]"
      ],
      "text/html": "<div>\n<style scoped>\n    .dataframe tbody tr th:only-of-type {\n        vertical-align: middle;\n    }\n\n    .dataframe tbody tr th {\n        vertical-align: top;\n    }\n\n    .dataframe thead th {\n        text-align: right;\n    }\n</style>\n<table border=\"1\" class=\"dataframe\">\n  <thead>\n    <tr style=\"text-align: right;\">\n      <th></th>\n      <th>Open</th>\n      <th>High</th>\n      <th>Low</th>\n      <th>NewClose</th>\n      <th>Adj Close</th>\n      <th>Volume</th>\n    </tr>\n    <tr>\n      <th>Date</th>\n      <th></th>\n      <th></th>\n      <th></th>\n      <th></th>\n      <th></th>\n      <th></th>\n    </tr>\n  </thead>\n  <tbody>\n    <tr>\n      <th>2020-04-15</th>\n      <td>148.399994</td>\n      <td>150.626007</td>\n      <td>142.000000</td>\n      <td>145.966003</td>\n      <td>145.966003</td>\n      <td>117885000</td>\n    </tr>\n    <tr>\n      <th>2020-04-16</th>\n      <td>143.388000</td>\n      <td>151.889999</td>\n      <td>141.343994</td>\n      <td>149.042007</td>\n      <td>149.042007</td>\n      <td>103289500</td>\n    </tr>\n    <tr>\n      <th>2020-04-17</th>\n      <td>154.455994</td>\n      <td>154.990005</td>\n      <td>149.531998</td>\n      <td>150.778000</td>\n      <td>150.778000</td>\n      <td>65641000</td>\n    </tr>\n    <tr>\n      <th>2020-04-20</th>\n      <td>146.539993</td>\n      <td>153.113998</td>\n      <td>142.442001</td>\n      <td>149.272003</td>\n      <td>149.272003</td>\n      <td>73733000</td>\n    </tr>\n    <tr>\n      <th>2020-04-21</th>\n      <td>146.024002</td>\n      <td>150.666000</td>\n      <td>134.757996</td>\n      <td>137.343994</td>\n      <td>137.343994</td>\n      <td>101045500</td>\n    </tr>\n    <tr>\n      <th>...</th>\n      <td>...</td>\n      <td>...</td>\n      <td>...</td>\n      <td>...</td>\n      <td>...</td>\n      <td>...</td>\n    </tr>\n    <tr>\n      <th>2021-04-08</th>\n      <td>677.380005</td>\n      <td>689.549988</td>\n      <td>671.650024</td>\n      <td>683.799988</td>\n      <td>683.799988</td>\n      <td>23924300</td>\n    </tr>\n    <tr>\n      <th>2021-04-09</th>\n      <td>677.770020</td>\n      <td>680.969971</td>\n      <td>669.429993</td>\n      <td>677.020020</td>\n      <td>677.020020</td>\n      <td>21402600</td>\n    </tr>\n    <tr>\n      <th>2021-04-12</th>\n      <td>685.700012</td>\n      <td>704.799988</td>\n      <td>682.090027</td>\n      <td>701.979980</td>\n      <td>701.979980</td>\n      <td>29135700</td>\n    </tr>\n    <tr>\n      <th>2021-04-13</th>\n      <td>712.700012</td>\n      <td>763.000000</td>\n      <td>710.659973</td>\n      <td>762.320007</td>\n      <td>762.320007</td>\n      <td>44652800</td>\n    </tr>\n    <tr>\n      <th>2021-04-14</th>\n      <td>770.700012</td>\n      <td>780.789978</td>\n      <td>728.030029</td>\n      <td>732.229980</td>\n      <td>732.229980</td>\n      <td>48875100</td>\n    </tr>\n  </tbody>\n</table>\n<p>252 rows × 6 columns</p>\n</div>"
     },
     "metadata": {},
     "execution_count": 10
    }
   ],
   "source": [
    "df.rename(columns={'Close':'NewClose'}, inplace=True)\n",
    "sma = btalib.sma(df)\n",
    "df"
   ]
  },
  {
   "cell_type": "code",
   "execution_count": 11,
   "metadata": {},
   "outputs": [
    {
     "output_type": "stream",
     "name": "stdout",
     "text": [
      "                   sma\nDate                  \n2020-04-15         NaN\n2020-04-16         NaN\n2020-04-17         NaN\n2020-04-20         NaN\n2020-04-21         NaN\n...                ...\n2021-04-08  662.112329\n2021-04-09  661.938997\n2021-04-12  662.821663\n2021-04-13  664.284664\n2021-04-14  665.810996\n\n[252 rows x 1 columns]\n"
     ]
    }
   ],
   "source": [
    "print(sma.df)"
   ]
  },
  {
   "cell_type": "code",
   "execution_count": 12,
   "metadata": {},
   "outputs": [
    {
     "output_type": "stream",
     "name": "stdout",
     "text": [
      "\nNon-weighted average of the last n periods\n\nFormula:\n  - movav = Sum(data, period) / period\n\nSee also:\n  - http://en.wikipedia.org/wiki/Moving_average#Simple_moving_average\n\n\nAliases: SMA, SimpleMovingAverage\n\nInputs: close\n\nOutputs: sma\n\nParams:\n  - period (default: 30)\n    Period for the moving average calculation\n"
     ]
    }
   ],
   "source": [
    "print(btalib.sma.__doc__)"
   ]
  },
  {
   "cell_type": "code",
   "execution_count": 13,
   "metadata": {},
   "outputs": [
    {
     "output_type": "stream",
     "name": "stdout",
     "text": [
      "('sma',)\n('k', 'd')\n"
     ]
    }
   ],
   "source": [
    "print(btalib.sma.outputs)\n",
    "print(btalib.stochastic.outputs)"
   ]
  },
  {
   "cell_type": "code",
   "execution_count": 14,
   "metadata": {},
   "outputs": [
    {
     "output_type": "stream",
     "name": "stdout",
     "text": [
      "                    k          d\nDate                            \n2020-04-15        NaN        NaN\n2020-04-16        NaN        NaN\n2020-04-17        NaN        NaN\n2020-04-20        NaN        NaN\n2020-04-21        NaN        NaN\n...               ...        ...\n2021-04-08  77.780626  78.005721\n2021-04-09  73.626414  77.083516\n2021-04-12  82.449865  77.952301\n2021-04-13  89.249358  81.775212\n2021-04-14  89.580608  87.093277\n\n[252 rows x 2 columns]\n"
     ]
    }
   ],
   "source": [
    "stochastic = btalib.stochastic(df)\n",
    "print(stochastic.df)"
   ]
  },
  {
   "cell_type": "code",
   "execution_count": 17,
   "metadata": {},
   "outputs": [
    {
     "output_type": "execute_result",
     "data": {
      "text/plain": [
       "{'acos': btalib.indicators.math.acos,\n",
       " 'ad': btalib.indicators.ad.ad,\n",
       " 'add': btalib.indicators.mathop.add,\n",
       " 'adosc': btalib.indicators.ad.adosc,\n",
       " 'adx': btalib.indicators.directionalmove.adx,\n",
       " 'adxr': btalib.indicators.directionalmove.adxr,\n",
       " 'apo': btalib.indicators.ppo.apo,\n",
       " 'aroon': btalib.indicators.aroon.aroon,\n",
       " 'aroonosc': btalib.indicators.aroon.aroonosc,\n",
       " 'asin': btalib.indicators.math.asin,\n",
       " 'atan': btalib.indicators.math.atan,\n",
       " 'atr': btalib.indicators.atr.atr,\n",
       " 'avgprice': btalib.indicators.price.avgprice,\n",
       " 'bbands': btalib.indicators.bbands.bbands,\n",
       " 'beta': btalib.indicators.beta.beta,\n",
       " 'bop': btalib.indicators.bop.bop,\n",
       " 'cci': btalib.indicators.cci.cci,\n",
       " 'ceil': btalib.indicators.math.ceil,\n",
       " 'cmo': btalib.indicators.cmo.cmo,\n",
       " 'correl': btalib.indicators.correl.correl,\n",
       " 'cos': btalib.indicators.math.cos,\n",
       " 'cosh': btalib.indicators.math.cosh,\n",
       " 'crossdown': btalib.indicators.crossover.crossdown,\n",
       " 'crossover': btalib.indicators.crossover.crossover,\n",
       " 'crossup': btalib.indicators.crossover.crossup,\n",
       " 'dema': btalib.indicators.dema.dema,\n",
       " 'di': btalib.indicators.directionalmove.di,\n",
       " 'div': btalib.indicators.mathop.div,\n",
       " 'dm': btalib.indicators.directionalmove.dm,\n",
       " 'dx': btalib.indicators.directionalmove.dx,\n",
       " 'ema': btalib.indicators.ema.ema,\n",
       " 'ewma': btalib.indicators.ewma.ewma,\n",
       " 'exp': btalib.indicators.math.exp,\n",
       " 'floor': btalib.indicators.math.floor,\n",
       " 'gdema': btalib.indicators.t3.gdema,\n",
       " 'ht_dcperiod': btalib.indicators.ht_dcperiod.ht_dcperiod,\n",
       " 'ht_dcphase': btalib.indicators.ht_dcphase.ht_dcphase,\n",
       " 'ht_phasor': btalib.indicators.ht_phasor.ht_phasor,\n",
       " 'ht_sine': btalib.indicators.ht_sine.ht_sine,\n",
       " 'ht_trendline': btalib.indicators.ht_trendline.ht_trendline,\n",
       " 'ht_trendmode': btalib.indicators.ht_trendmode.ht_trendmode,\n",
       " 'kama': btalib.indicators.kama.kama,\n",
       " 'linearreg': btalib.indicators.linreg.linearreg,\n",
       " 'linearreg_angle': btalib.indicators.linreg.linearreg_angle,\n",
       " 'linearreg_intercept': btalib.indicators.linreg.linearreg_intercept,\n",
       " 'linearreg_slope': btalib.indicators.linreg.linearreg_slope,\n",
       " 'ln': btalib.indicators.math.ln,\n",
       " 'log10': btalib.indicators.math.log10,\n",
       " 'macd': btalib.indicators.macd.macd,\n",
       " 'mad': btalib.indicators.madev.mad,\n",
       " 'mama': btalib.indicators.mama.mama,\n",
       " 'mavp': btalib.indicators.mavp.mavp,\n",
       " 'max': btalib.indicators.mathop.max,\n",
       " 'maxindex': btalib.indicators.mathop.maxindex,\n",
       " 'medprice': btalib.indicators.price.medprice,\n",
       " 'mfi': btalib.indicators.mfi.mfi,\n",
       " 'midpoint': btalib.indicators.midpoint.midpoint,\n",
       " 'midprice': btalib.indicators.midpoint.midprice,\n",
       " 'min': btalib.indicators.mathop.min,\n",
       " 'minindex': btalib.indicators.mathop.minindex,\n",
       " 'minmax': btalib.indicators.mathop.minmax,\n",
       " 'minmaxindex': btalib.indicators.mathop.minmaxindex,\n",
       " 'minus_di': btalib.indicators.directionalmove.minus_di,\n",
       " 'minus_dm': btalib.indicators.directionalmove.minus_dm,\n",
       " 'mom': btalib.indicators.mom.mom,\n",
       " 'mult': btalib.indicators.mathop.mult,\n",
       " 'natr': btalib.indicators.atr.natr,\n",
       " 'obv': btalib.indicators.obv.obv,\n",
       " 'plus_di': btalib.indicators.directionalmove.plus_di,\n",
       " 'plus_dm': btalib.indicators.directionalmove.plus_dm,\n",
       " 'ppo': btalib.indicators.ppo.ppo,\n",
       " 'ppofast': btalib.indicators.ppo.ppofast,\n",
       " 'roc': btalib.indicators.roc.roc,\n",
       " 'rocp': btalib.indicators.roc.rocp,\n",
       " 'rocr': btalib.indicators.roc.rocr,\n",
       " 'rocr100': btalib.indicators.roc.rocr100,\n",
       " 'rsi': btalib.indicators.rsi.rsi,\n",
       " 'sar': btalib.indicators.sar.sar,\n",
       " 'sarext': btalib.indicators.sarext.sarext,\n",
       " 'sin': btalib.indicators.math.sin,\n",
       " 'sinh': btalib.indicators.math.sinh,\n",
       " 'sma': btalib.indicators.sma.sma,\n",
       " 'smacc': btalib.indicators.directionalmove.smacc,\n",
       " 'smma': btalib.indicators.smma.smma,\n",
       " 'sqrt': btalib.indicators.math.sqrt,\n",
       " 'stddev': btalib.indicators.stddev.stddev,\n",
       " 'stddev_s': btalib.indicators.stddev.stddev_s,\n",
       " 'stochastic': btalib.indicators.stochastic.stochastic,\n",
       " 'stochf': btalib.indicators.stochastic.stochf,\n",
       " 'stochrsi': btalib.indicators.stochrsi.stochrsi,\n",
       " 'sub': btalib.indicators.mathop.sub,\n",
       " 'sum': btalib.indicators.mathop.sum,\n",
       " 't3': btalib.indicators.t3.t3,\n",
       " 'tan': btalib.indicators.math.tan,\n",
       " 'tanh': btalib.indicators.math.tanh,\n",
       " 'tema': btalib.indicators.tema.tema,\n",
       " 'trima': btalib.indicators.trima.trima,\n",
       " 'trix': btalib.indicators.trix.trix,\n",
       " 'truehigh': btalib.indicators.atr.truehigh,\n",
       " 'truelow': btalib.indicators.atr.truelow,\n",
       " 'truerange': btalib.indicators.atr.truerange,\n",
       " 'tsf': btalib.indicators.linreg.tsf,\n",
       " 'typprice': btalib.indicators.price.typprice,\n",
       " 'ultimateoscillator': btalib.indicators.ultimateoscillator.ultimateoscillator,\n",
       " 'var': btalib.indicators.var.var,\n",
       " 'var_s': btalib.indicators.var.var_s,\n",
       " 'wclprice': btalib.indicators.price.wclprice,\n",
       " 'williamsr': btalib.indicators.williamsr.williamsr,\n",
       " 'wma': btalib.indicators.wma.wma}"
      ]
     },
     "metadata": {},
     "execution_count": 17
    }
   ],
   "source": [
    "btalib.get_indicators()\n",
    "btalib.get_ind_names()\n",
    "btalib.get_ind_by_name()\n",
    "# btalib.get_ind_by_category()\n",
    "\n"
   ]
  },
  {
   "cell_type": "code",
   "execution_count": null,
   "metadata": {},
   "outputs": [],
   "source": []
  },
  {
   "cell_type": "code",
   "execution_count": null,
   "metadata": {},
   "outputs": [],
   "source": []
  }
 ]
}