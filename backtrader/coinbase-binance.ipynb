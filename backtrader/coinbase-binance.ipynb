{
 "metadata": {
  "language_info": {
   "codemirror_mode": {
    "name": "ipython",
    "version": 3
   },
   "file_extension": ".py",
   "mimetype": "text/x-python",
   "name": "python",
   "nbconvert_exporter": "python",
   "pygments_lexer": "ipython3",
   "version": "3.8.3"
  },
  "orig_nbformat": 2,
  "kernelspec": {
   "name": "python383jvsc74a57bd009f4dcfb3e964316099ed5c193f7e1b40b926ea02855df65dc4d9b607a760bc3",
   "display_name": "Python 3.8.3 64-bit ('.venv': venv)"
  }
 },
 "nbformat": 4,
 "nbformat_minor": 2,
 "cells": [
  {
   "cell_type": "code",
   "execution_count": 129,
   "metadata": {},
   "outputs": [
    {
     "output_type": "stream",
     "name": "stdout",
     "text": [
      "CCXT Version:  1.45.42\n"
     ]
    }
   ],
   "source": [
    "from datetime import datetime, timezone\n",
    "import configparser\n",
    "import json\n",
    "import requests\n",
    "import ccxt\n",
    "import time\n",
    "from pprint import pprint \n",
    "import pandas as pd\n",
    "from urllib.parse import urljoin \n",
    "\n",
    "\n",
    "\n",
    "binance_symbol = 'BTC/USDT'\n",
    "coinbase_symbol = 'BTC/USD'\n",
    "\n",
    "coinbase_datetime_format = '%Y-%m-%dT%H:%M:%S'\n",
    "default_datetime_format = '%Y-%m-%d %H:%M:%S'\n",
    "\n",
    "binance_data_columns = ['time', 'open', 'high', 'low', 'close', 'volume']\n",
    "coinbase_data_columns = ['time', 'low', 'high', 'open', 'close', 'volume']\n",
    "\n",
    "\n",
    "def table(values):\n",
    "    first = values[0]\n",
    "    keys = list(first.keys()) if isinstance(first, dict) else range(0, len(first))\n",
    "    widths = [max([len(str(v[k])) for v in values]) for k in keys]\n",
    "    string = ' | '.join(['{:<' + str(w) + '}' for w in widths])\n",
    "    return \"\\n\".join([string.format(*[str(v[k]) for k in keys]) for v in values])\n",
    "\n",
    "def listdata_to_df(data, cols):\n",
    "    df = pd.DataFrame(data, columns = cols)\n",
    "    # df['time'] = [binance_ts_to_datetime(time) for time in df['time']]\n",
    "    # df.set_index('Time', inplace=True)\n",
    "    return(df)\n",
    "\n",
    "def coinbase_data_to_df(data):\n",
    "    return(listdata_to_df(data, cols=coinbase_data_columns))\n",
    "\n",
    "def binance_data_to_df(data):\n",
    "    return(listdata_to_df(data, cols=binance_data_columns))\n",
    "\n",
    "def ts_to_dt(ts, tzinfo='korea'):     \n",
    "    # ts_binance_size = 13\n",
    "\n",
    "    # KST = datetime.timezone(datetime.timedelta(hours=9))\n",
    "    if tzinfo == 'binance':\n",
    "        return(datetime.utcfromtimestamp(float(ts)/1000)) \n",
    "    elif tzinfo == 'coinbase':\n",
    "        return(datetime.utcfromtimestamp(float(ts)))\n",
    "    elif tzinfo == 'korea':\n",
    "        return(datetime.fromtimestamp(float(ts)))\n",
    "\n",
    "def dt_to_str(dt, format):\n",
    "    return(dt.strftime(format))\n",
    "\n",
    "def binance_ts_to_dt(time):\n",
    "    return(datetime.utcfromtimestamp(float(time)/1000))\n",
    "\n",
    "# def binance_data_to_df(data):\n",
    "#     df = pd.DataFrame(data, columns = ['Time', 'Open', 'High', 'Low', 'Close', 'Volume'])\n",
    "#     df['Time'] = [binance_ts_to_dt(time) for time in df['Time']]\n",
    "#     df.set_index('Time', inplace=True)\n",
    "#     return(df)\n",
    "\n",
    "def binance_ts_to_coinbase_datestr(ts, format=coinbase_datetime_format):\n",
    "    return(dt_to_str(binance_ts_to_dt(ts), format))\n",
    "\n",
    "\n",
    "\n",
    "# def date_from_timestamp(timestamp):\n",
    "#     return(timestamp/1000)\n",
    "\n",
    "\n",
    "config = configparser.ConfigParser()\n",
    "config.read('../config.ini')\n",
    "\n",
    "BINANCE_API_KEY = config['BINANCE']['API_KEY']\n",
    "BINANCE_SECRET_KEY = config['BINANCE']['SECRET_KEY']\n",
    "BINANCE_API_URL = config['BINANCE']['API_URL']\n",
    "\n",
    "COINBASE_API_KEY = config['COINBASE']['API_KEY']\n",
    "COINBASE_SECRET_KEY = config['COINBASE']['SECRET_KEY']\n",
    "COINBASE_API_URL = config['COINBASE']['API_URL']\n",
    "\n",
    "print('CCXT Version: ', ccxt.__version__)\n",
    "exchange_id = 'binance'\n",
    "binance = ccxt.binance({\n",
    "    'options': {\n",
    "        'adjustForTimeDifference': True,\n",
    "        'defaultType': 'future'\n",
    "    },\n",
    "    'rateLimit': 10000,\n",
    "    'enableRateLimit': True,\n",
    "    # 'verbose': True,\n",
    "    'apiKey': BINANCE_API_KEY,\n",
    "    'secret': BINANCE_SECRET_KEY,\n",
    "})\n",
    "\n",
    "coinbase = ccxt.coinbase({\n",
    "    'options': {\n",
    "        'adjustForTimeDifference': True,\n",
    "        'defaultType': 'future'\n",
    "    },\n",
    "    'rateLimit': 10000,\n",
    "    'enableRateLimit': True,\n",
    "    # 'verbose': True,\n",
    "    'apiKey': COINBASE_API_KEY,\n",
    "    'secret': COINBASE_SECRET_KEY,\n",
    "})\n",
    "\n",
    "\n"
   ]
  },
  {
   "cell_type": "code",
   "execution_count": null,
   "metadata": {},
   "outputs": [],
   "source": [
    "# pprint(binance.api)\n",
    "# pprint(binance.has)\n",
    "# pprint(binance.timeframes)\n",
    "\n",
    "# pprint(coinbase.api)\n",
    "# pprint(coinbase.has)\n",
    "# pprint(coinbase.timeframes)\n",
    "\n",
    "# if binance.has['fetchOHLCV']:\n",
    "#     time.sleep (binance.rateLimit / 1000) # time.sleep wants seconds\n",
    "#     one_day = binance.fetch_ohlcv(symbol, '1d')\n",
    "\n",
    "\n",
    "# binance returns 500 data per query \n",
    "# len(one_day)\n"
   ]
  },
  {
   "cell_type": "code",
   "execution_count": null,
   "metadata": {},
   "outputs": [],
   "source": []
  },
  {
   "cell_type": "code",
   "execution_count": 143,
   "metadata": {},
   "outputs": [],
   "source": [
    "def ohlcv_data(symbol, exchange, timeframe, since=None):\n",
    "    msec = 1000\n",
    "    minute = 60 * msec\n",
    "    hour = 60 *minute\n",
    "    day = 24 * hour\n",
    "\n",
    "    if timeframe == '1m':\n",
    "        tick = minute\n",
    "    elif timeframe == '1h':\n",
    "        tick = hour\n",
    "    elif timeframe == '1d':\n",
    "        tick = day \n",
    "\n",
    "    data = []\n",
    "    now_timestamp = exchange.milliseconds()\n",
    "    since_timestamp = exchange.parse8601(since)\n",
    "\n",
    "    print('Difference: ', (now_timestamp - since_timestamp)/minute, '(',now_timestamp, '-', since_timestamp, ')')\n",
    "\n",
    "    if (since_timestamp == None or since_timestamp > now_timestamp):\n",
    "        print('Fetching candles starting from: ', since)\n",
    "        data = exchange.fetch_ohlcv(symbol, timeframe)\n",
    "        print('Fetching finished')  \n",
    "        return(data)\n",
    "\n",
    "\n",
    "    while since_timestamp < now_timestamp: \n",
    "        print('Fetching candles starting from: ', binance_ts_to_dt(since_timestamp))\n",
    "        candles = exchange.fetch_ohlcv(symbol, timeframe, since=since_timestamp)\n",
    "        since_timestamp = candles[-1][0] + tick \n",
    "        data += candles\n",
    "\n",
    "    print('Fetching finished')\n",
    "    return(data)\n",
    "\n",
    "# def binance_timestamp_to_datetime(time):\n",
    "#     return(datetime.utcfromtimestamp(float(time)/1000))\n",
    "\n",
    "\n",
    "# def binance_data_to_dataframe(data):\n",
    "#     df = pd.DataFrame(data, columns = ['Time', 'Open', 'High', 'Low', 'Close', 'Volume'])\n",
    "#     df['Time'] = [binance_timestamp_to_datetime(time) for time in df['Time']]\n",
    "#     df.set_index('Time', inplace=True)\n",
    "#     return(df)\n",
    "\n",
    "\n",
    "# def ts_to_dt(ts, tzinfo='korea'):     \n",
    "#     # ts_binance_size = 13\n",
    "\n",
    "#     # KST = datetime.timezone(datetime.timedelta(hours=9))\n",
    "#     if tzinfo == 'binance':\n",
    "#         return(datetime.utcfromtimestamp(float(ts)/1000)) \n",
    "#     elif tzinfo == 'coinbase':\n",
    "#         return(datetime.utcfromtimestamp(float(ts)))\n",
    "#     elif tzinfo == 'korea':\n",
    "#         return(datetime.fromtimestamp(float(ts)))\n",
    "\n",
    "# def dt_to_str(dt, format):\n",
    "#     return(dt.strftime(format))\n",
    "\n",
    "# def binance_ts_to_coinbase_datestr(ts, format=coinbase_datetime_format):\n",
    "#     return(dt_to_str(binance_timestamp_to_datetime(ts), format))\n",
    "\n",
    "\n",
    "def coinbase_data_fetch(start, stop, granularity=60):\n",
    "\n",
    "    PATH = 'products/BTC-USD/candles'\n",
    "    # COINBASE_URL = urljoin(COINBASE_API_URL, PATH)\n",
    "\n",
    "    data = []\n",
    "    #PATH = 'btc/exchange-flows/reserve'\n",
    "    # URL = urljoin(API_URL, PATH)\n",
    "    params = {\n",
    "        'start': start,\n",
    "        'stop': stop,\n",
    "        'granularity': granularity\n",
    "    }\n",
    "\n",
    "    response = requests.get(urljoin(COINBASE_API_URL, PATH), params=params).json()\n",
    "    # print(len(str(response[0][0])))\n",
    "    return(response)\n",
    "\n",
    "    "
   ]
  },
  {
   "cell_type": "code",
   "execution_count": 126,
   "metadata": {},
   "outputs": [
    {
     "output_type": "execute_result",
     "data": {
      "text/plain": [
       "\"'https://api.pro.coinbase.com/'\""
      ]
     },
     "metadata": {},
     "execution_count": 126
    }
   ],
   "source": [
    "COINBASE_API_URL"
   ]
  },
  {
   "cell_type": "code",
   "execution_count": 119,
   "metadata": {},
   "outputs": [
    {
     "output_type": "stream",
     "name": "stdout",
     "text": [
      "dt_now: 2021-04-23 15:43:56.359554\nts_now: 1619160236.3602376\nts_binance: 1619160236360\ndt_korea: 2021-04-23 15:43:56.360238\ndt_binance: 2021-04-23 06:43:56.360000\ndt_coinbase: 2021-04-23 06:43:56.360000\n"
     ]
    }
   ],
   "source": [
    "dt_now = datetime.now()\n",
    "print('dt_now:', dt_now)\n",
    "\n",
    "\n",
    "ts_now = time.time()\n",
    "ts_binance = binance.milliseconds()\n",
    "print('ts_now:', ts_now)\n",
    "print('ts_binance:', ts_binance)\n",
    "\n",
    "dt_binance = ts_to_dt(ts_binance, 'binance')\n",
    "dt_coinbase = ts_to_dt(ts_binance/1000, 'coinbase')\n",
    "dt_korea = ts_to_dt(ts_now)\n",
    "print('dt_korea:', dt_korea)\n",
    "print('dt_binance:', dt_binance)\n",
    "print('dt_coinbase:', dt_coinbase)\n",
    "\n"
   ]
  },
  {
   "cell_type": "code",
   "execution_count": 120,
   "metadata": {},
   "outputs": [
    {
     "output_type": "stream",
     "name": "stdout",
     "text": [
      "Difference:  403.9714 ( 1619160238284 - 1619136000000 )\n",
      "Fetching candles starting from:  2021-04-23 00:00:00\n",
      "Fetching finished\n"
     ]
    }
   ],
   "source": [
    "test_data = ohlcv_data(symbol, binance, '1m', since='2021-04-23 00:00:00')"
   ]
  },
  {
   "cell_type": "code",
   "execution_count": 131,
   "metadata": {},
   "outputs": [
    {
     "output_type": "stream",
     "name": "stdout",
     "text": [
      "405\ndifference: 24240000 ( 1619160240000 - 1619136000000 405.0\n"
     ]
    }
   ],
   "source": [
    "print(len((test_data)))\n",
    "print('difference:', (test_data[-1][0] - test_data[0][0]), '(', test_data[-1][0], '-',  test_data[0][0],  (test_data[-1][0] - test_data[0][0])/60000 +1)"
   ]
  },
  {
   "cell_type": "code",
   "execution_count": 132,
   "metadata": {},
   "outputs": [],
   "source": [
    "# test_data"
   ]
  },
  {
   "cell_type": "code",
   "execution_count": 133,
   "metadata": {},
   "outputs": [
    {
     "output_type": "stream",
     "name": "stdout",
     "text": [
      "2021-04-23T00:00:00 2021-04-23T03:00:00\n"
     ]
    }
   ],
   "source": [
    "start = binance_ts_to_coinbase_datestr(test_data[0][0])\n",
    "stop = binance_ts_to_coinbase_datestr(test_data[-1][0])\n",
    "\n",
    "print(start, end)"
   ]
  },
  {
   "cell_type": "code",
   "execution_count": 134,
   "metadata": {},
   "outputs": [
    {
     "output_type": "execute_result",
     "data": {
      "text/plain": [
       "405"
      ]
     },
     "metadata": {},
     "execution_count": 134
    }
   ],
   "source": [
    "len(test_data)"
   ]
  },
  {
   "cell_type": "code",
   "execution_count": 146,
   "metadata": {},
   "outputs": [
    {
     "output_type": "stream",
     "name": "stdout",
     "text": [
      "300\n"
     ]
    }
   ],
   "source": [
    "\n",
    "COINBASE_URL = 'https://api.pro.coinbase.com/products/BTC-USD/candles'\n",
    "\n",
    "#PATH = 'btc/exchange-flows/reserve'\n",
    "# URL = urljoin(API_URL, PATH)\n",
    "params = {\n",
    "    'start': start,\n",
    "    'stop': stop,\n",
    "    'granularity': 60\n",
    "}\n",
    "\n",
    "response = requests.get(COINBASE_URL, params=params).json()\n",
    "print(len(response))"
   ]
  },
  {
   "cell_type": "code",
   "execution_count": 144,
   "metadata": {},
   "outputs": [
    {
     "output_type": "error",
     "ename": "InvalidSchema",
     "evalue": "No connection adapters were found for \"'https:/api.pro.coinbase.com/products/BTC-USD/candles\"",
     "traceback": [
      "\u001b[0;31m---------------------------------------------------------------------------\u001b[0m",
      "\u001b[0;31mInvalidSchema\u001b[0m                             Traceback (most recent call last)",
      "\u001b[0;32m<ipython-input-144-3a29318be612>\u001b[0m in \u001b[0;36m<module>\u001b[0;34m\u001b[0m\n\u001b[0;32m----> 1\u001b[0;31m \u001b[0mcoinbase_data\u001b[0m \u001b[0;34m=\u001b[0m \u001b[0mcoinbase_data_fetch\u001b[0m\u001b[0;34m(\u001b[0m\u001b[0mstart\u001b[0m\u001b[0;34m,\u001b[0m \u001b[0mstop\u001b[0m\u001b[0;34m)\u001b[0m\u001b[0;34m\u001b[0m\u001b[0;34m\u001b[0m\u001b[0m\n\u001b[0m\u001b[1;32m      2\u001b[0m \u001b[0mprint\u001b[0m\u001b[0;34m(\u001b[0m\u001b[0;34m'length: '\u001b[0m\u001b[0;34m,\u001b[0m \u001b[0mlen\u001b[0m\u001b[0;34m(\u001b[0m\u001b[0mcoinbase_data\u001b[0m\u001b[0;34m)\u001b[0m\u001b[0;34m)\u001b[0m\u001b[0;34m\u001b[0m\u001b[0;34m\u001b[0m\u001b[0m\n\u001b[1;32m      3\u001b[0m \u001b[0mprint\u001b[0m\u001b[0;34m(\u001b[0m\u001b[0mcoinbase_data\u001b[0m\u001b[0;34m)\u001b[0m\u001b[0;34m\u001b[0m\u001b[0;34m\u001b[0m\u001b[0m\n\u001b[1;32m      4\u001b[0m \u001b[0;34m\u001b[0m\u001b[0m\n\u001b[1;32m      5\u001b[0m \u001b[0;34m\u001b[0m\u001b[0m\n",
      "\u001b[0;32m<ipython-input-143-5c8b90b9b6f2>\u001b[0m in \u001b[0;36mcoinbase_data_fetch\u001b[0;34m(start, stop, granularity)\u001b[0m\n\u001b[1;32m     77\u001b[0m     }\n\u001b[1;32m     78\u001b[0m \u001b[0;34m\u001b[0m\u001b[0m\n\u001b[0;32m---> 79\u001b[0;31m     \u001b[0mresponse\u001b[0m \u001b[0;34m=\u001b[0m \u001b[0mrequests\u001b[0m\u001b[0;34m.\u001b[0m\u001b[0mget\u001b[0m\u001b[0;34m(\u001b[0m\u001b[0murljoin\u001b[0m\u001b[0;34m(\u001b[0m\u001b[0mCOINBASE_API_URL\u001b[0m\u001b[0;34m,\u001b[0m \u001b[0mPATH\u001b[0m\u001b[0;34m)\u001b[0m\u001b[0;34m,\u001b[0m \u001b[0mparams\u001b[0m\u001b[0;34m=\u001b[0m\u001b[0mparams\u001b[0m\u001b[0;34m)\u001b[0m\u001b[0;34m.\u001b[0m\u001b[0mjson\u001b[0m\u001b[0;34m(\u001b[0m\u001b[0;34m)\u001b[0m\u001b[0;34m\u001b[0m\u001b[0;34m\u001b[0m\u001b[0m\n\u001b[0m\u001b[1;32m     80\u001b[0m     \u001b[0;31m# print(len(str(response[0][0])))\u001b[0m\u001b[0;34m\u001b[0m\u001b[0;34m\u001b[0m\u001b[0;34m\u001b[0m\u001b[0m\n\u001b[1;32m     81\u001b[0m     \u001b[0;32mreturn\u001b[0m\u001b[0;34m(\u001b[0m\u001b[0mresponse\u001b[0m\u001b[0;34m)\u001b[0m\u001b[0;34m\u001b[0m\u001b[0;34m\u001b[0m\u001b[0m\n",
      "\u001b[0;32m~/dev/crypto/.venv/lib/python3.8/site-packages/requests/api.py\u001b[0m in \u001b[0;36mget\u001b[0;34m(url, params, **kwargs)\u001b[0m\n\u001b[1;32m     74\u001b[0m \u001b[0;34m\u001b[0m\u001b[0m\n\u001b[1;32m     75\u001b[0m     \u001b[0mkwargs\u001b[0m\u001b[0;34m.\u001b[0m\u001b[0msetdefault\u001b[0m\u001b[0;34m(\u001b[0m\u001b[0;34m'allow_redirects'\u001b[0m\u001b[0;34m,\u001b[0m \u001b[0;32mTrue\u001b[0m\u001b[0;34m)\u001b[0m\u001b[0;34m\u001b[0m\u001b[0;34m\u001b[0m\u001b[0m\n\u001b[0;32m---> 76\u001b[0;31m     \u001b[0;32mreturn\u001b[0m \u001b[0mrequest\u001b[0m\u001b[0;34m(\u001b[0m\u001b[0;34m'get'\u001b[0m\u001b[0;34m,\u001b[0m \u001b[0murl\u001b[0m\u001b[0;34m,\u001b[0m \u001b[0mparams\u001b[0m\u001b[0;34m=\u001b[0m\u001b[0mparams\u001b[0m\u001b[0;34m,\u001b[0m \u001b[0;34m**\u001b[0m\u001b[0mkwargs\u001b[0m\u001b[0;34m)\u001b[0m\u001b[0;34m\u001b[0m\u001b[0;34m\u001b[0m\u001b[0m\n\u001b[0m\u001b[1;32m     77\u001b[0m \u001b[0;34m\u001b[0m\u001b[0m\n\u001b[1;32m     78\u001b[0m \u001b[0;34m\u001b[0m\u001b[0m\n",
      "\u001b[0;32m~/dev/crypto/.venv/lib/python3.8/site-packages/requests/api.py\u001b[0m in \u001b[0;36mrequest\u001b[0;34m(method, url, **kwargs)\u001b[0m\n\u001b[1;32m     59\u001b[0m     \u001b[0;31m# cases, and look like a memory leak in others.\u001b[0m\u001b[0;34m\u001b[0m\u001b[0;34m\u001b[0m\u001b[0;34m\u001b[0m\u001b[0m\n\u001b[1;32m     60\u001b[0m     \u001b[0;32mwith\u001b[0m \u001b[0msessions\u001b[0m\u001b[0;34m.\u001b[0m\u001b[0mSession\u001b[0m\u001b[0;34m(\u001b[0m\u001b[0;34m)\u001b[0m \u001b[0;32mas\u001b[0m \u001b[0msession\u001b[0m\u001b[0;34m:\u001b[0m\u001b[0;34m\u001b[0m\u001b[0;34m\u001b[0m\u001b[0m\n\u001b[0;32m---> 61\u001b[0;31m         \u001b[0;32mreturn\u001b[0m \u001b[0msession\u001b[0m\u001b[0;34m.\u001b[0m\u001b[0mrequest\u001b[0m\u001b[0;34m(\u001b[0m\u001b[0mmethod\u001b[0m\u001b[0;34m=\u001b[0m\u001b[0mmethod\u001b[0m\u001b[0;34m,\u001b[0m \u001b[0murl\u001b[0m\u001b[0;34m=\u001b[0m\u001b[0murl\u001b[0m\u001b[0;34m,\u001b[0m \u001b[0;34m**\u001b[0m\u001b[0mkwargs\u001b[0m\u001b[0;34m)\u001b[0m\u001b[0;34m\u001b[0m\u001b[0;34m\u001b[0m\u001b[0m\n\u001b[0m\u001b[1;32m     62\u001b[0m \u001b[0;34m\u001b[0m\u001b[0m\n\u001b[1;32m     63\u001b[0m \u001b[0;34m\u001b[0m\u001b[0m\n",
      "\u001b[0;32m~/dev/crypto/.venv/lib/python3.8/site-packages/requests/sessions.py\u001b[0m in \u001b[0;36mrequest\u001b[0;34m(self, method, url, params, data, headers, cookies, files, auth, timeout, allow_redirects, proxies, hooks, stream, verify, cert, json)\u001b[0m\n\u001b[1;32m    540\u001b[0m         }\n\u001b[1;32m    541\u001b[0m         \u001b[0msend_kwargs\u001b[0m\u001b[0;34m.\u001b[0m\u001b[0mupdate\u001b[0m\u001b[0;34m(\u001b[0m\u001b[0msettings\u001b[0m\u001b[0;34m)\u001b[0m\u001b[0;34m\u001b[0m\u001b[0;34m\u001b[0m\u001b[0m\n\u001b[0;32m--> 542\u001b[0;31m         \u001b[0mresp\u001b[0m \u001b[0;34m=\u001b[0m \u001b[0mself\u001b[0m\u001b[0;34m.\u001b[0m\u001b[0msend\u001b[0m\u001b[0;34m(\u001b[0m\u001b[0mprep\u001b[0m\u001b[0;34m,\u001b[0m \u001b[0;34m**\u001b[0m\u001b[0msend_kwargs\u001b[0m\u001b[0;34m)\u001b[0m\u001b[0;34m\u001b[0m\u001b[0;34m\u001b[0m\u001b[0m\n\u001b[0m\u001b[1;32m    543\u001b[0m \u001b[0;34m\u001b[0m\u001b[0m\n\u001b[1;32m    544\u001b[0m         \u001b[0;32mreturn\u001b[0m \u001b[0mresp\u001b[0m\u001b[0;34m\u001b[0m\u001b[0;34m\u001b[0m\u001b[0m\n",
      "\u001b[0;32m~/dev/crypto/.venv/lib/python3.8/site-packages/requests/sessions.py\u001b[0m in \u001b[0;36msend\u001b[0;34m(self, request, **kwargs)\u001b[0m\n\u001b[1;32m    647\u001b[0m \u001b[0;34m\u001b[0m\u001b[0m\n\u001b[1;32m    648\u001b[0m         \u001b[0;31m# Get the appropriate adapter to use\u001b[0m\u001b[0;34m\u001b[0m\u001b[0;34m\u001b[0m\u001b[0;34m\u001b[0m\u001b[0m\n\u001b[0;32m--> 649\u001b[0;31m         \u001b[0madapter\u001b[0m \u001b[0;34m=\u001b[0m \u001b[0mself\u001b[0m\u001b[0;34m.\u001b[0m\u001b[0mget_adapter\u001b[0m\u001b[0;34m(\u001b[0m\u001b[0murl\u001b[0m\u001b[0;34m=\u001b[0m\u001b[0mrequest\u001b[0m\u001b[0;34m.\u001b[0m\u001b[0murl\u001b[0m\u001b[0;34m)\u001b[0m\u001b[0;34m\u001b[0m\u001b[0;34m\u001b[0m\u001b[0m\n\u001b[0m\u001b[1;32m    650\u001b[0m \u001b[0;34m\u001b[0m\u001b[0m\n\u001b[1;32m    651\u001b[0m         \u001b[0;31m# Start time (approximately) of the request\u001b[0m\u001b[0;34m\u001b[0m\u001b[0;34m\u001b[0m\u001b[0;34m\u001b[0m\u001b[0m\n",
      "\u001b[0;32m~/dev/crypto/.venv/lib/python3.8/site-packages/requests/sessions.py\u001b[0m in \u001b[0;36mget_adapter\u001b[0;34m(self, url)\u001b[0m\n\u001b[1;32m    740\u001b[0m \u001b[0;34m\u001b[0m\u001b[0m\n\u001b[1;32m    741\u001b[0m         \u001b[0;31m# Nothing matches :-/\u001b[0m\u001b[0;34m\u001b[0m\u001b[0;34m\u001b[0m\u001b[0;34m\u001b[0m\u001b[0m\n\u001b[0;32m--> 742\u001b[0;31m         \u001b[0;32mraise\u001b[0m \u001b[0mInvalidSchema\u001b[0m\u001b[0;34m(\u001b[0m\u001b[0;34m\"No connection adapters were found for {!r}\"\u001b[0m\u001b[0;34m.\u001b[0m\u001b[0mformat\u001b[0m\u001b[0;34m(\u001b[0m\u001b[0murl\u001b[0m\u001b[0;34m)\u001b[0m\u001b[0;34m)\u001b[0m\u001b[0;34m\u001b[0m\u001b[0;34m\u001b[0m\u001b[0m\n\u001b[0m\u001b[1;32m    743\u001b[0m \u001b[0;34m\u001b[0m\u001b[0m\n\u001b[1;32m    744\u001b[0m     \u001b[0;32mdef\u001b[0m \u001b[0mclose\u001b[0m\u001b[0;34m(\u001b[0m\u001b[0mself\u001b[0m\u001b[0;34m)\u001b[0m\u001b[0;34m:\u001b[0m\u001b[0;34m\u001b[0m\u001b[0;34m\u001b[0m\u001b[0m\n",
      "\u001b[0;31mInvalidSchema\u001b[0m: No connection adapters were found for \"'https:/api.pro.coinbase.com/products/BTC-USD/candles\""
     ]
    }
   ],
   "source": [
    "\n",
    "coinbase_data = coinbase_data_fetch(start, stop)\n",
    "print('length: ', len(coinbase_data))\n",
    "print(coinbase_data)\n",
    "\n",
    "\n",
    "# since='2021-04-18 00:00:00'\n",
    "\n",
    "# # stop = datetime.strftime(since, format)\n",
    "# # stop\n",
    "\n",
    "\n",
    "# # COINBASE_URL = 'https://api.pro.coinbase.com/products/BTC-USD/candles'\n",
    "\n",
    "# #PATH = 'btc/exchange-flows/reserve'\n",
    "# # URL = urljoin(API_URL, PATH)\n",
    "# params = {\n",
    "#     'start': start,\n",
    "#     'stop': stop,\n",
    "#     'granularity': 60\n",
    "# }\n",
    "\n",
    "# response = requests.get(COINBASE_API_URL, params=params).json()\n",
    "# # print(response)\n",
    "# # print(response['status'])\n",
    "# # print(response['result'])\n",
    "# # print(len(response))\n",
    "# print(len(str(response[0][0])))"
   ]
  },
  {
   "cell_type": "code",
   "execution_count": 94,
   "metadata": {},
   "outputs": [
    {
     "output_type": "execute_result",
     "data": {
      "text/plain": [
       "list"
      ]
     },
     "metadata": {},
     "execution_count": 94
    }
   ],
   "source": [
    "type(response)"
   ]
  },
  {
   "cell_type": "code",
   "execution_count": 95,
   "metadata": {},
   "outputs": [
    {
     "output_type": "stream",
     "name": "stdout",
     "text": [
      "389\n"
     ]
    }
   ],
   "source": [
    "df = binance_data_to_df(test_data)\n",
    "\n",
    "print(len(df))"
   ]
  },
  {
   "cell_type": "code",
   "execution_count": 47,
   "metadata": {},
   "outputs": [
    {
     "output_type": "execute_result",
     "data": {
      "text/plain": [
       "                         Open      High       Low     Close     Volume\n",
       "Time                                                                  \n",
       "2021-04-23 00:00:00  51714.62  52152.00  51288.65  51568.91  17629.095\n",
       "2021-04-23 01:00:00  51568.91  51771.60  49530.04  51085.04  45551.807\n",
       "2021-04-23 02:00:00  51085.04  51476.39  50352.25  50440.53   9179.742"
      ],
      "text/html": "<div>\n<style scoped>\n    .dataframe tbody tr th:only-of-type {\n        vertical-align: middle;\n    }\n\n    .dataframe tbody tr th {\n        vertical-align: top;\n    }\n\n    .dataframe thead th {\n        text-align: right;\n    }\n</style>\n<table border=\"1\" class=\"dataframe\">\n  <thead>\n    <tr style=\"text-align: right;\">\n      <th></th>\n      <th>Open</th>\n      <th>High</th>\n      <th>Low</th>\n      <th>Close</th>\n      <th>Volume</th>\n    </tr>\n    <tr>\n      <th>Time</th>\n      <th></th>\n      <th></th>\n      <th></th>\n      <th></th>\n      <th></th>\n    </tr>\n  </thead>\n  <tbody>\n    <tr>\n      <th>2021-04-23 00:00:00</th>\n      <td>51714.62</td>\n      <td>52152.00</td>\n      <td>51288.65</td>\n      <td>51568.91</td>\n      <td>17629.095</td>\n    </tr>\n    <tr>\n      <th>2021-04-23 01:00:00</th>\n      <td>51568.91</td>\n      <td>51771.60</td>\n      <td>49530.04</td>\n      <td>51085.04</td>\n      <td>45551.807</td>\n    </tr>\n    <tr>\n      <th>2021-04-23 02:00:00</th>\n      <td>51085.04</td>\n      <td>51476.39</td>\n      <td>50352.25</td>\n      <td>50440.53</td>\n      <td>9179.742</td>\n    </tr>\n  </tbody>\n</table>\n</div>"
     },
     "metadata": {},
     "execution_count": 47
    }
   ],
   "source": [
    "df\n",
    "# print(df.iloc[-1, :])\n",
    "# print(df.iloc[-1, 0])\n",
    "# print(df.iloc[-1, 1])\n",
    "# print(df.iloc[-1, 2])\n",
    "# print(df.iloc[-1, 3])\n",
    "# print(df.iloc[-1, 4])\n",
    "\n",
    "# print(df[-1:].index)"
   ]
  },
  {
   "cell_type": "code",
   "execution_count": 51,
   "metadata": {},
   "outputs": [
    {
     "output_type": "execute_result",
     "data": {
      "text/plain": [
       "datetime.datetime(2021, 4, 23, 2, 0)"
      ]
     },
     "metadata": {},
     "execution_count": 51
    }
   ],
   "source": [
    "ts_to_dt(test_data[-1][0]/1000, 'coinbase')"
   ]
  },
  {
   "cell_type": "code",
   "execution_count": null,
   "metadata": {},
   "outputs": [],
   "source": [
    "coinbase_symbol = 'BTC/USD'\n",
    "coinbase.load_markets()"
   ]
  },
  {
   "cell_type": "code",
   "execution_count": 52,
   "metadata": {},
   "outputs": [],
   "source": [
    "dt_start = binance_timestamp_to_datetime(test_data[0][0])\n",
    "dt_end = binance_timestamp_to_datetime(test_data[-1][0])"
   ]
  },
  {
   "cell_type": "code",
   "execution_count": 53,
   "metadata": {},
   "outputs": [
    {
     "output_type": "stream",
     "name": "stdout",
     "text": [
      "2021-04-23 00:00:00\n2021-04-23 02:00:00\n"
     ]
    }
   ],
   "source": [
    "print(dt_start)\n",
    "print(dt_end)"
   ]
  },
  {
   "cell_type": "code",
   "execution_count": 43,
   "metadata": {},
   "outputs": [
    {
     "output_type": "execute_result",
     "data": {
      "text/plain": [
       "pandas.core.indexes.datetimes.DatetimeIndex"
      ]
     },
     "metadata": {},
     "execution_count": 43
    }
   ],
   "source": [
    "# def coinbase_ohlcv_data(symbol, timeframe, start, stop):\n",
    "type(df[-1:].index)\n"
   ]
  },
  {
   "cell_type": "code",
   "execution_count": 55,
   "metadata": {},
   "outputs": [
    {
     "output_type": "stream",
     "name": "stdout",
     "text": [
      "2021-04-23T00:00:00\n"
     ]
    }
   ],
   "source": [
    "\n",
    "# 2018-07-10T12:00:00 \n",
    "coinbase_time_format = '%Y-%m-%dT%H:%M:%S'\n",
    "default_time_format = '%Y-%m-%d %H:%M:%S'\n",
    "\n",
    "\n",
    "print(dt_to_str(dt_start, coinbase_time_format))"
   ]
  },
  {
   "cell_type": "code",
   "execution_count": null,
   "metadata": {},
   "outputs": [],
   "source": [
    "\n",
    "\n",
    "\n",
    "\n",
    "\n",
    "since='2021-04-18 00:00:00'\n",
    "\n",
    "# stop = datetime.strftime(since, format)\n",
    "# stop\n",
    "\n",
    "\n",
    "COINBASE_URL = 'https://api.pro.coinbase.com/products/BTC-USD/candles'\n",
    "\n",
    "#PATH = 'btc/exchange-flows/reserve'\n",
    "# URL = urljoin(API_URL, PATH)\n",
    "params = {\n",
    "    'start': '2018-07-10T12:00:00',\n",
    "    'stop': '2018-07-15T12:00:00',\n",
    "    'granularity': 60\n",
    "}\n",
    "\n",
    "response = requests.get(COINBASE_URL, params=params).json()\n",
    "print(response)\n",
    "# print(response['status'])\n",
    "# print(response['result'])\n",
    "print(len(response))"
   ]
  },
  {
   "cell_type": "code",
   "execution_count": 40,
   "metadata": {},
   "outputs": [
    {
     "output_type": "stream",
     "name": "stdout",
     "text": [
      "{'iso': '2021-04-23T02:50:50.032Z', 'epoch': 1619146250.032}\n"
     ]
    }
   ],
   "source": [
    "COINBASE_URL = 'https://api.pro.coinbase.com/time'\n",
    "\n",
    "#PATH = 'btc/exchange-flows/reserve'\n",
    "# URL = urljoin(API_URL, PATH)\n",
    "# params = {\n",
    "#     'start': '2018-07-10T12:00:00',\n",
    "#     'stop': '2018-07-15T12:00:00',\n",
    "#     'granularity': 60\n",
    "# }\n",
    "\n",
    "response = requests.get(COINBASE_URL).json()\n",
    "print(response)\n",
    "\n"
   ]
  }
 ]
}