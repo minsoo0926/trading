{
 "metadata": {
  "language_info": {
   "codemirror_mode": {
    "name": "ipython",
    "version": 3
   },
   "file_extension": ".py",
   "mimetype": "text/x-python",
   "name": "python",
   "nbconvert_exporter": "python",
   "pygments_lexer": "ipython3",
   "version": "3.8.3"
  },
  "orig_nbformat": 2,
  "kernelspec": {
   "name": "pythonjvsc74a57bd009f4dcfb3e964316099ed5c193f7e1b40b926ea02855df65dc4d9b607a760bc3",
   "display_name": "Python 3.8.3  ('.venv': venv)"
  },
  "metadata": {
   "interpreter": {
    "hash": "09f4dcfb3e964316099ed5c193f7e1b40b926ea02855df65dc4d9b607a760bc3"
   }
  }
 },
 "nbformat": 4,
 "nbformat_minor": 2,
 "cells": [
  {
   "cell_type": "code",
   "execution_count": 1,
   "metadata": {},
   "outputs": [],
   "source": [
    "from datetime import datetime, timezone\n",
    "import configparser\n",
    "import json\n",
    "import requests\n",
    "import ccxt\n",
    "import time\n",
    "from pprint import pprint \n",
    "import pandas as pd\n",
    "from urllib.parse import urljoin \n",
    "import utils \n",
    "# import data_fetch\n",
    "\n",
    "\n",
    "config = configparser.ConfigParser()\n",
    "config.read('../config.ini')\n",
    "\n",
    "\n",
    "BINANCE_SYMBOL = 'BTC/USDT'\n",
    "COPRO_SYMBOL = 'BTC/USD'\n",
    "\n",
    "COPRO_DATETIME_FORMAT = '%Y-%m-%dT%H:%M:%S'\n",
    "DEFAULT_DATETIME_FORMAT = '%Y-%m-%d %H:%M:%S' # format for general datetime params. \n",
    "\n",
    "BINANCE_COLUMNS = ['time', 'open', 'high', 'low', 'close', 'volume']\n",
    "COPRO_COLUMNS  = ['time', 'low', 'high', 'open', 'close', 'volume']\n",
    "COLUMNS  = ['time', 'open', 'high', 'low', 'close', 'volume']\n",
    "\n",
    "\n",
    "BINANCE_API_KEY = config['BINANCE']['API_KEY']\n",
    "BINANCE_SECRET_KEY = config['BINANCE']['SECRET_KEY']\n",
    "BINANCE_API_URL = config['BINANCE']['API_URL']\n",
    "\n",
    "COPRO_API_KEY = config['COINBASE']['API_KEY']\n",
    "COPRO_SECRET_KEY = config['COINBASE']['SECRET_KEY']\n",
    "COPRO_API_URL = config['COINBASE']['API_URL']"
   ]
  },
  {
   "cell_type": "code",
   "execution_count": 2,
   "metadata": {},
   "outputs": [
    {
     "output_type": "stream",
     "name": "stdout",
     "text": [
      "CCXT Version:  1.45.42\n"
     ]
    }
   ],
   "source": [
    "print('CCXT Version: ', ccxt.__version__)\n",
    "# exchange_id = 'binance'\n",
    "\n",
    "binance = ccxt.binance({\n",
    "    'options': {\n",
    "        'adjustForTimeDifference': True,\n",
    "        'defaultType': 'future'\n",
    "    },\n",
    "    'rateLimit': 10000,\n",
    "    'enableRateLimit': True,\n",
    "    # 'verbose': True,\n",
    "    'apiKey': BINANCE_API_KEY,\n",
    "    'secret': BINANCE_SECRET_KEY,\n",
    "})\n",
    "\n",
    "copro = ccxt.coinbasepro({\n",
    "    'options': {\n",
    "        'adjustForTimeDifference': True,\n",
    "        'defaultType': 'future'\n",
    "    },\n",
    "    'rateLimit': 10000,\n",
    "    'enableRateLimit': True,\n",
    "    # 'verbose': True,\n",
    "    'apiKey': COPRO_API_KEY,\n",
    "    'secret': COPRO_SECRET_KEY,\n",
    "})"
   ]
  },
  {
   "cell_type": "code",
   "execution_count": 3,
   "metadata": {},
   "outputs": [
    {
     "output_type": "stream",
     "name": "stdout",
     "text": [
      "1620864000000\n",
      "Data fetching: from 2021-05-13T00:00:00.000Z - to 2021-05-13T04:58:06.202Z\n",
      "Fetching from:  2021-05-13T00:00:00.000Z\n",
      "Fetching finished\n"
     ]
    }
   ],
   "source": [
    "since = '2021-05-13 00:00:00'\n",
    "since_timestamp = binance.parse8601(since)\n",
    "print(since_timestamp)\n",
    "\n",
    "b_data = utils.ohlcv_df(BINANCE_SYMBOL, binance, timeframe='1m', since=since)\n",
    "# b_data_print = data_fetch.ohlcv_print(binance, b_data)"
   ]
  },
  {
   "cell_type": "code",
   "execution_count": 4,
   "metadata": {},
   "outputs": [
    {
     "output_type": "execute_result",
     "data": {
      "text/plain": [
       "                         open      high       low     close    volume\n",
       "datetime                                                             \n",
       "2021-05-13 00:00:00  49596.75  49704.00  49000.00  49355.92  2660.240\n",
       "2021-05-13 00:01:00  49360.61  49400.00  47242.00  47564.71  5138.911\n",
       "2021-05-13 00:02:00  47604.27  48055.96  46300.00  46538.66  6426.309\n",
       "2021-05-13 00:03:00  46538.66  47576.76  45596.32  46828.81  5579.740\n",
       "2021-05-13 00:04:00  46818.09  47961.86  46564.49  47095.47  4200.248\n",
       "...                       ...       ...       ...       ...       ...\n",
       "2021-05-13 04:54:00  50442.47  50443.28  50356.39  50424.38   170.556\n",
       "2021-05-13 04:55:00  50424.38  50437.60  50350.00  50381.15   148.882\n",
       "2021-05-13 04:56:00  50381.14  50385.01  50301.71  50371.99   475.568\n",
       "2021-05-13 04:57:00  50371.99  50475.84  50348.98  50417.77   398.898\n",
       "2021-05-13 04:58:00  50417.78  50428.78  50350.56  50379.62    74.605\n",
       "\n",
       "[299 rows x 5 columns]"
      ],
      "text/html": "<div>\n<style scoped>\n    .dataframe tbody tr th:only-of-type {\n        vertical-align: middle;\n    }\n\n    .dataframe tbody tr th {\n        vertical-align: top;\n    }\n\n    .dataframe thead th {\n        text-align: right;\n    }\n</style>\n<table border=\"1\" class=\"dataframe\">\n  <thead>\n    <tr style=\"text-align: right;\">\n      <th></th>\n      <th>open</th>\n      <th>high</th>\n      <th>low</th>\n      <th>close</th>\n      <th>volume</th>\n    </tr>\n    <tr>\n      <th>datetime</th>\n      <th></th>\n      <th></th>\n      <th></th>\n      <th></th>\n      <th></th>\n    </tr>\n  </thead>\n  <tbody>\n    <tr>\n      <th>2021-05-13 00:00:00</th>\n      <td>49596.75</td>\n      <td>49704.00</td>\n      <td>49000.00</td>\n      <td>49355.92</td>\n      <td>2660.240</td>\n    </tr>\n    <tr>\n      <th>2021-05-13 00:01:00</th>\n      <td>49360.61</td>\n      <td>49400.00</td>\n      <td>47242.00</td>\n      <td>47564.71</td>\n      <td>5138.911</td>\n    </tr>\n    <tr>\n      <th>2021-05-13 00:02:00</th>\n      <td>47604.27</td>\n      <td>48055.96</td>\n      <td>46300.00</td>\n      <td>46538.66</td>\n      <td>6426.309</td>\n    </tr>\n    <tr>\n      <th>2021-05-13 00:03:00</th>\n      <td>46538.66</td>\n      <td>47576.76</td>\n      <td>45596.32</td>\n      <td>46828.81</td>\n      <td>5579.740</td>\n    </tr>\n    <tr>\n      <th>2021-05-13 00:04:00</th>\n      <td>46818.09</td>\n      <td>47961.86</td>\n      <td>46564.49</td>\n      <td>47095.47</td>\n      <td>4200.248</td>\n    </tr>\n    <tr>\n      <th>...</th>\n      <td>...</td>\n      <td>...</td>\n      <td>...</td>\n      <td>...</td>\n      <td>...</td>\n    </tr>\n    <tr>\n      <th>2021-05-13 04:54:00</th>\n      <td>50442.47</td>\n      <td>50443.28</td>\n      <td>50356.39</td>\n      <td>50424.38</td>\n      <td>170.556</td>\n    </tr>\n    <tr>\n      <th>2021-05-13 04:55:00</th>\n      <td>50424.38</td>\n      <td>50437.60</td>\n      <td>50350.00</td>\n      <td>50381.15</td>\n      <td>148.882</td>\n    </tr>\n    <tr>\n      <th>2021-05-13 04:56:00</th>\n      <td>50381.14</td>\n      <td>50385.01</td>\n      <td>50301.71</td>\n      <td>50371.99</td>\n      <td>475.568</td>\n    </tr>\n    <tr>\n      <th>2021-05-13 04:57:00</th>\n      <td>50371.99</td>\n      <td>50475.84</td>\n      <td>50348.98</td>\n      <td>50417.77</td>\n      <td>398.898</td>\n    </tr>\n    <tr>\n      <th>2021-05-13 04:58:00</th>\n      <td>50417.78</td>\n      <td>50428.78</td>\n      <td>50350.56</td>\n      <td>50379.62</td>\n      <td>74.605</td>\n    </tr>\n  </tbody>\n</table>\n<p>299 rows × 5 columns</p>\n</div>"
     },
     "metadata": {},
     "execution_count": 4
    }
   ],
   "source": [
    "#b_data.datetime = pd.to_datetime(b_data.datetime, unit='ms')\n",
    "b_data\n",
    "\n",
    "#b_data.set_index('datetime')"
   ]
  },
  {
   "cell_type": "code",
   "execution_count": 5,
   "metadata": {},
   "outputs": [
    {
     "output_type": "stream",
     "name": "stdout",
     "text": [
      "Data fetching: from 2021-05-13T00:00:00.000Z - to 2021-05-13T04:58:34.817Z\n",
      "Fetching from:  2021-05-13T00:00:00.000Z\n",
      "Fetching finished\n"
     ]
    },
    {
     "output_type": "execute_result",
     "data": {
      "text/plain": [
       "                         open      high       low     close      volume\n",
       "datetime                                                               \n",
       "2021-05-13 00:00:00  49498.76  49499.33  48649.71  49095.57  126.968086\n",
       "2021-05-13 00:01:00  49095.57  49244.60  47500.00  47543.45  335.198687\n",
       "2021-05-13 00:02:00  47500.03  47688.94  46650.00  46781.85  342.726256\n",
       "2021-05-13 00:03:00  46781.85  46932.85  46000.00  46100.00  324.329186\n",
       "2021-05-13 00:04:00  46532.94  47498.00  46000.00  46946.10  186.006899\n",
       "...                       ...       ...       ...       ...         ...\n",
       "2021-05-13 04:54:00  50489.01  50489.24  50411.72  50460.00    6.920793\n",
       "2021-05-13 04:55:00  50460.00  50467.67  50414.95  50415.26    5.341146\n",
       "2021-05-13 04:56:00  50415.26  50430.29  50343.17  50391.74   19.462071\n",
       "2021-05-13 04:57:00  50391.74  50512.64  50379.82  50453.82   34.485784\n",
       "2021-05-13 04:58:00  50453.82  50471.93  50372.35  50445.44    6.966671\n",
       "\n",
       "[299 rows x 5 columns]"
      ],
      "text/html": "<div>\n<style scoped>\n    .dataframe tbody tr th:only-of-type {\n        vertical-align: middle;\n    }\n\n    .dataframe tbody tr th {\n        vertical-align: top;\n    }\n\n    .dataframe thead th {\n        text-align: right;\n    }\n</style>\n<table border=\"1\" class=\"dataframe\">\n  <thead>\n    <tr style=\"text-align: right;\">\n      <th></th>\n      <th>open</th>\n      <th>high</th>\n      <th>low</th>\n      <th>close</th>\n      <th>volume</th>\n    </tr>\n    <tr>\n      <th>datetime</th>\n      <th></th>\n      <th></th>\n      <th></th>\n      <th></th>\n      <th></th>\n    </tr>\n  </thead>\n  <tbody>\n    <tr>\n      <th>2021-05-13 00:00:00</th>\n      <td>49498.76</td>\n      <td>49499.33</td>\n      <td>48649.71</td>\n      <td>49095.57</td>\n      <td>126.968086</td>\n    </tr>\n    <tr>\n      <th>2021-05-13 00:01:00</th>\n      <td>49095.57</td>\n      <td>49244.60</td>\n      <td>47500.00</td>\n      <td>47543.45</td>\n      <td>335.198687</td>\n    </tr>\n    <tr>\n      <th>2021-05-13 00:02:00</th>\n      <td>47500.03</td>\n      <td>47688.94</td>\n      <td>46650.00</td>\n      <td>46781.85</td>\n      <td>342.726256</td>\n    </tr>\n    <tr>\n      <th>2021-05-13 00:03:00</th>\n      <td>46781.85</td>\n      <td>46932.85</td>\n      <td>46000.00</td>\n      <td>46100.00</td>\n      <td>324.329186</td>\n    </tr>\n    <tr>\n      <th>2021-05-13 00:04:00</th>\n      <td>46532.94</td>\n      <td>47498.00</td>\n      <td>46000.00</td>\n      <td>46946.10</td>\n      <td>186.006899</td>\n    </tr>\n    <tr>\n      <th>...</th>\n      <td>...</td>\n      <td>...</td>\n      <td>...</td>\n      <td>...</td>\n      <td>...</td>\n    </tr>\n    <tr>\n      <th>2021-05-13 04:54:00</th>\n      <td>50489.01</td>\n      <td>50489.24</td>\n      <td>50411.72</td>\n      <td>50460.00</td>\n      <td>6.920793</td>\n    </tr>\n    <tr>\n      <th>2021-05-13 04:55:00</th>\n      <td>50460.00</td>\n      <td>50467.67</td>\n      <td>50414.95</td>\n      <td>50415.26</td>\n      <td>5.341146</td>\n    </tr>\n    <tr>\n      <th>2021-05-13 04:56:00</th>\n      <td>50415.26</td>\n      <td>50430.29</td>\n      <td>50343.17</td>\n      <td>50391.74</td>\n      <td>19.462071</td>\n    </tr>\n    <tr>\n      <th>2021-05-13 04:57:00</th>\n      <td>50391.74</td>\n      <td>50512.64</td>\n      <td>50379.82</td>\n      <td>50453.82</td>\n      <td>34.485784</td>\n    </tr>\n    <tr>\n      <th>2021-05-13 04:58:00</th>\n      <td>50453.82</td>\n      <td>50471.93</td>\n      <td>50372.35</td>\n      <td>50445.44</td>\n      <td>6.966671</td>\n    </tr>\n  </tbody>\n</table>\n<p>299 rows × 5 columns</p>\n</div>"
     },
     "metadata": {},
     "execution_count": 5
    }
   ],
   "source": [
    "c_data = utils.ohlcv_df(COPRO_SYMBOL, copro, timeframe='1m', since=since)\n",
    "# c_data_print = data_fetch.ohlcv_print(copro, c_data)\n",
    "c_data\n"
   ]
  },
  {
   "cell_type": "code",
   "execution_count": null,
   "metadata": {},
   "outputs": [],
   "source": [
    "# ?binance.fetchOHLCV\n",
    "\n",
    "since = '2021-05-12 00:00:00'\n",
    "\n",
    "since_timestamp = binance.parse8601(since)\n",
    "print(since_timestamp)\n",
    "\n",
    "binance_data = binance.fetchOHLCV(BINANCE_SYMBOL, since=since_timestamp)\n",
    "len(binance_data)\n",
    "\n",
    "binance.iso8601(since_timestamp)"
   ]
  },
  {
   "cell_type": "code",
   "execution_count": null,
   "metadata": {},
   "outputs": [],
   "source": [
    "copro_data = copro.fetchOHLCV(COPRO_SYMBOL, since=since_timestamp)\n",
    "len(copro_data)"
   ]
  },
  {
   "cell_type": "code",
   "execution_count": null,
   "metadata": {},
   "outputs": [],
   "source": [
    "for item in copro_data:\n",
    "    ts, o, h, l, c, v = item\n",
    "    print(binance.iso8601(ts), o, h, l, c, v)"
   ]
  },
  {
   "cell_type": "code",
   "execution_count": null,
   "metadata": {},
   "outputs": [],
   "source": [
    "aa = [print(binance.iso8601(ts), c) for ts, o, h, l, c, v in copro_data]  \n",
    "\n"
   ]
  },
  {
   "cell_type": "code",
   "execution_count": null,
   "metadata": {},
   "outputs": [],
   "source": [
    "test_data = ohlcv_data(BINANCE_SYMBOL, binance, '1m', since='2021-04-23 00:00:00')"
   ]
  },
  {
   "cell_type": "code",
   "execution_count": 7,
   "metadata": {},
   "outputs": [
    {
     "output_type": "execute_result",
     "data": {
      "text/plain": [
       "                       open_x    high_x     low_x   close_x  volume_x  \\\n",
       "datetime                                                                \n",
       "2021-05-13 00:00:00  49596.75  49704.00  49000.00  49355.92  2660.240   \n",
       "2021-05-13 00:01:00  49360.61  49400.00  47242.00  47564.71  5138.911   \n",
       "2021-05-13 00:02:00  47604.27  48055.96  46300.00  46538.66  6426.309   \n",
       "2021-05-13 00:03:00  46538.66  47576.76  45596.32  46828.81  5579.740   \n",
       "2021-05-13 00:04:00  46818.09  47961.86  46564.49  47095.47  4200.248   \n",
       "...                       ...       ...       ...       ...       ...   \n",
       "2021-05-13 04:40:00  50701.37  50710.01  50598.13  50651.43   279.330   \n",
       "2021-05-13 04:41:00  50651.43  50697.30  50574.14  50584.66   412.626   \n",
       "2021-05-13 04:42:00  50584.67  50635.42  50540.28  50604.90   269.834   \n",
       "2021-05-13 04:43:00  50604.90  50698.00  50604.90  50675.05   195.885   \n",
       "2021-05-13 04:44:00  50675.05  50719.40  50657.60  50688.53   125.694   \n",
       "\n",
       "                       open_y    high_y     low_y   close_y    volume_y  \n",
       "datetime                                                                 \n",
       "2021-05-13 00:00:00  49498.76  49499.33  48649.71  49095.57  126.968086  \n",
       "2021-05-13 00:01:00  49095.57  49244.60  47500.00  47543.45  335.198687  \n",
       "2021-05-13 00:02:00  47500.03  47688.94  46650.00  46781.85  342.726256  \n",
       "2021-05-13 00:03:00  46781.85  46932.85  46000.00  46100.00  324.329186  \n",
       "2021-05-13 00:04:00  46532.94  47498.00  46000.00  46946.10  186.006899  \n",
       "...                       ...       ...       ...       ...         ...  \n",
       "2021-05-13 04:40:00  50720.41  50731.86  50624.18  50676.06    9.417090  \n",
       "2021-05-13 04:41:00  50681.16  50729.12  50617.77  50619.19   13.119153  \n",
       "2021-05-13 04:42:00  50619.16  50663.96  50571.44  50624.19   27.204028  \n",
       "2021-05-13 04:43:00  50624.19  50731.89  50624.18  50690.52   26.975944  \n",
       "2021-05-13 04:44:00  50701.96  50732.32  50621.57  50621.57   20.562332  \n",
       "\n",
       "[285 rows x 10 columns]"
      ],
      "text/html": "<div>\n<style scoped>\n    .dataframe tbody tr th:only-of-type {\n        vertical-align: middle;\n    }\n\n    .dataframe tbody tr th {\n        vertical-align: top;\n    }\n\n    .dataframe thead th {\n        text-align: right;\n    }\n</style>\n<table border=\"1\" class=\"dataframe\">\n  <thead>\n    <tr style=\"text-align: right;\">\n      <th></th>\n      <th>open_x</th>\n      <th>high_x</th>\n      <th>low_x</th>\n      <th>close_x</th>\n      <th>volume_x</th>\n      <th>open_y</th>\n      <th>high_y</th>\n      <th>low_y</th>\n      <th>close_y</th>\n      <th>volume_y</th>\n    </tr>\n    <tr>\n      <th>datetime</th>\n      <th></th>\n      <th></th>\n      <th></th>\n      <th></th>\n      <th></th>\n      <th></th>\n      <th></th>\n      <th></th>\n      <th></th>\n      <th></th>\n    </tr>\n  </thead>\n  <tbody>\n    <tr>\n      <th>2021-05-13 00:00:00</th>\n      <td>49596.75</td>\n      <td>49704.00</td>\n      <td>49000.00</td>\n      <td>49355.92</td>\n      <td>2660.240</td>\n      <td>49498.76</td>\n      <td>49499.33</td>\n      <td>48649.71</td>\n      <td>49095.57</td>\n      <td>126.968086</td>\n    </tr>\n    <tr>\n      <th>2021-05-13 00:01:00</th>\n      <td>49360.61</td>\n      <td>49400.00</td>\n      <td>47242.00</td>\n      <td>47564.71</td>\n      <td>5138.911</td>\n      <td>49095.57</td>\n      <td>49244.60</td>\n      <td>47500.00</td>\n      <td>47543.45</td>\n      <td>335.198687</td>\n    </tr>\n    <tr>\n      <th>2021-05-13 00:02:00</th>\n      <td>47604.27</td>\n      <td>48055.96</td>\n      <td>46300.00</td>\n      <td>46538.66</td>\n      <td>6426.309</td>\n      <td>47500.03</td>\n      <td>47688.94</td>\n      <td>46650.00</td>\n      <td>46781.85</td>\n      <td>342.726256</td>\n    </tr>\n    <tr>\n      <th>2021-05-13 00:03:00</th>\n      <td>46538.66</td>\n      <td>47576.76</td>\n      <td>45596.32</td>\n      <td>46828.81</td>\n      <td>5579.740</td>\n      <td>46781.85</td>\n      <td>46932.85</td>\n      <td>46000.00</td>\n      <td>46100.00</td>\n      <td>324.329186</td>\n    </tr>\n    <tr>\n      <th>2021-05-13 00:04:00</th>\n      <td>46818.09</td>\n      <td>47961.86</td>\n      <td>46564.49</td>\n      <td>47095.47</td>\n      <td>4200.248</td>\n      <td>46532.94</td>\n      <td>47498.00</td>\n      <td>46000.00</td>\n      <td>46946.10</td>\n      <td>186.006899</td>\n    </tr>\n    <tr>\n      <th>...</th>\n      <td>...</td>\n      <td>...</td>\n      <td>...</td>\n      <td>...</td>\n      <td>...</td>\n      <td>...</td>\n      <td>...</td>\n      <td>...</td>\n      <td>...</td>\n      <td>...</td>\n    </tr>\n    <tr>\n      <th>2021-05-13 04:40:00</th>\n      <td>50701.37</td>\n      <td>50710.01</td>\n      <td>50598.13</td>\n      <td>50651.43</td>\n      <td>279.330</td>\n      <td>50720.41</td>\n      <td>50731.86</td>\n      <td>50624.18</td>\n      <td>50676.06</td>\n      <td>9.417090</td>\n    </tr>\n    <tr>\n      <th>2021-05-13 04:41:00</th>\n      <td>50651.43</td>\n      <td>50697.30</td>\n      <td>50574.14</td>\n      <td>50584.66</td>\n      <td>412.626</td>\n      <td>50681.16</td>\n      <td>50729.12</td>\n      <td>50617.77</td>\n      <td>50619.19</td>\n      <td>13.119153</td>\n    </tr>\n    <tr>\n      <th>2021-05-13 04:42:00</th>\n      <td>50584.67</td>\n      <td>50635.42</td>\n      <td>50540.28</td>\n      <td>50604.90</td>\n      <td>269.834</td>\n      <td>50619.16</td>\n      <td>50663.96</td>\n      <td>50571.44</td>\n      <td>50624.19</td>\n      <td>27.204028</td>\n    </tr>\n    <tr>\n      <th>2021-05-13 04:43:00</th>\n      <td>50604.90</td>\n      <td>50698.00</td>\n      <td>50604.90</td>\n      <td>50675.05</td>\n      <td>195.885</td>\n      <td>50624.19</td>\n      <td>50731.89</td>\n      <td>50624.18</td>\n      <td>50690.52</td>\n      <td>26.975944</td>\n    </tr>\n    <tr>\n      <th>2021-05-13 04:44:00</th>\n      <td>50675.05</td>\n      <td>50719.40</td>\n      <td>50657.60</td>\n      <td>50688.53</td>\n      <td>125.694</td>\n      <td>50701.96</td>\n      <td>50732.32</td>\n      <td>50621.57</td>\n      <td>50621.57</td>\n      <td>20.562332</td>\n    </tr>\n  </tbody>\n</table>\n<p>285 rows × 10 columns</p>\n</div>"
     },
     "metadata": {},
     "execution_count": 7
    }
   ],
   "source": [
    "utils.merge_price_signal(b_data, c_data)"
   ]
  },
  {
   "cell_type": "code",
   "execution_count": null,
   "metadata": {},
   "outputs": [],
   "source": []
  }
 ]
}