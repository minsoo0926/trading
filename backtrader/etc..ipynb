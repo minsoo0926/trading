{
 "metadata": {
  "language_info": {
   "codemirror_mode": {
    "name": "ipython",
    "version": 3
   },
   "file_extension": ".py",
   "mimetype": "text/x-python",
   "name": "python",
   "nbconvert_exporter": "python",
   "pygments_lexer": "ipython3",
   "version": "3.8.3-final"
  },
  "orig_nbformat": 2,
  "kernelspec": {
   "name": "python383jvsc74a57bd009f4dcfb3e964316099ed5c193f7e1b40b926ea02855df65dc4d9b607a760bc3",
   "display_name": "Python 3.8.3 64-bit ('.venv')"
  }
 },
 "nbformat": 4,
 "nbformat_minor": 2,
 "cells": [
  {
   "cell_type": "code",
   "execution_count": 1,
   "metadata": {},
   "outputs": [
    {
     "output_type": "error",
     "ename": "NameError",
     "evalue": "name 'binance' is not defined",
     "traceback": [
      "\u001b[0;31m---------------------------------------------------------------------------\u001b[0m",
      "\u001b[0;31mNameError\u001b[0m                                 Traceback (most recent call last)",
      "\u001b[0;32m<ipython-input-1-97e37104963b>\u001b[0m in \u001b[0;36m<module>\u001b[0;34m\u001b[0m\n\u001b[1;32m     14\u001b[0m \u001b[0;34m\u001b[0m\u001b[0m\n\u001b[1;32m     15\u001b[0m \u001b[0;34m\u001b[0m\u001b[0m\n\u001b[0;32m---> 16\u001b[0;31m \u001b[0mprint\u001b[0m\u001b[0;34m(\u001b[0m\u001b[0mbinance\u001b[0m\u001b[0;34m.\u001b[0m\u001b[0mmilliseconds\u001b[0m\u001b[0;34m(\u001b[0m\u001b[0;34m)\u001b[0m\u001b[0;34m)\u001b[0m\u001b[0;34m\u001b[0m\u001b[0;34m\u001b[0m\u001b[0m\n\u001b[0m\u001b[1;32m     17\u001b[0m \u001b[0mfrom_datetime1\u001b[0m \u001b[0;34m=\u001b[0m \u001b[0;34m'2021-04-21 00:00:00'\u001b[0m\u001b[0;34m\u001b[0m\u001b[0;34m\u001b[0m\u001b[0m\n\u001b[1;32m     18\u001b[0m \u001b[0;31m# from_datetime2 = datetime(2021, 4, 21).replace(tzinfo=timezone.utc)\u001b[0m\u001b[0;34m\u001b[0m\u001b[0;34m\u001b[0m\u001b[0;34m\u001b[0m\u001b[0m\n",
      "\u001b[0;31mNameError\u001b[0m: name 'binance' is not defined"
     ]
    }
   ],
   "source": [
    "from binance.client import Client\n",
    "from datetime import datetime, timezone\n",
    "import configparser\n",
    "import json\n",
    "import requests\n",
    "import ccxt\n",
    "import time\n",
    "from pprint import pprint \n",
    "\n",
    "msec = 1000\n",
    "minute = 60 * msec\n",
    "hour = 60 * minute\n",
    "day = hour * 24\n",
    "\n",
    "\n",
    "print(binance.milliseconds())\n",
    "from_datetime1 = '2021-04-21 00:00:00'\n",
    "# from_datetime2 = datetime(2021, 4, 21).replace(tzinfo=timezone.utc)\n",
    "print(from_datetime1)\n",
    "# print(from_datetime2)\n",
    "\n",
    "from_timestamp_binance = binance.parse8601(from_datetime1)\n",
    "# from_timestamp_binance2 = binance.parse8601(from_datetime2)\n",
    "\n",
    "# from_timestamp = datetime.timestamp((from_datetime2))\n",
    "\n",
    "# print(str(from_datetime2))\n",
    "print(from_timestamp_binance)\n",
    "# print(from_timestamp_binance2)\n",
    "# print(from_timestamp)\n",
    "one_min = from_timestamp_binance + minute\n",
    "one_hour = from_timestamp_binance + hour\n",
    "one_day = from_timestamp_binance + day\n",
    "\n",
    "\n",
    "print(binance_timestamp_to_datetime(from_timestamp_binance))\n",
    "print(binance_timestamp_to_datetime(one_min))\n",
    "print(binance_timestamp_to_datetime(one_hour))\n",
    "print(binance_timestamp_to_datetime(one_day))\n",
    "\n",
    "binance.parse8601(from_datetime1)"
   ]
  },
  {
   "cell_type": "code",
   "execution_count": null,
   "metadata": {},
   "outputs": [],
   "source": []
  }
 ]
}