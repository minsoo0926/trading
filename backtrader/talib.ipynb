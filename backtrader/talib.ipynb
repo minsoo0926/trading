{
 "metadata": {
  "language_info": {
   "codemirror_mode": {
    "name": "ipython",
    "version": 3
   },
   "file_extension": ".py",
   "mimetype": "text/x-python",
   "name": "python",
   "nbconvert_exporter": "python",
   "pygments_lexer": "ipython3",
   "version": "3.8.3"
  },
  "orig_nbformat": 2,
  "kernelspec": {
   "name": "pythonjvsc74a57bd009f4dcfb3e964316099ed5c193f7e1b40b926ea02855df65dc4d9b607a760bc3",
   "display_name": "Python 3.8.3  ('.venv': venv)"
  },
  "metadata": {
   "interpreter": {
    "hash": "09f4dcfb3e964316099ed5c193f7e1b40b926ea02855df65dc4d9b607a760bc3"
   }
  }
 },
 "nbformat": 4,
 "nbformat_minor": 2,
 "cells": [
  {
   "cell_type": "code",
   "execution_count": 1,
   "metadata": {},
   "outputs": [],
   "source": [
    "import talib.abstract as ta\n",
    "from pandas_datareader import data \n",
    "\n",
    "sillajen = data.DataReader('215600.KQ','yahoo', '2017-01-01', '2018-01-31')\\\n",
    "    .dropna(how='all')\\\n",
    "    .rename(columns=lambda col:col.lower()) \n",
    "\n"
   ]
  },
  {
   "cell_type": "code",
   "execution_count": 2,
   "metadata": {},
   "outputs": [
    {
     "output_type": "execute_result",
     "data": {
      "text/plain": [
       "                high       low      open     close     volume  adj close\n",
       "Date                                                                    \n",
       "2017-01-02   13250.0   12900.0   13250.0   12950.0   497396.0    12950.0\n",
       "2017-01-13   12350.0   11850.0   12200.0   12100.0   612247.0    12100.0\n",
       "2017-01-17   11600.0   11250.0   11500.0   11450.0   748532.0    11450.0\n",
       "2017-01-23   11150.0   10400.0   11100.0   10500.0   914339.0    10500.0\n",
       "2017-02-07   10700.0   10300.0   10450.0   10600.0   365127.0    10600.0\n",
       "...              ...       ...       ...       ...        ...        ...\n",
       "2018-01-25  112800.0  107600.0  110700.0  111500.0  2508539.0   111500.0\n",
       "2018-01-26  112500.0  109000.0  110300.0  110000.0  1882386.0   110000.0\n",
       "2018-01-29  112800.0  109600.0  110300.0  110000.0  1844918.0   110000.0\n",
       "2018-01-30  114600.0  110100.0  110500.0  110100.0  2989244.0   110100.0\n",
       "2018-01-31  110700.0  105700.0  109000.0  105900.0  2340061.0   105900.0\n",
       "\n",
       "[206 rows x 6 columns]"
      ],
      "text/html": "<div>\n<style scoped>\n    .dataframe tbody tr th:only-of-type {\n        vertical-align: middle;\n    }\n\n    .dataframe tbody tr th {\n        vertical-align: top;\n    }\n\n    .dataframe thead th {\n        text-align: right;\n    }\n</style>\n<table border=\"1\" class=\"dataframe\">\n  <thead>\n    <tr style=\"text-align: right;\">\n      <th></th>\n      <th>high</th>\n      <th>low</th>\n      <th>open</th>\n      <th>close</th>\n      <th>volume</th>\n      <th>adj close</th>\n    </tr>\n    <tr>\n      <th>Date</th>\n      <th></th>\n      <th></th>\n      <th></th>\n      <th></th>\n      <th></th>\n      <th></th>\n    </tr>\n  </thead>\n  <tbody>\n    <tr>\n      <th>2017-01-02</th>\n      <td>13250.0</td>\n      <td>12900.0</td>\n      <td>13250.0</td>\n      <td>12950.0</td>\n      <td>497396.0</td>\n      <td>12950.0</td>\n    </tr>\n    <tr>\n      <th>2017-01-13</th>\n      <td>12350.0</td>\n      <td>11850.0</td>\n      <td>12200.0</td>\n      <td>12100.0</td>\n      <td>612247.0</td>\n      <td>12100.0</td>\n    </tr>\n    <tr>\n      <th>2017-01-17</th>\n      <td>11600.0</td>\n      <td>11250.0</td>\n      <td>11500.0</td>\n      <td>11450.0</td>\n      <td>748532.0</td>\n      <td>11450.0</td>\n    </tr>\n    <tr>\n      <th>2017-01-23</th>\n      <td>11150.0</td>\n      <td>10400.0</td>\n      <td>11100.0</td>\n      <td>10500.0</td>\n      <td>914339.0</td>\n      <td>10500.0</td>\n    </tr>\n    <tr>\n      <th>2017-02-07</th>\n      <td>10700.0</td>\n      <td>10300.0</td>\n      <td>10450.0</td>\n      <td>10600.0</td>\n      <td>365127.0</td>\n      <td>10600.0</td>\n    </tr>\n    <tr>\n      <th>...</th>\n      <td>...</td>\n      <td>...</td>\n      <td>...</td>\n      <td>...</td>\n      <td>...</td>\n      <td>...</td>\n    </tr>\n    <tr>\n      <th>2018-01-25</th>\n      <td>112800.0</td>\n      <td>107600.0</td>\n      <td>110700.0</td>\n      <td>111500.0</td>\n      <td>2508539.0</td>\n      <td>111500.0</td>\n    </tr>\n    <tr>\n      <th>2018-01-26</th>\n      <td>112500.0</td>\n      <td>109000.0</td>\n      <td>110300.0</td>\n      <td>110000.0</td>\n      <td>1882386.0</td>\n      <td>110000.0</td>\n    </tr>\n    <tr>\n      <th>2018-01-29</th>\n      <td>112800.0</td>\n      <td>109600.0</td>\n      <td>110300.0</td>\n      <td>110000.0</td>\n      <td>1844918.0</td>\n      <td>110000.0</td>\n    </tr>\n    <tr>\n      <th>2018-01-30</th>\n      <td>114600.0</td>\n      <td>110100.0</td>\n      <td>110500.0</td>\n      <td>110100.0</td>\n      <td>2989244.0</td>\n      <td>110100.0</td>\n    </tr>\n    <tr>\n      <th>2018-01-31</th>\n      <td>110700.0</td>\n      <td>105700.0</td>\n      <td>109000.0</td>\n      <td>105900.0</td>\n      <td>2340061.0</td>\n      <td>105900.0</td>\n    </tr>\n  </tbody>\n</table>\n<p>206 rows × 6 columns</p>\n</div>"
     },
     "metadata": {},
     "execution_count": 2
    }
   ],
   "source": [
    "sillajen"
   ]
  },
  {
   "cell_type": "code",
   "execution_count": 8,
   "metadata": {},
   "outputs": [
    {
     "output_type": "error",
     "ename": "SyntaxError",
     "evalue": "invalid syntax (<ipython-input-8-11a0a7f3c944>, line 1)",
     "traceback": [
      "\u001b[0;36m  File \u001b[0;32m\"<ipython-input-8-11a0a7f3c944>\"\u001b[0;36m, line \u001b[0;32m1\u001b[0m\n\u001b[0;31m    timeit talib_ma5 = ta.MA(sillajen, timeperiod=5)\u001b[0m\n\u001b[0m           ^\u001b[0m\n\u001b[0;31mSyntaxError\u001b[0m\u001b[0;31m:\u001b[0m invalid syntax\n"
     ]
    }
   ],
   "source": [
    "talib_ma5 = ta.MA(sillajen, timeperiod=5)\n",
    "talib_ma5"
   ]
  },
  {
   "cell_type": "code",
   "execution_count": 9,
   "metadata": {},
   "outputs": [],
   "source": [
    "pandas_ma5 = sillajen.close.rolling(window=5).mean()"
   ]
  },
  {
   "cell_type": "code",
   "execution_count": 10,
   "metadata": {},
   "outputs": [
    {
     "output_type": "execute_result",
     "data": {
      "text/plain": [
       "True"
      ]
     },
     "metadata": {},
     "execution_count": 10
    }
   ],
   "source": [
    "talib_ma5.equals(pandas_ma5)"
   ]
  },
  {
   "cell_type": "code",
   "execution_count": null,
   "metadata": {},
   "outputs": [],
   "source": []
  },
  {
   "cell_type": "code",
   "execution_count": 14,
   "metadata": {},
   "outputs": [
    {
     "output_type": "execute_result",
     "data": {
      "text/plain": [
       "Date\n",
       "2017-01-02         NaN\n",
       "2017-01-13         NaN\n",
       "2017-01-17         NaN\n",
       "2017-01-23         NaN\n",
       "2017-02-07     11520.0\n",
       "                ...   \n",
       "2018-01-25    108820.0\n",
       "2018-01-26    110220.0\n",
       "2018-01-29    111400.0\n",
       "2018-01-30    110420.0\n",
       "2018-01-31    109500.0\n",
       "Length: 206, dtype: float64"
      ]
     },
     "metadata": {},
     "execution_count": 14
    }
   ],
   "source": [
    "talib_ma5 \n"
   ]
  },
  {
   "cell_type": "code",
   "execution_count": 22,
   "metadata": {},
   "outputs": [],
   "source": [
    "shifted_ma5 = talib_ma5.shift(-1)\n"
   ]
  },
  {
   "cell_type": "code",
   "execution_count": 24,
   "metadata": {},
   "outputs": [],
   "source": [
    "shifted_ma5[-1] = 1000"
   ]
  },
  {
   "cell_type": "code",
   "execution_count": 25,
   "metadata": {},
   "outputs": [
    {
     "output_type": "execute_result",
     "data": {
      "text/plain": [
       "Date\n",
       "2017-01-02         NaN\n",
       "2017-01-13         NaN\n",
       "2017-01-17         NaN\n",
       "2017-01-23     11520.0\n",
       "2017-02-07     10940.0\n",
       "                ...   \n",
       "2018-01-25    110220.0\n",
       "2018-01-26    111400.0\n",
       "2018-01-29    110420.0\n",
       "2018-01-30    109500.0\n",
       "2018-01-31      1000.0\n",
       "Length: 206, dtype: float64"
      ]
     },
     "metadata": {},
     "execution_count": 25
    }
   ],
   "source": [
    "shifted_ma5"
   ]
  },
  {
   "cell_type": "code",
   "execution_count": 28,
   "metadata": {},
   "outputs": [],
   "source": [
    "shifted_ma5.shift(-1)[-1] = 100000"
   ]
  },
  {
   "cell_type": "code",
   "execution_count": 29,
   "metadata": {},
   "outputs": [
    {
     "output_type": "execute_result",
     "data": {
      "text/plain": [
       "Date\n",
       "2017-01-02         NaN\n",
       "2017-01-13         NaN\n",
       "2017-01-17         NaN\n",
       "2017-01-23     11520.0\n",
       "2017-02-07     10940.0\n",
       "                ...   \n",
       "2018-01-25    110220.0\n",
       "2018-01-26    111400.0\n",
       "2018-01-29    110420.0\n",
       "2018-01-30    109500.0\n",
       "2018-01-31      1000.0\n",
       "Length: 206, dtype: float64"
      ]
     },
     "metadata": {},
     "execution_count": 29
    }
   ],
   "source": [
    "shifted_ma5"
   ]
  },
  {
   "cell_type": "code",
   "execution_count": null,
   "metadata": {},
   "outputs": [],
   "source": []
  }
 ]
}