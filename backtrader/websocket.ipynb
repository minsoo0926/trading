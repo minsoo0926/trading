{
 "metadata": {
  "language_info": {
   "codemirror_mode": {
    "name": "ipython",
    "version": 3
   },
   "file_extension": ".py",
   "mimetype": "text/x-python",
   "name": "python",
   "nbconvert_exporter": "python",
   "pygments_lexer": "ipython3",
   "version": "3.8.3"
  },
  "orig_nbformat": 2,
  "kernelspec": {
   "name": "pythonjvsc74a57bd009f4dcfb3e964316099ed5c193f7e1b40b926ea02855df65dc4d9b607a760bc3",
   "display_name": "Python 3.8.3  ('.venv': venv)"
  },
  "metadata": {
   "interpreter": {
    "hash": "09f4dcfb3e964316099ed5c193f7e1b40b926ea02855df65dc4d9b607a760bc3"
   }
  }
 },
 "nbformat": 4,
 "nbformat_minor": 2,
 "cells": [
  {
   "source": [
    "## Setup for Websocket Connection (Binance & Coinbase Pro)"
   ],
   "cell_type": "markdown",
   "metadata": {}
  },
  {
   "cell_type": "code",
   "execution_count": 1,
   "metadata": {},
   "outputs": [],
   "source": [
    "import asyncio\n",
    "from datetime import datetime, timedelta\n",
    "import sys\n",
    "#from binance.client import AsyncClient\n",
    "# from binance import BinanceSocketManager, ThreadedWebsocketManager\n",
    "import configparser\n",
    "import utils\n",
    "from websocket import create_connection\n",
    "import websockets\n",
    "\n",
    "import nest_asyncio\n",
    "nest_asyncio.apply()\n",
    "\n",
    "# BINANCE_SYMBOL = 'btcusdt'\n",
    "# COINBASE_SYMBOL = 'BTC-USD'\n",
    "BINANCE_SUBSCRIBE = '{ \"method\": \"SUBSCRIBE\", \"params\": [ \"btcusdt@kline_1M\"], \"id\": 1 }'\n",
    "COINBASE_SUBSCRIBE = '{ \"type\": \"subscribe\", \"product_ids\": [\"BTC-USD\"], \"channels\": [ \"ticker\"] }'\n",
    "\n",
    "config = configparser.ConfigParser()\n",
    "config.read('../config.ini')\n",
    "\n",
    "B_WSS = config['BINANCE']['WS_URL']\n",
    "C_WSS = config['COINBASE']['WS_URL']"
   ]
  },
  {
   "source": [
    "## Websocket Testing for Binance (1)"
   ],
   "cell_type": "markdown",
   "metadata": {}
  },
  {
   "cell_type": "code",
   "execution_count": null,
   "metadata": {},
   "outputs": [],
   "source": [
    "ws = create_connection(B_WSS)\n",
    "ws.send(BINANCE_SUBSCRIBE)\n",
    "\n",
    "# Infinite loop waiting for WebSocket data\n",
    "while True:\n",
    "    print(ws.recv())\n",
    "\n"
   ]
  },
  {
   "source": [
    "## Websocket Testing for Binance (2)"
   ],
   "cell_type": "markdown",
   "metadata": {}
  },
  {
   "cell_type": "code",
   "execution_count": null,
   "metadata": {},
   "outputs": [],
   "source": [
    "connection = websockets.connect(uri=B_WSS)\n",
    "\n",
    "async with connection as websocket:\n",
    "    # Sends a message.\n",
    "    await websocket.send(BINANCE_SUBSCRIBE)\n",
    "\n",
    "    # Receives the replies.\n",
    "    async for message in websocket:\n",
    "        print(message)\n",
    "        \n",
    "    # Closes the connection.\n",
    "    await websocket.close()\n"
   ]
  },
  {
   "source": [
    "## Websocket Testing for Coinbase Pro (1)"
   ],
   "cell_type": "markdown",
   "metadata": {}
  },
  {
   "cell_type": "code",
   "execution_count": null,
   "metadata": {},
   "outputs": [],
   "source": [
    "# Connect to WebSocket API and subscribe to trade feed for XBT/USD and XRP/USD\n",
    "connection = websockets.connect(uri=C_WSS)\n",
    "\n",
    "async with connection as websocket:\n",
    "    # Sends a message.\n",
    "    await websocket.send(COINBASE_SUBSCRIBE)\n",
    "\n",
    "    # Receives the replies.\n",
    "    async for message in websocket:\n",
    "        print(message)\n",
    "        \n",
    "    # Closes the connection.\n",
    "    await websocket.close()"
   ]
  },
  {
   "source": [
    "## Websocket Testing for Coinbase Pro (2)"
   ],
   "cell_type": "markdown",
   "metadata": {}
  },
  {
   "cell_type": "code",
   "execution_count": null,
   "metadata": {},
   "outputs": [],
   "source": [
    "async def work(uri, subscribe):\n",
    "\n",
    "    connection = websockets.connect(uri=uri)\n",
    "\n",
    "    async with connection as websocket:\n",
    "        # Sends a message.\n",
    "        # await websocket.send('{ \"type\": \"subscribe\", \"product_ids\": [\"BTC-USD\"], \"channels\": [ \"ticker\"] }')\n",
    "        await websocket.send(subscribe)\n",
    "\n",
    "        # Receives the replies.\n",
    "        async for message in websocket:\n",
    "            print(message)\n",
    "        \n",
    "        # Closes the connection.\n",
    "        await websocket.close()\n",
    "\n",
    "\n",
    "loop = asyncio.get_event_loop()\n",
    "try:\n",
    "    loop.run_until_complete(work(C_WSS, COINBASE_SUBSCRIBE))\n",
    "finally:\n",
    "    loop.close()"
   ]
  },
  {
   "source": [
    "## Multi Websocket Connection Testing for Binance & Coinbase Pro"
   ],
   "cell_type": "markdown",
   "metadata": {}
  },
  {
   "cell_type": "code",
   "execution_count": 2,
   "metadata": {},
   "outputs": [
    {
     "output_type": "stream",
     "name": "stdout",
     "text": [
      "[<coroutine object socket_communication at 0x7f621f7ea340>, <coroutine object socket_communication at 0x7f621f7ea3c0>]\n",
      "connected wss://fstream3.binance.com/ws - ['{ \"method\": \"SUBSCRIBE\", \"params\": [ \"btcusdt@kline_1M\"], \"id\": 1 }', '{ \"type\": \"subscribe\", \"product_ids\": [\"BTC-USD\"], \"channels\": [ \"ticker\"] }']\n",
      "wss://fstream3.binance.com/ws {\"id\":1,\"result\":null}\n",
      "wss://fstream3.binance.com/ws {\"e\":\"kline\",\"E\":1621558592681,\"s\":\"BTCUSDT\",\"k\":{\"t\":1619827200000,\"T\":1622505599999,\"s\":\"BTCUSDT\",\"i\":\"1M\",\"f\":745987808,\"L\":843568511,\"o\":\"57688.29\",\"c\":\"41649.99\",\"h\":\"59654.00\",\"l\":\"28688.00\",\"v\":\"9162628.663\",\"n\":97513080,\"x\":false,\"q\":\"446520599719.57567\",\"V\":\"4506277.465\",\"Q\":\"219460791226.18320\",\"B\":\"0\"}}\n",
      "wss://fstream3.binance.com/ws {\"e\":\"kline\",\"E\":1621558593043,\"s\":\"BTCUSDT\",\"k\":{\"t\":1619827200000,\"T\":1622505599999,\"s\":\"BTCUSDT\",\"i\":\"1M\",\"f\":745987808,\"L\":843568534,\"o\":\"57688.29\",\"c\":\"41630.02\",\"h\":\"59654.00\",\"l\":\"28688.00\",\"v\":\"9162630.074\",\"n\":97513103,\"x\":false,\"q\":\"446520658477.71099\",\"V\":\"4506277.466\",\"Q\":\"219460791267.81322\",\"B\":\"0\"}}\n",
      "wss://fstream3.binance.com/ws {\"e\":\"kline\",\"E\":1621558593322,\"s\":\"BTCUSDT\",\"k\":{\"t\":1619827200000,\"T\":1622505599999,\"s\":\"BTCUSDT\",\"i\":\"1M\",\"f\":745987808,\"L\":843568544,\"o\":\"57688.29\",\"c\":\"41630.01\",\"h\":\"59654.00\",\"l\":\"28688.00\",\"v\":\"9162630.323\",\"n\":97513113,\"x\":false,\"q\":\"446520668843.58377\",\"V\":\"4506277.495\",\"Q\":\"219460792475.08380\",\"B\":\"0\"}}\n",
      "connected wss://ws-feed.pro.coinbase.com - ['{ \"method\": \"SUBSCRIBE\", \"params\": [ \"btcusdt@kline_1M\"], \"id\": 1 }', '{ \"type\": \"subscribe\", \"product_ids\": [\"BTC-USD\"], \"channels\": [ \"ticker\"] }']\n",
      "wss://fstream3.binance.com/ws {\"e\":\"kline\",\"E\":1621558593583,\"s\":\"BTCUSDT\",\"k\":{\"t\":1619827200000,\"T\":1622505599999,\"s\":\"BTCUSDT\",\"i\":\"1M\",\"f\":745987808,\"L\":843568569,\"o\":\"57688.29\",\"c\":\"41631.78\",\"h\":\"59654.00\",\"l\":\"28688.00\",\"v\":\"9162632.337\",\"n\":97513138,\"x\":false,\"q\":\"446520752688.91810\",\"V\":\"4506279.142\",\"Q\":\"219460861042.20446\",\"B\":\"0\"}}\n",
      "wss://ws-feed.pro.coinbase.com {\"type\":\"subscriptions\",\"channels\":[{\"name\":\"ticker\",\"product_ids\":[\"BTC-USD\"]}]}\n",
      "wss://ws-feed.pro.coinbase.com {\"type\":\"ticker\",\"sequence\":25244776473,\"product_id\":\"BTC-USD\",\"price\":\"41703.04\",\"open_24h\":\"35865.27\",\"volume_24h\":\"48328.07026916\",\"low_24h\":\"35590.58\",\"high_24h\":\"42605\",\"volume_30d\":\"745839.55037119\",\"best_bid\":\"41696.32\",\"best_ask\":\"41703.04\",\"side\":\"buy\",\"time\":\"2021-05-21T00:56:33.417827Z\",\"trade_id\":175738067,\"last_size\":\"0.15046537\"}\n",
      "wss://fstream3.binance.com/ws {\"e\":\"kline\",\"E\":1621558593882,\"s\":\"BTCUSDT\",\"k\":{\"t\":1619827200000,\"T\":1622505599999,\"s\":\"BTCUSDT\",\"i\":\"1M\",\"f\":745987808,\"L\":843568579,\"o\":\"57688.29\",\"c\":\"41644.88\",\"h\":\"59654.00\",\"l\":\"28688.00\",\"v\":\"9162632.516\",\"n\":97513148,\"x\":false,\"q\":\"446520760142.82392\",\"V\":\"4506279.144\",\"Q\":\"219460861125.47784\",\"B\":\"0\"}}\n",
      "wss://fstream3.binance.com/ws {\"e\":\"kline\",\"E\":1621558594156,\"s\":\"BTCUSDT\",\"k\":{\"t\":1619827200000,\"T\":1622505599999,\"s\":\"BTCUSDT\",\"i\":\"1M\",\"f\":745987808,\"L\":843568600,\"o\":\"57688.29\",\"c\":\"41650.38\",\"h\":\"59654.00\",\"l\":\"28688.00\",\"v\":\"9162636.703\",\"n\":97513169,\"x\":false,\"q\":\"446520934531.84169\",\"V\":\"4506283.284\",\"Q\":\"219461033557.18625\",\"B\":\"0\"}}\n",
      "wss://ws-feed.pro.coinbase.com {\"type\":\"ticker\",\"sequence\":25244776877,\"product_id\":\"BTC-USD\",\"price\":\"41697.16\",\"open_24h\":\"35865.27\",\"volume_24h\":\"48328.08272371\",\"low_24h\":\"35590.58\",\"high_24h\":\"42605\",\"volume_30d\":\"745839.56282574\",\"best_bid\":\"41697.15\",\"best_ask\":\"41697.16\",\"side\":\"buy\",\"time\":\"2021-05-21T00:56:34.164499Z\",\"trade_id\":175738068,\"last_size\":\"0.01245455\"}\n",
      "wss://ws-feed.pro.coinbase.com {\"type\":\"ticker\",\"sequence\":25244776892,\"product_id\":\"BTC-USD\",\"price\":\"41697.16\",\"open_24h\":\"35865.27\",\"volume_24h\":\"48328.12032183\",\"low_24h\":\"35590.58\",\"high_24h\":\"42605\",\"volume_30d\":\"745839.60042386\",\"best_bid\":\"41697.15\",\"best_ask\":\"41703.07\",\"side\":\"buy\",\"time\":\"2021-05-21T00:56:34.179830Z\",\"trade_id\":175738069,\"last_size\":\"0.03759812\"}\n",
      "wss://ws-feed.pro.coinbase.com {\"type\":\"ticker\",\"sequence\":25244776894,\"product_id\":\"BTC-USD\",\"price\":\"41703.07\",\"open_24h\":\"35865.27\",\"volume_24h\":\"48328.22642371\",\"low_24h\":\"35590.58\",\"high_24h\":\"42605\",\"volume_30d\":\"745839.70652574\",\"best_bid\":\"41697.15\",\"best_ask\":\"41703.07\",\"side\":\"buy\",\"time\":\"2021-05-21T00:56:34.179830Z\",\"trade_id\":175738070,\"last_size\":\"0.10610188\"}\n",
      "wss://ws-feed.pro.coinbase.com {\"type\":\"ticker\",\"sequence\":25244776938,\"product_id\":\"BTC-USD\",\"price\":\"41703.07\",\"open_24h\":\"35865.27\",\"volume_24h\":\"48328.26242371\",\"low_24h\":\"35590.58\",\"high_24h\":\"42605\",\"volume_30d\":\"745839.74252574\",\"best_bid\":\"41703.06\",\"best_ask\":\"41703.07\",\"side\":\"buy\",\"time\":\"2021-05-21T00:56:34.225229Z\",\"trade_id\":175738071,\"last_size\":\"0.036\"}\n",
      "wss://ws-feed.pro.coinbase.com {\"type\":\"ticker\",\"sequence\":25244776961,\"product_id\":\"BTC-USD\",\"price\":\"41703.07\",\"open_24h\":\"35865.27\",\"volume_24h\":\"48328.30942371\",\"low_24h\":\"35590.58\",\"high_24h\":\"42605\",\"volume_30d\":\"745839.78952574\",\"best_bid\":\"41703.06\",\"best_ask\":\"41703.07\",\"side\":\"buy\",\"time\":\"2021-05-21T00:56:34.238248Z\",\"trade_id\":175738072,\"last_size\":\"0.047\"}\n",
      "wss://ws-feed.pro.coinbase.com {\"type\":\"ticker\",\"sequence\":25244777019,\"product_id\":\"BTC-USD\",\"price\":\"41703.07\",\"open_24h\":\"35865.27\",\"volume_24h\":\"48328.53323455\",\"low_24h\":\"35590.58\",\"high_24h\":\"42605\",\"volume_30d\":\"745840.01333658\",\"best_bid\":\"41703.06\",\"best_ask\":\"41703.07\",\"side\":\"buy\",\"time\":\"2021-05-21T00:56:34.288321Z\",\"trade_id\":175738073,\"last_size\":\"0.22381084\"}\n",
      "wss://fstream3.binance.com/ws {\"e\":\"kline\",\"E\":1621558594421,\"s\":\"BTCUSDT\",\"k\":{\"t\":1619827200000,\"T\":1622505599999,\"s\":\"BTCUSDT\",\"i\":\"1M\",\"f\":745987808,\"L\":843568638,\"o\":\"57688.29\",\"c\":\"41652.03\",\"h\":\"59654.00\",\"l\":\"28688.00\",\"v\":\"9162639.567\",\"n\":97513207,\"x\":false,\"q\":\"446521053808.08261\",\"V\":\"4506283.785\",\"Q\":\"219461054424.85829\",\"B\":\"0\"}}\n",
      "wss://ws-feed.pro.coinbase.com {\"type\":\"ticker\",\"sequence\":25244777154,\"product_id\":\"BTC-USD\",\"price\":\"41703.07\",\"open_24h\":\"35865.27\",\"volume_24h\":\"48328.63797100\",\"low_24h\":\"35590.58\",\"high_24h\":\"42605\",\"volume_30d\":\"745840.11807303\",\"best_bid\":\"41703.06\",\"best_ask\":\"41703.07\",\"side\":\"buy\",\"time\":\"2021-05-21T00:56:34.418973Z\",\"trade_id\":175738074,\"last_size\":\"0.10473645\"}\n",
      "wss://ws-feed.pro.coinbase.com {\"type\":\"ticker\",\"sequence\":25244777208,\"product_id\":\"BTC-USD\",\"price\":\"41703.07\",\"open_24h\":\"35865.27\",\"volume_24h\":\"48328.65397100\",\"low_24h\":\"35590.58\",\"high_24h\":\"42605\",\"volume_30d\":\"745840.13407303\",\"best_bid\":\"41703.06\",\"best_ask\":\"41703.07\",\"side\":\"buy\",\"time\":\"2021-05-21T00:56:34.477102Z\",\"trade_id\":175738075,\"last_size\":\"0.016\"}\n",
      "wss://ws-feed.pro.coinbase.com {\"type\":\"ticker\",\"sequence\":25244777228,\"product_id\":\"BTC-USD\",\"price\":\"41703.07\",\"open_24h\":\"35865.27\",\"volume_24h\":\"48328.68202083\",\"low_24h\":\"35590.58\",\"high_24h\":\"42605\",\"volume_30d\":\"745840.16212286\",\"best_bid\":\"41703.06\",\"best_ask\":\"41705.41\",\"side\":\"buy\",\"time\":\"2021-05-21T00:56:34.494338Z\",\"trade_id\":175738076,\"last_size\":\"0.02804983\"}\n",
      "wss://ws-feed.pro.coinbase.com {\"type\":\"ticker\",\"sequence\":25244777230,\"product_id\":\"BTC-USD\",\"price\":\"41705.41\",\"open_24h\":\"35865.27\",\"volume_24h\":\"48328.68924605\",\"low_24h\":\"35590.58\",\"high_24h\":\"42605\",\"volume_30d\":\"745840.16934808\",\"best_bid\":\"41703.06\",\"best_ask\":\"41711.44\",\"side\":\"buy\",\"time\":\"2021-05-21T00:56:34.494338Z\",\"trade_id\":175738077,\"last_size\":\"0.00722522\"}\n",
      "wss://ws-feed.pro.coinbase.com {\"type\":\"ticker\",\"sequence\":25244777232,\"product_id\":\"BTC-USD\",\"price\":\"41711.44\",\"open_24h\":\"35865.27\",\"volume_24h\":\"48328.69036271\",\"low_24h\":\"35590.58\",\"high_24h\":\"42605\",\"volume_30d\":\"745840.17046474\",\"best_bid\":\"41703.06\",\"best_ask\":\"41711.44\",\"side\":\"buy\",\"time\":\"2021-05-21T00:56:34.494338Z\",\"trade_id\":175738078,\"last_size\":\"0.00111666\"}\n",
      "wss://ws-feed.pro.coinbase.com {\"type\":\"ticker\",\"sequence\":25244777234,\"product_id\":\"BTC-USD\",\"price\":\"41711.44\",\"open_24h\":\"35865.27\",\"volume_24h\":\"48328.69110491\",\"low_24h\":\"35590.58\",\"high_24h\":\"42605\",\"volume_30d\":\"745840.17120694\",\"best_bid\":\"41703.06\",\"best_ask\":\"41711.47\",\"side\":\"buy\",\"time\":\"2021-05-21T00:56:34.494338Z\",\"trade_id\":175738079,\"last_size\":\"0.0007422\"}\n",
      "wss://ws-feed.pro.coinbase.com {\"type\":\"ticker\",\"sequence\":25244777236,\"product_id\":\"BTC-USD\",\"price\":\"41711.47\",\"open_24h\":\"35865.27\",\"volume_24h\":\"48328.73697100\",\"low_24h\":\"35590.58\",\"high_24h\":\"42605\",\"volume_30d\":\"745840.21707303\",\"best_bid\":\"41703.06\",\"best_ask\":\"41711.47\",\"side\":\"buy\",\"time\":\"2021-05-21T00:56:34.494338Z\",\"trade_id\":175738080,\"last_size\":\"0.04586609\"}\n",
      "wss://ws-feed.pro.coinbase.com {\"type\":\"ticker\",\"sequence\":25244777275,\"product_id\":\"BTC-USD\",\"price\":\"41711.47\",\"open_24h\":\"35865.27\",\"volume_24h\":\"48328.75197100\",\"low_24h\":\"35590.58\",\"high_24h\":\"42605\",\"volume_30d\":\"745840.23207303\",\"best_bid\":\"41705.40\",\"best_ask\":\"41711.47\",\"side\":\"buy\",\"time\":\"2021-05-21T00:56:34.523523Z\",\"trade_id\":175738081,\"last_size\":\"0.015\"}\n",
      "wss://fstream3.binance.com/ws {\"e\":\"kline\",\"E\":1621558594686,\"s\":\"BTCUSDT\",\"k\":{\"t\":1619827200000,\"T\":1622505599999,\"s\":\"BTCUSDT\",\"i\":\"1M\",\"f\":745987808,\"L\":843568645,\"o\":\"57688.29\",\"c\":\"41652.91\",\"h\":\"59654.00\",\"l\":\"28688.00\",\"v\":\"9162640.018\",\"n\":97513214,\"x\":false,\"q\":\"446521072593.19518\",\"V\":\"4506284.139\",\"Q\":\"219461069169.71525\",\"B\":\"0\"}}\n",
      "wss://ws-feed.pro.coinbase.com {\"type\":\"ticker\",\"sequence\":25244777337,\"product_id\":\"BTC-USD\",\"price\":\"41711.47\",\"open_24h\":\"35865.27\",\"volume_24h\":\"48328.76797100\",\"low_24h\":\"35590.58\",\"high_24h\":\"42605\",\"volume_30d\":\"745840.24807303\",\"best_bid\":\"41711.46\",\"best_ask\":\"41711.47\",\"side\":\"buy\",\"time\":\"2021-05-21T00:56:34.569077Z\",\"trade_id\":175738082,\"last_size\":\"0.016\"}\n",
      "wss://ws-feed.pro.coinbase.com {\"type\":\"ticker\",\"sequence\":25244777352,\"product_id\":\"BTC-USD\",\"price\":\"41711.46\",\"open_24h\":\"35865.27\",\"volume_24h\":\"48328.86278662\",\"low_24h\":\"35590.58\",\"high_24h\":\"42605\",\"volume_30d\":\"745840.34288865\",\"best_bid\":\"41711.46\",\"best_ask\":\"41711.47\",\"side\":\"sell\",\"time\":\"2021-05-21T00:56:34.587606Z\",\"trade_id\":175738083,\"last_size\":\"0.09481562\"}\n",
      "wss://ws-feed.pro.coinbase.com {\"type\":\"ticker\",\"sequence\":25244777357,\"product_id\":\"BTC-USD\",\"price\":\"41711.47\",\"open_24h\":\"35865.27\",\"volume_24h\":\"48328.86629840\",\"low_24h\":\"35590.58\",\"high_24h\":\"42605\",\"volume_30d\":\"745840.34640043\",\"best_bid\":\"41711.46\",\"best_ask\":\"41711.47\",\"side\":\"buy\",\"time\":\"2021-05-21T00:56:34.588263Z\",\"trade_id\":175738084,\"last_size\":\"0.00351178\"}\n",
      "wss://ws-feed.pro.coinbase.com {\"type\":\"ticker\",\"sequence\":25244777394,\"product_id\":\"BTC-USD\",\"price\":\"41711.46\",\"open_24h\":\"35865.27\",\"volume_24h\":\"48328.91199840\",\"low_24h\":\"35590.58\",\"high_24h\":\"42605\",\"volume_30d\":\"745840.39210043\",\"best_bid\":\"41707.03\",\"best_ask\":\"41711.47\",\"side\":\"sell\",\"time\":\"2021-05-21T00:56:34.621710Z\",\"trade_id\":175738085,\"last_size\":\"0.0457\"}\n",
      "wss://ws-feed.pro.coinbase.com {\"type\":\"ticker\",\"sequence\":25244777410,\"product_id\":\"BTC-USD\",\"price\":\"41711.47\",\"open_24h\":\"35865.27\",\"volume_24h\":\"48328.93199840\",\"low_24h\":\"35590.58\",\"high_24h\":\"42605\",\"volume_30d\":\"745840.41210043\",\"best_bid\":\"41707.03\",\"best_ask\":\"41711.47\",\"side\":\"buy\",\"time\":\"2021-05-21T00:56:34.631782Z\",\"trade_id\":175738086,\"last_size\":\"0.02\"}\n",
      "wss://ws-feed.pro.coinbase.com {\"type\":\"ticker\",\"sequence\":25244777444,\"product_id\":\"BTC-USD\",\"price\":\"41711.46\",\"open_24h\":\"35865.27\",\"volume_24h\":\"48328.94665840\",\"low_24h\":\"35590.58\",\"high_24h\":\"42605\",\"volume_30d\":\"745840.42676043\",\"best_bid\":\"41711.46\",\"best_ask\":\"41711.47\",\"side\":\"sell\",\"time\":\"2021-05-21T00:56:34.659018Z\",\"trade_id\":175738087,\"last_size\":\"0.01466\"}\n",
      "wss://ws-feed.pro.coinbase.com {\"type\":\"ticker\",\"sequence\":25244777446,\"product_id\":\"BTC-USD\",\"price\":\"41711.46\",\"open_24h\":\"35865.27\",\"volume_24h\":\"48329.01665637\",\"low_24h\":\"35590.58\",\"high_24h\":\"42605\",\"volume_30d\":\"745840.49675840\",\"best_bid\":\"41711.46\",\"best_ask\":\"41711.47\",\"side\":\"sell\",\"time\":\"2021-05-21T00:56:34.659018Z\",\"trade_id\":175738088,\"last_size\":\"0.06999797\"}\n",
      "wss://ws-feed.pro.coinbase.com {\"type\":\"ticker\",\"sequence\":25244777534,\"product_id\":\"BTC-USD\",\"price\":\"41711.46\",\"open_24h\":\"35865.27\",\"volume_24h\":\"48329.04665840\",\"low_24h\":\"35590.58\",\"high_24h\":\"42605\",\"volume_30d\":\"745840.52676043\",\"best_bid\":\"41711.46\",\"best_ask\":\"41711.47\",\"side\":\"sell\",\"time\":\"2021-05-21T00:56:34.731321Z\",\"trade_id\":175738089,\"last_size\":\"0.03000203\"}\n",
      "wss://ws-feed.pro.coinbase.com {\"type\":\"ticker\",\"sequence\":25244777536,\"product_id\":\"BTC-USD\",\"price\":\"41711.46\",\"open_24h\":\"35865.27\",\"volume_24h\":\"48329.06157840\",\"low_24h\":\"35590.58\",\"high_24h\":\"42605\",\"volume_30d\":\"745840.54168043\",\"best_bid\":\"41711.46\",\"best_ask\":\"41711.47\",\"side\":\"sell\",\"time\":\"2021-05-21T00:56:34.731321Z\",\"trade_id\":175738090,\"last_size\":\"0.01492\"}\n",
      "wss://ws-feed.pro.coinbase.com {\"type\":\"ticker\",\"sequence\":25244777538,\"product_id\":\"BTC-USD\",\"price\":\"41711.46\",\"open_24h\":\"35865.27\",\"volume_24h\":\"48329.09207840\",\"low_24h\":\"35590.58\",\"high_24h\":\"42605\",\"volume_30d\":\"745840.57218043\",\"best_bid\":\"41709.76\",\"best_ask\":\"41711.47\",\"side\":\"sell\",\"time\":\"2021-05-21T00:56:34.731321Z\",\"trade_id\":175738091,\"last_size\":\"0.0305\"}\n",
      "wss://ws-feed.pro.coinbase.com {\"type\":\"ticker\",\"sequence\":25244777540,\"product_id\":\"BTC-USD\",\"price\":\"41709.76\",\"open_24h\":\"35865.27\",\"volume_24h\":\"48329.10246908\",\"low_24h\":\"35590.58\",\"high_24h\":\"42605\",\"volume_30d\":\"745840.58257111\",\"best_bid\":\"41703.08\",\"best_ask\":\"41711.47\",\"side\":\"sell\",\"time\":\"2021-05-21T00:56:34.731321Z\",\"trade_id\":175738092,\"last_size\":\"0.01039068\"}\n",
      "wss://ws-feed.pro.coinbase.com {\"type\":\"ticker\",\"sequence\":25244777583,\"product_id\":\"BTC-USD\",\"price\":\"41711.47\",\"open_24h\":\"35865.27\",\"volume_24h\":\"48329.50072121\",\"low_24h\":\"35590.58\",\"high_24h\":\"42605\",\"volume_30d\":\"745840.98082324\",\"best_bid\":\"41707.03\",\"best_ask\":\"41711.47\",\"side\":\"buy\",\"time\":\"2021-05-21T00:56:34.779188Z\",\"trade_id\":175738093,\"last_size\":\"0.39825213\"}\n",
      "wss://ws-feed.pro.coinbase.com {\"type\":\"ticker\",\"sequence\":25244777585,\"product_id\":\"BTC-USD\",\"price\":\"41711.47\",\"open_24h\":\"35865.27\",\"volume_24h\":\"48329.50575384\",\"low_24h\":\"35590.58\",\"high_24h\":\"42605\",\"volume_30d\":\"745840.98585587\",\"best_bid\":\"41707.03\",\"best_ask\":\"41711.50\",\"side\":\"buy\",\"time\":\"2021-05-21T00:56:34.779188Z\",\"trade_id\":175738094,\"last_size\":\"0.00503263\"}\n",
      "wss://ws-feed.pro.coinbase.com {\"type\":\"ticker\",\"sequence\":25244777587,\"product_id\":\"BTC-USD\",\"price\":\"41711.5\",\"open_24h\":\"35865.27\",\"volume_24h\":\"48329.60926908\",\"low_24h\":\"35590.58\",\"high_24h\":\"42605\",\"volume_30d\":\"745841.08937111\",\"best_bid\":\"41707.03\",\"best_ask\":\"41711.50\",\"side\":\"buy\",\"time\":\"2021-05-21T00:56:34.779188Z\",\"trade_id\":175738095,\"last_size\":\"0.10351524\"}\n",
      "wss://ws-feed.pro.coinbase.com {\"type\":\"ticker\",\"sequence\":25244777615,\"product_id\":\"BTC-USD\",\"price\":\"41711.46\",\"open_24h\":\"35865.27\",\"volume_24h\":\"48329.60946211\",\"low_24h\":\"35590.58\",\"high_24h\":\"42605\",\"volume_30d\":\"745841.08956414\",\"best_bid\":\"41711.46\",\"best_ask\":\"41711.50\",\"side\":\"sell\",\"time\":\"2021-05-21T00:56:34.801697Z\",\"trade_id\":175738096,\"last_size\":\"0.00019303\"}\n",
      "wss://fstream3.binance.com/ws {\"e\":\"kline\",\"E\":1621558594958,\"s\":\"BTCUSDT\",\"k\":{\"t\":1619827200000,\"T\":1622505599999,\"s\":\"BTCUSDT\",\"i\":\"1M\",\"f\":745987808,\"L\":843568654,\"o\":\"57688.29\",\"c\":\"41659.76\",\"h\":\"59654.00\",\"l\":\"28688.00\",\"v\":\"9162640.186\",\"n\":97513223,\"x\":false,\"q\":\"446521079591.45194\",\"V\":\"4506284.280\",\"Q\":\"219461075043.22957\",\"B\":\"0\"}}\n",
      "wss://ws-feed.pro.coinbase.com {\"type\":\"ticker\",\"sequence\":25244777664,\"product_id\":\"BTC-USD\",\"price\":\"41711.5\",\"open_24h\":\"35865.27\",\"volume_24h\":\"48329.61558175\",\"low_24h\":\"35590.58\",\"high_24h\":\"42605\",\"volume_30d\":\"745841.09568378\",\"best_bid\":\"41711.49\",\"best_ask\":\"41711.50\",\"side\":\"buy\",\"time\":\"2021-05-21T00:56:34.844862Z\",\"trade_id\":175738097,\"last_size\":\"0.00611964\"}\n"
     ]
    },
    {
     "output_type": "error",
     "ename": "KeyboardInterrupt",
     "evalue": "",
     "traceback": [
      "\u001b[0;31m---------------------------------------------------------------------------\u001b[0m",
      "\u001b[0;31mKeyboardInterrupt\u001b[0m                         Traceback (most recent call last)",
      "\u001b[0;32m<ipython-input-2-930a2e1cc07f>\u001b[0m in \u001b[0;36m<module>\u001b[0;34m\u001b[0m\n\u001b[1;32m     32\u001b[0m     \u001b[0;32mawait\u001b[0m \u001b[0masyncio\u001b[0m\u001b[0;34m.\u001b[0m\u001b[0mgather\u001b[0m\u001b[0;34m(\u001b[0m\u001b[0;34m*\u001b[0m\u001b[0mtasks\u001b[0m\u001b[0;34m)\u001b[0m\u001b[0;34m\u001b[0m\u001b[0;34m\u001b[0m\u001b[0m\n\u001b[1;32m     33\u001b[0m \u001b[0;34m\u001b[0m\u001b[0m\n\u001b[0;32m---> 34\u001b[0;31m \u001b[0masyncio\u001b[0m\u001b[0;34m.\u001b[0m\u001b[0mrun\u001b[0m\u001b[0;34m(\u001b[0m\u001b[0mmain\u001b[0m\u001b[0;34m(\u001b[0m\u001b[0;34m)\u001b[0m\u001b[0;34m)\u001b[0m\u001b[0;34m\u001b[0m\u001b[0;34m\u001b[0m\u001b[0m\n\u001b[0m",
      "\u001b[0;32m~/dev/crypto/.venv/lib/python3.8/site-packages/nest_asyncio.py\u001b[0m in \u001b[0;36mrun\u001b[0;34m(future, debug)\u001b[0m\n\u001b[1;32m     30\u001b[0m         \u001b[0mloop\u001b[0m \u001b[0;34m=\u001b[0m \u001b[0masyncio\u001b[0m\u001b[0;34m.\u001b[0m\u001b[0mget_event_loop\u001b[0m\u001b[0;34m(\u001b[0m\u001b[0;34m)\u001b[0m\u001b[0;34m\u001b[0m\u001b[0;34m\u001b[0m\u001b[0m\n\u001b[1;32m     31\u001b[0m         \u001b[0mloop\u001b[0m\u001b[0;34m.\u001b[0m\u001b[0mset_debug\u001b[0m\u001b[0;34m(\u001b[0m\u001b[0mdebug\u001b[0m\u001b[0;34m)\u001b[0m\u001b[0;34m\u001b[0m\u001b[0;34m\u001b[0m\u001b[0m\n\u001b[0;32m---> 32\u001b[0;31m         \u001b[0;32mreturn\u001b[0m \u001b[0mloop\u001b[0m\u001b[0;34m.\u001b[0m\u001b[0mrun_until_complete\u001b[0m\u001b[0;34m(\u001b[0m\u001b[0mfuture\u001b[0m\u001b[0;34m)\u001b[0m\u001b[0;34m\u001b[0m\u001b[0;34m\u001b[0m\u001b[0m\n\u001b[0m\u001b[1;32m     33\u001b[0m \u001b[0;34m\u001b[0m\u001b[0m\n\u001b[1;32m     34\u001b[0m     \u001b[0;32mif\u001b[0m \u001b[0msys\u001b[0m\u001b[0;34m.\u001b[0m\u001b[0mversion_info\u001b[0m \u001b[0;34m>=\u001b[0m \u001b[0;34m(\u001b[0m\u001b[0;36m3\u001b[0m\u001b[0;34m,\u001b[0m \u001b[0;36m6\u001b[0m\u001b[0;34m,\u001b[0m \u001b[0;36m0\u001b[0m\u001b[0;34m)\u001b[0m\u001b[0;34m:\u001b[0m\u001b[0;34m\u001b[0m\u001b[0;34m\u001b[0m\u001b[0m\n",
      "\u001b[0;32m~/dev/crypto/.venv/lib/python3.8/site-packages/nest_asyncio.py\u001b[0m in \u001b[0;36mrun_until_complete\u001b[0;34m(self, future)\u001b[0m\n\u001b[1;32m     62\u001b[0m                 \u001b[0mf\u001b[0m\u001b[0;34m.\u001b[0m\u001b[0m_log_destroy_pending\u001b[0m \u001b[0;34m=\u001b[0m \u001b[0;32mFalse\u001b[0m\u001b[0;34m\u001b[0m\u001b[0;34m\u001b[0m\u001b[0m\n\u001b[1;32m     63\u001b[0m             \u001b[0;32mwhile\u001b[0m \u001b[0;32mnot\u001b[0m \u001b[0mf\u001b[0m\u001b[0;34m.\u001b[0m\u001b[0mdone\u001b[0m\u001b[0;34m(\u001b[0m\u001b[0;34m)\u001b[0m\u001b[0;34m:\u001b[0m\u001b[0;34m\u001b[0m\u001b[0;34m\u001b[0m\u001b[0m\n\u001b[0;32m---> 64\u001b[0;31m                 \u001b[0mself\u001b[0m\u001b[0;34m.\u001b[0m\u001b[0m_run_once\u001b[0m\u001b[0;34m(\u001b[0m\u001b[0;34m)\u001b[0m\u001b[0;34m\u001b[0m\u001b[0;34m\u001b[0m\u001b[0m\n\u001b[0m\u001b[1;32m     65\u001b[0m                 \u001b[0;32mif\u001b[0m \u001b[0mself\u001b[0m\u001b[0;34m.\u001b[0m\u001b[0m_stopping\u001b[0m\u001b[0;34m:\u001b[0m\u001b[0;34m\u001b[0m\u001b[0;34m\u001b[0m\u001b[0m\n\u001b[1;32m     66\u001b[0m                     \u001b[0;32mbreak\u001b[0m\u001b[0;34m\u001b[0m\u001b[0;34m\u001b[0m\u001b[0m\n",
      "\u001b[0;32m~/dev/crypto/.venv/lib/python3.8/site-packages/nest_asyncio.py\u001b[0m in \u001b[0;36m_run_once\u001b[0;34m(self)\u001b[0m\n\u001b[1;32m     85\u001b[0m             \u001b[0;32melse\u001b[0m \u001b[0mmin\u001b[0m\u001b[0;34m(\u001b[0m\u001b[0mmax\u001b[0m\u001b[0;34m(\u001b[0m\u001b[0mscheduled\u001b[0m\u001b[0;34m[\u001b[0m\u001b[0;36m0\u001b[0m\u001b[0;34m]\u001b[0m\u001b[0;34m.\u001b[0m\u001b[0m_when\u001b[0m \u001b[0;34m-\u001b[0m \u001b[0mnow\u001b[0m\u001b[0;34m,\u001b[0m \u001b[0;36m0\u001b[0m\u001b[0;34m)\u001b[0m\u001b[0;34m,\u001b[0m \u001b[0;36m86400\u001b[0m\u001b[0;34m)\u001b[0m \u001b[0;32mif\u001b[0m \u001b[0mscheduled\u001b[0m\u001b[0;34m\u001b[0m\u001b[0;34m\u001b[0m\u001b[0m\n\u001b[1;32m     86\u001b[0m             else None)\n\u001b[0;32m---> 87\u001b[0;31m         \u001b[0mevent_list\u001b[0m \u001b[0;34m=\u001b[0m \u001b[0mself\u001b[0m\u001b[0;34m.\u001b[0m\u001b[0m_selector\u001b[0m\u001b[0;34m.\u001b[0m\u001b[0mselect\u001b[0m\u001b[0;34m(\u001b[0m\u001b[0mtimeout\u001b[0m\u001b[0;34m)\u001b[0m\u001b[0;34m\u001b[0m\u001b[0;34m\u001b[0m\u001b[0m\n\u001b[0m\u001b[1;32m     88\u001b[0m         \u001b[0mself\u001b[0m\u001b[0;34m.\u001b[0m\u001b[0m_process_events\u001b[0m\u001b[0;34m(\u001b[0m\u001b[0mevent_list\u001b[0m\u001b[0;34m)\u001b[0m\u001b[0;34m\u001b[0m\u001b[0;34m\u001b[0m\u001b[0m\n\u001b[1;32m     89\u001b[0m \u001b[0;34m\u001b[0m\u001b[0m\n",
      "\u001b[0;32m~/anaconda3/lib/python3.8/selectors.py\u001b[0m in \u001b[0;36mselect\u001b[0;34m(self, timeout)\u001b[0m\n\u001b[1;32m    466\u001b[0m             \u001b[0mready\u001b[0m \u001b[0;34m=\u001b[0m \u001b[0;34m[\u001b[0m\u001b[0;34m]\u001b[0m\u001b[0;34m\u001b[0m\u001b[0;34m\u001b[0m\u001b[0m\n\u001b[1;32m    467\u001b[0m             \u001b[0;32mtry\u001b[0m\u001b[0;34m:\u001b[0m\u001b[0;34m\u001b[0m\u001b[0;34m\u001b[0m\u001b[0m\n\u001b[0;32m--> 468\u001b[0;31m                 \u001b[0mfd_event_list\u001b[0m \u001b[0;34m=\u001b[0m \u001b[0mself\u001b[0m\u001b[0;34m.\u001b[0m\u001b[0m_selector\u001b[0m\u001b[0;34m.\u001b[0m\u001b[0mpoll\u001b[0m\u001b[0;34m(\u001b[0m\u001b[0mtimeout\u001b[0m\u001b[0;34m,\u001b[0m \u001b[0mmax_ev\u001b[0m\u001b[0;34m)\u001b[0m\u001b[0;34m\u001b[0m\u001b[0;34m\u001b[0m\u001b[0m\n\u001b[0m\u001b[1;32m    469\u001b[0m             \u001b[0;32mexcept\u001b[0m \u001b[0mInterruptedError\u001b[0m\u001b[0;34m:\u001b[0m\u001b[0;34m\u001b[0m\u001b[0;34m\u001b[0m\u001b[0m\n\u001b[1;32m    470\u001b[0m                 \u001b[0;32mreturn\u001b[0m \u001b[0mready\u001b[0m\u001b[0;34m\u001b[0m\u001b[0;34m\u001b[0m\u001b[0m\n",
      "\u001b[0;31mKeyboardInterrupt\u001b[0m: "
     ]
    }
   ],
   "source": [
    "urls = [B_WSS, C_WSS]\n",
    "sub_texts = [BINANCE_SUBSCRIBE, COINBASE_SUBSCRIBE]\n",
    "\n",
    "\n",
    "async def socket_communication(url, sub_text):\n",
    "    connection = websockets.connect(uri=url)\n",
    "\n",
    "    async with connection as websocket:\n",
    "        # Sends a message.\n",
    "        await websocket.send(sub_text)\n",
    "        print(f'connected to {url}')\n",
    "\n",
    "        # Receives the replies.\n",
    "        async for message in websocket:\n",
    "            print(url, message)\n",
    "            await asyncio.sleep(0)\n",
    "        \n",
    "        # Closes the connection.\n",
    "        await websocket.close()\n",
    "\n",
    "\n",
    "async def main():\n",
    "    tasks = []\n",
    "\n",
    "    for i in range(2):\n",
    "        tasks.append(socket_communication(urls[i],sub_texts[i]))\n",
    "\n",
    "    # print(tasks)\n",
    "    await asyncio.gather(*tasks)\n",
    "\n",
    "asyncio.run(main())"
   ]
  },
  {
   "cell_type": "code",
   "execution_count": null,
   "metadata": {},
   "outputs": [],
   "source": []
  }
 ]
}