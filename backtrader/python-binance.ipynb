{
 "metadata": {
  "language_info": {
   "codemirror_mode": {
    "name": "ipython",
    "version": 3
   },
   "file_extension": ".py",
   "mimetype": "text/x-python",
   "name": "python",
   "nbconvert_exporter": "python",
   "pygments_lexer": "ipython3",
   "version": "3.8.3"
  },
  "orig_nbformat": 2,
  "kernelspec": {
   "name": "pythonjvsc74a57bd009f4dcfb3e964316099ed5c193f7e1b40b926ea02855df65dc4d9b607a760bc3",
   "display_name": "Python 3.8.3  ('.venv': venv)"
  },
  "metadata": {
   "interpreter": {
    "hash": "09f4dcfb3e964316099ed5c193f7e1b40b926ea02855df65dc4d9b607a760bc3"
   }
  }
 },
 "nbformat": 4,
 "nbformat_minor": 2,
 "cells": [
  {
   "cell_type": "code",
   "execution_count": 1,
   "metadata": {},
   "outputs": [],
   "source": [
    "from binance.client import AsyncClient\n",
    "from binance import BinanceSocketManager, ThreadedWebsocketManager\n",
    "import configparser\n",
    "import asyncio\n",
    "import json\n",
    "import utils \n",
    "\n",
    "# need to be removed in the actual script\n",
    "import nest_asyncio\n",
    "nest_asyncio.apply()\n",
    "\n",
    "\n",
    "config = configparser.ConfigParser()\n",
    "config.read('../config.ini')\n",
    "\n",
    "API_KEY = config['BINANCE']['API_KEY']\n",
    "SECRET_KEY = config['BINANCE']['SECRET_KEY']\n",
    "API_URL = config['BINANCE']['API_URL']"
   ]
  },
  {
   "cell_type": "code",
   "execution_count": 2,
   "metadata": {},
   "outputs": [
    {
     "output_type": "stream",
     "name": "stdout",
     "text": [
      "2021-05-17 08:22:59.326000 - price: 44865.06000000 \n",
      "2021-05-17 08:23:00.031000 - price: 44864.82000000 \n",
      "2021-05-17 08:23:02.092000 - price: 44853.26000000 \n",
      "2021-05-17 08:23:04.129000 - price: 44846.77000000 \n",
      "2021-05-17 08:23:06.130000 - price: 44844.21000000 \n",
      "2021-05-17 08:23:08.192000 - price: 44850.79000000 \n",
      "2021-05-17 08:23:10.235000 - price: 44842.86000000 \n",
      "2021-05-17 08:23:12.472000 - price: 44837.38000000 \n",
      "2021-05-17 08:23:14.477000 - price: 44837.39000000 \n",
      "2021-05-17 08:23:16.501000 - price: 44854.21000000 \n"
     ]
    }
   ],
   "source": [
    "SYMBOL = 'BTCUSDT'\n",
    "async def main():\n",
    "    client = await AsyncClient.create()\n",
    "\n",
    "    #res = await client.get_exchange_info()\n",
    "    #prices = await client.get_all_tickers()\n",
    "    # print(json.dumps(prices, indent=4))\n",
    "\n",
    "    bsm = BinanceSocketManager(client)\n",
    "\n",
    "    async with bsm.kline_socket(SYMBOL, interval=AsyncClient.KLINE_INTERVAL_1MINUTE) as ts:\n",
    "        for _ in range(10):\n",
    "            response  = await ts.recv()\n",
    "            current_time = utils.binance_ts_to_dt(response['E'])\n",
    "            close_price = response['k']['c']\n",
    "            print(f'{current_time} - price: {close_price} ')\n",
    "            # print(f'recv {res}')\n",
    "\n",
    "\n",
    "\n",
    "    await client.close_connection()\n",
    "\n",
    "loop = asyncio.get_event_loop()\n",
    "loop.run_until_complete(main())\n"
   ]
  },
  {
   "cell_type": "code",
   "execution_count": null,
   "metadata": {},
   "outputs": [],
   "source": [
    "SYMBOL = 'BTCUSDT'\n",
    "\n",
    "async def main():\n",
    "    client = await AsyncClient.create()\n",
    "\n",
    "    #res = await client.get_exchange_info()\n",
    "    #prices = await client.get_all_tickers()\n",
    "    # print(json.dumps(prices, indent=4))\n",
    "\n",
    "    bsm = BinanceSocketManager(client)\n",
    "    # mts = bsm.kline_socket(SYMBOL, interval=AsyncClient.KLINE_INTERVAL_1MINUTE) \n",
    "    mts = bsm.symbol_ticker_socket(SYMBOL)\n",
    "\n",
    "    async with mts as channel:\n",
    "        while True:\n",
    "            response = await channel.recv()\n",
    "            current_time = utils.binance_ts_to_dt(response['E'])\n",
    "            # print('current time : ', current_time)\n",
    "            print(response)\n",
    "            close_price = response['c']\n",
    "            print(f' {current_time} - price: {close_price}')\n",
    "\n",
    "\n",
    "\n",
    "    await client.close_connection()\n",
    "\n",
    "loop = asyncio.get_event_loop()\n",
    "loop.run_until_complete(main())\n"
   ]
  },
  {
   "cell_type": "code",
   "execution_count": null,
   "metadata": {},
   "outputs": [],
   "source": []
  }
 ]
}